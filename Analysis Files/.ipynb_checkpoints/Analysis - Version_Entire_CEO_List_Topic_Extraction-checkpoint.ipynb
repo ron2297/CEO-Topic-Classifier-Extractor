{
 "cells": [
  {
   "cell_type": "code",
   "execution_count": 2,
   "metadata": {},
   "outputs": [],
   "source": [
    "import pandas as pd "
   ]
  },
  {
   "cell_type": "code",
   "execution_count": 3,
   "metadata": {},
   "outputs": [],
   "source": [
    "df = pd.DataFrame()"
   ]
  },
  {
   "cell_type": "markdown",
   "metadata": {},
   "source": [
    "# Combining the 13 CSVs of CEO Tweets"
   ]
  },
  {
   "cell_type": "code",
   "execution_count": 4,
   "metadata": {},
   "outputs": [],
   "source": [
    "import glob, os   \n",
    "path =r'C:/Users/Bloody Dachi/Documents/CS_401/Final_Project/CEO-Topic-Classifier-Extractor/Finished_Tweet_CSV' # use your path\n",
    "allFiles = glob.glob(path + \"/*.csv\")\n",
    "\n",
    "list_ = []\n",
    "\n",
    "for file_ in allFiles: \n",
    "    df = pd.read_csv(file_,index_col=None, encoding = \"latin1\",lineterminator='\\n')\n",
    "    list_.append(df)\n",
    "frame = pd.concat(list_, axis = 0, ignore_index = True)"
   ]
  },
  {
   "cell_type": "code",
   "execution_count": 5,
   "metadata": {},
   "outputs": [
    {
     "data": {
      "text/html": [
       "<div>\n",
       "<style scoped>\n",
       "    .dataframe tbody tr th:only-of-type {\n",
       "        vertical-align: middle;\n",
       "    }\n",
       "\n",
       "    .dataframe tbody tr th {\n",
       "        vertical-align: top;\n",
       "    }\n",
       "\n",
       "    .dataframe thead th {\n",
       "        text-align: right;\n",
       "    }\n",
       "</style>\n",
       "<table border=\"1\" class=\"dataframe\">\n",
       "  <thead>\n",
       "    <tr style=\"text-align: right;\">\n",
       "      <th></th>\n",
       "      <th>Unnamed: 0</th>\n",
       "      <th>Tweet</th>\n",
       "      <th>CEO_Full_Name</th>\n",
       "      <th>CEO_User_Name</th>\n",
       "    </tr>\n",
       "  </thead>\n",
       "  <tbody>\n",
       "    <tr>\n",
       "      <th>0</th>\n",
       "      <td>0</td>\n",
       "      <td>@pjournel The bag itself is from dsptch in San...</td>\n",
       "      <td>Phil Libin</td>\n",
       "      <td>plibin\\r</td>\n",
       "    </tr>\n",
       "    <tr>\n",
       "      <th>1</th>\n",
       "      <td>1</td>\n",
       "      <td>I MacGyvered extra storage pouches to my backp...</td>\n",
       "      <td>Phil Libin</td>\n",
       "      <td>plibin\\r</td>\n",
       "    </tr>\n",
       "    <tr>\n",
       "      <th>2</th>\n",
       "      <td>2</td>\n",
       "      <td>Snack times Nuts equals Snuts, people. Itâs ...</td>\n",
       "      <td>Phil Libin</td>\n",
       "      <td>plibin\\r</td>\n",
       "    </tr>\n",
       "    <tr>\n",
       "      <th>3</th>\n",
       "      <td>3</td>\n",
       "      <td>Looking forward to being back in Beijing this ...</td>\n",
       "      <td>Phil Libin</td>\n",
       "      <td>plibin\\r</td>\n",
       "    </tr>\n",
       "    <tr>\n",
       "      <th>4</th>\n",
       "      <td>4</td>\n",
       "      <td>For better and for worse, but mostly for the b...</td>\n",
       "      <td>Phil Libin</td>\n",
       "      <td>plibin\\r</td>\n",
       "    </tr>\n",
       "  </tbody>\n",
       "</table>\n",
       "</div>"
      ],
      "text/plain": [
       "   Unnamed: 0                                              Tweet  \\\n",
       "0           0  @pjournel The bag itself is from dsptch in San...   \n",
       "1           1  I MacGyvered extra storage pouches to my backp...   \n",
       "2           2  Snack times Nuts equals Snuts, people. Itâs ...   \n",
       "3           3  Looking forward to being back in Beijing this ...   \n",
       "4           4  For better and for worse, but mostly for the b...   \n",
       "\n",
       "  CEO_Full_Name CEO_User_Name\\r  \n",
       "0    Phil Libin        plibin\\r  \n",
       "1    Phil Libin        plibin\\r  \n",
       "2    Phil Libin        plibin\\r  \n",
       "3    Phil Libin        plibin\\r  \n",
       "4    Phil Libin        plibin\\r  "
      ]
     },
     "execution_count": 5,
     "metadata": {},
     "output_type": "execute_result"
    }
   ],
   "source": [
    "frame.head()"
   ]
  },
  {
   "cell_type": "code",
   "execution_count": 6,
   "metadata": {},
   "outputs": [
    {
     "data": {
      "text/plain": [
       "903277"
      ]
     },
     "execution_count": 6,
     "metadata": {},
     "output_type": "execute_result"
    }
   ],
   "source": [
    "len(frame)"
   ]
  },
  {
   "cell_type": "markdown",
   "metadata": {},
   "source": [
    "### Successfully combined the 13 csv's of CEO Tweets into one dataframe"
   ]
  },
  {
   "cell_type": "markdown",
   "metadata": {},
   "source": [
    "## Creating Multi-Index to reference Tweets of specific CEOs"
   ]
  },
  {
   "cell_type": "code",
   "execution_count": 7,
   "metadata": {},
   "outputs": [],
   "source": [
    "arrays = [frame[\"CEO_Full_Name\"]]\n",
    "index = pd.MultiIndex.from_arrays(arrays, names=['CEO_Names'])"
   ]
  },
  {
   "cell_type": "code",
   "execution_count": 8,
   "metadata": {},
   "outputs": [
    {
     "data": {
      "text/html": [
       "<div>\n",
       "<style scoped>\n",
       "    .dataframe tbody tr th:only-of-type {\n",
       "        vertical-align: middle;\n",
       "    }\n",
       "\n",
       "    .dataframe tbody tr th {\n",
       "        vertical-align: top;\n",
       "    }\n",
       "\n",
       "    .dataframe thead th {\n",
       "        text-align: right;\n",
       "    }\n",
       "</style>\n",
       "<table border=\"1\" class=\"dataframe\">\n",
       "  <thead>\n",
       "    <tr style=\"text-align: right;\">\n",
       "      <th></th>\n",
       "      <th>Tweets</th>\n",
       "    </tr>\n",
       "    <tr>\n",
       "      <th>CEO_Names</th>\n",
       "      <th></th>\n",
       "    </tr>\n",
       "  </thead>\n",
       "  <tbody>\n",
       "    <tr>\n",
       "      <th>Phil Libin</th>\n",
       "      <td>@pjournel The bag itself is from dsptch in San...</td>\n",
       "    </tr>\n",
       "    <tr>\n",
       "      <th>Phil Libin</th>\n",
       "      <td>I MacGyvered extra storage pouches to my backp...</td>\n",
       "    </tr>\n",
       "    <tr>\n",
       "      <th>Phil Libin</th>\n",
       "      <td>Snack times Nuts equals Snuts, people. Itâs ...</td>\n",
       "    </tr>\n",
       "    <tr>\n",
       "      <th>Phil Libin</th>\n",
       "      <td>Looking forward to being back in Beijing this ...</td>\n",
       "    </tr>\n",
       "    <tr>\n",
       "      <th>Phil Libin</th>\n",
       "      <td>For better and for worse, but mostly for the b...</td>\n",
       "    </tr>\n",
       "  </tbody>\n",
       "</table>\n",
       "</div>"
      ],
      "text/plain": [
       "                                                       Tweets\n",
       "CEO_Names                                                    \n",
       "Phil Libin  @pjournel The bag itself is from dsptch in San...\n",
       "Phil Libin  I MacGyvered extra storage pouches to my backp...\n",
       "Phil Libin  Snack times Nuts equals Snuts, people. Itâs ...\n",
       "Phil Libin  Looking forward to being back in Beijing this ...\n",
       "Phil Libin  For better and for worse, but mostly for the b..."
      ]
     },
     "execution_count": 8,
     "metadata": {},
     "output_type": "execute_result"
    }
   ],
   "source": [
    "df_new = pd.DataFrame(list(frame[\"Tweet\"]), index=index, columns = [\"Tweets\"])\n",
    "(df_new).head()"
   ]
  },
  {
   "cell_type": "code",
   "execution_count": 9,
   "metadata": {},
   "outputs": [
    {
     "data": {
      "text/html": [
       "<div>\n",
       "<style scoped>\n",
       "    .dataframe tbody tr th:only-of-type {\n",
       "        vertical-align: middle;\n",
       "    }\n",
       "\n",
       "    .dataframe tbody tr th {\n",
       "        vertical-align: top;\n",
       "    }\n",
       "\n",
       "    .dataframe thead th {\n",
       "        text-align: right;\n",
       "    }\n",
       "</style>\n",
       "<table border=\"1\" class=\"dataframe\">\n",
       "  <thead>\n",
       "    <tr style=\"text-align: right;\">\n",
       "      <th></th>\n",
       "      <th>CEO_Names</th>\n",
       "      <th>Tweets</th>\n",
       "    </tr>\n",
       "  </thead>\n",
       "  <tbody>\n",
       "    <tr>\n",
       "      <th>0</th>\n",
       "      <td>Phil Libin</td>\n",
       "      <td>@pjournel The bag itself is from dsptch in San...</td>\n",
       "    </tr>\n",
       "    <tr>\n",
       "      <th>1</th>\n",
       "      <td>Phil Libin</td>\n",
       "      <td>I MacGyvered extra storage pouches to my backp...</td>\n",
       "    </tr>\n",
       "    <tr>\n",
       "      <th>2</th>\n",
       "      <td>Phil Libin</td>\n",
       "      <td>Snack times Nuts equals Snuts, people. Itâs ...</td>\n",
       "    </tr>\n",
       "    <tr>\n",
       "      <th>3</th>\n",
       "      <td>Phil Libin</td>\n",
       "      <td>Looking forward to being back in Beijing this ...</td>\n",
       "    </tr>\n",
       "    <tr>\n",
       "      <th>4</th>\n",
       "      <td>Phil Libin</td>\n",
       "      <td>For better and for worse, but mostly for the b...</td>\n",
       "    </tr>\n",
       "  </tbody>\n",
       "</table>\n",
       "</div>"
      ],
      "text/plain": [
       "    CEO_Names                                             Tweets\n",
       "0  Phil Libin  @pjournel The bag itself is from dsptch in San...\n",
       "1  Phil Libin  I MacGyvered extra storage pouches to my backp...\n",
       "2  Phil Libin  Snack times Nuts equals Snuts, people. Itâs ...\n",
       "3  Phil Libin  Looking forward to being back in Beijing this ...\n",
       "4  Phil Libin  For better and for worse, but mostly for the b..."
      ]
     },
     "execution_count": 9,
     "metadata": {},
     "output_type": "execute_result"
    }
   ],
   "source": [
    "new_df = df_new.reset_index() \n",
    "new_df.head()"
   ]
  },
  {
   "cell_type": "code",
   "execution_count": 10,
   "metadata": {},
   "outputs": [
    {
     "data": {
      "text/plain": [
       "0    Phil Libin\n",
       "1    Phil Libin\n",
       "2    Phil Libin\n",
       "3    Phil Libin\n",
       "4    Phil Libin\n",
       "Name: CEO_Names, dtype: object"
      ]
     },
     "execution_count": 10,
     "metadata": {},
     "output_type": "execute_result"
    }
   ],
   "source": [
    "new_df['CEO_Names'].head()"
   ]
  },
  {
   "cell_type": "markdown",
   "metadata": {},
   "source": [
    "# Cleaning Tweets\n",
    "\n",
    "## Tokenization and lowering for further simplification"
   ]
  },
  {
   "cell_type": "code",
   "execution_count": 19,
   "metadata": {},
   "outputs": [
    {
     "name": "stdout",
     "output_type": "stream",
     "text": [
      "[['pjournel', 'the', 'bag', 'itself', 'is', 'from', 'dsptch', 'in', 'san', 'francisco', 'and', 'the', 'pouches', 'are', 'from', 'a', 'canvas', 'shop', 'in', 'tokyo'], ['i', 'macgyvered', 'extra', 'storage', 'pouches', 'to', 'my', 'backpack', 'to', 'bring', 'back', 'snacks', 'from', 'japan', 'without', 'having', 'to', 'check', 'any', 'luggage', 'manliest', 'thing', 'iâ', 've', 'ever', 'done', 'https', 't', 'co', 'rex1qxxcz3']]\n"
     ]
    }
   ],
   "source": [
    "from nltk.tokenize import RegexpTokenizer\n",
    "tokenizer = RegexpTokenizer(r'\\w+')\n",
    "token_words = []\n",
    "for i in new_df['Tweets'].values:\n",
    "    #print(type(i))\n",
    "    if(type(i) !=float):\n",
    "        raw = i.lower()\n",
    "        tokens = tokenizer.tokenize(raw)\n",
    "        token_words.append(tokens)\n",
    "print(token_words[0:2])"
   ]
  },
  {
   "cell_type": "code",
   "execution_count": 20,
   "metadata": {},
   "outputs": [
    {
     "name": "stdout",
     "output_type": "stream",
     "text": [
      "903276\n"
     ]
    }
   ],
   "source": [
    "print(len(token_words))"
   ]
  },
  {
   "cell_type": "markdown",
   "metadata": {},
   "source": [
    "## Lemmzatizing and Stemming of Words\n",
    "\n",
    "### The removal of extra characters that could interfere with conducted analysis"
   ]
  },
  {
   "cell_type": "code",
   "execution_count": 27,
   "metadata": {},
   "outputs": [],
   "source": [
    "from nltk.corpus import stopwords \n",
    "from nltk.stem.wordnet import WordNetLemmatizer\n",
    "import string\n",
    "stop = set(stopwords.words('english'))\n",
    "exclude_punc = set(string.punctuation) \n",
    "lemma = WordNetLemmatizer()\n",
    "from nltk.stem.porter import PorterStemmer\n",
    "\n",
    "# Create p_stemmer of class PorterStemmer\n",
    "p_stemmer = PorterStemmer()\n",
    "def simplify_word(doc):\n",
    "    stop_words = \" \".join([i for i in doc.lower().split() if i not in stop if (type(i) !=float)])\n",
    "    texts = [p_stemmer.stem(i) for i in stop_words]\n",
    "    punc_remove = ''.join(ch for ch in texts if ch not in exclude_punc)\n",
    "    normalized_words = \" \".join(lemma.lemmatize(word) for word in punc_remove.split())\n",
    "    return normalized_words\n",
    "\n",
    "doc_clean = [simplify_word(str(doc)).split() for doc in new_df['Tweets'].values ]"
   ]
  },
  {
   "cell_type": "code",
   "execution_count": 28,
   "metadata": {
    "scrolled": true
   },
   "outputs": [
    {
     "name": "stdout",
     "output_type": "stream",
     "text": [
      "[['pjournel', 'bag', 'dsptch', 'san', 'francisco', 'pouch', 'canvas', 'shop', 'tokyo'], ['macgyvered', 'extra', 'storage', 'pouch', 'backpack', 'bring', 'back', 'snack', 'japan', 'without', 'check', 'luggage', 'manliest', 'thing', 'iâ\\x80\\x99ve', 'ever', 'done', 'httpstcorex1qxxcz3']]\n"
     ]
    }
   ],
   "source": [
    "print(doc_clean[0:2])"
   ]
  },
  {
   "cell_type": "code",
   "execution_count": 29,
   "metadata": {},
   "outputs": [
    {
     "data": {
      "text/plain": [
       "903277"
      ]
     },
     "execution_count": 29,
     "metadata": {},
     "output_type": "execute_result"
    }
   ],
   "source": [
    "len(doc_clean)"
   ]
  },
  {
   "cell_type": "markdown",
   "metadata": {},
   "source": [
    "# Latent Dirichlet Allocation"
   ]
  },
  {
   "cell_type": "markdown",
   "metadata": {},
   "source": [
    "## Creating document-term matrix"
   ]
  },
  {
   "cell_type": "code",
   "execution_count": 32,
   "metadata": {
    "scrolled": true
   },
   "outputs": [
    {
     "name": "stdout",
     "output_type": "stream",
     "text": [
      "Dictionary(1074846 unique tokens: ['bag', 'canvas', 'dsptch', 'francisco', 'pjournel']...)\n",
      "Wall time: 8.87 s\n",
      "[(0, 1), (1, 1), (2, 1), (3, 1), (4, 1), (5, 1), (6, 1), (7, 1), (8, 1)]\n"
     ]
    }
   ],
   "source": [
    "from gensim import corpora, models\n",
    "\n",
    "dictionary = corpora.Dictionary(doc_clean)\n",
    "\n",
    "print(dictionary)\n",
    "%time corpus = [dictionary.doc2bow(text) for text in doc_clean] \n",
    "#creating bag of words making tuple of word identifier and word frequency in data\n",
    "print(corpus[0])"
   ]
  },
  {
   "cell_type": "code",
   "execution_count": 33,
   "metadata": {},
   "outputs": [
    {
     "data": {
      "text/plain": [
       "903277"
      ]
     },
     "execution_count": 33,
     "metadata": {},
     "output_type": "execute_result"
    }
   ],
   "source": [
    "len(corpus)"
   ]
  },
  {
   "cell_type": "code",
   "execution_count": 34,
   "metadata": {},
   "outputs": [
    {
     "name": "stdout",
     "output_type": "stream",
     "text": [
      "Wall time: 1h 8min 5s\n"
     ]
    }
   ],
   "source": [
    "import gensim\n",
    "from gensim import corpora, models\n",
    "chunksize = 100000\n",
    "Lda = gensim.models.ldamodel.LdaModel\n",
    "%time ldamodel = Lda(corpus, chunksize = chunksize, update_every=2,num_topics=5, id2word = dictionary, passes=20)"
   ]
  },
  {
   "cell_type": "markdown",
   "metadata": {},
   "source": [
    "## Run time for LDA on such a large data set require that I perform different method of processing. So I make LDA run for every 100k rows of data instead of runnning it all at same time to save time."
   ]
  },
  {
   "cell_type": "code",
   "execution_count": 35,
   "metadata": {
    "scrolled": true
   },
   "outputs": [
    {
     "name": "stdout",
     "output_type": "stream",
     "text": [
      "[(0, '0.010*\"via\" + 0.006*\"business\"'), (1, '0.007*\"via\" + 0.004*\"trump\"'), (2, '0.031*\"thanks\" + 0.014*\"rt\"'), (3, '0.007*\"one\" + 0.007*\"like\"'), (4, '0.009*\"great\" + 0.008*\"amp\"')]\n"
     ]
    }
   ],
   "source": [
    "print(ldamodel.print_topics(num_topics=5, num_words=2))"
   ]
  },
  {
   "cell_type": "code",
   "execution_count": 36,
   "metadata": {},
   "outputs": [
    {
     "name": "stdout",
     "output_type": "stream",
     "text": [
      "Topic: 0 Word: 0.010*\"via\" + 0.006*\"business\" + 0.006*\"marketing\" + 0.006*\"social\" + 0.005*\"medium\" + 0.005*\"new\" + 0.005*\"amp\" + 0.004*\"need\" + 0.004*\"way\" + 0.004*\"company\"\n",
      "Topic: 1 Word: 0.007*\"via\" + 0.004*\"trump\" + 0.004*\"amp\" + 0.003*\"day\" + 0.003*\"vote\" + 0.002*\"rt\" + 0.002*\"woman\" + 0.002*\"u\" + 0.002*\"first\" + 0.002*\"time\"\n",
      "Topic: 2 Word: 0.031*\"thanks\" + 0.014*\"rt\" + 0.012*\"latest\" + 0.011*\"daily\" + 0.005*\"today\" + 0.005*\"via\" + 0.005*\"out\" + 0.005*\"la\" + 0.004*\"story\" + 0.004*\"follow\"\n",
      "Topic: 3 Word: 0.007*\"one\" + 0.007*\"like\" + 0.007*\"love\" + 0.006*\"get\" + 0.006*\"it\" + 0.006*\"good\" + 0.006*\"you\" + 0.006*\"great\" + 0.005*\"time\" + 0.005*\"thank\"\n",
      "Topic: 4 Word: 0.009*\"great\" + 0.008*\"amp\" + 0.008*\"new\" + 0.005*\"looking\" + 0.005*\"job\" + 0.005*\"startup\" + 0.005*\"team\" + 0.004*\"join\" + 0.004*\"congrats\" + 0.004*\"via\"\n"
     ]
    }
   ],
   "source": [
    "for idx, topic in ldamodel.print_topics(-1):\n",
    "    print('Topic: {} Word: {}'.format(idx, topic))"
   ]
  },
  {
   "cell_type": "markdown",
   "metadata": {},
   "source": [
    "## Presenting the topics extracted from the LDA corpus"
   ]
  },
  {
   "cell_type": "code",
   "execution_count": 40,
   "metadata": {
    "scrolled": true
   },
   "outputs": [
    {
     "name": "stdout",
     "output_type": "stream",
     "text": [
      "[([(0.007070268, 'one'),\n",
      "   (0.0070682354, 'like'),\n",
      "   (0.0070057935, 'love'),\n",
      "   (0.006440646, 'get'),\n",
      "   (0.0063389204, 'it'),\n",
      "   (0.006306753, 'good'),\n",
      "   (0.006232099, 'you'),\n",
      "   (0.005684158, 'great'),\n",
      "   (0.005445463, 'time'),\n",
      "   (0.0054226783, 'thank'),\n",
      "   (0.005297348, 'day'),\n",
      "   (0.0052106567, 'know'),\n",
      "   (0.005070806, 'people'),\n",
      "   (0.0048384676, 'thanks'),\n",
      "   (0.0045871385, 'see'),\n",
      "   (0.004519192, 'im'),\n",
      "   (0.004189777, 'work'),\n",
      "   (0.0040479098, 'thing'),\n",
      "   (0.004007666, 'would'),\n",
      "   (0.003803018, 'make')],\n",
      "  -3.42126727908134),\n",
      " ([(0.010108653, 'via'),\n",
      "   (0.0062809084, 'business'),\n",
      "   (0.006274781, 'marketing'),\n",
      "   (0.0059686163, 'social'),\n",
      "   (0.0052537736, 'medium'),\n",
      "   (0.00503512, 'new'),\n",
      "   (0.0046354043, 'amp'),\n",
      "   (0.003870208, 'need'),\n",
      "   (0.0037646852, 'way'),\n",
      "   (0.0036990875, 'company'),\n",
      "   (0.003459412, 'customer'),\n",
      "   (0.0032490375, 'get'),\n",
      "   (0.0032148408, 'make'),\n",
      "   (0.00320467, 'people'),\n",
      "   (0.003191766, 'google'),\n",
      "   (0.0030242244, 'facebook'),\n",
      "   (0.0029516334, 'content'),\n",
      "   (0.0028581468, 'use'),\n",
      "   (0.0027614548, 'sale'),\n",
      "   (0.0026918459, 'time')],\n",
      "  -3.71818006635245),\n",
      " ([(0.009417005, 'great'),\n",
      "   (0.008228776, 'amp'),\n",
      "   (0.008088568, 'new'),\n",
      "   (0.0050693625, 'looking'),\n",
      "   (0.0047874777, 'job'),\n",
      "   (0.0047416235, 'startup'),\n",
      "   (0.0046567353, 'team'),\n",
      "   (0.0042493977, 'join'),\n",
      "   (0.0040146597, 'congrats'),\n",
      "   (0.0038700157, 'via'),\n",
      "   (0.0036987457, 'event'),\n",
      "   (0.003262943, 'excited'),\n",
      "   (0.002849405, 'w'),\n",
      "   (0.0028018623, 'see'),\n",
      "   (0.0027342667, 'today'),\n",
      "   (0.0027049081, 'forward'),\n",
      "   (0.0027025049, 'best'),\n",
      "   (0.0025578758, 'entrepreneur'),\n",
      "   (0.002481377, 'tech'),\n",
      "   (0.0024524115, 'future')],\n",
      "  -4.015187140326175),\n",
      " ([(0.007301832, 'via'),\n",
      "   (0.0040517347, 'trump'),\n",
      "   (0.003698561, 'amp'),\n",
      "   (0.003261851, 'day'),\n",
      "   (0.0025199838, 'vote'),\n",
      "   (0.0023246643, 'rt'),\n",
      "   (0.0022753156, 'woman'),\n",
      "   (0.0022209515, 'u'),\n",
      "   (0.0021747896, 'first'),\n",
      "   (0.0021585263, 'time'),\n",
      "   (0.0020721515, 'america'),\n",
      "   (0.0019646306, 'american'),\n",
      "   (0.0017645932, 'w'),\n",
      "   (0.0017641565, 'city'),\n",
      "   (0.001667125, 'nytimes'),\n",
      "   (0.001624096, 'today'),\n",
      "   (0.0016020366, 'home'),\n",
      "   (0.0015973628, 'airport'),\n",
      "   (0.0015581881, 'car'),\n",
      "   (0.0015388114, 'state')],\n",
      "  -4.694538410307207),\n",
      " ([(0.030651469, 'thanks'),\n",
      "   (0.01350331, 'rt'),\n",
      "   (0.012036121, 'latest'),\n",
      "   (0.010768568, 'daily'),\n",
      "   (0.0052559646, 'today'),\n",
      "   (0.005152342, 'via'),\n",
      "   (0.005049526, 'out'),\n",
      "   (0.004517886, 'la'),\n",
      "   (0.004355782, 'story'),\n",
      "   (0.003666753, 'follow'),\n",
      "   (0.0035847446, 'great'),\n",
      "   (0.0031995154, 'de'),\n",
      "   (0.0031156337, 'sharing'),\n",
      "   (0.0024034334, 'check'),\n",
      "   (0.0023957617, 'video'),\n",
      "   (0.0023245967, 'hope'),\n",
      "   (0.0022379432, 'tweet'),\n",
      "   (0.0021859156, 'awesome'),\n",
      "   (0.0020132337, 'woman'),\n",
      "   (0.0019407745, 'hi')],\n",
      "  -4.759367625854732)]\n"
     ]
    }
   ],
   "source": [
    "from pprint import pprint\n",
    "pprint(ldamodel.top_topics(corpus))"
   ]
  },
  {
   "cell_type": "markdown",
   "metadata": {},
   "source": [
    "# Visualization of LDA \n",
    "\n",
    "## Presenting 5 topics extracted from the Twitter corpus that CEO's predominantly talk about in 30 words or less.\n",
    "\n",
    "### The separation of bubbles distingish how different each topic is and the size represents the frequency"
   ]
  },
  {
   "cell_type": "code",
   "execution_count": 37,
   "metadata": {
    "scrolled": false
   },
   "outputs": [
    {
     "name": "stderr",
     "output_type": "stream",
     "text": [
      "C:\\Users\\Bloody Dachi\\Anaconda3\\lib\\site-packages\\pyLDAvis\\_prepare.py:257: FutureWarning: Sorting because non-concatenation axis is not aligned. A future version\n",
      "of pandas will change to not sort by default.\n",
      "\n",
      "To accept the future behavior, pass 'sort=True'.\n",
      "\n",
      "To retain the current behavior and silence the warning, pass sort=False\n",
      "\n",
      "  return pd.concat([default_term_info] + list(topic_dfs))\n"
     ]
    },
    {
     "data": {
      "text/html": [
       "\n",
       "<link rel=\"stylesheet\" type=\"text/css\" href=\"https://cdn.rawgit.com/bmabey/pyLDAvis/files/ldavis.v1.0.0.css\">\n",
       "\n",
       "\n",
       "<div id=\"ldavis_el1887220121148820167730376216\"></div>\n",
       "<script type=\"text/javascript\">\n",
       "\n",
       "var ldavis_el1887220121148820167730376216_data = {\"mdsDat\": {\"x\": [-0.11909716727996966, -0.16825386314748703, -0.014610235908527077, 0.016098799912051844, 0.2858624664239318], \"y\": [-0.10842932303055841, 0.1028154771311268, 0.1423539812122949, -0.16886697223675495, 0.03212683692389159], \"topics\": [1, 2, 3, 4, 5], \"cluster\": [1, 1, 1, 1, 1], \"Freq\": [30.67162322998047, 29.655319213867188, 16.062822341918945, 13.971466064453125, 9.63877010345459]}, \"tinfo\": {\"Category\": [\"Default\", \"Default\", \"Default\", \"Default\", \"Default\", \"Default\", \"Default\", \"Default\", \"Default\", \"Default\", \"Default\", \"Default\", \"Default\", \"Default\", \"Default\", \"Default\", \"Default\", \"Default\", \"Default\", \"Default\", \"Default\", \"Default\", \"Default\", \"Default\", \"Default\", \"Default\", \"Default\", \"Default\", \"Default\", \"Default\", \"Topic1\", \"Topic1\", \"Topic1\", \"Topic1\", \"Topic1\", \"Topic1\", \"Topic1\", \"Topic1\", \"Topic1\", \"Topic1\", \"Topic1\", \"Topic1\", \"Topic1\", \"Topic1\", \"Topic1\", \"Topic1\", \"Topic1\", \"Topic1\", \"Topic1\", \"Topic1\", \"Topic1\", \"Topic1\", \"Topic1\", \"Topic1\", \"Topic1\", \"Topic1\", \"Topic1\", \"Topic1\", \"Topic1\", \"Topic1\", \"Topic1\", \"Topic1\", \"Topic1\", \"Topic1\", \"Topic1\", \"Topic1\", \"Topic1\", \"Topic1\", \"Topic1\", \"Topic1\", \"Topic1\", \"Topic1\", \"Topic1\", \"Topic1\", \"Topic1\", \"Topic1\", \"Topic1\", \"Topic1\", \"Topic1\", \"Topic1\", \"Topic1\", \"Topic1\", \"Topic1\", \"Topic1\", \"Topic1\", \"Topic1\", \"Topic1\", \"Topic1\", \"Topic1\", \"Topic1\", \"Topic1\", \"Topic1\", \"Topic1\", \"Topic1\", \"Topic1\", \"Topic1\", \"Topic1\", \"Topic1\", \"Topic1\", \"Topic1\", \"Topic1\", \"Topic1\", \"Topic1\", \"Topic1\", \"Topic1\", \"Topic1\", \"Topic2\", \"Topic2\", \"Topic2\", \"Topic2\", \"Topic2\", \"Topic2\", \"Topic2\", \"Topic2\", \"Topic2\", \"Topic2\", \"Topic2\", \"Topic2\", \"Topic2\", \"Topic2\", \"Topic2\", \"Topic2\", \"Topic2\", \"Topic2\", \"Topic2\", \"Topic2\", \"Topic2\", \"Topic2\", \"Topic2\", \"Topic2\", \"Topic2\", \"Topic2\", \"Topic2\", \"Topic2\", \"Topic2\", \"Topic2\", \"Topic2\", \"Topic2\", \"Topic2\", \"Topic2\", \"Topic2\", \"Topic2\", \"Topic2\", \"Topic2\", \"Topic2\", \"Topic2\", \"Topic2\", \"Topic2\", \"Topic2\", \"Topic2\", \"Topic2\", \"Topic2\", \"Topic2\", \"Topic2\", \"Topic2\", \"Topic2\", \"Topic2\", \"Topic2\", \"Topic2\", \"Topic2\", \"Topic2\", \"Topic2\", \"Topic2\", \"Topic2\", \"Topic2\", \"Topic2\", \"Topic2\", \"Topic2\", \"Topic2\", \"Topic2\", \"Topic2\", \"Topic2\", \"Topic2\", \"Topic2\", \"Topic2\", \"Topic2\", \"Topic2\", \"Topic2\", \"Topic3\", \"Topic3\", \"Topic3\", \"Topic3\", \"Topic3\", \"Topic3\", \"Topic3\", \"Topic3\", \"Topic3\", \"Topic3\", \"Topic3\", \"Topic3\", \"Topic3\", \"Topic3\", \"Topic3\", \"Topic3\", \"Topic3\", \"Topic3\", \"Topic3\", \"Topic3\", \"Topic3\", \"Topic3\", \"Topic3\", \"Topic3\", \"Topic3\", \"Topic3\", \"Topic3\", \"Topic3\", \"Topic3\", \"Topic3\", \"Topic3\", \"Topic3\", \"Topic3\", \"Topic3\", \"Topic3\", \"Topic3\", \"Topic3\", \"Topic3\", \"Topic3\", \"Topic3\", \"Topic3\", \"Topic3\", \"Topic3\", \"Topic3\", \"Topic3\", \"Topic3\", \"Topic3\", \"Topic3\", \"Topic3\", \"Topic3\", \"Topic3\", \"Topic3\", \"Topic3\", \"Topic3\", \"Topic3\", \"Topic3\", \"Topic3\", \"Topic3\", \"Topic3\", \"Topic3\", \"Topic3\", \"Topic3\", \"Topic3\", \"Topic3\", \"Topic3\", \"Topic3\", \"Topic3\", \"Topic3\", \"Topic3\", \"Topic3\", \"Topic3\", \"Topic3\", \"Topic3\", \"Topic3\", \"Topic3\", \"Topic3\", \"Topic3\", \"Topic4\", \"Topic4\", \"Topic4\", \"Topic4\", \"Topic4\", \"Topic4\", \"Topic4\", \"Topic4\", \"Topic4\", \"Topic4\", \"Topic4\", \"Topic4\", \"Topic4\", \"Topic4\", \"Topic4\", \"Topic4\", \"Topic4\", \"Topic4\", \"Topic4\", \"Topic4\", \"Topic4\", \"Topic4\", \"Topic4\", \"Topic4\", \"Topic4\", \"Topic4\", \"Topic4\", \"Topic4\", \"Topic4\", \"Topic4\", \"Topic4\", \"Topic4\", \"Topic4\", \"Topic4\", \"Topic4\", \"Topic4\", \"Topic4\", \"Topic4\", \"Topic4\", \"Topic4\", \"Topic4\", \"Topic4\", \"Topic4\", \"Topic4\", \"Topic4\", \"Topic4\", \"Topic4\", \"Topic4\", \"Topic4\", \"Topic4\", \"Topic4\", \"Topic4\", \"Topic4\", \"Topic4\", \"Topic4\", \"Topic4\", \"Topic4\", \"Topic4\", \"Topic4\", \"Topic4\", \"Topic4\", \"Topic4\", \"Topic4\", \"Topic4\", \"Topic4\", \"Topic4\", \"Topic4\", \"Topic4\", \"Topic4\", \"Topic4\", \"Topic4\", \"Topic4\", \"Topic4\", \"Topic4\", \"Topic4\", \"Topic4\", \"Topic4\", \"Topic4\", \"Topic4\", \"Topic4\", \"Topic5\", \"Topic5\", \"Topic5\", \"Topic5\", \"Topic5\", \"Topic5\", \"Topic5\", \"Topic5\", \"Topic5\", \"Topic5\", \"Topic5\", \"Topic5\", \"Topic5\", \"Topic5\", \"Topic5\", \"Topic5\", \"Topic5\", \"Topic5\", \"Topic5\", \"Topic5\", \"Topic5\", \"Topic5\", \"Topic5\", \"Topic5\", \"Topic5\", \"Topic5\", \"Topic5\", \"Topic5\", \"Topic5\", \"Topic5\", \"Topic5\", \"Topic5\", \"Topic5\", \"Topic5\", \"Topic5\", \"Topic5\", \"Topic5\", \"Topic5\", \"Topic5\", \"Topic5\", \"Topic5\", \"Topic5\", \"Topic5\", \"Topic5\", \"Topic5\", \"Topic5\", \"Topic5\", \"Topic5\", \"Topic5\", \"Topic5\", \"Topic5\", \"Topic5\", \"Topic5\", \"Topic5\", \"Topic5\", \"Topic5\", \"Topic5\", \"Topic5\", \"Topic5\", \"Topic5\", \"Topic5\", \"Topic5\"], \"Freq\": [40385.0, 27183.0, 10556.0, 9445.0, 17393.0, 16106.0, 46735.0, 21976.0, 14177.0, 19457.0, 19768.0, 19574.0, 39348.0, 16632.0, 32528.0, 26966.0, 24353.0, 26715.0, 18177.0, 10511.0, 11023.0, 37078.0, 13538.0, 9342.0, 8165.0, 22989.0, 24008.0, 8709.0, 6780.0, 15137.0, 17392.5078125, 4193.76611328125, 3412.571044921875, 5429.41796875, 3094.21533203125, 4742.2138671875, 2353.97314453125, 2088.1201171875, 1960.2442626953125, 8705.80078125, 2264.424072265625, 1612.922607421875, 7247.85791015625, 1016.9696655273438, 1022.7822265625, 1017.989501953125, 970.8958740234375, 2124.440185546875, 994.7095336914062, 944.4297485351562, 865.9512939453125, 854.8304443359375, 952.81494140625, 3625.189453125, 773.6475830078125, 721.9965209960938, 720.462890625, 713.5521850585938, 5595.08544921875, 690.5836181640625, 4378.57080078125, 4386.740234375, 3248.36572265625, 7568.28662109375, 2294.710205078125, 4401.1171875, 6754.18994140625, 3243.054931640625, 8262.8740234375, 4999.8291015625, 6834.23486328125, 2423.15966796875, 4996.53173828125, 17690.625, 15133.5810546875, 19551.73046875, 6002.623046875, 5657.42138671875, 11184.572265625, 19725.9921875, 6816.65380859375, 14541.8720703125, 19731.666015625, 7401.9306640625, 17600.8515625, 8080.67822265625, 11296.8837890625, 17974.51953125, 12612.13671875, 9327.05078125, 8838.3388671875, 14783.8095703125, 10392.6767578125, 12801.7607421875, 14151.5771484375, 15197.1689453125, 11692.8076171875, 9274.86328125, 15863.31640625, 9187.2783203125, 10613.44140625, 10239.0302734375, 13503.1689453125, 9695.0400390625, 8442.1171875, 9989.345703125, 14176.3701171875, 16105.24609375, 7964.4560546875, 4528.4521484375, 3630.490234375, 3298.814208984375, 2855.1142578125, 2784.480712890625, 2567.90869140625, 2504.02197265625, 2584.010986328125, 2069.4853515625, 1877.483154296875, 1869.818603515625, 1807.6326904296875, 1581.4677734375, 1511.2177734375, 1362.080078125, 1807.14501953125, 1280.5968017578125, 1710.3153076171875, 1151.159912109375, 1124.5284423828125, 1085.358154296875, 1042.3076171875, 977.8846435546875, 974.3543701171875, 950.1178588867188, 950.5982055664062, 942.5726318359375, 9334.60546875, 5577.73583984375, 3167.34521484375, 4469.53515625, 3878.133544921875, 8612.4111328125, 1222.0604248046875, 8160.32958984375, 4046.02978515625, 3883.719970703125, 2238.389404296875, 1951.8741455078125, 5473.9482421875, 16931.376953125, 5612.16650390625, 16947.91015625, 7451.29296875, 3355.099853515625, 6957.77978515625, 5460.95654296875, 5560.14306640625, 7124.00439453125, 4719.3173828125, 7712.19873046875, 27276.396484375, 7215.83447265625, 9981.3271484375, 6878.888671875, 6904.52001953125, 10443.0654296875, 10158.3310546875, 13586.373046875, 12507.8115234375, 6166.8369140625, 8674.673828125, 7078.17919921875, 8647.23046875, 8766.9482421875, 7263.4658203125, 6636.541015625, 6348.3779296875, 6162.71435546875, 2754.921630859375, 1836.5126953125, 1626.06396484375, 1467.4642333984375, 1349.6646728515625, 1214.71728515625, 1167.044921875, 1151.8076171875, 1012.8604125976562, 981.1366577148438, 743.70654296875, 1245.079833984375, 803.4130859375, 502.7245788574219, 481.4354248046875, 1790.662109375, 447.0225524902344, 431.5724792480469, 424.0453796386719, 399.60113525390625, 399.6443176269531, 389.3535461425781, 384.2242431640625, 376.3426208496094, 360.7384033203125, 356.9283142089844, 347.27008056640625, 334.8300476074219, 324.5692443847656, 320.37939453125, 3234.517333984375, 2104.294189453125, 2489.67431640625, 631.6296997070312, 668.1595458984375, 859.8569946289062, 767.8119506835938, 6210.69677734375, 1018.3865966796875, 1055.42822265625, 5405.892578125, 2262.106201171875, 537.2530517578125, 1475.301025390625, 4768.94580078125, 5867.61572265625, 1540.210205078125, 7409.1142578125, 6930.10791015625, 1868.9097900390625, 3047.055419921875, 2215.603515625, 3953.351806640625, 6997.1259765625, 2172.0634765625, 2775.884033203125, 3194.524169921875, 12026.7470703125, 13763.400390625, 6806.0400390625, 11821.8271484375, 2621.0302734375, 2033.30859375, 4164.54052734375, 3584.31591796875, 3738.45703125, 3626.650390625, 3053.049560546875, 3300.741455078125, 3410.415283203125, 3949.839111328125, 5656.2119140625, 4095.054931640625, 3996.2607421875, 2824.0830078125, 2809.056640625, 2863.05517578125, 3203.544921875, 2119.343017578125, 2030.6572265625, 1331.731201171875, 1016.43408203125, 980.2294311523438, 1225.8646240234375, 792.6893310546875, 1304.55859375, 702.6476440429688, 687.1935424804688, 636.2247924804688, 635.9952392578125, 628.7249145507812, 599.1638793945312, 602.3946533203125, 558.4854125976562, 522.4387817382812, 497.8603820800781, 760.639404296875, 767.8949584960938, 451.62701416015625, 442.59869384765625, 413.3921813964844, 407.2032775878906, 404.76318359375, 400.22515869140625, 402.7687072753906, 405.4324645996094, 389.354248046875, 2634.2353515625, 1512.79296875, 699.3927001953125, 554.9698486328125, 509.477294921875, 594.672119140625, 451.4546203613281, 514.8599243164062, 5150.79248046875, 1115.5245361328125, 1193.27880859375, 728.6082153320312, 624.6421508789062, 1646.25439453125, 805.8255615234375, 607.248291015625, 1213.5433349609375, 2497.548583984375, 1308.079833984375, 1735.583251953125, 1834.483154296875, 1471.2744140625, 1450.2086181640625, 1457.0992431640625, 1700.309326171875, 1863.56396484375, 1980.856201171875, 1218.71826171875, 1956.223388671875, 2242.69482421875, 9282.4990234375, 1281.652587890625, 2892.5087890625, 4146.64794921875, 4701.818359375, 2036.598876953125, 2764.714599609375, 1470.8704833984375, 2243.25, 2823.398193359375, 2955.24365234375, 2744.039794921875, 1884.9879150390625, 1885.0450439453125, 2064.641845703125, 1910.477294921875, 1796.794677734375, 1883.893798828125, 1785.477294921875, 1712.0721435546875, 10555.9970703125, 9444.3193359375, 1326.0562744140625, 1182.343017578125, 1036.8626708984375, 999.4362182617188, 979.7505493164062, 947.1732177734375, 885.718994140625, 854.950439453125, 862.6370849609375, 851.5155639648438, 845.7930908203125, 826.6893310546875, 784.373046875, 784.373046875, 739.73486328125, 729.277099609375, 655.9468383789062, 628.5384521484375, 614.6724853515625, 608.6497192382812, 567.9462280273438, 559.2660522460938, 533.2499389648438, 517.1756591796875, 523.1300048828125, 496.64117431640625, 504.51580810546875, 480.0826721191406, 3962.305419921875, 1699.6199951171875, 524.91162109375, 588.085205078125, 26882.1484375, 2806.0595703125, 11842.759765625, 4428.56787109375, 3215.83935546875, 2732.4931640625, 929.8331909179688, 3820.13623046875, 1702.110595703125, 4609.6201171875, 1962.7353515625, 1283.570556640625, 1402.7479248046875, 4518.740234375, 2038.7327880859375, 2107.874755859375, 2101.146240234375, 1917.105712890625, 3143.915771484375, 1668.3779296875, 1765.6591796875, 1512.0328369140625, 1506.3822021484375, 1355.661376953125, 1485.8271484375, 1591.495361328125, 1376.70361328125, 1386.36328125], \"Term\": [\"thanks\", \"rt\", \"latest\", \"daily\", \"you\", \"social\", \"via\", \"love\", \"medium\", \"it\", \"business\", \"marketing\", \"great\", \"thank\", \"amp\", \"get\", \"like\", \"one\", \"know\", \"startup\", \"looking\", \"new\", \"job\", \"customer\", \"out\", \"people\", \"good\", \"happy\", \"join\", \"team\", \"you\", \"wait\", \"kind\", \"quote\", \"sorry\", \"too\", \"birthday\", \"appreciate\", \"follower\", \"happy\", \"yeah\", \"luck\", \"me\", \"worn\", \"gotta\", \"him\", \"gently\", \"dm\", \"dude\", \"lucky\", \"haha\", \"thanksgiving\", \"gonna\", \"ill\", \"retweet\", \"quoteoftheday\", \"then\", \"hang\", \"something\", \"hunterwalk\", \"ive\", \"someone\", \"i\\u00e2\\u0080\\u0099m\", \"got\", \"else\", \"that\", \"cant\", \"stuff\", \"let\", \"feel\", \"never\", \"id\", \"guy\", \"it\", \"thank\", \"love\", \"there\", \"thats\", \"would\", \"like\", \"always\", \"know\", \"one\", \"yes\", \"good\", \"going\", \"thing\", \"get\", \"im\", \"much\", \"really\", \"day\", \"think\", \"see\", \"people\", \"time\", \"work\", \"go\", \"great\", \"want\", \"make\", \"year\", \"thanks\", \"u\", \"week\", \"new\", \"medium\", \"social\", \"content\", \"b2b\", \"user\", \"search\", \"consumer\", \"result\", \"cost\", \"seo\", \"process\", \"evokad\", \"increase\", \"revenue\", \"quality\", \"conversion\", \"demand\", \"productivity\", \"security\", \"device\", \"effective\", \"contentmarketing\", \"higher\", \"boost\", \"measure\", \"solve\", \"understanding\", \"optimization\", \"roi\", \"privacy\", \"customer\", \"mobile\", \"study\", \"value\", \"tool\", \"google\", \"added\", \"facebook\", \"employee\", \"key\", \"improve\", \"rate\", \"strategy\", \"marketing\", \"tip\", \"business\", \"sale\", \"socialmedia\", \"digital\", \"service\", \"ad\", \"brand\", \"using\", \"use\", \"via\", \"data\", \"company\", \"5\", \"change\", \"need\", \"way\", \"new\", \"amp\", \"post\", \"make\", \"help\", \"people\", \"get\", \"time\", \"rt\", \"one\", \"u\", \"york\", \"intelligence\", \"summit\", \"director\", \"partnership\", \"venture\", \"artificial\", \"justanswer\", \"techstars\", \"cisco\", \"announce\", \"keynote\", \"university\", \"haute\", \"kickstarter\", \"speaker\", \"bigsocietycap\", \"accelerator\", \"seed\", \"crowdfunding\", \"janlgordon\", \"oct\", \"ar\", \"1776ny\", \"nikeboycott\", \"announcing\", \"hosted\", \"cnc\", \"diabetes\", \"boomerang\", \"conference\", \"panel\", \"student\", \"socinv\", \"attend\", \"workshop\", \"officer\", \"join\", \"thrilled\", \"round\", \"event\", \"award\", \"vp\", \"honored\", \"excited\", \"congrats\", \"session\", \"looking\", \"startup\", \"speaking\", \"proud\", \"partner\", \"forward\", \"job\", \"board\", \"podcast\", \"community\", \"amp\", \"great\", \"team\", \"new\", \"school\", \"founder\", \"w\", \"future\", \"entrepreneur\", \"tech\", \"ceo\", \"amazing\", \"woman\", \"best\", \"via\", \"see\", \"today\", \"talk\", \"innovation\", \"next\", \"vote\", \"nytimes\", \"airport\", \"bitcoin\", \"impinv\", \"west\", \"ride\", \"gop\", \"silicon\", \"snow\", \"republican\", \"hurricane\", \"infusionsoft\", \"storm\", \"island\", \"lake\", \"dot\", \"coast\", \"tiger\", \"sun\", \"bike\", \"bear\", \"senate\", \"democrat\", \"sunset\", \"clinton\", \"com\", \"sexual\", \"queen\", \"virgin\", \"america\", \"valley\", \"donald\", \"homeless\", \"violence\", \"gate\", \"bus\", \"victim\", \"trump\", \"california\", \"election\", \"east\", \"sky\", \"street\", \"obama\", \"lyft\", \"francisco\", \"american\", \"park\", \"history\", \"president\", \"international\", \"war\", \"uber\", \"san\", \"house\", \"car\", \"realdonaldtrump\", \"state\", \"city\", \"via\", \"water\", \"woman\", \"day\", \"amp\", \"home\", \"first\", \"child\", \"w\", \"u\", \"rt\", \"time\", \"book\", \"could\", \"today\", \"go\", \"back\", \"year\", \"im\", \"read\", \"latest\", \"daily\", \"e\", \"cook\", \"mi\", \"mypov\", \"que\", \"el\", \"365\", \"bj\", \"exclusive\", \"mfriedenberg\", \"arn\\u00e3\\u00b3\", \"smartwomen\", \"negris\", \"cybele\", \"runkeeper\", \"di\", \"foursquare\", \"completed\", \"con\", \"brexit\", \"si\", \"buzzcloud\", \"il\", \"peopleprofitsplanet\", \"hrtech\", \"ngmr\", \"mayor\", \"tanveernaseer\", \"la\", \"en\", \"se\", \"sportsbiz\", \"thanks\", \"de\", \"rt\", \"out\", \"follow\", \"sharing\", \"albert\", \"story\", \"hi\", \"today\", \"tweet\", \"road\", \"enjoy\", \"via\", \"hope\", \"check\", \"video\", \"awesome\", \"great\", \"top\", \"woman\", \"making\", \"cool\", \"run\", \"entrepreneur\", \"day\", \"innovation\", \"year\"], \"Total\": [40385.0, 27183.0, 10556.0, 9445.0, 17393.0, 16106.0, 46735.0, 21976.0, 14177.0, 19457.0, 19768.0, 19574.0, 39348.0, 16632.0, 32528.0, 26966.0, 24353.0, 26715.0, 18177.0, 10511.0, 11023.0, 37078.0, 13538.0, 9342.0, 8165.0, 22989.0, 24008.0, 8709.0, 6780.0, 15137.0, 17393.2265625, 4194.48681640625, 3413.29248046875, 5430.66015625, 3094.97509765625, 4743.5693359375, 2354.694091796875, 2088.8427734375, 1960.9647216796875, 8709.1435546875, 2265.400146484375, 1613.6429443359375, 7252.3544921875, 1017.6871337890625, 1023.5073852539062, 1018.7217407226562, 971.6129150390625, 2126.064697265625, 995.4703979492188, 945.1845092773438, 866.66943359375, 855.5530395507812, 953.6300659179688, 3628.439453125, 774.3672485351562, 722.7190551757812, 721.1860961914062, 714.2725219726562, 5600.8720703125, 691.3031005859375, 4388.89892578125, 4401.99365234375, 3258.044921875, 7682.62841796875, 2302.225830078125, 4466.51806640625, 6921.1669921875, 3302.303466796875, 8647.1708984375, 5202.18896484375, 7192.35986328125, 2475.706787109375, 5244.48681640625, 19457.365234375, 16632.162109375, 21976.51171875, 6439.42138671875, 6070.51318359375, 12918.45703125, 24353.60546875, 7616.51806640625, 18177.890625, 26715.265625, 8592.0625, 24008.41015625, 9781.6416015625, 14988.4658203125, 26966.7265625, 17269.25, 12028.6962890625, 11483.4248046875, 23381.0078125, 14357.9169921875, 19603.416015625, 22989.18359375, 26528.66015625, 19784.53125, 13890.095703125, 39348.81640625, 14196.78125, 20943.927734375, 19266.634765625, 40385.91015625, 22479.068359375, 12504.8984375, 37078.9609375, 14177.09765625, 16106.0810546875, 7965.1708984375, 4529.166015625, 3631.213623046875, 3299.531494140625, 2855.82861328125, 2785.19921875, 2568.629150390625, 2504.736083984375, 2584.75390625, 2070.221923828125, 1878.1973876953125, 1870.5325927734375, 1808.3521728515625, 1582.178955078125, 1511.93603515625, 1362.7965087890625, 1808.123046875, 1281.3155517578125, 1711.338623046875, 1151.87353515625, 1125.2611083984375, 1086.0877685546875, 1043.02783203125, 978.6033325195312, 975.07373046875, 950.8289794921875, 951.317626953125, 943.2882080078125, 9342.3828125, 5582.99169921875, 3170.744873046875, 4505.57421875, 3918.353759765625, 8789.2021484375, 1225.3629150390625, 8578.6923828125, 4167.5791015625, 4018.958251953125, 2282.20556640625, 1981.064208984375, 5801.4189453125, 19574.06640625, 6063.529296875, 19768.349609375, 8235.884765625, 3527.0546875, 7991.75390625, 6131.78076171875, 6327.044921875, 8520.73828125, 5367.3828125, 9795.892578125, 46735.0, 9144.927734375, 13759.2744140625, 8861.9931640625, 9147.4326171875, 18704.701171875, 18684.740234375, 37078.9609375, 32528.48046875, 9638.3515625, 20943.927734375, 13772.2900390625, 22989.18359375, 26966.7265625, 26528.66015625, 27183.52734375, 26715.265625, 22479.068359375, 2755.92919921875, 1837.2354736328125, 1626.78564453125, 1468.2218017578125, 1350.39599609375, 1215.437255859375, 1167.760986328125, 1152.520751953125, 1013.5767211914062, 981.856689453125, 744.4243774414062, 1246.44287109375, 804.364501953125, 503.44390869140625, 482.1549987792969, 1793.52294921875, 447.7445983886719, 432.28778076171875, 424.7657165527344, 400.3216857910156, 400.3741149902344, 390.077880859375, 384.94732666015625, 377.05938720703125, 361.4524841308594, 357.6523132324219, 348.010009765625, 335.55517578125, 325.29022216796875, 321.12298583984375, 3265.68798828125, 2118.147216796875, 2517.539306640625, 634.52783203125, 672.676025390625, 873.1095581054688, 780.4525756835938, 6780.1904296875, 1051.7801513671875, 1093.8634033203125, 6156.904296875, 2538.367919921875, 546.3975830078125, 1680.2862548828125, 6238.49462890625, 8206.2626953125, 1804.8941650390625, 11023.1826171875, 10511.0, 2323.268798828125, 4280.05224609375, 2922.853271484375, 6175.0439453125, 13538.84375, 2880.54150390625, 4088.243896484375, 5006.18994140625, 32528.48046875, 39348.81640625, 15137.0341796875, 37078.9609375, 3969.28076171875, 2704.116455078125, 9531.3798828125, 8038.4306640625, 8985.1865234375, 8597.5, 6924.630859375, 8740.9814453125, 9967.2685546875, 15476.736328125, 46735.0, 19603.416015625, 21189.36328125, 7323.48974609375, 7710.318359375, 10766.9091796875, 3204.267333984375, 2120.073974609375, 2031.4000244140625, 1332.4569091796875, 1017.1703491210938, 980.974853515625, 1226.9156494140625, 793.4076538085938, 1305.759765625, 703.3680419921875, 687.91259765625, 636.9458618164062, 636.7527465820312, 629.483154296875, 599.8878784179688, 603.1251831054688, 559.208984375, 523.1585083007812, 498.5818786621094, 761.7445068359375, 769.05908203125, 452.3501892089844, 443.3444519042969, 414.1098937988281, 407.9239807128906, 405.4927062988281, 400.9494323730469, 403.4982604980469, 406.16741943359375, 390.0762023925781, 2651.04052734375, 1518.246826171875, 700.9817504882812, 556.1622924804688, 510.5047912597656, 597.2705688476562, 452.29583740234375, 516.5066528320312, 5316.3984375, 1132.4371337890625, 1220.3248291015625, 738.9910278320312, 630.79248046875, 1740.2601318359375, 826.0597534179688, 612.6909790039062, 1318.046630859375, 3133.26904296875, 1496.4927978515625, 2092.912353515625, 2306.49609375, 1812.5849609375, 1787.6556396484375, 1887.1673583984375, 2381.55712890625, 3033.833740234375, 3410.94091796875, 1627.2642822265625, 3503.765869140625, 4423.501953125, 46735.0, 1773.5345458984375, 9967.2685546875, 23381.0078125, 32528.48046875, 5151.21826171875, 11916.0595703125, 2417.00732421875, 9531.3798828125, 22479.068359375, 27183.52734375, 26528.66015625, 8545.6806640625, 8720.6806640625, 21189.36328125, 13890.095703125, 10394.556640625, 19266.634765625, 17269.25, 9656.904296875, 10556.720703125, 9445.0400390625, 1326.78076171875, 1183.0645751953125, 1037.58447265625, 1000.177001953125, 980.48828125, 947.8955688476562, 886.440185546875, 855.6692504882812, 863.3643188476562, 852.2339477539062, 846.5115356445312, 827.4105834960938, 785.091552734375, 785.091552734375, 740.454345703125, 729.9973754882812, 656.66943359375, 629.2620849609375, 615.3997192382812, 609.3839111328125, 568.6672973632812, 559.984619140625, 533.9747314453125, 517.8941650390625, 523.8639526367188, 497.3601989746094, 505.2464904785156, 480.8093566894531, 3971.228759765625, 1723.556396484375, 526.8883666992188, 594.612060546875, 40385.91015625, 4136.015625, 27183.52734375, 8165.67041015625, 5760.857421875, 4775.14306640625, 1125.3829345703125, 9842.623046875, 3038.759765625, 21189.36328125, 5651.25634765625, 2398.333984375, 2946.4736328125, 46735.0, 7438.79150390625, 9797.8291015625, 10595.9580078125, 8901.7216796875, 39348.81640625, 8114.19580078125, 9967.2685546875, 5997.41943359375, 5970.56982421875, 4130.21923828125, 8985.1865234375, 23381.0078125, 7710.318359375, 19266.634765625], \"loglift\": [30.0, 29.0, 28.0, 27.0, 26.0, 25.0, 24.0, 23.0, 22.0, 21.0, 20.0, 19.0, 18.0, 17.0, 16.0, 15.0, 14.0, 13.0, 12.0, 11.0, 10.0, 9.0, 8.0, 7.0, 6.0, 5.0, 4.0, 3.0, 2.0, 1.0, 1.1818000078201294, 1.1816999912261963, 1.1815999746322632, 1.1815999746322632, 1.1815999746322632, 1.18149995803833, 1.18149995803833, 1.18149995803833, 1.18149995803833, 1.181399941444397, 1.181399941444397, 1.181399941444397, 1.1812000274658203, 1.1811000108718872, 1.1811000108718872, 1.1811000108718872, 1.1811000108718872, 1.1811000108718872, 1.1811000108718872, 1.180999994277954, 1.180999994277954, 1.180999994277954, 1.180999994277954, 1.180899977684021, 1.180899977684021, 1.180799961090088, 1.180799961090088, 1.180799961090088, 1.180799961090088, 1.180799961090088, 1.1794999837875366, 1.1784000396728516, 1.1789000034332275, 1.1668000221252441, 1.1785999536514282, 1.167099952697754, 1.1574000120162964, 1.163699984550476, 1.1363999843597412, 1.142199993133545, 1.1308000087738037, 1.1604000329971313, 1.1333999633789062, 1.0865999460220337, 1.087399959564209, 1.0649000406265259, 1.1116000413894653, 1.1114000082015991, 1.0377000570297241, 0.9710999727249146, 1.0708999633789062, 0.9587000012397766, 0.8787999749183655, 1.0326999425888062, 0.871399998664856, 0.9908000230789185, 0.8991000056266785, 0.776199996471405, 0.8676000237464905, 0.9275000095367432, 0.9200000166893005, 0.7233999967575073, 0.8586000204086304, 0.7556999921798706, 0.6966000199317932, 0.6247000098228455, 0.6559000015258789, 0.777999997138977, 0.2734000086784363, 0.7465999722480774, 0.5020999908447266, 0.5497000217437744, 0.08630000054836273, 0.3409000039100647, 0.7889000177383423, -0.12970000505447388, 1.215499997138977, 1.215499997138977, 1.215399980545044, 1.215399980545044, 1.2152999639511108, 1.2152999639511108, 1.2152999639511108, 1.2152999639511108, 1.2151999473571777, 1.2151999473571777, 1.2151999473571777, 1.2151999473571777, 1.2151000499725342, 1.2151000499725342, 1.2151000499725342, 1.2151000499725342, 1.2151000499725342, 1.215000033378601, 1.215000033378601, 1.215000033378601, 1.214900016784668, 1.214900016784668, 1.214900016784668, 1.214900016784668, 1.2148000001907349, 1.2148000001907349, 1.2148000001907349, 1.2148000001907349, 1.2148000001907349, 1.2148000001907349, 1.2146999835968018, 1.2145999670028687, 1.2144999504089355, 1.2074999809265137, 1.205199956893921, 1.195199966430664, 1.2128000259399414, 1.1655000448226929, 1.1858999729156494, 1.1813000440597534, 1.1960999965667725, 1.200700044631958, 1.1574000120162964, 1.0705000162124634, 1.138200044631958, 1.0615999698638916, 1.115399956703186, 1.1655000448226929, 1.0770000219345093, 1.0996999740600586, 1.086300015449524, 1.0364999771118164, 1.086899995803833, 0.9764000177383423, 0.6771000027656555, 0.978600025177002, 0.8945000171661377, 0.9621999859809875, 0.9341999888420105, 0.6327000260353088, 0.6061000227928162, 0.21150000393390656, 0.259799987077713, 0.7689999938011169, 0.33410000801086426, 0.5498999953269958, 0.23770000040531158, 0.09189999848604202, -0.07980000227689743, -0.19449999928474426, -0.2214999943971634, -0.07850000262260437, 1.8282999992370605, 1.8282999992370605, 1.8281999826431274, 1.8280999660491943, 1.8280999660491943, 1.8280999660491943, 1.8279999494552612, 1.8279999494552612, 1.8279999494552612, 1.8279000520706177, 1.8277000188827515, 1.8276000022888184, 1.8274999856948853, 1.8272000551223755, 1.8272000551223755, 1.8271000385284424, 1.8270000219345093, 1.8270000219345093, 1.8270000219345093, 1.8269000053405762, 1.826799988746643, 1.826799988746643, 1.826799988746643, 1.826799988746643, 1.82669997215271, 1.8265999555587769, 1.8265000581741333, 1.8265000581741333, 1.8264000415802002, 1.826300024986267, 1.819100022315979, 1.822100043296814, 1.8174999952316284, 1.8241000175476074, 1.8219000101089478, 1.8134000301361084, 1.8122999668121338, 1.7409000396728516, 1.7963999509811401, 1.7928999662399292, 1.6986000537872314, 1.7134000062942505, 1.8118000030517578, 1.6986000537872314, 1.559999942779541, 1.4931999444961548, 1.6700999736785889, 1.431399941444397, 1.4120999574661255, 1.6109999418258667, 1.4888999462127686, 1.5515999794006348, 1.382699966430664, 1.1685999631881714, 1.5463999509811401, 1.441499948501587, 1.3794000148773193, 0.8337000012397766, 0.7781999707221985, 1.0292999744415283, 0.6855999827384949, 1.413599967956543, 1.5435999631881714, 1.0006999969482422, 1.0210000276565552, 0.9517999887466431, 0.965499997138977, 1.0096999406814575, 0.8547999858856201, 0.7562000155448914, 0.46299999952316284, -0.2831000089645386, 0.26269999146461487, 0.16050000488758087, 0.8758000135421753, 0.8190000057220459, 0.5041000247001648, 1.967900037765503, 1.9678000211715698, 1.9678000211715698, 1.9675999879837036, 1.9673999547958374, 1.9673999547958374, 1.9673000574111938, 1.9672000408172607, 1.9672000408172607, 1.9671000242233276, 1.9671000242233276, 1.9670000076293945, 1.9670000076293945, 1.9668999910354614, 1.9668999910354614, 1.9668999910354614, 1.9668999910354614, 1.9667999744415283, 1.9666999578475952, 1.9666999578475952, 1.966599941253662, 1.966599941253662, 1.9665000438690186, 1.9664000272750854, 1.9664000272750854, 1.9664000272750854, 1.9663000106811523, 1.9663000106811523, 1.9663000106811523, 1.9663000106811523, 1.9617999792099, 1.9645999670028687, 1.96589994430542, 1.965999960899353, 1.9660999774932861, 1.9637999534606934, 1.9663000106811523, 1.965000033378601, 1.9364999532699585, 1.9530999660491943, 1.9457000494003296, 1.9539999961853027, 1.958400011062622, 1.912600040435791, 1.9434000253677368, 1.9592000246047974, 1.8854999542236328, 1.7414000034332275, 1.8336000442504883, 1.780900001525879, 1.7391999959945679, 1.7595000267028809, 1.7589999437332153, 1.7094999551773071, 1.6311999559402466, 1.4808000326156616, 1.4247000217437744, 1.6791000366210938, 1.3853000402450562, 1.2889000177383423, 0.35179999470710754, 1.6433000564575195, 0.7310000061988831, 0.23849999904632568, 0.03400000184774399, 1.0401999950408936, 0.5072000026702881, 1.471500039100647, 0.5214999914169312, -0.10649999976158142, -0.250900000333786, -0.30059999227523804, 0.45660001039505005, 0.43639999628067017, -0.36039999127388, -0.015699999406933784, 0.21289999783039093, -0.35690000653266907, -0.3010999858379364, 0.23819999396800995, 2.3392999172210693, 2.3392999172210693, 2.3387999534606934, 2.3387999534606934, 2.33870005607605, 2.338599920272827, 2.338599920272827, 2.338599920272827, 2.338599920272827, 2.3385000228881836, 2.3385000228881836, 2.3385000228881836, 2.3385000228881836, 2.3385000228881836, 2.3385000228881836, 2.3385000228881836, 2.338399887084961, 2.338399887084961, 2.3382999897003174, 2.338200092315674, 2.338200092315674, 2.338200092315674, 2.338099956512451, 2.338099956512451, 2.3380000591278076, 2.3380000591278076, 2.3380000591278076, 2.337899923324585, 2.337899923324585, 2.337899923324585, 2.337100028991699, 2.3254001140594482, 2.335599899291992, 2.3282999992370605, 1.9323999881744385, 1.9514000415802002, 1.5084999799728394, 1.7274999618530273, 1.7563999891281128, 1.7812000513076782, 2.1484999656677246, 1.392899990081787, 1.7597999572753906, 0.8140000104904175, 1.2818000316619873, 1.7142000198364258, 1.5972000360488892, 0.003100000089034438, 1.0449999570846558, 0.8029000163078308, 0.7214000225067139, 0.8039000034332275, -0.1876000016927719, 0.7576000094413757, 0.6086000204086304, 0.9614999890327454, 0.9621999859809875, 1.2252999544143677, 0.5397999882698059, -0.34790000319480896, 0.6165000200271606, -0.2922999858856201], \"logprob\": [30.0, 29.0, 28.0, 27.0, 26.0, 25.0, 24.0, 23.0, 22.0, 21.0, 20.0, 19.0, 18.0, 17.0, 16.0, 15.0, 14.0, 13.0, 12.0, 11.0, 10.0, 9.0, 8.0, 7.0, 6.0, 5.0, 4.0, 3.0, 2.0, 1.0, -5.078000068664551, -6.500500202178955, -6.706600189208984, -6.242199897766113, -6.804500102996826, -6.377600193023682, -7.078000068664551, -7.197800159454346, -7.261000156402588, -5.770100116729736, -7.116799831390381, -7.455999851226807, -5.953400135040283, -7.917300224304199, -7.911600112915039, -7.916299819946289, -7.963600158691406, -7.180600166320801, -7.9394001960754395, -7.991300106048584, -8.07800006866455, -8.090900421142578, -7.982399940490723, -6.646200180053711, -8.190699577331543, -8.25979995727539, -8.261899948120117, -8.271599769592285, -6.212200164794922, -8.304300308227539, -6.457399845123291, -6.45550012588501, -6.755899906158447, -5.910099983215332, -7.103499889373779, -6.452199935913086, -6.023900032043457, -6.757599830627441, -5.822299957275391, -6.324699878692627, -6.0121002197265625, -7.048999786376953, -6.325300216674805, -5.060999870300293, -5.217199802398682, -4.960999965667725, -6.141900062561035, -6.201099872589111, -5.519499778747559, -4.952099800109863, -6.014699935913086, -5.256999969482422, -4.951900005340576, -5.932300090789795, -5.066100120544434, -5.844600200653076, -5.5096001625061035, -5.045100212097168, -5.399400234222412, -5.701200008392334, -5.755000114440918, -5.240499973297119, -5.5929999351501465, -5.384500026702881, -5.284299850463867, -5.2129998207092285, -5.475100040435791, -5.7067999839782715, -5.170100212097168, -5.716300010681152, -5.572000026702881, -5.607900142669678, -5.331200122833252, -5.662499904632568, -5.80079984664917, -5.632599830627441, -5.248799800872803, -5.121200084686279, -5.825399875640869, -6.389999866485596, -6.611000061035156, -6.7067999839782715, -6.85129976272583, -6.876299858093262, -6.957300186157227, -6.982500076293945, -6.951000213623047, -7.173099994659424, -7.270500183105469, -7.274499893188477, -7.3084001541137695, -7.441999912261963, -7.487500190734863, -7.591400146484375, -7.308599948883057, -7.65310001373291, -7.363699913024902, -7.7596001625061035, -7.7829999923706055, -7.81850004196167, -7.85890007019043, -7.922699928283691, -7.926400184631348, -7.951600074768066, -7.951000213623047, -7.959499835968018, -5.6666998863220215, -6.181600093841553, -6.747499942779541, -6.40310001373291, -6.545000076293945, -5.747200012207031, -7.69980001449585, -5.80109977722168, -6.502600193023682, -6.543600082397461, -7.094600200653076, -7.231599807739258, -6.200399875640869, -5.071199893951416, -6.1753997802734375, -5.070199966430664, -5.892000198364258, -6.689899921417236, -5.9604997634887695, -6.2027997970581055, -6.184800148010254, -5.9369001388549805, -6.348700046539307, -5.857600212097168, -4.594399929046631, -5.924099922180176, -5.599699974060059, -5.97189998626709, -5.968200206756592, -5.5543999671936035, -5.582099914550781, -5.291299819946289, -5.374000072479248, -6.081200122833252, -5.739999771118164, -5.943399906158447, -5.743100166320801, -5.729400157928467, -5.917500019073486, -6.007800102233887, -6.052199840545654, -6.081900119781494, -6.273900032043457, -6.6793999671936035, -6.80109977722168, -6.90369987487793, -6.987400054931641, -7.092700004577637, -7.132800102233887, -7.145899772644043, -7.274499893188477, -7.306300163269043, -7.583399772644043, -7.0680999755859375, -7.506100177764893, -7.974999904632568, -8.018199920654297, -6.704699993133545, -8.092399597167969, -8.127599716186523, -8.1451997756958, -8.204500198364258, -8.204400062561035, -8.230500221252441, -8.243800163269043, -8.26449966430664, -8.306900024414062, -8.317500114440918, -8.344900131225586, -8.381400108337402, -8.412500381469727, -8.42549991607666, -6.113399982452393, -6.543300151824951, -6.375100135803223, -7.746699810028076, -7.690499782562256, -7.438199996948242, -7.551499843597412, -5.460999965667725, -7.269000053405762, -7.23330020904541, -5.599800109863281, -6.4710001945495605, -7.9085001945495605, -6.898399829864502, -5.725100040435791, -5.5177998542785645, -6.855299949645996, -5.2845001220703125, -5.351399898529053, -6.661900043487549, -6.173099994659424, -6.491700172424316, -5.912700176239014, -5.341800212860107, -6.511600017547607, -6.266300201416016, -6.125800132751465, -4.800099849700928, -4.665200233459473, -5.3694000244140625, -4.817299842834473, -6.323699951171875, -6.577600002288818, -5.860599994659424, -6.010700225830078, -5.968599796295166, -5.998899936676025, -6.17110013961792, -6.093100070953369, -6.060400009155273, -5.913599967956543, -5.554500102996826, -5.877500057220459, -5.901899814605713, -6.249100208282471, -6.25439977645874, -6.235400199890137, -5.983500003814697, -6.396699905395508, -6.4394001960754395, -6.861299991607666, -7.131499767303467, -7.167699813842773, -6.9440999031066895, -7.380099773406982, -6.881899833679199, -7.500699996948242, -7.522900104522705, -7.599999904632568, -7.600299835205078, -7.611800193786621, -7.659999847412109, -7.654600143432617, -7.730299949645996, -7.796999931335449, -7.845200061798096, -7.42140007019043, -7.411900043487549, -7.942699909210205, -7.962900161743164, -8.031100273132324, -8.046199798583984, -8.052200317382812, -8.06350040435791, -8.05720043182373, -8.050600051879883, -8.090999603271484, -6.179200172424316, -6.733799934387207, -7.505300045013428, -7.736599922180176, -7.8221001625061035, -7.667500019073486, -7.942999839782715, -7.811600208282471, -5.508600234985352, -7.038400173187256, -6.971099853515625, -7.464399814605713, -7.618299961090088, -6.6493000984191895, -7.36359977722168, -7.646599769592285, -6.95419979095459, -6.232500076293945, -6.879199981689453, -6.596399784088135, -6.540999889373779, -6.761600017547607, -6.776100158691406, -6.771299839019775, -6.617000102996826, -6.525300025939941, -6.464200019836426, -6.949999809265137, -6.4766998291015625, -6.340099811553955, -4.919600009918213, -6.899600028991699, -6.085599899291992, -5.725500106811523, -5.599800109863281, -6.436500072479248, -6.130799770355225, -6.761899948120117, -6.339799880981445, -6.109799861907959, -6.064199924468994, -6.138299942016602, -6.513800144195557, -6.513800144195557, -6.422800064086914, -6.500400066375732, -6.561800003051758, -6.514400005340576, -6.5680999755859375, -6.610099792480469, -4.4197998046875, -4.531099796295166, -6.49429988861084, -6.609000205993652, -6.740300178527832, -6.777100086212158, -6.796999931335449, -6.8308000564575195, -6.897900104522705, -6.933199882507324, -6.924300193786621, -6.937300205230713, -6.943999767303467, -6.966899871826172, -7.019400119781494, -7.019400119781494, -7.078000068664551, -7.092199802398682, -7.198200225830078, -7.240900039672852, -7.263199806213379, -7.2729997634887695, -7.342299938201904, -7.357699871063232, -7.405300140380859, -7.4359002113342285, -7.424499988555908, -7.476399898529053, -7.460700035095215, -7.510300159454346, -5.399700164794922, -6.246099948883057, -7.42110013961792, -7.307400226593018, -3.485100030899048, -5.744800090789795, -4.304800033569336, -5.28849983215332, -5.608399868011475, -5.771299839019775, -6.849299907684326, -5.436299800872803, -6.244699954986572, -5.2484002113342285, -6.102200031280518, -6.526899814605713, -6.4380998611450195, -5.2683000564575195, -6.064199924468994, -6.030900001525879, -6.03410005569458, -6.125699996948242, -5.631100177764893, -6.264699935913086, -6.208000183105469, -6.363100051879883, -6.366799831390381, -6.4721999168396, -6.3805999755859375, -6.3119001388549805, -6.4567999839782715, -6.449900150299072]}, \"token.table\": {\"Topic\": [3, 5, 1, 2, 3, 4, 5, 3, 2, 4, 5, 2, 4, 4, 4, 5, 1, 2, 3, 4, 5, 1, 2, 3, 4, 5, 2, 3, 4, 1, 2, 4, 1, 2, 3, 4, 5, 3, 3, 1, 3, 5, 3, 1, 3, 5, 3, 4, 5, 1, 2, 3, 4, 5, 2, 1, 2, 3, 4, 5, 4, 1, 2, 3, 4, 5, 3, 4, 5, 1, 4, 5, 1, 2, 3, 4, 1, 2, 3, 4, 3, 2, 1, 2, 3, 5, 4, 1, 2, 3, 5, 1, 2, 3, 4, 5, 1, 2, 1, 2, 3, 4, 5, 1, 2, 3, 4, 5, 1, 2, 3, 4, 1, 2, 3, 4, 5, 1, 2, 3, 4, 3, 1, 2, 3, 4, 5, 4, 3, 4, 4, 1, 2, 3, 5, 1, 2, 3, 4, 5, 5, 1, 2, 3, 5, 1, 3, 4, 5, 2, 2, 2, 2, 5, 1, 2, 3, 4, 5, 2, 1, 2, 3, 4, 3, 2, 3, 5, 5, 2, 3, 1, 2, 3, 4, 5, 2, 5, 2, 4, 2, 5, 3, 2, 3, 3, 1, 5, 2, 4, 4, 1, 5, 3, 4, 2, 5, 2, 4, 1, 2, 2, 3, 2, 5, 1, 4, 5, 1, 2, 3, 4, 5, 1, 2, 3, 5, 2, 1, 3, 5, 2, 5, 1, 2, 1, 2, 3, 4, 5, 1, 2, 5, 1, 1, 3, 5, 1, 2, 3, 5, 4, 5, 1, 2, 3, 4, 5, 4, 5, 1, 1, 2, 3, 4, 1, 2, 3, 4, 5, 1, 2, 3, 4, 5, 1, 1, 2, 3, 4, 2, 3, 5, 4, 1, 4, 5, 1, 1, 2, 3, 4, 5, 1, 4, 1, 1, 1, 3, 3, 1, 2, 3, 4, 5, 1, 5, 2, 1, 1, 2, 3, 4, 1, 2, 3, 4, 4, 5, 1, 3, 1, 4, 5, 3, 1, 2, 3, 4, 5, 1, 4, 1, 2, 5, 1, 3, 5, 1, 2, 3, 4, 5, 4, 2, 3, 2, 4, 2, 3, 5, 3, 2, 3, 4, 4, 1, 2, 1, 2, 1, 2, 3, 4, 3, 1, 2, 3, 4, 1, 2, 3, 5, 3, 2, 3, 2, 3, 3, 1, 1, 2, 3, 4, 2, 5, 4, 5, 1, 2, 3, 4, 1, 2, 3, 4, 1, 2, 3, 5, 1, 3, 1, 1, 3, 4, 1, 2, 3, 4, 1, 2, 3, 4, 5, 2, 3, 5, 5, 1, 5, 2, 2, 5, 5, 2, 3, 1, 2, 4, 5, 5, 1, 2, 3, 4, 5, 1, 2, 4, 1, 2, 3, 4, 5, 1, 2, 3, 4, 5, 5, 3, 4, 1, 2, 4, 3, 2, 3, 1, 2, 3, 4, 5, 2, 1, 2, 4, 5, 2, 3, 4, 5, 2, 3, 4, 5, 1, 2, 3, 3, 1, 2, 3, 4, 5, 1, 2, 3, 5, 1, 2, 3, 4, 5, 1, 2, 3, 4, 2, 2, 2, 1, 3, 4, 2, 5, 4, 1, 4, 1, 2, 4, 1, 2, 3, 4, 1, 2, 4, 1, 2, 3, 4, 2, 1, 2, 4, 1, 3, 4, 5, 2, 3, 4, 1, 2, 3, 4, 5, 1, 2, 3, 4, 5, 5, 2, 3, 4, 5, 1, 3, 4, 2, 5, 2, 2, 1, 2, 3, 4, 5, 3, 4, 2, 1, 2, 3, 4, 1, 2, 3, 5, 4, 1, 2, 3, 5, 5, 3, 4, 4, 5, 5, 4, 2, 2, 5, 3, 4, 2, 1, 2, 4, 1, 2, 1, 1, 2, 3, 1, 2, 3, 5, 3, 5, 2, 3, 5, 1, 2, 3, 4, 4, 1, 2, 3, 4, 5, 2, 3, 3, 4, 5, 2, 3, 4, 2, 3, 5, 1, 2, 3, 3, 4, 5, 4, 1, 2, 3, 4, 5, 5, 1, 2, 3, 2, 3, 4, 5, 3, 1, 3, 4, 5, 1, 5, 1, 1, 2, 1, 2, 4, 5, 1, 1, 2, 3, 4, 5, 1, 2, 3, 4, 1, 2, 4, 1, 3, 4, 1, 2, 3, 4, 5, 1, 2, 3, 1, 2, 3, 4, 5, 1, 4, 2, 3, 1, 2, 3, 4, 5, 1, 2, 4, 1, 2, 5, 1, 2, 3, 4, 5, 2, 3, 4, 2, 3, 1, 2, 3, 4, 2, 1, 2, 3, 3, 4, 1, 2, 3, 3, 1, 2, 3, 4, 5, 1, 4, 1, 2, 3, 4, 5, 4, 4, 4, 2, 3, 1, 2, 3, 4, 5, 1, 1, 2, 3, 4, 1, 2, 4, 1, 2, 3, 4, 1, 2, 3, 4, 1, 2, 3, 4, 4, 1, 2, 3, 4, 5, 1, 2, 3, 4, 2, 3, 5, 1, 1, 2, 4, 1, 1, 2, 3, 4, 5, 1, 2, 4, 5, 3, 1], \"Freq\": [0.9971904158592224, 0.9995034337043762, 0.1498534232378006, 0.7762362360954285, 0.07357261329889297, 0.0003385242889635265, 0.00011284142965450883, 0.9993342757225037, 0.8787672519683838, 0.05705665051937103, 0.06401092559099197, 0.9972555637359619, 0.0024482542648911476, 0.9998030662536621, 0.17327435314655304, 0.8263853788375854, 0.8950284123420715, 0.09991442412137985, 0.002100697485730052, 0.00013129359285812825, 0.0027571653481572866, 0.4599025845527649, 0.00011440362868597731, 0.37764638662338257, 0.03832521662116051, 0.12401353567838669, 0.006035366095602512, 0.000377210380975157, 0.9935721158981323, 0.017234396189451218, 0.18542933464050293, 0.7972503900527954, 0.0970534086227417, 0.3845245838165283, 0.36973753571510315, 0.14455024898052216, 0.00415020901709795, 0.9994299411773682, 0.998176097869873, 0.9995965361595154, 0.9975391030311584, 0.9993957281112671, 0.9993483424186707, 0.0029731993563473225, 0.9930486083030701, 0.0029731993563473225, 0.8911237716674805, 0.09100335836410522, 0.01772792637348175, 0.49642083048820496, 0.0025837698485702276, 0.15233008563518524, 0.13334499299526215, 0.21535159647464752, 0.9997425675392151, 0.7275923490524292, 0.010582461953163147, 0.0887964740395546, 0.1728789508342743, 9.620419587008655e-05, 0.9992258548736572, 0.4212774634361267, 0.2772548496723175, 0.25522175431251526, 0.046198371797800064, 6.46131084067747e-05, 0.9983370304107666, 0.9986228942871094, 0.0013002902269363403, 0.9997052550315857, 0.9996570944786072, 0.9992178678512573, 0.028814027085900307, 0.21280720829963684, 0.7540249228477478, 0.00451304018497467, 0.5092630982398987, 0.21273905038833618, 0.05745592713356018, 0.22057926654815674, 0.9965029358863831, 0.9989984631538391, 0.00011736072337953374, 0.8360778093338013, 0.1638355702161789, 0.9993699789047241, 0.9971349835395813, 0.009358393959701061, 0.8573300242424011, 0.13329388201236725, 0.9982417225837708, 0.0017661025049164891, 0.0008830512524582446, 0.005298307165503502, 0.9854851961135864, 0.007947460748255253, 0.9758470058441162, 0.023984394967556, 0.17883628606796265, 0.238057479262352, 0.0002931742346845567, 0.580778181552887, 0.0017590454081073403, 0.059208933264017105, 0.4898456037044525, 0.4408899247646332, 0.00014441202802117914, 0.009964429773390293, 0.2038823366165161, 0.7548565864562988, 0.023285221308469772, 0.01803784817457199, 0.28138887882232666, 0.17187480628490448, 0.2743465006351471, 0.05725758150219917, 0.21514970064163208, 0.23955243825912476, 0.024410352110862732, 0.12743031978607178, 0.6086038947105408, 0.9991275072097778, 0.11371081322431564, 0.020345870405435562, 0.25070634484291077, 0.5070643424987793, 0.10828524827957153, 0.9987848997116089, 0.9983454942703247, 0.9977855682373047, 0.9976320266723633, 0.04714163765311241, 0.3146105110645294, 0.638209879398346, 0.0001997527142520994, 0.09411833435297012, 0.7254016399383545, 0.18031473457813263, 0.00014535650552716106, 0.9995834827423096, 0.9993504881858826, 0.007042926270514727, 0.0003062141768168658, 0.9906029105186462, 0.002143499441444874, 0.18790526688098907, 0.7150636315345764, 0.08615371584892273, 0.010845375247299671, 0.9997098445892334, 0.9998530149459839, 0.9992416501045227, 0.9992548823356628, 0.9991001486778259, 0.44987329840660095, 0.028305506333708763, 0.19160650670528412, 0.07788201421499252, 0.2522372305393219, 0.9997550845146179, 0.4863152503967285, 0.2956191301345825, 0.0018347192090004683, 0.2161528468132019, 0.9991964101791382, 0.9992097616195679, 0.000749273516703397, 0.9986096620559692, 0.9998899102210999, 0.7890713214874268, 0.21093660593032837, 0.6323080658912659, 0.03387364745140076, 0.08840508759021759, 0.17736618220806122, 0.0680466815829277, 0.3213237524032593, 0.6784306764602661, 0.999380886554718, 0.9973198175430298, 0.9997537136077881, 0.9986337423324585, 0.9991077780723572, 0.8706474304199219, 0.12925823032855988, 0.9991678595542908, 0.9990288615226746, 0.0004703525628428906, 0.0014265706995502114, 0.9971728920936584, 0.997838020324707, 0.9995274543762207, 0.9994115233421326, 0.013531964272260666, 0.986480176448822, 0.9992178082466125, 0.9990552067756653, 0.022125257179141045, 0.9776085615158081, 0.9968613982200623, 0.003040535841137171, 0.9708274006843567, 0.029033642262220383, 0.01334450114518404, 0.9863326549530029, 0.5179072022438049, 0.006108997389674187, 0.4761624038219452, 0.01268754992634058, 0.40577900409698486, 0.4160180687904358, 0.00011129429185530171, 0.16538332402706146, 0.1161297932267189, 0.0006496771238744259, 0.8780386447906494, 0.005034998059272766, 0.9994097352027893, 0.23547346889972687, 0.7644472122192383, 0.9995779991149902, 0.9511939287185669, 0.048725374042987823, 0.9611338973045349, 0.03882980719208717, 0.41104191541671753, 0.21483612060546875, 0.14199325442314148, 0.23203979432582855, 8.392035670112818e-05, 0.4002876281738281, 0.04148688167333603, 0.5582502484321594, 0.9995080232620239, 0.2790263593196869, 0.6401574015617371, 0.08080913871526718, 0.0717424750328064, 0.17602792382240295, 0.7518167495727539, 0.9989805817604065, 0.9210599660873413, 0.0789046436548233, 0.03557908535003662, 0.43727439641952515, 0.4458581805229187, 0.08086155354976654, 0.0004976095515303314, 0.9961984157562256, 0.0033485661260783672, 0.999369204044342, 0.6665621995925903, 0.32510435581207275, 0.0001483309461036697, 0.008195284754037857, 0.6677419543266296, 0.10835058242082596, 0.0759534016251564, 0.13750804960727692, 0.010367099195718765, 0.8261394500732422, 0.1552909016609192, 0.013085737824440002, 0.0036803637631237507, 0.0018401818815618753, 0.9993392825126648, 0.7331181168556213, 0.2182985097169876, 0.04777492582798004, 0.0008330414420925081, 0.9798386693000793, 0.019228138029575348, 0.0009102077456191182, 0.9994862079620361, 0.9850795269012451, 0.0053367153741419315, 0.009501956403255463, 0.9995042681694031, 0.4031379222869873, 0.14917856454849243, 0.34976908564567566, 0.01801833137869835, 0.07990074902772903, 0.9528101086616516, 0.04709707573056221, 0.9992275834083557, 0.9996184706687927, 0.9996390342712402, 0.0003444655449129641, 0.9991182684898376, 0.30982500314712524, 0.5139304995536804, 0.08132271468639374, 0.0949007049202919, 7.260956772370264e-05, 0.43965303897857666, 0.5600969195365906, 0.9997679591178894, 0.9992915391921997, 0.015289698727428913, 0.14381873607635498, 0.011467274278402328, 0.8294661641120911, 0.4272775650024414, 0.08386365324258804, 0.09357009828090668, 0.3954404294490814, 0.9979101419448853, 0.0017980362754315138, 0.1214078813791275, 0.8778266310691833, 0.6877461075782776, 0.03804381564259529, 0.27410367131233215, 0.9970977306365967, 0.2923693358898163, 0.006262703333050013, 0.08668899536132812, 0.6144041419029236, 0.9983507990837097, 0.9995615482330322, 0.9985150098800659, 0.978710412979126, 0.021004103124141693, 0.9981745481491089, 0.999052107334137, 0.00027560058515518904, 0.0005512011703103781, 0.7303154468536377, 0.001679285429418087, 0.10498429089784622, 0.10336291044950485, 0.059585679322481155, 0.9988493919372559, 0.9806303381919861, 0.018841423094272614, 0.9993624687194824, 0.9988178610801697, 0.4570498764514923, 0.36431699991226196, 0.17859184741973877, 0.9998718500137329, 0.06179020553827286, 0.1263388991355896, 0.8115481734275818, 0.9985198974609375, 0.9092186689376831, 0.09076254814863205, 0.9977445602416992, 0.0022784757893532515, 0.9969168901443481, 0.00030693254666402936, 0.0009207976399920881, 0.0018415952799841762, 0.9990655779838562, 0.07061164081096649, 0.4106702208518982, 0.5168092846870422, 0.0018465387402102351, 0.00029497695504687726, 0.00029497695504687726, 0.9160509705543518, 0.08347848057746887, 0.9995481371879578, 0.9664195775985718, 0.03359079360961914, 0.0008022830588743091, 0.9988424181938171, 0.997604489326477, 0.999914288520813, 0.7999827861785889, 0.19892297685146332, 0.000880190113093704, 0.000220047528273426, 0.002014489844441414, 0.9976760745048523, 0.998134434223175, 0.9999317526817322, 0.9555726647377014, 0.004047566559165716, 0.0390879288315773, 0.0012720923405140638, 0.8099827170372009, 0.15488466620445251, 0.02283029444515705, 0.012318504974246025, 0.2878479063510895, 0.0016329222125932574, 0.6721289157867432, 0.0383736714720726, 0.889677107334137, 0.11029957979917526, 0.9996015429496765, 0.9987468123435974, 0.008160720579326153, 0.990711510181427, 0.5067340135574341, 0.41420120000839233, 0.02487594448029995, 0.05419231951236725, 0.3314759135246277, 0.3553194999694824, 0.060025814920663834, 0.0011671686079353094, 0.2521084249019623, 0.8649709820747375, 0.1162252128124237, 0.0187492985278368, 0.9995121359825134, 0.9993996024131775, 0.0005515450029633939, 0.9990145564079285, 0.9999225735664368, 0.9997254610061646, 0.9994366765022278, 0.9991059303283691, 0.0008955771918408573, 0.7753957509994507, 0.17549699544906616, 0.0004156726354267448, 0.048633698374032974, 0.9988232254981995, 0.38450226187705994, 0.5583088397979736, 0.051912084221839905, 0.005239324644207954, 0.9986096620559692, 0.9501749277114868, 0.04921889305114746, 0.0005561456782743335, 0.2693980634212494, 0.36640724539756775, 0.3188331127166748, 0.04511992633342743, 0.00021575577557086945, 0.498471736907959, 0.17804552614688873, 0.26590731739997864, 0.05702657997608185, 0.0005572629743255675, 0.999275803565979, 0.9987481236457825, 0.999493420124054, 0.004842264577746391, 0.019369058310985565, 0.9757163524627686, 0.9972367286682129, 0.015375694260001183, 0.9840444326400757, 0.738603949546814, 0.23761695623397827, 0.01912764087319374, 0.004304654896259308, 0.00033688603434711695, 0.9991281628608704, 0.23513072729110718, 0.17622557282447815, 0.04629136249423027, 0.5423926711082458, 0.0009442214504815638, 0.9933209419250488, 0.0004721107252407819, 0.005665328819304705, 0.01002343650907278, 0.11493539810180664, 0.8740436434745789, 0.0006682290695607662, 0.000684262893628329, 0.24120266735553741, 0.7581632733345032, 0.9997067451477051, 0.6155938506126404, 0.37613341212272644, 0.008134259842336178, 0.00013049614790361375, 0.9982734322547913, 0.30551016330718994, 0.01492083165794611, 0.6790201663970947, 0.0004892076249234378, 0.2529478073120117, 0.6398397088050842, 0.0489710308611393, 0.0007262652507051826, 0.05758246034383774, 0.020377229899168015, 0.08107536286115646, 0.10318682342767715, 0.7951455116271973, 0.9996944665908813, 0.999708354473114, 0.9994155168533325, 0.24298769235610962, 0.7119072079658508, 0.04485926404595375, 0.9998052716255188, 0.9995020031929016, 0.9971257448196411, 0.999694287776947, 0.00018413967336528003, 0.9990050792694092, 0.9853289723396301, 0.014638597145676613, 0.35549694299697876, 0.4411351680755615, 0.025991765782237053, 0.17728248238563538, 0.2507275640964508, 0.0006145283114165068, 0.7491100430488586, 0.769631028175354, 0.23024490475654602, 8.708203677088022e-05, 0.9986733794212341, 0.9995694160461426, 0.9995257258415222, 0.999715268611908, 0.9992536902427673, 0.08380817621946335, 0.08839469403028488, 0.29270318150520325, 0.5353716611862183, 0.9996660947799683, 0.9644713997840881, 0.03473925590515137, 0.11503290385007858, 0.24415521323680878, 0.09645546972751617, 0.1087055429816246, 0.4356682598590851, 0.30288949608802795, 0.17650394141674042, 0.015495545230805874, 0.17698818445205688, 0.32831186056137085, 0.9993863701820374, 0.9046993851661682, 0.09519317001104355, 0.7138186693191528, 0.28594738245010376, 0.2108694314956665, 0.6603211164474487, 0.12873868644237518, 0.001897935289889574, 0.9964159727096558, 0.9998388886451721, 0.9993788599967957, 0.6530494689941406, 0.10926666855812073, 0.20889216661453247, 0.0021934951655566692, 0.026577001437544823, 0.9981973171234131, 0.9992230534553528, 0.9997061491012573, 0.0029355257283896208, 0.8906058669090271, 0.10535275191068649, 0.0009785086149349809, 0.005540491081774235, 0.0011080981930717826, 0.8532356023788452, 0.14017441868782043, 0.9987651705741882, 0.23601387441158295, 0.07015496492385864, 0.12146233022212982, 0.5721294283866882, 0.9988265633583069, 0.0007658376707695425, 0.9994181394577026, 0.990817129611969, 0.009511844255030155, 0.9995037913322449, 0.9994767308235168, 0.9999328851699829, 0.9512186050415039, 0.04848237708210945, 0.9960162043571472, 0.0031519499607384205, 0.9993834495544434, 0.9965938925743103, 0.003180377185344696, 0.00022716980311088264, 0.9989515542984009, 0.0008927181479521096, 0.9996849298477173, 0.0011151237413287163, 0.0005575618706643581, 0.998593270778656, 0.1562453657388687, 0.029269104823470116, 0.8044700026512146, 0.009899844415485859, 0.010090612806379795, 0.9888800382614136, 0.33659976720809937, 0.6593092679977417, 0.003995813895016909, 0.0034248863812536, 0.2757033407688141, 0.16239669919013977, 0.5582565069198608, 0.9992324709892273, 0.2074650228023529, 0.19842271506786346, 0.040233176201581955, 0.16570785641670227, 0.38810792565345764, 0.9435622692108154, 0.056365519762039185, 0.052865657955408096, 0.9458355903625488, 0.0011492534540593624, 0.0039721326902508736, 0.9890609979629517, 0.007149838842451572, 0.9988189339637756, 0.0006307666189968586, 0.0003153833094984293, 0.9820417761802673, 0.01756349764764309, 0.00030281892395578325, 0.9995170831680298, 0.9990226030349731, 0.0013127761194482446, 0.9977349042892456, 0.462894082069397, 0.1160648837685585, 0.3856085240840912, 0.013245051726698875, 0.022120602428913116, 0.9983167052268982, 0.3747761845588684, 0.17552976310253143, 0.44962573051452637, 0.49177086353302, 0.42186683416366577, 0.021634196862578392, 0.06466995924711227, 0.9994310140609741, 0.909923791885376, 0.08675961941480637, 0.0019239832181483507, 0.0014429873554036021, 0.33434927463531494, 0.66562819480896, 0.9993535876274109, 0.9853312969207764, 0.014552722685039043, 0.9318816661834717, 0.05469059944152832, 0.0018120378954336047, 0.011531149968504906, 0.9983553290367126, 0.9322265982627869, 0.03633866831660271, 0.0015529345255345106, 0.00046588038094341755, 0.02966105006635189, 0.7537128925323486, 0.2416524887084961, 0.004536821972578764, 6.671797018498182e-05, 0.7238515019416809, 0.27601495385169983, 0.00013929596752859652, 0.031375378370285034, 0.9678828716278076, 0.9988329410552979, 0.5728521347045898, 0.27377936244010925, 0.04911668971180916, 0.10343530029058456, 0.0007915967144072056, 0.06201009079813957, 0.9255335927009583, 0.012369033880531788, 0.3756129741668701, 0.12081533670425415, 0.18858519196510315, 0.09745455533266068, 0.2175619900226593, 0.9996691942214966, 0.00021081171871628612, 0.9897013306617737, 0.010208368301391602, 0.11596959829330444, 0.5209388732910156, 0.15503692626953125, 0.0023415752220898867, 0.2055656611919403, 0.001692875404842198, 0.029343172907829285, 0.9688889980316162, 0.566422700881958, 0.08617553114891052, 0.347356379032135, 0.4312901198863983, 0.27416616678237915, 0.12015622854232788, 0.1255834996700287, 0.04880095645785332, 0.2093084156513214, 0.018546314910054207, 0.7720565795898438, 0.9988988041877747, 0.9983036518096924, 0.1914067566394806, 0.7872687578201294, 0.021233389154076576, 0.000102083598903846, 0.9996657967567444, 0.06837596744298935, 0.8791994452476501, 0.05216694995760918, 0.0032932721078395844, 0.9965441823005676, 0.0006658418569713831, 0.9921044111251831, 0.007324260659515858, 0.9996402263641357, 2.139723983418662e-05, 0.5836310982704163, 0.1210227906703949, 0.19860917329788208, 0.09669412672519684, 0.0019360834266990423, 0.9970830082893372, 0.09428123384714127, 0.42412400245666504, 0.23697715997695923, 0.046432800590991974, 0.1982831507921219, 0.9970523715019226, 0.9972410202026367, 0.9999165534973145, 0.01647152192890644, 0.9828008413314819, 0.09883143752813339, 0.1356571614742279, 0.43697765469551086, 0.23532794415950775, 0.09327086061239243, 0.9998839497566223, 0.6471185088157654, 0.32880693674087524, 0.021061111241579056, 0.002958417171612382, 0.011747228913009167, 0.17676782608032227, 0.8111181855201721, 0.10994993150234222, 0.0073299952782690525, 0.16013219952583313, 0.7228503227233887, 0.3640938997268677, 0.5436521768569946, 0.04966619610786438, 0.04254809021949768, 0.6750954389572144, 0.10483891516923904, 0.1803293377161026, 0.03966445475816727, 0.9990062117576599, 0.166444793343544, 0.024078814312815666, 0.34211981296539307, 0.2902500331401825, 0.17717993259429932, 0.5910173058509827, 0.30255961418151855, 0.10199888050556183, 0.004397375043481588, 0.0022906633093953133, 0.9849852323532104, 0.011453316546976566, 0.9993247985839844, 0.8658154606819153, 0.11185546219348907, 0.022293685004115105, 0.999381959438324, 0.5314368605613708, 0.20418718457221985, 0.09467143565416336, 0.09778562933206558, 0.07193783670663834, 0.8614928126335144, 0.13023647665977478, 0.0055865515023469925, 0.0026768893003463745, 0.9996628165245056, 0.9999869465827942], \"Term\": [\"1776ny\", \"365\", \"5\", \"5\", \"5\", \"5\", \"5\", \"accelerator\", \"ad\", \"ad\", \"ad\", \"added\", \"added\", \"airport\", \"albert\", \"albert\", \"always\", \"always\", \"always\", \"always\", \"always\", \"amazing\", \"amazing\", \"amazing\", \"amazing\", \"amazing\", \"america\", \"america\", \"america\", \"american\", \"american\", \"american\", \"amp\", \"amp\", \"amp\", \"amp\", \"amp\", \"announce\", \"announcing\", \"appreciate\", \"ar\", \"arn\\u00e3\\u00b3\", \"artificial\", \"attend\", \"attend\", \"attend\", \"award\", \"award\", \"award\", \"awesome\", \"awesome\", \"awesome\", \"awesome\", \"awesome\", \"b2b\", \"back\", \"back\", \"back\", \"back\", \"back\", \"bear\", \"best\", \"best\", \"best\", \"best\", \"best\", \"bigsocietycap\", \"bike\", \"bike\", \"birthday\", \"bitcoin\", \"bj\", \"board\", \"board\", \"board\", \"board\", \"book\", \"book\", \"book\", \"book\", \"boomerang\", \"boost\", \"brand\", \"brand\", \"brand\", \"brexit\", \"bus\", \"business\", \"business\", \"business\", \"buzzcloud\", \"california\", \"california\", \"california\", \"california\", \"california\", \"cant\", \"cant\", \"car\", \"car\", \"car\", \"car\", \"car\", \"ceo\", \"ceo\", \"ceo\", \"ceo\", \"ceo\", \"change\", \"change\", \"change\", \"change\", \"check\", \"check\", \"check\", \"check\", \"check\", \"child\", \"child\", \"child\", \"child\", \"cisco\", \"city\", \"city\", \"city\", \"city\", \"city\", \"clinton\", \"cnc\", \"coast\", \"com\", \"community\", \"community\", \"community\", \"community\", \"company\", \"company\", \"company\", \"company\", \"completed\", \"con\", \"conference\", \"conference\", \"conference\", \"conference\", \"congrats\", \"congrats\", \"congrats\", \"congrats\", \"consumer\", \"content\", \"contentmarketing\", \"conversion\", \"cook\", \"cool\", \"cool\", \"cool\", \"cool\", \"cool\", \"cost\", \"could\", \"could\", \"could\", \"could\", \"crowdfunding\", \"customer\", \"customer\", \"cybele\", \"daily\", \"data\", \"data\", \"day\", \"day\", \"day\", \"day\", \"day\", \"de\", \"de\", \"demand\", \"democrat\", \"device\", \"di\", \"diabetes\", \"digital\", \"digital\", \"director\", \"dm\", \"dm\", \"donald\", \"donald\", \"dot\", \"dude\", \"e\", \"east\", \"east\", \"effective\", \"el\", \"election\", \"election\", \"else\", \"else\", \"employee\", \"employee\", \"en\", \"en\", \"enjoy\", \"enjoy\", \"enjoy\", \"entrepreneur\", \"entrepreneur\", \"entrepreneur\", \"entrepreneur\", \"entrepreneur\", \"event\", \"event\", \"event\", \"event\", \"evokad\", \"excited\", \"excited\", \"exclusive\", \"facebook\", \"facebook\", \"feel\", \"feel\", \"first\", \"first\", \"first\", \"first\", \"first\", \"follow\", \"follow\", \"follow\", \"follower\", \"forward\", \"forward\", \"forward\", \"founder\", \"founder\", \"founder\", \"foursquare\", \"francisco\", \"francisco\", \"future\", \"future\", \"future\", \"future\", \"future\", \"gate\", \"gate\", \"gently\", \"get\", \"get\", \"get\", \"get\", \"go\", \"go\", \"go\", \"go\", \"go\", \"going\", \"going\", \"going\", \"going\", \"going\", \"gonna\", \"good\", \"good\", \"good\", \"good\", \"google\", \"google\", \"google\", \"gop\", \"got\", \"got\", \"got\", \"gotta\", \"great\", \"great\", \"great\", \"great\", \"great\", \"guy\", \"guy\", \"haha\", \"hang\", \"happy\", \"happy\", \"haute\", \"help\", \"help\", \"help\", \"help\", \"help\", \"hi\", \"hi\", \"higher\", \"him\", \"history\", \"history\", \"history\", \"history\", \"home\", \"home\", \"home\", \"home\", \"homeless\", \"homeless\", \"honored\", \"honored\", \"hope\", \"hope\", \"hope\", \"hosted\", \"house\", \"house\", \"house\", \"house\", \"hrtech\", \"hunterwalk\", \"hurricane\", \"id\", \"id\", \"il\", \"ill\", \"ill\", \"ill\", \"im\", \"im\", \"im\", \"im\", \"im\", \"impinv\", \"improve\", \"improve\", \"increase\", \"infusionsoft\", \"innovation\", \"innovation\", \"innovation\", \"intelligence\", \"international\", \"international\", \"international\", \"island\", \"it\", \"it\", \"ive\", \"ive\", \"i\\u00e2\\u0080\\u0099m\", \"i\\u00e2\\u0080\\u0099m\", \"i\\u00e2\\u0080\\u0099m\", \"i\\u00e2\\u0080\\u0099m\", \"janlgordon\", \"job\", \"job\", \"job\", \"job\", \"join\", \"join\", \"join\", \"join\", \"justanswer\", \"key\", \"key\", \"keynote\", \"keynote\", \"kickstarter\", \"kind\", \"know\", \"know\", \"know\", \"know\", \"la\", \"la\", \"lake\", \"latest\", \"let\", \"let\", \"let\", \"let\", \"like\", \"like\", \"like\", \"like\", \"looking\", \"looking\", \"looking\", \"looking\", \"love\", \"love\", \"luck\", \"lucky\", \"lyft\", \"lyft\", \"make\", \"make\", \"make\", \"make\", \"making\", \"making\", \"making\", \"making\", \"making\", \"marketing\", \"marketing\", \"marketing\", \"mayor\", \"me\", \"me\", \"measure\", \"medium\", \"mfriedenberg\", \"mi\", \"mobile\", \"mobile\", \"much\", \"much\", \"much\", \"much\", \"mypov\", \"need\", \"need\", \"need\", \"need\", \"negris\", \"never\", \"never\", \"never\", \"new\", \"new\", \"new\", \"new\", \"new\", \"next\", \"next\", \"next\", \"next\", \"next\", \"ngmr\", \"nikeboycott\", \"nytimes\", \"obama\", \"obama\", \"obama\", \"oct\", \"officer\", \"officer\", \"one\", \"one\", \"one\", \"one\", \"one\", \"optimization\", \"out\", \"out\", \"out\", \"out\", \"panel\", \"panel\", \"panel\", \"panel\", \"park\", \"park\", \"park\", \"park\", \"partner\", \"partner\", \"partner\", \"partnership\", \"people\", \"people\", \"people\", \"people\", \"peopleprofitsplanet\", \"podcast\", \"podcast\", \"podcast\", \"podcast\", \"post\", \"post\", \"post\", \"post\", \"post\", \"president\", \"president\", \"president\", \"president\", \"privacy\", \"process\", \"productivity\", \"proud\", \"proud\", \"proud\", \"quality\", \"que\", \"queen\", \"quote\", \"quote\", \"quoteoftheday\", \"rate\", \"rate\", \"read\", \"read\", \"read\", \"read\", \"realdonaldtrump\", \"realdonaldtrump\", \"realdonaldtrump\", \"really\", \"really\", \"really\", \"republican\", \"result\", \"retweet\", \"revenue\", \"ride\", \"road\", \"road\", \"road\", \"road\", \"roi\", \"round\", \"round\", \"rt\", \"rt\", \"rt\", \"rt\", \"rt\", \"run\", \"run\", \"run\", \"run\", \"run\", \"runkeeper\", \"sale\", \"sale\", \"san\", \"san\", \"school\", \"school\", \"school\", \"se\", \"se\", \"search\", \"security\", \"see\", \"see\", \"see\", \"see\", \"see\", \"seed\", \"senate\", \"seo\", \"service\", \"service\", \"service\", \"service\", \"session\", \"session\", \"session\", \"session\", \"sexual\", \"sharing\", \"sharing\", \"sharing\", \"sharing\", \"si\", \"silicon\", \"silicon\", \"sky\", \"sky\", \"smartwomen\", \"snow\", \"social\", \"socialmedia\", \"socialmedia\", \"socinv\", \"socinv\", \"solve\", \"someone\", \"someone\", \"someone\", \"something\", \"something\", \"sorry\", \"speaker\", \"speaker\", \"speaker\", \"speaking\", \"speaking\", \"speaking\", \"speaking\", \"sportsbiz\", \"sportsbiz\", \"startup\", \"startup\", \"startup\", \"state\", \"state\", \"state\", \"state\", \"storm\", \"story\", \"story\", \"story\", \"story\", \"story\", \"strategy\", \"strategy\", \"street\", \"street\", \"street\", \"student\", \"student\", \"student\", \"study\", \"study\", \"study\", \"stuff\", \"stuff\", \"stuff\", \"summit\", \"sun\", \"sun\", \"sunset\", \"talk\", \"talk\", \"talk\", \"talk\", \"talk\", \"tanveernaseer\", \"team\", \"team\", \"team\", \"tech\", \"tech\", \"tech\", \"tech\", \"techstars\", \"thank\", \"thank\", \"thank\", \"thank\", \"thanks\", \"thanks\", \"thanksgiving\", \"that\", \"that\", \"thats\", \"thats\", \"thats\", \"thats\", \"then\", \"there\", \"there\", \"there\", \"there\", \"there\", \"thing\", \"thing\", \"thing\", \"thing\", \"think\", \"think\", \"think\", \"thrilled\", \"thrilled\", \"tiger\", \"time\", \"time\", \"time\", \"time\", \"time\", \"tip\", \"tip\", \"tip\", \"today\", \"today\", \"today\", \"today\", \"today\", \"too\", \"too\", \"tool\", \"tool\", \"top\", \"top\", \"top\", \"top\", \"top\", \"trump\", \"trump\", \"trump\", \"tweet\", \"tweet\", \"tweet\", \"u\", \"u\", \"u\", \"u\", \"u\", \"uber\", \"uber\", \"uber\", \"understanding\", \"university\", \"use\", \"use\", \"use\", \"use\", \"user\", \"using\", \"using\", \"using\", \"valley\", \"valley\", \"value\", \"value\", \"value\", \"venture\", \"via\", \"via\", \"via\", \"via\", \"via\", \"victim\", \"victim\", \"video\", \"video\", \"video\", \"video\", \"video\", \"violence\", \"virgin\", \"vote\", \"vp\", \"vp\", \"w\", \"w\", \"w\", \"w\", \"w\", \"wait\", \"want\", \"want\", \"want\", \"want\", \"war\", \"war\", \"war\", \"water\", \"water\", \"water\", \"water\", \"way\", \"way\", \"way\", \"way\", \"week\", \"week\", \"week\", \"week\", \"west\", \"woman\", \"woman\", \"woman\", \"woman\", \"woman\", \"work\", \"work\", \"work\", \"work\", \"workshop\", \"workshop\", \"workshop\", \"worn\", \"would\", \"would\", \"would\", \"yeah\", \"year\", \"year\", \"year\", \"year\", \"year\", \"yes\", \"yes\", \"yes\", \"yes\", \"york\", \"you\"]}, \"R\": 30, \"lambda.step\": 0.01, \"plot.opts\": {\"xlab\": \"PC1\", \"ylab\": \"PC2\"}, \"topic.order\": [4, 1, 5, 2, 3]};\n",
       "\n",
       "function LDAvis_load_lib(url, callback){\n",
       "  var s = document.createElement('script');\n",
       "  s.src = url;\n",
       "  s.async = true;\n",
       "  s.onreadystatechange = s.onload = callback;\n",
       "  s.onerror = function(){console.warn(\"failed to load library \" + url);};\n",
       "  document.getElementsByTagName(\"head\")[0].appendChild(s);\n",
       "}\n",
       "\n",
       "if(typeof(LDAvis) !== \"undefined\"){\n",
       "   // already loaded: just create the visualization\n",
       "   !function(LDAvis){\n",
       "       new LDAvis(\"#\" + \"ldavis_el1887220121148820167730376216\", ldavis_el1887220121148820167730376216_data);\n",
       "   }(LDAvis);\n",
       "}else if(typeof define === \"function\" && define.amd){\n",
       "   // require.js is available: use it to load d3/LDAvis\n",
       "   require.config({paths: {d3: \"https://cdnjs.cloudflare.com/ajax/libs/d3/3.5.5/d3.min\"}});\n",
       "   require([\"d3\"], function(d3){\n",
       "      window.d3 = d3;\n",
       "      LDAvis_load_lib(\"https://cdn.rawgit.com/bmabey/pyLDAvis/files/ldavis.v1.0.0.js\", function(){\n",
       "        new LDAvis(\"#\" + \"ldavis_el1887220121148820167730376216\", ldavis_el1887220121148820167730376216_data);\n",
       "      });\n",
       "    });\n",
       "}else{\n",
       "    // require.js not available: dynamically load d3 & LDAvis\n",
       "    LDAvis_load_lib(\"https://cdnjs.cloudflare.com/ajax/libs/d3/3.5.5/d3.min.js\", function(){\n",
       "         LDAvis_load_lib(\"https://cdn.rawgit.com/bmabey/pyLDAvis/files/ldavis.v1.0.0.js\", function(){\n",
       "                 new LDAvis(\"#\" + \"ldavis_el1887220121148820167730376216\", ldavis_el1887220121148820167730376216_data);\n",
       "            })\n",
       "         });\n",
       "}\n",
       "</script>"
      ],
      "text/plain": [
       "PreparedData(topic_coordinates=              x         y  topics  cluster       Freq\n",
       "topic                                                \n",
       "3     -0.119097 -0.108429       1        1  30.671623\n",
       "0     -0.168254  0.102815       2        1  29.655319\n",
       "4     -0.014610  0.142354       3        1  16.062822\n",
       "1      0.016099 -0.168867       4        1  13.971466\n",
       "2      0.285862  0.032127       5        1   9.638770, topic_info=       Category          Freq          Term         Total  loglift  logprob\n",
       "term                                                                       \n",
       "175     Default  40385.000000        thanks  40385.000000  30.0000  30.0000\n",
       "4579    Default  27183.000000            rt  27183.000000  29.0000  29.0000\n",
       "3856    Default  10556.000000        latest  10556.000000  28.0000  28.0000\n",
       "10487   Default   9445.000000         daily   9445.000000  27.0000  27.0000\n",
       "802     Default  17393.000000           you  17393.000000  26.0000  26.0000\n",
       "680     Default  16106.000000        social  16106.000000  25.0000  25.0000\n",
       "1135    Default  46735.000000           via  46735.000000  24.0000  24.0000\n",
       "504     Default  21976.000000          love  21976.000000  23.0000  23.0000\n",
       "676     Default  14177.000000        medium  14177.000000  22.0000  22.0000\n",
       "674     Default  19457.000000            it  19457.000000  21.0000  21.0000\n",
       "614     Default  19768.000000      business  19768.000000  20.0000  20.0000\n",
       "2479    Default  19574.000000     marketing  19574.000000  19.0000  19.0000\n",
       "170     Default  39348.000000         great  39348.000000  18.0000  18.0000\n",
       "1990    Default  16632.000000         thank  16632.000000  17.0000  17.0000\n",
       "1971    Default  32528.000000           amp  32528.000000  16.0000  16.0000\n",
       "193     Default  26966.000000           get  26966.000000  15.0000  15.0000\n",
       "118     Default  24353.000000          like  24353.000000  14.0000  14.0000\n",
       "174     Default  26715.000000           one  26715.000000  13.0000  13.0000\n",
       "75      Default  18177.000000          know  18177.000000  12.0000  12.0000\n",
       "45      Default  10511.000000       startup  10511.000000  11.0000  11.0000\n",
       "43      Default  11023.000000       looking  11023.000000  10.0000  10.0000\n",
       "347     Default  37078.000000           new  37078.000000   9.0000   9.0000\n",
       "955     Default  13538.000000           job  13538.000000   8.0000   8.0000\n",
       "246     Default   9342.000000      customer   9342.000000   7.0000   7.0000\n",
       "348     Default   8165.000000           out   8165.000000   6.0000   6.0000\n",
       "31      Default  22989.000000        people  22989.000000   5.0000   5.0000\n",
       "341     Default  24008.000000          good  24008.000000   4.0000   4.0000\n",
       "1010    Default   8709.000000         happy   8709.000000   3.0000   3.0000\n",
       "3595    Default   6780.000000          join   6780.000000   2.0000   2.0000\n",
       "807     Default  15137.000000          team  15137.000000   1.0000   1.0000\n",
       "...         ...           ...           ...           ...      ...      ...\n",
       "7813     Topic5    524.911621            se    526.888367   2.3356  -7.4211\n",
       "202679   Topic5    588.085205     sportsbiz    594.612061   2.3283  -7.3074\n",
       "175      Topic5  26882.148438        thanks  40385.910156   1.9324  -3.4851\n",
       "2355     Topic5   2806.059570            de   4136.015625   1.9514  -5.7448\n",
       "4579     Topic5  11842.759766            rt  27183.527344   1.5085  -4.3048\n",
       "348      Topic5   4428.567871           out   8165.670410   1.7275  -5.2885\n",
       "1825     Topic5   3215.839355        follow   5760.857422   1.7564  -5.6084\n",
       "4595     Topic5   2732.493164       sharing   4775.143066   1.7812  -5.7713\n",
       "47964    Topic5    929.833191        albert   1125.382935   2.1485  -6.8493\n",
       "479      Topic5   3820.136230         story   9842.623047   1.3929  -5.4363\n",
       "1219     Topic5   1702.110596            hi   3038.759766   1.7598  -6.2447\n",
       "1230     Topic5   4609.620117         today  21189.363281   0.8140  -5.2484\n",
       "226      Topic5   1962.735352         tweet   5651.256348   1.2818  -6.1022\n",
       "5233     Topic5   1283.570557          road   2398.333984   1.7142  -6.5269\n",
       "3106     Topic5   1402.747925         enjoy   2946.473633   1.5972  -6.4381\n",
       "1135     Topic5   4518.740234           via  46735.000000   0.0031  -5.2683\n",
       "897      Topic5   2038.732788          hope   7438.791504   1.0450  -6.0642\n",
       "12       Topic5   2107.874756         check   9797.829102   0.8029  -6.0309\n",
       "818      Topic5   2101.146240         video  10595.958008   0.7214  -6.0341\n",
       "2555     Topic5   1917.105713       awesome   8901.721680   0.8039  -6.1257\n",
       "170      Topic5   3143.915771         great  39348.816406  -0.1876  -5.6311\n",
       "212      Topic5   1668.377930           top   8114.195801   0.7576  -6.2647\n",
       "3649     Topic5   1765.659180         woman   9967.268555   0.6086  -6.2080\n",
       "101      Topic5   1512.032837        making   5997.419434   0.9615  -6.3631\n",
       "124      Topic5   1506.382202          cool   5970.569824   0.9622  -6.3668\n",
       "1493     Topic5   1355.661377           run   4130.219238   1.2253  -6.4722\n",
       "583      Topic5   1485.827148  entrepreneur   8985.186523   0.5398  -6.3806\n",
       "1007     Topic5   1591.495361           day  23381.007812  -0.3479  -6.3119\n",
       "1799     Topic5   1376.703613    innovation   7710.318359   0.6165  -6.4568\n",
       "50       Topic5   1386.363281          year  19266.634766  -0.2923  -6.4499\n",
       "\n",
       "[397 rows x 6 columns], token_table=        Topic      Freq         Term\n",
       "term                                \n",
       "958937      3  0.997190       1776ny\n",
       "46317       5  0.999503          365\n",
       "967         1  0.149853            5\n",
       "967         2  0.776236            5\n",
       "967         3  0.073573            5\n",
       "967         4  0.000339            5\n",
       "967         5  0.000113            5\n",
       "4412        3  0.999334  accelerator\n",
       "264         2  0.878767           ad\n",
       "264         4  0.057057           ad\n",
       "264         5  0.064011           ad\n",
       "5798        2  0.997256        added\n",
       "5798        4  0.002448        added\n",
       "3537        4  0.999803      airport\n",
       "47964       4  0.173274       albert\n",
       "47964       5  0.826385       albert\n",
       "546         1  0.895028       always\n",
       "546         2  0.099914       always\n",
       "546         3  0.002101       always\n",
       "546         4  0.000131       always\n",
       "546         5  0.002757       always\n",
       "1002        1  0.459903      amazing\n",
       "1002        2  0.000114      amazing\n",
       "1002        3  0.377646      amazing\n",
       "1002        4  0.038325      amazing\n",
       "1002        5  0.124014      amazing\n",
       "1837        2  0.006035      america\n",
       "1837        3  0.000377      america\n",
       "1837        4  0.993572      america\n",
       "7697        1  0.017234     american\n",
       "...       ...       ...          ...\n",
       "49          4  0.039664         week\n",
       "2103        4  0.999006         west\n",
       "3649        1  0.166445        woman\n",
       "3649        2  0.024079        woman\n",
       "3649        3  0.342120        woman\n",
       "3649        4  0.290250        woman\n",
       "3649        5  0.177180        woman\n",
       "800         1  0.591017         work\n",
       "800         2  0.302560         work\n",
       "800         3  0.101999         work\n",
       "800         4  0.004397         work\n",
       "20465       2  0.002291     workshop\n",
       "20465       3  0.984985     workshop\n",
       "20465       5  0.011453     workshop\n",
       "4399        1  0.999325         worn\n",
       "263         1  0.865815        would\n",
       "263         2  0.111855        would\n",
       "263         4  0.022294        would\n",
       "456         1  0.999382         yeah\n",
       "50          1  0.531437         year\n",
       "50          2  0.204187         year\n",
       "50          3  0.094671         year\n",
       "50          4  0.097786         year\n",
       "50          5  0.071938         year\n",
       "801         1  0.861493          yes\n",
       "801         2  0.130236          yes\n",
       "801         4  0.005587          yes\n",
       "801         5  0.002677          yes\n",
       "15276       3  0.999663         york\n",
       "802         1  0.999987          you\n",
       "\n",
       "[793 rows x 3 columns], R=30, lambda_step=0.01, plot_opts={'xlab': 'PC1', 'ylab': 'PC2'}, topic_order=[4, 1, 5, 2, 3])"
      ]
     },
     "execution_count": 37,
     "metadata": {},
     "output_type": "execute_result"
    }
   ],
   "source": [
    "# Plotting tools\n",
    "\n",
    "import pyLDAvis\n",
    "import pyLDAvis.gensim  # don't skip this\n",
    "import matplotlib.pyplot as plt\n",
    "%matplotlib inline\n",
    "\n",
    "pyLDAvis.enable_notebook()\n",
    "vis = pyLDAvis.gensim.prepare(ldamodel, corpus, dictionary)\n",
    "vis"
   ]
  },
  {
   "cell_type": "code",
   "execution_count": null,
   "metadata": {},
   "outputs": [],
   "source": []
  }
 ],
 "metadata": {
  "kernelspec": {
   "display_name": "Python 3",
   "language": "python",
   "name": "python3"
  },
  "language_info": {
   "codemirror_mode": {
    "name": "ipython",
    "version": 3
   },
   "file_extension": ".py",
   "mimetype": "text/x-python",
   "name": "python",
   "nbconvert_exporter": "python",
   "pygments_lexer": "ipython3",
   "version": "3.6.5"
  }
 },
 "nbformat": 4,
 "nbformat_minor": 1
}
