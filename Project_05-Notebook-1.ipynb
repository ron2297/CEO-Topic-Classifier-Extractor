{
 "cells": [
  {
   "cell_type": "code",
   "execution_count": 1,
   "metadata": {
    "scrolled": true
   },
   "outputs": [
    {
     "name": "stdout",
     "output_type": "stream",
     "text": [
      "https://api.twitter.com/oauth/authorize?oauth_token=UpCvwAAAAAAA88_JAAABZznaON8\n"
     ]
    }
   ],
   "source": [
    "from requests_oauthlib import OAuth1Session\n",
    "client_key = \"boHCzXNKhhgJnBFfPoHRxWKx2\"\n",
    "client_secret = \"xrMsqTeOIjiy2vZvAA9L23cLjcNF7wieIWUjD2hm3r0Aw9ekfj\"\n",
    "\n",
    "request_token_url = 'https://api.twitter.com/oauth/request_token'\n",
    "oauth = OAuth1Session(client_key, client_secret = client_secret)\n",
    "fetch_response = oauth.fetch_request_token(request_token_url)\n",
    "resource_owner_key = fetch_response.get(\"oauth_token\")\n",
    "resource_owner_secret = fetch_response.get(\"oauth_token_secret\")\n",
    "\n",
    "base_authorization_url = 'https://api.twitter.com/oauth/authorize'\n",
    "authorization_url = oauth.authorization_url(base_authorization_url)\n",
    "print(authorization_url)"
   ]
  },
  {
   "cell_type": "code",
   "execution_count": 2,
   "metadata": {
    "collapsed": true
   },
   "outputs": [],
   "source": [
    "redirect_response = authorization_url\n",
    "oauth_response = oauth.parse_authorization_response(redirect_response)\n",
    "verifier = '2574291'\n",
    "access_token_url = 'https://api.twitter.com/oauth/access_token'\n",
    "oauth = OAuth1Session(client_key, \n",
    "                      client_secret = client_secret, \n",
    "                      resource_owner_key = resource_owner_key,\n",
    "                     resource_owner_secret = resource_owner_secret,\n",
    "                     verifier = verifier)\n"
   ]
  },
  {
   "cell_type": "code",
   "execution_count": 3,
   "metadata": {
    "collapsed": true
   },
   "outputs": [],
   "source": [
    "oauth_tokens = oauth.fetch_access_token(access_token_url)"
   ]
  },
  {
   "cell_type": "code",
   "execution_count": 4,
   "metadata": {
    "collapsed": true,
    "scrolled": false
   },
   "outputs": [],
   "source": [
    "oauth_token = oauth_tokens['oauth_token']\n",
    "oauth_token_secret =  oauth_tokens['oauth_token_secret']\n",
    "resource_owner_key = oauth_token\n",
    "resource_owner_secret = oauth_token_secret\n",
    "\n",
    "protected_url = 'https://api.twitter.com/1.1/statuses/home_timeline.json'"
   ]
  },
  {
   "cell_type": "code",
   "execution_count": 5,
   "metadata": {},
   "outputs": [
    {
     "name": "stdout",
     "output_type": "stream",
     "text": [
      "1141040220-PjBrvGd5fnz0hMaeXXAso2kkVzmoDppRVTt4t0w\n",
      "ABjTah7wNo8iV5riyRsMpNOY3p00wKliD92uRMx1zs5bL\n"
     ]
    }
   ],
   "source": [
    "print(resource_owner_key)\n",
    "print(resource_owner_secret)"
   ]
  },
  {
   "cell_type": "code",
   "execution_count": 6,
   "metadata": {
    "collapsed": true,
    "scrolled": false
   },
   "outputs": [],
   "source": [
    "oauth = OAuth1Session(client_key,\n",
    "                          client_secret=client_secret,\n",
    "                          resource_owner_key=resource_owner_key,\n",
    "                          resource_owner_secret=resource_owner_secret)\n",
    "r = oauth.get(protected_url, verify = True)\n",
    "\n"
   ]
  },
  {
   "cell_type": "code",
   "execution_count": null,
   "metadata": {
    "collapsed": true
   },
   "outputs": [],
   "source": []
  }
 ],
 "metadata": {
  "kernelspec": {
   "display_name": "Python 3",
   "language": "python",
   "name": "python3"
  },
  "language_info": {
   "codemirror_mode": {
    "name": "ipython",
    "version": 3
   },
   "file_extension": ".py",
   "mimetype": "text/x-python",
   "name": "python",
   "nbconvert_exporter": "python",
   "pygments_lexer": "ipython3",
   "version": "3.6.1"
  }
 },
 "nbformat": 4,
 "nbformat_minor": 2
}
