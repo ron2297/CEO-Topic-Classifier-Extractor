{
 "cells": [
  {
   "cell_type": "markdown",
   "metadata": {},
   "source": [
    "# **Analytical Comparison Between CEO Concerns**\n",
    "\n",
    "\n",
    "> ## _Author: Ronald Washington III_ "
   ]
  },
  {
   "cell_type": "markdown",
   "metadata": {},
   "source": [
    "> > Our society is currently run by some of the worlds largest and smartest technology\n",
    "companies. Where each of these companies have a vision and impact on the world due to the\n",
    "views of their CEO. But how do the views between these CEOs differ? What are the topics that\n",
    "these CEOs are constantly concerned with and are expressing their opinions? Within this study\n",
    "we shall collect tweets from selected CEOs, determine if we are able to identify the tweet’s\n",
    "originator correctly, and extract the topic of each tweet to have a collection of concerns that each\n",
    "CEO has. From there the analysis can be furthered by calculating the distance between the issues\n",
    "that the CEOs talk about and have an understanding of how closely related their concerns are.\n",
    "\n",
    "> > Conducting our analysis through the assistance of an classification algorithm will aid in\n",
    "our research concerning the topics that CEOs primarily tweet about. The specific algorithm that\n",
    "will be performed in this research will be Support Vector Machines, which is known to be useful\n",
    "in the classification of images, bioinformatics, and text categorization. Support Vector Machines\n",
    "(SVMs) are going to be useful determining which CEOs a tweet belong to, and we will be\n",
    "utilizing Latent Dirichlet Allocation to extract prominent topics among the classified tweets.\n",
    "Through the usage of both these techniques, we strive to accomplish our goal of classifying\n",
    "tweets and finding the common topics discussed among CEOs. By the end of this research we\n",
    "shall attempt to distinguish the difference between topics of CEOs, the similarities/differences,\n",
    "and the number of times a specific topic is tweeted.\n"
   ]
  },
  {
   "cell_type": "markdown",
   "metadata": {},
   "source": [
    "### Imported Libraries "
   ]
  },
  {
   "cell_type": "code",
   "execution_count": 1,
   "metadata": {},
   "outputs": [
    {
     "data": {
      "text/plain": [
       "<module 'keys' from 'C:\\\\Users\\\\Ron\\\\Desktop\\\\CS401\\\\Final_Project\\\\CEO_Classifier_Extractor\\\\keys.py'>"
      ]
     },
     "execution_count": 1,
     "metadata": {},
     "output_type": "execute_result"
    }
   ],
   "source": [
    "import keys as k\n",
    "import pandas as pd\n",
    "import webbrowser\n",
    "import requests\n",
    "import bs4\n",
    "import importlib\n",
    "import tweepy\n",
    "import json \n",
    "from requests_oauthlib import OAuth1Session\n",
    "importlib.reload(k)"
   ]
  },
  {
   "cell_type": "markdown",
   "metadata": {},
   "source": [
    "### Preparing/Gathering Authorization for Twitter Access"
   ]
  },
  {
   "cell_type": "code",
   "execution_count": 2,
   "metadata": {
    "collapsed": true
   },
   "outputs": [],
   "source": [
    "twitter = k.twitter\n",
    "client_key = twitter[\"client_key\"]\n",
    "client_secret = twitter[\"client_secret\"]\n",
    "resource_owner_key = twitter['resource_owner_key']\n",
    "resource_owner_secret = twitter['resource_owner_secret']\n",
    "protected_url = 'https://api.twitter.com/1.1/statuses/user_timeline.json?screen_name=jlist'\n",
    "\n",
    "session = OAuth1Session(client_key,\n",
    "                        client_secret=client_secret,\n",
    "                        resource_owner_key=resource_owner_key,\n",
    "                        resource_owner_secret= resource_owner_secret)\n",
    "\n",
    "consumer_key = twitter[\"client_key\"]\n",
    "consumer_secret = twitter[\"client_secret\"]\n",
    "access_token = twitter['resource_owner_key']\n",
    "access_token_secret =  twitter['resource_owner_secret']\n",
    "auth = tweepy.OAuthHandler(consumer_key, consumer_secret)\n",
    "auth.set_access_token(access_token, access_token_secret)\n",
    "api = tweepy.API(auth)"
   ]
  },
  {
   "cell_type": "markdown",
   "metadata": {},
   "source": [
    "# Developing a list of CEOs"
   ]
  },
  {
   "cell_type": "markdown",
   "metadata": {},
   "source": [
    "> Within this study we will be utlizing a list of CEOs provided by Valeria Maltoni (@ConversationAge), who created a member group/list of CEOs who use Twitter. \n",
    "- https://twitter.com/ConversationAge/lists/ceos/members?lang=en"
   ]
  },
  {
   "cell_type": "code",
   "execution_count": 3,
   "metadata": {
    "collapsed": true
   },
   "outputs": [],
   "source": [
    "\n",
    "group_name = 'ceos'\n",
    "owner = 'ConversationAge'\n",
    "\n",
    "\n",
    "def get_list_members(api, owner, group_name):\n",
    "    members = []\n",
    "    # without this you only get the first 20 list members\n",
    "    for page in tweepy.Cursor(api.list_members, owner, group_name).items():\n",
    "        members.append(page)\n",
    "    # create a list containing all usernames\n",
    "    return [ m.screen_name for m in members ]"
   ]
  },
  {
   "cell_type": "code",
   "execution_count": 5,
   "metadata": {},
   "outputs": [
    {
     "data": {
      "text/plain": [
       "902"
      ]
     },
     "execution_count": 5,
     "metadata": {},
     "output_type": "execute_result"
    }
   ],
   "source": [
    "len(get_list_members(api,owner,group_name))"
   ]
  },
  {
   "cell_type": "code",
   "execution_count": 7,
   "metadata": {},
   "outputs": [
    {
     "data": {
      "text/html": [
       "<div>\n",
       "<style>\n",
       "    .dataframe thead tr:only-child th {\n",
       "        text-align: right;\n",
       "    }\n",
       "\n",
       "    .dataframe thead th {\n",
       "        text-align: left;\n",
       "    }\n",
       "\n",
       "    .dataframe tbody tr th {\n",
       "        vertical-align: top;\n",
       "    }\n",
       "</style>\n",
       "<table border=\"1\" class=\"dataframe\">\n",
       "  <thead>\n",
       "    <tr style=\"text-align: right;\">\n",
       "      <th></th>\n",
       "      <th>CEO_Twitter_Accounts</th>\n",
       "    </tr>\n",
       "  </thead>\n",
       "  <tbody>\n",
       "    <tr>\n",
       "      <th>0</th>\n",
       "      <td>timothyldaniel</td>\n",
       "    </tr>\n",
       "    <tr>\n",
       "      <th>1</th>\n",
       "      <td>AmitKBouri</td>\n",
       "    </tr>\n",
       "    <tr>\n",
       "      <th>2</th>\n",
       "      <td>MohnishPabrai</td>\n",
       "    </tr>\n",
       "    <tr>\n",
       "      <th>3</th>\n",
       "      <td>BrettHickeySMC</td>\n",
       "    </tr>\n",
       "    <tr>\n",
       "      <th>4</th>\n",
       "      <td>DianneCalvi</td>\n",
       "    </tr>\n",
       "  </tbody>\n",
       "</table>\n",
       "</div>"
      ],
      "text/plain": [
       "  CEO_Twitter_Accounts\n",
       "0       timothyldaniel\n",
       "1           AmitKBouri\n",
       "2        MohnishPabrai\n",
       "3       BrettHickeySMC\n",
       "4          DianneCalvi"
      ]
     },
     "execution_count": 7,
     "metadata": {},
     "output_type": "execute_result"
    }
   ],
   "source": [
    "CEO_list = pd.DataFrame()\n",
    "CEO_list['CEO_Twitter_Accounts'] = get_list_members(api,owner,group_name)\n",
    "CEO_list.head(5)"
   ]
  },
  {
   "cell_type": "markdown",
   "metadata": {},
   "source": [
    "# Gathering Tweets"
   ]
  },
  {
   "cell_type": "code",
   "execution_count": 20,
   "metadata": {},
   "outputs": [
    {
     "data": {
      "text/html": [
       "<div>\n",
       "<style>\n",
       "    .dataframe thead tr:only-child th {\n",
       "        text-align: right;\n",
       "    }\n",
       "\n",
       "    .dataframe thead th {\n",
       "        text-align: left;\n",
       "    }\n",
       "\n",
       "    .dataframe tbody tr th {\n",
       "        vertical-align: top;\n",
       "    }\n",
       "</style>\n",
       "<table border=\"1\" class=\"dataframe\">\n",
       "  <thead>\n",
       "    <tr style=\"text-align: right;\">\n",
       "      <th></th>\n",
       "      <th>tweet</th>\n",
       "      <th>name</th>\n",
       "    </tr>\n",
       "  </thead>\n",
       "  <tbody>\n",
       "    <tr>\n",
       "      <th>0</th>\n",
       "      <td>RT @adamsaperia: Thanks for joining us today M...</td>\n",
       "      <td>Miles S. Nadal</td>\n",
       "    </tr>\n",
       "    <tr>\n",
       "      <th>1</th>\n",
       "      <td>Billionaire Drahi Takes it Down to the Wire at...</td>\n",
       "      <td>Miles S. Nadal</td>\n",
       "    </tr>\n",
       "    <tr>\n",
       "      <th>2</th>\n",
       "      <td>https://t.co/n4txlz1rem</td>\n",
       "      <td>Miles S. Nadal</td>\n",
       "    </tr>\n",
       "    <tr>\n",
       "      <th>3</th>\n",
       "      <td>Toronto real estate market sputters toward hol...</td>\n",
       "      <td>Miles S. Nadal</td>\n",
       "    </tr>\n",
       "    <tr>\n",
       "      <th>4</th>\n",
       "      <td>Why Prem Watsa sees value in Stelco https://t....</td>\n",
       "      <td>Miles S. Nadal</td>\n",
       "    </tr>\n",
       "  </tbody>\n",
       "</table>\n",
       "</div>"
      ],
      "text/plain": [
       "                                               tweet            name\n",
       "0  RT @adamsaperia: Thanks for joining us today M...  Miles S. Nadal\n",
       "1  Billionaire Drahi Takes it Down to the Wire at...  Miles S. Nadal\n",
       "2                            https://t.co/n4txlz1rem  Miles S. Nadal\n",
       "3  Toronto real estate market sputters toward hol...  Miles S. Nadal\n",
       "4  Why Prem Watsa sees value in Stelco https://t....  Miles S. Nadal"
      ]
     },
     "execution_count": 20,
     "metadata": {},
     "output_type": "execute_result"
    }
   ],
   "source": [
    "import tweepy\n",
    "import json\n",
    "def tweetCollector(dataframe):\n",
    "    \"\"\"\n",
    "    Creates a CSV for every CEO's tweets \n",
    "    \"\"\"\n",
    "    list_tweets = []\n",
    "    results = []\n",
    "    for i in dataframe:\n",
    "        #print(i)\n",
    "        for status in tweepy.Cursor(api.user_timeline, screen_name='@'+i).items():\n",
    "\n",
    "            list_tweets.append(status._json['text'])\n",
    "            results.append(status._json['user']['name'])\n",
    "            DataSet = pd.DataFrame()\n",
    "\n",
    "            DataSet['tweet'] = [tweet for tweet in list_tweets]\n",
    "            DataSet['name'] = [tweet for tweet in results]\n",
    "\n",
    "            DataSet.to_csv(i+\"_TWEETS.csv\")\n",
    "\n",
    "    return DataSet \n",
    "tweetCollector(CEO_list['CEO_Twitter_Accounts']).head()"
   ]
  },
  {
   "cell_type": "markdown",
   "metadata": {
    "collapsed": true
   },
   "source": [
    "- Figure out how to get all the tweets for each CEO\n",
    "- Put all tweets together into a large corpus (Each CEO gets ~3200 tweets and here are 902 Tweets so 288k tweets roughly)\n",
    "- Perform Support Vector Machine Algorithm to classify which tweet belongs to which CEO"
   ]
  },
  {
   "cell_type": "code",
   "execution_count": null,
   "metadata": {
    "collapsed": true
   },
   "outputs": [],
   "source": []
  }
 ],
 "metadata": {
  "kernelspec": {
   "display_name": "Python 3",
   "language": "python",
   "name": "python3"
  },
  "language_info": {
   "codemirror_mode": {
    "name": "ipython",
    "version": 3
   },
   "file_extension": ".py",
   "mimetype": "text/x-python",
   "name": "python",
   "nbconvert_exporter": "python",
   "pygments_lexer": "ipython3",
   "version": "3.6.1"
  }
 },
 "nbformat": 4,
 "nbformat_minor": 2
}
