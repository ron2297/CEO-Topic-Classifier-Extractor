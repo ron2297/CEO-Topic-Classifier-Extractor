{
 "cells": [
  {
   "cell_type": "code",
   "execution_count": 7,
   "metadata": {
    "scrolled": true
   },
   "outputs": [
    {
     "name": "stdout",
     "output_type": "stream",
     "text": [
      "https://api.twitter.com/oauth/authorize?oauth_token=b7Se-AAAAAAA8_ygAAABZ3Uso1M\n"
     ]
    }
   ],
   "source": [
    "from requests_oauthlib import OAuth1Session\n",
    "client_key = \"6pXEDZILkOfYeHPifDuPmX0Sh\"\n",
    "client_secret = \"AlSuAnHK6onywEOxbGlVIPWvu5kCPf0VMMj1kV9j1ujFmWCidc\"\n",
    " \n",
    "request_token_url = 'https://api.twitter.com/oauth/request_token'\n",
    "oauth = OAuth1Session(client_key, client_secret = client_secret)\n",
    "fetch_response = oauth.fetch_request_token(request_token_url)\n",
    "resource_owner_key = fetch_response.get(\"oauth_token\")\n",
    "resource_owner_secret = fetch_response.get(\"oauth_token_secret\")\n",
    "\n",
    "base_authorization_url = 'https://api.twitter.com/oauth/authorize'\n",
    "authorization_url = oauth.authorization_url(base_authorization_url)\n",
    "print(authorization_url)"
   ]
  },
  {
   "cell_type": "code",
   "execution_count": 8,
   "metadata": {},
   "outputs": [],
   "source": [
    "redirect_response = authorization_url\n",
    "oauth_response = oauth.parse_authorization_response(redirect_response)\n",
    "verifier = '2441451'\n",
    "access_token_url = 'https://api.twitter.com/oauth/access_token'\n",
    "oauth = OAuth1Session(client_key, \n",
    "                      client_secret = client_secret, \n",
    "                      resource_owner_key = resource_owner_key,\n",
    "                     resource_owner_secret = resource_owner_secret,\n",
    "                     verifier = verifier)\n"
   ]
  },
  {
   "cell_type": "code",
   "execution_count": 9,
   "metadata": {},
   "outputs": [],
   "source": [
    "oauth_tokens = oauth.fetch_access_token(access_token_url)"
   ]
  },
  {
   "cell_type": "code",
   "execution_count": 10,
   "metadata": {
    "scrolled": false
   },
   "outputs": [],
   "source": [
    "oauth_token = oauth_tokens['oauth_token']\n",
    "oauth_token_secret =  oauth_tokens['oauth_token_secret']\n",
    "resource_owner_key = oauth_token\n",
    "resource_owner_secret = oauth_token_secret\n",
    "\n",
    "protected_url = 'https://api.twitter.com/1.1/statuses/home_timeline.json'"
   ]
  },
  {
   "cell_type": "code",
   "execution_count": 11,
   "metadata": {},
   "outputs": [
    {
     "name": "stdout",
     "output_type": "stream",
     "text": [
      "1141040220-MgwKzQJ0h0sAGCAup2YWApTiXoUHMKkSeT4Fy7f\n",
      "ISPLdi83HyQHt5ctK2z5zZQyT0oJJUO06UH3HK6ifVNUE\n"
     ]
    }
   ],
   "source": [
    "print(resource_owner_key)\n",
    "print(resource_owner_secret)"
   ]
  },
  {
   "cell_type": "code",
   "execution_count": 12,
   "metadata": {
    "scrolled": false
   },
   "outputs": [],
   "source": [
    "oauth = OAuth1Session(client_key,\n",
    "                          client_secret=client_secret,\n",
    "                          resource_owner_key=resource_owner_key,\n",
    "                          resource_owner_secret=resource_owner_secret)\n",
    "r = oauth.get(protected_url, verify = True)\n",
    "\n"
   ]
  },
  {
   "cell_type": "code",
   "execution_count": null,
   "metadata": {
    "collapsed": true
   },
   "outputs": [],
   "source": []
  }
 ],
 "metadata": {
  "kernelspec": {
   "display_name": "Python 3",
   "language": "python",
   "name": "python3"
  },
  "language_info": {
   "codemirror_mode": {
    "name": "ipython",
    "version": 3
   },
   "file_extension": ".py",
   "mimetype": "text/x-python",
   "name": "python",
   "nbconvert_exporter": "python",
   "pygments_lexer": "ipython3",
   "version": "3.6.5"
  }
 },
 "nbformat": 4,
 "nbformat_minor": 2
}
