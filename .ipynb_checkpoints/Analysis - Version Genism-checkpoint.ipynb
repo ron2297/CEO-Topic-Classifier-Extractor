{
 "cells": [
  {
   "cell_type": "code",
   "execution_count": 1,
   "metadata": {},
   "outputs": [],
   "source": [
    "import pandas as pd"
   ]
  },
  {
   "cell_type": "code",
   "execution_count": 2,
   "metadata": {},
   "outputs": [],
   "source": [
    "df = pd.DataFrame()"
   ]
  },
  {
   "cell_type": "markdown",
   "metadata": {},
   "source": [
    "# Combining the 13 CSVs of CEO Tweets"
   ]
  },
  {
   "cell_type": "code",
   "execution_count": 3,
   "metadata": {},
   "outputs": [],
   "source": [
    "import glob, os   \n",
    "path =r'C:/Users/Bloody Dachi/Documents/CS_401/Final_Project/Collected_Tweets_Grouped_By_50' # use your path\n",
    "allFiles = glob.glob(path + \"/*.csv\")\n",
    "\n",
    "list_ = []\n",
    "\n",
    "for file_ in allFiles: \n",
    "    df = pd.read_csv(file_,index_col=None, encoding = \"latin1\",lineterminator='\\n')\n",
    "    list_.append(df)\n",
    "frame = pd.concat(list_, axis = 0, ignore_index = True)"
   ]
  },
  {
   "cell_type": "code",
   "execution_count": 4,
   "metadata": {},
   "outputs": [
    {
     "data": {
      "text/html": [
       "<div>\n",
       "<style scoped>\n",
       "    .dataframe tbody tr th:only-of-type {\n",
       "        vertical-align: middle;\n",
       "    }\n",
       "\n",
       "    .dataframe tbody tr th {\n",
       "        vertical-align: top;\n",
       "    }\n",
       "\n",
       "    .dataframe thead th {\n",
       "        text-align: right;\n",
       "    }\n",
       "</style>\n",
       "<table border=\"1\" class=\"dataframe\">\n",
       "  <thead>\n",
       "    <tr style=\"text-align: right;\">\n",
       "      <th></th>\n",
       "      <th>Unnamed: 0</th>\n",
       "      <th>Tweet</th>\n",
       "      <th>CEO_Full_Name</th>\n",
       "      <th>CEO_User_Name</th>\n",
       "    </tr>\n",
       "  </thead>\n",
       "  <tbody>\n",
       "    <tr>\n",
       "      <th>0</th>\n",
       "      <td>0</td>\n",
       "      <td>The #HardTrend of the new tax law #TCJA is an ...</td>\n",
       "      <td>Tom Hood</td>\n",
       "      <td>tomhood\\r</td>\n",
       "    </tr>\n",
       "    <tr>\n",
       "      <th>1</th>\n",
       "      <td>1</td>\n",
       "      <td>Today is the day! Don't miss the #FreeCPE sess...</td>\n",
       "      <td>Tom Hood</td>\n",
       "      <td>tomhood\\r</td>\n",
       "    </tr>\n",
       "    <tr>\n",
       "      <th>2</th>\n",
       "      <td>2</td>\n",
       "      <td>Looking forward to another great #DCPA18 in Ma...</td>\n",
       "      <td>Tom Hood</td>\n",
       "      <td>tomhood\\r</td>\n",
       "    </tr>\n",
       "    <tr>\n",
       "      <th>3</th>\n",
       "      <td>3</td>\n",
       "      <td>\"data analytics and artificial intelligence ar...</td>\n",
       "      <td>Tom Hood</td>\n",
       "      <td>tomhood\\r</td>\n",
       "    </tr>\n",
       "    <tr>\n",
       "      <th>4</th>\n",
       "      <td>4</td>\n",
       "      <td>Join me and IMA CEO @IMA_JeffThomson in a conv...</td>\n",
       "      <td>Tom Hood</td>\n",
       "      <td>tomhood\\r</td>\n",
       "    </tr>\n",
       "  </tbody>\n",
       "</table>\n",
       "</div>"
      ],
      "text/plain": [
       "   Unnamed: 0                                              Tweet  \\\n",
       "0           0  The #HardTrend of the new tax law #TCJA is an ...   \n",
       "1           1  Today is the day! Don't miss the #FreeCPE sess...   \n",
       "2           2  Looking forward to another great #DCPA18 in Ma...   \n",
       "3           3  \"data analytics and artificial intelligence ar...   \n",
       "4           4  Join me and IMA CEO @IMA_JeffThomson in a conv...   \n",
       "\n",
       "  CEO_Full_Name CEO_User_Name\\r  \n",
       "0      Tom Hood       tomhood\\r  \n",
       "1      Tom Hood       tomhood\\r  \n",
       "2      Tom Hood       tomhood\\r  \n",
       "3      Tom Hood       tomhood\\r  \n",
       "4      Tom Hood       tomhood\\r  "
      ]
     },
     "execution_count": 4,
     "metadata": {},
     "output_type": "execute_result"
    }
   ],
   "source": [
    "frame.head()"
   ]
  },
  {
   "cell_type": "code",
   "execution_count": 5,
   "metadata": {},
   "outputs": [
    {
     "data": {
      "text/plain": [
       "901608"
      ]
     },
     "execution_count": 5,
     "metadata": {},
     "output_type": "execute_result"
    }
   ],
   "source": [
    "len(frame)"
   ]
  },
  {
   "cell_type": "markdown",
   "metadata": {},
   "source": [
    "## Creating Multi-Index to reference Tweets of specific CEOs"
   ]
  },
  {
   "cell_type": "code",
   "execution_count": 6,
   "metadata": {},
   "outputs": [],
   "source": [
    "arrays = [frame[\"CEO_Full_Name\"]]\n",
    "index = pd.MultiIndex.from_arrays(arrays, names=['CEO_Names'])"
   ]
  },
  {
   "cell_type": "code",
   "execution_count": 7,
   "metadata": {},
   "outputs": [
    {
     "data": {
      "text/html": [
       "<div>\n",
       "<style scoped>\n",
       "    .dataframe tbody tr th:only-of-type {\n",
       "        vertical-align: middle;\n",
       "    }\n",
       "\n",
       "    .dataframe tbody tr th {\n",
       "        vertical-align: top;\n",
       "    }\n",
       "\n",
       "    .dataframe thead th {\n",
       "        text-align: right;\n",
       "    }\n",
       "</style>\n",
       "<table border=\"1\" class=\"dataframe\">\n",
       "  <thead>\n",
       "    <tr style=\"text-align: right;\">\n",
       "      <th></th>\n",
       "      <th>Tweets</th>\n",
       "    </tr>\n",
       "    <tr>\n",
       "      <th>CEO_Names</th>\n",
       "      <th></th>\n",
       "    </tr>\n",
       "  </thead>\n",
       "  <tbody>\n",
       "    <tr>\n",
       "      <th>Tom Hood</th>\n",
       "      <td>The #HardTrend of the new tax law #TCJA is an ...</td>\n",
       "    </tr>\n",
       "    <tr>\n",
       "      <th>Tom Hood</th>\n",
       "      <td>Today is the day! Don't miss the #FreeCPE sess...</td>\n",
       "    </tr>\n",
       "    <tr>\n",
       "      <th>Tom Hood</th>\n",
       "      <td>Looking forward to another great #DCPA18 in Ma...</td>\n",
       "    </tr>\n",
       "    <tr>\n",
       "      <th>Tom Hood</th>\n",
       "      <td>\"data analytics and artificial intelligence ar...</td>\n",
       "    </tr>\n",
       "    <tr>\n",
       "      <th>Tom Hood</th>\n",
       "      <td>Join me and IMA CEO @IMA_JeffThomson in a conv...</td>\n",
       "    </tr>\n",
       "  </tbody>\n",
       "</table>\n",
       "</div>"
      ],
      "text/plain": [
       "                                                      Tweets\n",
       "CEO_Names                                                   \n",
       "Tom Hood   The #HardTrend of the new tax law #TCJA is an ...\n",
       "Tom Hood   Today is the day! Don't miss the #FreeCPE sess...\n",
       "Tom Hood   Looking forward to another great #DCPA18 in Ma...\n",
       "Tom Hood   \"data analytics and artificial intelligence ar...\n",
       "Tom Hood   Join me and IMA CEO @IMA_JeffThomson in a conv..."
      ]
     },
     "execution_count": 7,
     "metadata": {},
     "output_type": "execute_result"
    }
   ],
   "source": [
    "df_new = pd.DataFrame(list(frame[\"Tweet\"]), index=index, columns = [\"Tweets\"])\n",
    "(df_new).head()"
   ]
  },
  {
   "cell_type": "code",
   "execution_count": 203,
   "metadata": {},
   "outputs": [
    {
     "data": {
      "text/plain": [
       "array(['The #HardTrend of the new tax law #TCJA is an opportunity review your pricing and value to clients. What is it worth to help them navigate the complexity and constant changing tax laws? #Tax https://t.co/z6qeorrx0R',\n",
       "       \"Today is the day! Don't miss the #FreeCPE session on Management Accounting in the Digital Age - Relevance Gained today 1:00pm - 2:30pm (eastern) IMA-MACPA-BLI #FutureReady https://t.co/VHLh8OlOIR\",\n",
       "       'Looking forward to another great #DCPA18 in Maryland!!!! #innovation #inspiration #technology https://t.co/RBJgiP83xs',\n",
       "       ...,\n",
       "       'â\\x80\\x98Nobody knows anythingâ\\x80\\x99 - William Goldman think Blair Witch. Works in innovation and business same way @mbrandolph #dcpa17',\n",
       "       'RT @JoeyHavensCPA: #DCPA17 @mbrandolph the disruptor coming after you, doesnâ\\x80\\x99t look like you, is willing to do things you donâ\\x80\\x99t want to do. Avoid disruption by disrupting yourself. #beEvenBetter',\n",
       "       'To innovate 1) You need a tolerance for risk 2) You need an idea @mbrandolph #dcpa17'],\n",
       "      dtype=object)"
      ]
     },
     "execution_count": 203,
     "metadata": {},
     "output_type": "execute_result"
    }
   ],
   "source": [
    "df_new.loc['Tom Hood']['Tweets'].values#.head()\n",
    "#Add[\"Tweets\"] in order to access the tweets of "
   ]
  },
  {
   "cell_type": "markdown",
   "metadata": {},
   "source": [
    "# Cleaning Tweets"
   ]
  },
  {
   "cell_type": "code",
   "execution_count": 162,
   "metadata": {},
   "outputs": [
    {
     "name": "stdout",
     "output_type": "stream",
     "text": [
      "[['nbcnews', 'this', 'is', 'completely', 'backwards', 'based', 'on', 'what', 'we', 've', 'learned', 'from', 'the', 'hawthorne', 'test', 'tunnel', 'we', 're', 'moving', 'forward', 'with', 'a', 'much', 'larger', 'tunnel', 'network', 'under', 'la', 'won', 't', 'need', 'a', 'second', 'test', 'tunnel', 'under', 'sepulveda'], ['you', 'can', 'summon', 'your', 'tesla', 'from', 'your', 'phone', 'only', 'short', 'distances', 'today', 'but', 'in', 'a', 'few', 'years', 'summon', 'will', 'work', 'from', 'across', 'the', 'continent', 'https', 't', 'co', 'xcj67ajz8h']]\n"
     ]
    }
   ],
   "source": [
    "from nltk.tokenize import RegexpTokenizer\n",
    "tokenizer = RegexpTokenizer(r'\\w+')\n",
    "token_words = []\n",
    "for i in df_new.loc['Elon Musk']['Tweets'].values:\n",
    "    raw = i.lower()\n",
    "    tokens = tokenizer.tokenize(raw)\n",
    "    token_words.append(tokens)\n",
    "print(token_words[0:2])"
   ]
  },
  {
   "cell_type": "markdown",
   "metadata": {},
   "source": [
    "## Lemmzatizing and Stemming of Words"
   ]
  },
  {
   "cell_type": "code",
   "execution_count": 204,
   "metadata": {},
   "outputs": [],
   "source": [
    "from nltk.corpus import stopwords \n",
    "from nltk.stem.wordnet import WordNetLemmatizer\n",
    "import string\n",
    "stop = set(stopwords.words('english'))\n",
    "exclude_punc = set(string.punctuation) \n",
    "lemma = WordNetLemmatizer()\n",
    "from nltk.stem.porter import PorterStemmer\n",
    "\n",
    "# Create p_stemmer of class PorterStemmer\n",
    "p_stemmer = PorterStemmer()\n",
    "def simplify_word(doc):\n",
    "    stop_words = \" \".join([i for i in doc.lower().split() if i not in stop])\n",
    "    texts = [p_stemmer.stem(i) for i in stop_words]\n",
    "    punc_remove = ''.join(ch for ch in texts if ch not in exclude_punc)\n",
    "    normalized_words = \" \".join(lemma.lemmatize(word) for word in punc_remove.split())\n",
    "    return normalized_words\n",
    "\n",
    "doc_clean = [simplify_word(doc).split() for doc in df_new.loc['Elon Musk']['Tweets'].values]"
   ]
  },
  {
   "cell_type": "code",
   "execution_count": 205,
   "metadata": {
    "scrolled": true
   },
   "outputs": [
    {
     "name": "stdout",
     "output_type": "stream",
     "text": [
      "[['nbcnews', 'completely', 'backwards', 'based', 'we\\x92ve', 'learned', 'hawthorne', 'test', 'tunnel', 'we\\x92re', 'moving', 'forward', 'much', 'larger', 'tunnel', 'network', 'la', 'won\\x92t', 'need', 'second', 'test', 'tunnel', 'sepulveda'], ['summon', 'tesla', 'phone', 'short', 'distance', 'today', 'year', 'summon', 'work', 'across', 'continent', 'httpstcoxcj67ajz8h'], ['cool', 'actually', 'buy', 'tesla', 'without', 'test', 'drive', '3', 'day', 'return', 'it', 'buy', 'test', 'drive', 'still', '24', 'hour', 'trying', 'incent', 'buying', 'test', 'drive', 'httpstcoo2dd5bgxrz']]\n"
     ]
    }
   ],
   "source": [
    "print(doc_clean[0:3])"
   ]
  },
  {
   "cell_type": "code",
   "execution_count": 168,
   "metadata": {},
   "outputs": [
    {
     "data": {
      "text/plain": [
       "1791"
      ]
     },
     "execution_count": 168,
     "metadata": {},
     "output_type": "execute_result"
    }
   ],
   "source": [
    "len(doc_clean)"
   ]
  },
  {
   "cell_type": "markdown",
   "metadata": {},
   "source": [
    "## Creating document-term matrix"
   ]
  },
  {
   "cell_type": "code",
   "execution_count": 210,
   "metadata": {
    "scrolled": true
   },
   "outputs": [
    {
     "name": "stdout",
     "output_type": "stream",
     "text": [
      "Dictionary(5946 unique tokens: ['backwards', 'based', 'completely', 'forward', 'hawthorne']...)\n",
      "[(0, 1), (1, 1), (2, 1), (3, 1), (4, 1), (5, 1), (6, 1), (7, 1), (8, 1), (9, 1), (10, 1), (11, 1), (12, 1), (13, 1), (14, 1), (15, 2), (16, 3), (17, 1), (18, 1), (19, 1)]\n"
     ]
    }
   ],
   "source": [
    "from gensim import corpora, models\n",
    "\n",
    "dictionary = corpora.Dictionary(doc_clean)\n",
    "\n",
    "print(dictionary)\n",
    "corpus = [dictionary.doc2bow(text) for text in doc_clean] \n",
    "#creating bag of words making tuple of word identifier and word frequency in data\n",
    "print(corpus[0])"
   ]
  },
  {
   "cell_type": "code",
   "execution_count": 191,
   "metadata": {},
   "outputs": [],
   "source": [
    "import gensim\n",
    "from gensim import corpora, models\n",
    "Lda = gensim.models.ldamodel.LdaModel\n",
    "ldamodel = Lda(corpus, num_topics=5, id2word = dictionary, passes=50)"
   ]
  },
  {
   "cell_type": "code",
   "execution_count": 192,
   "metadata": {
    "scrolled": true
   },
   "outputs": [
    {
     "name": "stdout",
     "output_type": "stream",
     "text": [
      "[(0, '0.014*\"amp\" + 0.008*\"love\"'), (1, '0.026*\"amp\" + 0.023*\"tesla\"'), (2, '0.021*\"tesla\" + 0.018*\"amp\"'), (3, '0.019*\"amp\" + 0.009*\"tesla\"'), (4, '0.010*\"tesla\" + 0.010*\"amp\"')]\n"
     ]
    }
   ],
   "source": [
    "print(ldamodel.print_topics(num_topics=5, num_words=2))"
   ]
  },
  {
   "cell_type": "code",
   "execution_count": 195,
   "metadata": {},
   "outputs": [
    {
     "name": "stdout",
     "output_type": "stream",
     "text": [
      "Topic: 0 Word: 0.014*\"amp\" + 0.008*\"love\" + 0.008*\"like\" + 0.007*\"tesla\" + 0.005*\"people\" + 0.005*\"good\" + 0.005*\"model\" + 0.004*\"car\" + 0.003*\"make\" + 0.003*\"know\"\n",
      "Topic: 1 Word: 0.026*\"amp\" + 0.023*\"tesla\" + 0.010*\"car\" + 0.008*\"3\" + 0.007*\"model\" + 0.005*\"week\" + 0.005*\"year\" + 0.004*\"spacex\" + 0.004*\"dmcryan\" + 0.004*\"yes\"\n",
      "Topic: 2 Word: 0.021*\"tesla\" + 0.018*\"amp\" + 0.005*\"good\" + 0.004*\"dont\" + 0.004*\"car\" + 0.004*\"production\" + 0.003*\"next\" + 0.003*\"time\" + 0.003*\"3\" + 0.003*\"fredericlambert\"\n",
      "Topic: 3 Word: 0.019*\"amp\" + 0.009*\"tesla\" + 0.005*\"good\" + 0.005*\"ok\" + 0.005*\"its\" + 0.005*\"would\" + 0.005*\"need\" + 0.004*\"people\" + 0.004*\"car\" + 0.004*\"work\"\n",
      "Topic: 4 Word: 0.010*\"tesla\" + 0.010*\"amp\" + 0.008*\"yes\" + 0.007*\"great\" + 0.005*\"its\" + 0.004*\"car\" + 0.004*\"medium\" + 0.004*\"fredericlambert\" + 0.004*\"sure\" + 0.003*\"think\"\n"
     ]
    }
   ],
   "source": [
    "for idx, topic in ldamodel.print_topics(-1):\n",
    "    print('Topic: {} Word: {}'.format(idx, topic))"
   ]
  },
  {
   "cell_type": "code",
   "execution_count": 213,
   "metadata": {},
   "outputs": [
    {
     "name": "stderr",
     "output_type": "stream",
     "text": [
      "C:\\Users\\Bloody Dachi\\Anaconda3\\lib\\site-packages\\pyLDAvis\\_prepare.py:257: FutureWarning: Sorting because non-concatenation axis is not aligned. A future version\n",
      "of pandas will change to not sort by default.\n",
      "\n",
      "To accept the future behavior, pass 'sort=True'.\n",
      "\n",
      "To retain the current behavior and silence the warning, pass sort=False\n",
      "\n",
      "  return pd.concat([default_term_info] + list(topic_dfs))\n"
     ]
    },
    {
     "data": {
      "text/html": [
       "\n",
       "<link rel=\"stylesheet\" type=\"text/css\" href=\"https://cdn.rawgit.com/bmabey/pyLDAvis/files/ldavis.v1.0.0.css\">\n",
       "\n",
       "\n",
       "<div id=\"ldavis_el154322516572690016794160268\"></div>\n",
       "<script type=\"text/javascript\">\n",
       "\n",
       "var ldavis_el154322516572690016794160268_data = {\"mdsDat\": {\"x\": [0.116502247450095, 0.017480839442306034, -0.020519774042674695, -0.024351205794571555, -0.08911210705515482], \"y\": [0.03468636710673488, 0.023067868269717358, -0.10494952305705876, -0.036938250541197044, 0.08413353822180358], \"topics\": [1, 2, 3, 4, 5], \"cluster\": [1, 1, 1, 1, 1], \"Freq\": [28.152206420898438, 19.912073135375977, 18.745725631713867, 17.447891235351562, 15.742100715637207]}, \"tinfo\": {\"Category\": [\"Default\", \"Default\", \"Default\", \"Default\", \"Default\", \"Default\", \"Default\", \"Default\", \"Default\", \"Default\", \"Default\", \"Default\", \"Default\", \"Default\", \"Default\", \"Default\", \"Default\", \"Default\", \"Default\", \"Default\", \"Default\", \"Default\", \"Default\", \"Default\", \"Default\", \"Default\", \"Default\", \"Default\", \"Default\", \"Default\", \"Topic1\", \"Topic1\", \"Topic1\", \"Topic1\", \"Topic1\", \"Topic1\", \"Topic1\", \"Topic1\", \"Topic1\", \"Topic1\", \"Topic1\", \"Topic1\", \"Topic1\", \"Topic1\", \"Topic1\", \"Topic1\", \"Topic1\", \"Topic1\", \"Topic1\", \"Topic1\", \"Topic1\", \"Topic1\", \"Topic1\", \"Topic1\", \"Topic1\", \"Topic1\", \"Topic1\", \"Topic1\", \"Topic1\", \"Topic1\", \"Topic1\", \"Topic1\", \"Topic1\", \"Topic1\", \"Topic1\", \"Topic1\", \"Topic1\", \"Topic1\", \"Topic1\", \"Topic1\", \"Topic1\", \"Topic1\", \"Topic1\", \"Topic1\", \"Topic1\", \"Topic1\", \"Topic1\", \"Topic1\", \"Topic1\", \"Topic1\", \"Topic1\", \"Topic1\", \"Topic1\", \"Topic1\", \"Topic1\", \"Topic1\", \"Topic1\", \"Topic1\", \"Topic1\", \"Topic1\", \"Topic1\", \"Topic1\", \"Topic1\", \"Topic1\", \"Topic1\", \"Topic1\", \"Topic1\", \"Topic2\", \"Topic2\", \"Topic2\", \"Topic2\", \"Topic2\", \"Topic2\", \"Topic2\", \"Topic2\", \"Topic2\", \"Topic2\", \"Topic2\", \"Topic2\", \"Topic2\", \"Topic2\", \"Topic2\", \"Topic2\", \"Topic2\", \"Topic2\", \"Topic2\", \"Topic2\", \"Topic2\", \"Topic2\", \"Topic2\", \"Topic2\", \"Topic2\", \"Topic2\", \"Topic2\", \"Topic2\", \"Topic2\", \"Topic2\", \"Topic2\", \"Topic2\", \"Topic2\", \"Topic2\", \"Topic2\", \"Topic2\", \"Topic2\", \"Topic2\", \"Topic2\", \"Topic2\", \"Topic2\", \"Topic2\", \"Topic2\", \"Topic2\", \"Topic2\", \"Topic2\", \"Topic2\", \"Topic2\", \"Topic2\", \"Topic2\", \"Topic2\", \"Topic2\", \"Topic2\", \"Topic2\", \"Topic2\", \"Topic2\", \"Topic2\", \"Topic2\", \"Topic2\", \"Topic2\", \"Topic2\", \"Topic2\", \"Topic2\", \"Topic2\", \"Topic2\", \"Topic2\", \"Topic2\", \"Topic2\", \"Topic2\", \"Topic2\", \"Topic2\", \"Topic3\", \"Topic3\", \"Topic3\", \"Topic3\", \"Topic3\", \"Topic3\", \"Topic3\", \"Topic3\", \"Topic3\", \"Topic3\", \"Topic3\", \"Topic3\", \"Topic3\", \"Topic3\", \"Topic3\", \"Topic3\", \"Topic3\", \"Topic3\", \"Topic3\", \"Topic3\", \"Topic3\", \"Topic3\", \"Topic3\", \"Topic3\", \"Topic3\", \"Topic3\", \"Topic3\", \"Topic3\", \"Topic3\", \"Topic3\", \"Topic3\", \"Topic3\", \"Topic3\", \"Topic3\", \"Topic3\", \"Topic3\", \"Topic3\", \"Topic3\", \"Topic3\", \"Topic3\", \"Topic3\", \"Topic3\", \"Topic3\", \"Topic3\", \"Topic3\", \"Topic3\", \"Topic3\", \"Topic3\", \"Topic3\", \"Topic3\", \"Topic3\", \"Topic3\", \"Topic3\", \"Topic3\", \"Topic3\", \"Topic3\", \"Topic3\", \"Topic3\", \"Topic3\", \"Topic3\", \"Topic3\", \"Topic3\", \"Topic3\", \"Topic3\", \"Topic3\", \"Topic3\", \"Topic3\", \"Topic3\", \"Topic3\", \"Topic3\", \"Topic4\", \"Topic4\", \"Topic4\", \"Topic4\", \"Topic4\", \"Topic4\", \"Topic4\", \"Topic4\", \"Topic4\", \"Topic4\", \"Topic4\", \"Topic4\", \"Topic4\", \"Topic4\", \"Topic4\", \"Topic4\", \"Topic4\", \"Topic4\", \"Topic4\", \"Topic4\", \"Topic4\", \"Topic4\", \"Topic4\", \"Topic4\", \"Topic4\", \"Topic4\", \"Topic4\", \"Topic4\", \"Topic4\", \"Topic4\", \"Topic4\", \"Topic4\", \"Topic4\", \"Topic4\", \"Topic4\", \"Topic4\", \"Topic4\", \"Topic4\", \"Topic4\", \"Topic4\", \"Topic4\", \"Topic4\", \"Topic4\", \"Topic4\", \"Topic4\", \"Topic4\", \"Topic4\", \"Topic4\", \"Topic4\", \"Topic4\", \"Topic4\", \"Topic4\", \"Topic4\", \"Topic4\", \"Topic4\", \"Topic4\", \"Topic4\", \"Topic4\", \"Topic4\", \"Topic4\", \"Topic4\", \"Topic4\", \"Topic4\", \"Topic4\", \"Topic4\", \"Topic4\", \"Topic4\", \"Topic4\", \"Topic4\", \"Topic5\", \"Topic5\", \"Topic5\", \"Topic5\", \"Topic5\", \"Topic5\", \"Topic5\", \"Topic5\", \"Topic5\", \"Topic5\", \"Topic5\", \"Topic5\", \"Topic5\", \"Topic5\", \"Topic5\", \"Topic5\", \"Topic5\", \"Topic5\", \"Topic5\", \"Topic5\", \"Topic5\", \"Topic5\", \"Topic5\", \"Topic5\", \"Topic5\", \"Topic5\", \"Topic5\", \"Topic5\", \"Topic5\", \"Topic5\", \"Topic5\", \"Topic5\", \"Topic5\", \"Topic5\", \"Topic5\", \"Topic5\", \"Topic5\", \"Topic5\", \"Topic5\", \"Topic5\", \"Topic5\", \"Topic5\", \"Topic5\", \"Topic5\", \"Topic5\", \"Topic5\", \"Topic5\", \"Topic5\", \"Topic5\", \"Topic5\", \"Topic5\", \"Topic5\", \"Topic5\", \"Topic5\", \"Topic5\", \"Topic5\", \"Topic5\", \"Topic5\", \"Topic5\", \"Topic5\", \"Topic5\", \"Topic5\", \"Topic5\", \"Topic5\", \"Topic5\", \"Topic5\", \"Topic5\", \"Topic5\"], \"Freq\": [62.0, 36.0, 17.0, 42.0, 28.0, 21.0, 37.0, 60.0, 18.0, 46.0, 23.0, 285.0, 16.0, 26.0, 14.0, 73.0, 27.0, 65.0, 24.0, 14.0, 18.0, 8.0, 8.0, 8.0, 26.0, 18.0, 47.0, 8.0, 33.0, 12.0, 21.107032775878906, 7.445556163787842, 6.637720108032227, 26.43815803527832, 5.8271403312683105, 5.825281620025635, 11.497725486755371, 5.019061088562012, 4.208260536193848, 4.2077507972717285, 4.206923961639404, 4.196393013000488, 3.4000697135925293, 3.400033473968506, 3.399937391281128, 3.3995578289031982, 3.399442434310913, 3.3993186950683594, 3.3984718322753906, 3.3973917961120605, 3.393260955810547, 10.686457633972168, 20.05461883544922, 11.351313591003418, 3.935373306274414, 2.5905306339263916, 2.5905306339263916, 2.5905306339263916, 2.590529203414917, 2.5905280113220215, 5.817759990692139, 21.4042911529541, 8.813066482543945, 8.045591354370117, 7.452048301696777, 11.492630004882812, 12.975770950317383, 10.083857536315918, 41.90739440917969, 8.123096466064453, 8.117907524108887, 10.346755027770996, 121.09046936035156, 13.320465087890625, 139.94229125976562, 51.227779388427734, 35.25703048706055, 26.242568969726562, 21.348180770874023, 18.188241958618164, 14.514728546142578, 22.236385345458984, 12.563868522644043, 11.495710372924805, 12.703144073486328, 14.663800239562988, 14.317038536071777, 21.400959014892578, 14.617475509643555, 15.174444198608398, 12.357871055603027, 12.358047485351562, 14.213897705078125, 13.528827667236328, 12.984944343566895, 12.605977058410645, 12.673577308654785, 6.247383117675781, 3.960463047027588, 3.200186014175415, 3.1996214389801025, 3.1994974613189697, 3.1986687183380127, 3.1980230808258057, 2.438239097595215, 2.4382386207580566, 2.4382381439208984, 2.438236713409424, 2.4382364749908447, 2.4382216930389404, 2.437882661819458, 2.4375905990600586, 2.4375410079956055, 2.4372782707214355, 2.43727707862854, 2.436397075653076, 2.436079740524292, 2.435122489929199, 2.433798313140869, 2.4333670139312744, 2.4232330322265625, 4.728694438934326, 3.962843894958496, 3.963266372680664, 4.545488357543945, 1.6762889623641968, 1.676288366317749, 3.9271576404571533, 5.188817977905273, 8.595377922058105, 7.777214050292969, 7.651488780975342, 77.95549774169922, 8.375365257263184, 6.265454292297363, 6.812719821929932, 4.724871635437012, 5.985351085662842, 13.858338356018066, 5.9875969886779785, 68.01184844970703, 16.32639503479004, 20.430532455444336, 3.9662840366363525, 3.9641432762145996, 3.199831962585449, 6.126633644104004, 12.55069351196289, 12.145116806030273, 9.984593391418457, 11.643769264221191, 7.696224212646484, 6.786900043487549, 10.152359008789062, 8.579056739807129, 5.415990352630615, 8.766477584838867, 13.911706924438477, 11.833580017089844, 6.834249496459961, 7.346724033355713, 9.500783920288086, 9.45666217803955, 7.9026408195495605, 7.61077356338501, 8.292187690734863, 6.8291215896606445, 6.950796127319336, 7.613199710845947, 7.6131978034973145, 7.6131978034973145, 5.367315292358398, 3.8818092346191406, 3.88179349899292, 3.8814585208892822, 3.880953311920166, 7.6173624992370605, 3.1353037357330322, 3.1353023052215576, 3.13529372215271, 3.1342835426330566, 3.1333186626434326, 3.133368730545044, 3.133364677429199, 3.1326417922973633, 3.126542806625366, 6.122081279754639, 2.3888044357299805, 2.388803482055664, 2.388803005218506, 2.3887972831726074, 2.3887922763824463, 2.3884546756744385, 2.3878355026245117, 2.387260675430298, 2.387017250061035, 2.385988712310791, 2.385197401046753, 7.491032600402832, 4.627226829528809, 6.872997283935547, 13.221479415893555, 6.685727596282959, 4.5704498291015625, 5.939389705657959, 24.953420639038086, 3.892775774002075, 8.241616249084473, 29.843843460083008, 13.431748390197754, 10.866439819335938, 10.76247787475586, 6.884376525878906, 8.027216911315918, 8.005993843078613, 10.38221263885498, 8.771490097045898, 12.109140396118164, 17.36786651611328, 13.307430267333984, 10.189471244812012, 35.96195983886719, 9.728055000305176, 8.593344688415527, 35.18391418457031, 8.503662109375, 11.544515609741211, 9.542293548583984, 9.314043998718262, 11.067705154418945, 13.957945823669434, 11.481049537658691, 10.335756301879883, 8.550387382507324, 9.809093475341797, 8.475316047668457, 8.886038780212402, 8.27288818359375, 16.491811752319336, 4.605679035186768, 5.746678829193115, 3.119657516479492, 3.1176748275756836, 3.1176748275756836, 3.117675304412842, 3.1176748275756836, 3.1173617839813232, 6.0907511711120605, 2.3776583671569824, 2.3776583671569824, 2.377657651901245, 2.377657413482666, 2.3776559829711914, 2.3776533603668213, 2.377652883529663, 2.377236843109131, 2.376579761505127, 2.3762524127960205, 2.3744356632232666, 2.373973846435547, 5.179693698883057, 6.844213008880615, 5.068626403808594, 2.22568678855896, 1.6346405744552612, 1.6346396207809448, 1.6346393823623657, 1.6346391439437866, 1.6346391439437866, 3.121272087097168, 4.607694149017334, 10.018808364868164, 8.401006698608398, 10.296626091003418, 12.581235885620117, 15.161500930786133, 7.370461463928223, 4.616736888885498, 7.312622547149658, 3.8670103549957275, 62.75535202026367, 15.627803802490234, 6.70402717590332, 3.827787399291992, 7.452596664428711, 6.3050312995910645, 14.049050331115723, 15.902813911437988, 16.632457733154297, 12.670076370239258, 8.055436134338379, 11.202545166015625, 11.090076446533203, 30.166086196899414, 11.955147743225098, 6.791593074798584, 6.422675609588623, 13.291730880737305, 9.858294486999512, 10.5728120803833, 10.530356407165527, 8.812458038330078, 9.04139232635498, 7.607087135314941, 7.509030818939209, 7.580366134643555, 7.091004848480225, 5.213823318481445, 5.213820457458496, 5.213814735412598, 5.213813304901123, 5.213811874389648, 5.213810443878174, 5.213810920715332, 4.4874396324157715, 4.480156421661377, 3.0426266193389893, 3.0392751693725586, 3.0392749309539795, 2.31820011138916, 2.318189859390259, 2.318086862564087, 2.318086862564087, 2.318086862564087, 2.318086862564087, 2.318086862564087, 2.318086862564087, 2.3178629875183105, 2.317035436630249, 2.31608510017395, 2.3159570693969727, 2.3152620792388916, 2.3150217533111572, 1.5937633514404297, 1.5937628746032715, 1.5937628746032715, 1.5937628746032715, 5.221423625946045, 5.22017240524292, 1.5937626361846924, 5.567388534545898, 22.909639358520508, 5.942212104797363, 22.563032150268555, 15.71131420135498, 3.0413923263549805, 4.500163555145264, 5.217763423919678, 3.0442099571228027, 5.632753372192383, 41.49755859375, 6.20133113861084, 3.4891316890716553, 9.465836524963379, 13.580587387084961, 8.7649507522583, 13.549330711364746, 8.254389762878418, 10.224894523620605, 8.75772762298584, 20.528743743896484, 7.193991661071777, 11.50082015991211, 8.483402252197266, 8.533127784729004, 7.131134986877441, 7.414109230041504, 8.84553337097168, 7.11993932723999, 6.260692119598389, 6.2270941734313965, 6.184593200683594, 6.018869400024414, 5.94451904296875, 5.9429826736450195], \"Term\": [\"yes\", \"love\", \"ok\", \"great\", \"week\", \"performance\", \"next\", \"like\", \"sure\", \"people\", \"drive\", \"tesla\", \"boring\", \"way\", \"no\", \"3\", \"dmcryan\", \"good\", \"medium\", \"battery\", \"we\\u0092re\", \"oneunderscore\", \"2sunsky\", \"ashleyfeinberg\", \"soon\", \"help\", \"would\", \"awesome\", \"need\", \"owner\", \"performance\", \"supercharging\", \"reuters\", \"week\", \"awd\", \"standard\", \"owner\", \"summon\", \"consider\", \"lifetime\", \"march\", \"hundred\", \"sal19\", \"july\", \"factsdatatruth\", \"aperezposada\", \"tent\", \"v90\", \"parked\", \"core\", \"mph\", \"game\", \"drive\", \"autopilot\", \"slightly\", \"6f\", \"73\", \"hourly\", \"applied\", \"offered\", \"turn\", \"dmcryan\", \"now\", \"atari\", \"20\", \"probably\", \"model3owners\", \"last\", \"3\", \"dual\", \"phone\", \"version\", \"tesla\", \"free\", \"amp\", \"car\", \"model\", \"year\", \"next\", \"thanks\", \"month\", \"spacex\", \"water\", \"article\", \"going\", \"team\", \"also\", \"yes\", \"actually\", \"company\", \"new\", \"use\", \"work\", \"get\", \"production\", \"better\", \"true\", \"insideevs\", \"weinbergersa\", \"diameter\", \"noise\", \"tested\", \"monitron\", \"amywestervelt\", \"module\", \"belt\", \"shortsellers\", \"consumer\", \"board\", \"speceye\", \"transport\", \"shot\", \"agreed\", \"indiemusicfan9\", \"shorter\", \"psi\", \"kevlar\", \"vgfischer\", \"jeffnesbit\", \"vishaljotshi\", \"donor\", \"comfort\", \"demand\", \"moment\", \"tonight\", \"stupid\", \"distribution\", \"consumerreports\", \"lmk\", \"tunnel\", \"tube\", \"pressure\", \"tesla\", \"please\", \"haha\", \"speed\", \"section\", \"possible\", \"production\", \"body\", \"amp\", \"don\\u0092t\", \"good\", \"ride\", \"bad\", \"inflatable\", \"jamesworldspace\", \"next\", \"time\", \"one\", \"fredericlambert\", \"take\", \"definitely\", \"you\\u0092re\", \"day\", \"action\", \"right\", \"car\", \"3\", \"twitter\", \"best\", \"year\", \"it\\u0092s\", \"that\\u0092s\", \"think\", \"model\", \"really\", \"company\", \"oneunderscore\", \"ashleyfeinberg\", \"2sunsky\", \"past\", \"patent\", \"gradybooch\", \"capital\", \"joshuatopolsky\", \"awesome\", \"region\", \"liketeslakim\", \"kosulli\", \"danaloni\", \"site\", \"mazzucatom\", \"jorendewachter\", \"whenever\", \"beautiful\", \"xjawz\", \"click\", \"vpliketrump\", \"velocity\", \"star\", \"sivarajkumar237\", \"item\", \"catch\", \"signing\", \"contempt\", \"wise\", \"tight\", \"parkermolloy\", \"techmeme\", \"slashdot\", \"sure\", \"detail\", \"lexiheft\", \"credibility\", \"great\", \"story\", \"welcome\", \"yes\", \"medium\", \"help\", \"annerajb\", \"joerogan\", \"change\", \"you\", \"many\", \"done\", \"think\", \"it\\u0092s\", \"fredericlambert\", \"soon\", \"tesla\", \"yeah\", \"coming\", \"amp\", \"public\", \"would\", \"exactly\", \"want\", \"make\", \"car\", \"model\", \"like\", \"high\", \"3\", \"go\", \"spacex\", \"even\", \"ok\", \"freedom\", \"brick\", \"rail\", \"theferriswheel\", \"gotchuw\", \"donandrewbailey\", \"100kideas\", \"watchtower\", \"maysacha\", \"let\\u0092s\", \"monopoly\", \"rid\", \"radar\", \"entrance\", \"somegrayareas\", \"slowly\", \"dawgfan93\", \"singapore\", \"manager\", \"blackrock\", \"bevvscott\", \"pump\", \"red\", \"pack\", \"cent\", \"produce\", \"voltage\", \"removed\", \"betrayed\", \"generate\", \"extreme\", \"result\", \"boring\", \"battery\", \"we\\u0092re\", \"way\", \"need\", \"electric\", \"reddit\", \"no\", \"fire\", \"amp\", \"would\", \"worldandscience\", \"swiftonsecurity\", \"power\", \"building\", \"people\", \"it\\u0092s\", \"good\", \"work\", \"uaw\", \"even\", \"get\", \"tesla\", \"make\", \"see\", \"enough\", \"car\", \"spacex\", \"like\", \"yes\", \"company\", \"great\", \"really\", \"maybe\", \"exactly\", \"know\", \"rehearsallot\", \"twittermoments\", \"repmaxinewaters\", \"guiscaesar\", \"barbiesway\", \"aedmondsauthor\", \"surfersnout\", \"aclu\", \"child\", \"malala\", \"raicestexas\", \"jgalerstein\", \"jackp\", \"arrow\", \"richardbranson\", \"shanesmith30\", \"kobebryant\", \"oprah\", \"jeffbezos\", \"sarahknuckey\", \"brave\", \"reader\", \"backrowgracie\", \"simpler\", \"follower\", \"bourgeoisalien\", \"seal\", \"speea\", \"stanton\", \"positive\", \"post\", \"vicentes\", \"drove\", \"politifact\", \"love\", \"mkbhd\", \"like\", \"people\", \"somospostpc\", \"science\", \"johnnasabri\", \"comment\", \"issue\", \"amp\", \"no\", \"tried\", \"know\", \"good\", \"actually\", \"model\", \"that\\u0092s\", \"make\", \"even\", \"tesla\", \"i\\u0092m\", \"car\", \"don\\u0092t\", \"would\", \"exactly\", \"true\", \"3\", \"better\", \"thing\", \"use\", \"maybe\", \"day\", \"air\", \"you\\u0092re\"], \"Total\": [62.0, 36.0, 17.0, 42.0, 28.0, 21.0, 37.0, 60.0, 18.0, 46.0, 23.0, 285.0, 16.0, 26.0, 14.0, 73.0, 27.0, 65.0, 24.0, 14.0, 18.0, 8.0, 8.0, 8.0, 26.0, 18.0, 47.0, 8.0, 33.0, 12.0, 21.798860549926758, 8.042776107788086, 7.233373641967773, 28.92397689819336, 6.42377233505249, 6.423609256744385, 12.852721214294434, 5.614336013793945, 4.804720878601074, 4.804648399353027, 4.8045196533203125, 4.803721904754639, 3.9952588081359863, 3.995256185531616, 3.995248317718506, 3.9952054023742676, 3.9952073097229004, 3.9952001571655273, 3.9951648712158203, 3.99503755569458, 3.9947166442871094, 12.730085372924805, 23.90035629272461, 13.604680061340332, 4.788643836975098, 3.1857173442840576, 3.1857173442840576, 3.1857173442840576, 3.1857171058654785, 3.1857171058654785, 7.166016101837158, 27.816978454589844, 11.170578002929688, 10.321207046508789, 9.52963924407959, 15.100130081176758, 17.473907470703125, 13.445491790771484, 73.40042114257812, 11.011767387390137, 11.029658317565918, 14.975556373596191, 285.7027587890625, 20.374492645263672, 347.3909606933594, 103.88998413085938, 71.16706848144531, 49.17129898071289, 37.74382400512695, 33.436546325683594, 25.857540130615234, 48.79375457763672, 21.125215530395508, 18.72311782836914, 21.88900375366211, 30.278560638427734, 29.410289764404297, 62.08272171020508, 31.52871322631836, 37.08726501464844, 25.648712158203125, 26.230541229248047, 42.11418533325195, 38.98154830932617, 34.83262252807617, 32.18672180175781, 34.45319366455078, 6.852688312530518, 4.566804885864258, 3.8048954010009766, 3.8048818111419678, 3.804938793182373, 3.804821491241455, 3.804841995239258, 3.04294490814209, 3.0429446697235107, 3.04294490814209, 3.0429446697235107, 3.04294490814209, 3.0429444313049316, 3.042935848236084, 3.04293155670166, 3.042987585067749, 3.042897939682007, 3.0428974628448486, 3.0428988933563232, 3.0430796146392822, 3.0429022312164307, 3.0428550243377686, 3.042712450027466, 3.0423569679260254, 6.137984752655029, 5.291320323944092, 5.313357830047607, 6.147885799407959, 2.2809934616088867, 2.2809932231903076, 5.378429889678955, 7.525170803070068, 13.602426528930664, 12.900664329528809, 12.817943572998047, 285.7027587890625, 15.90407657623291, 10.815300941467285, 12.162553787231445, 7.5578765869140625, 10.549818992614746, 34.83262252807617, 10.766072273254395, 347.3909606933594, 45.34877395629883, 65.51931762695312, 6.100512504577637, 6.100783348083496, 4.547966480255127, 12.054903030395508, 37.74382400512695, 41.297264099121094, 31.24505043029785, 41.923194885253906, 19.413238525390625, 16.537822723388672, 37.286136627197266, 26.815589904785156, 10.677291870117188, 32.32756805419922, 103.88998413085938, 73.40042114257812, 18.762357711791992, 22.864669799804688, 49.17129898071289, 56.823020935058594, 30.858848571777344, 31.487443923950195, 71.16706848144531, 26.942684173583984, 37.08726501464844, 8.222131729125977, 8.22213077545166, 8.22213077545166, 5.983195781707764, 4.4896039962768555, 4.489604473114014, 4.489633083343506, 4.489579200744629, 8.947121620178223, 3.7431015968322754, 3.7431020736694336, 3.7431018352508545, 3.7430763244628906, 3.743107795715332, 3.74326491355896, 3.743265390396118, 3.7432522773742676, 3.7430617809295654, 7.491104602813721, 2.9965991973876953, 2.996598958969116, 2.9965991973876953, 2.996598958969116, 2.9965991973876953, 2.9966280460357666, 2.9966790676116943, 2.9965925216674805, 2.996546506881714, 2.9965858459472656, 2.9969027042388916, 9.707600593566895, 5.960597515106201, 9.094220161437988, 18.70643424987793, 9.003514289855957, 6.050368309020996, 8.21008014678955, 42.456153869628906, 5.214369297027588, 12.6625394821167, 62.08272171020508, 24.040321350097656, 18.63631820678711, 19.857229232788086, 11.17270565032959, 14.930954933166504, 14.975430488586426, 22.478939056396484, 17.477922439575195, 31.487443923950195, 56.823020935058594, 41.923194885253906, 26.223392486572266, 285.7027587890625, 25.696224212646484, 20.732242584228516, 347.3909606933594, 20.956844329833984, 47.236427307128906, 29.13156509399414, 27.53240966796875, 48.36750030517578, 103.88998413085938, 71.16706848144531, 60.73382568359375, 23.5280818939209, 73.40042114257812, 23.726572036743164, 48.79375457763672, 37.4937744140625, 17.103689193725586, 5.215263366699219, 6.708581447601318, 3.7292606830596924, 3.729226589202881, 3.729226589202881, 3.729227066040039, 3.729227066040039, 3.729185104370117, 7.425750732421875, 2.986149787902832, 2.986149787902832, 2.986149787902832, 2.986149787902832, 2.986150026321411, 2.986149787902832, 2.986150026321411, 2.9861650466918945, 2.9861233234405518, 2.9862756729125977, 2.986438512802124, 2.9864747524261475, 6.782688617706299, 8.977540969848633, 6.721472263336182, 2.9900219440460205, 2.2431304454803467, 2.2431302070617676, 2.2431302070617676, 2.2431299686431885, 2.2431299686431885, 4.4756693840026855, 6.83419132232666, 16.561460494995117, 14.307833671569824, 18.273286819458008, 26.550159454345703, 33.91156768798828, 13.489034652709961, 7.388825416564941, 14.738067626953125, 5.980597972869873, 347.3909606933594, 47.236427307128906, 13.72732925415039, 6.046990394592285, 16.644271850585938, 13.104071617126465, 46.53334045410156, 56.823020935058594, 65.51931762695312, 42.11418533325195, 20.569623947143555, 37.4937744140625, 38.98154830932617, 285.7027587890625, 48.36750030517578, 16.518674850463867, 15.892094612121582, 103.88998413085938, 48.79375457763672, 60.73382568359375, 62.08272171020508, 37.08726501464844, 42.456153869628906, 26.942684173583984, 25.754730224609375, 29.13156509399414, 33.0499382019043, 5.828276634216309, 5.828277111053467, 5.828278064727783, 5.828277111053467, 5.828278064727783, 5.828277587890625, 5.828278064727783, 5.104191780090332, 5.104771614074707, 3.654848337173462, 3.6552326679229736, 3.6552324295043945, 2.930408477783203, 2.9304094314575195, 2.930421829223633, 2.930421829223633, 2.930421829223633, 2.930421829223633, 2.930421829223633, 2.930421829223633, 2.9304261207580566, 2.9304447174072266, 2.930656909942627, 2.9305245876312256, 2.9304981231689453, 2.9305057525634766, 2.2059693336486816, 2.2059695720672607, 2.2059695720672607, 2.2059695720672607, 7.351784706115723, 7.446640491485596, 2.2059693336486816, 8.057024002075195, 36.626678466796875, 9.53860855102539, 60.73382568359375, 46.53334045410156, 4.401670932769775, 8.167840003967285, 10.300317764282227, 4.464202880859375, 12.053346633911133, 347.3909606933594, 14.738067626953125, 5.894279479980469, 33.0499382019043, 65.51931762695312, 31.52871322631836, 71.16706848144531, 30.858848571777344, 48.36750030517578, 37.4937744140625, 285.7027587890625, 28.962196350097656, 103.88998413085938, 45.34877395629883, 47.236427307128906, 29.13156509399414, 34.45319366455078, 73.40042114257812, 32.18672180175781, 23.391630172729492, 26.230541229248047, 25.754730224609375, 26.815589904785156, 26.248153686523438, 37.286136627197266], \"loglift\": [30.0, 29.0, 28.0, 27.0, 26.0, 25.0, 24.0, 23.0, 22.0, 21.0, 20.0, 19.0, 18.0, 17.0, 16.0, 15.0, 14.0, 13.0, 12.0, 11.0, 10.0, 9.0, 8.0, 7.0, 6.0, 5.0, 4.0, 3.0, 2.0, 1.0, 1.2352999448776245, 1.1904000043869019, 1.1815999746322632, 1.1777000427246094, 1.1700999736785889, 1.169800043106079, 1.1561000347137451, 1.155500054359436, 1.1349999904632568, 1.1348999738693237, 1.1346999406814575, 1.1324000358581543, 1.1061999797821045, 1.1061999797821045, 1.1061999797821045, 1.1060999631881714, 1.1060999631881714, 1.1059999465942383, 1.1058000326156616, 1.1054999828338623, 1.1044000387191772, 1.0925999879837036, 1.0921000242233276, 1.0865000486373901, 1.0713000297546387, 1.0607000589370728, 1.0607000589370728, 1.0607000589370728, 1.0607000589370728, 1.0607000589370728, 1.0591000318527222, 1.0054999589920044, 1.030500054359436, 1.0184999704360962, 1.0216000080108643, 0.9944999814033508, 0.9699000120162964, 0.9797999858856201, 0.707099974155426, 0.9632999897003174, 0.9610000252723694, 0.8978000283241272, 0.4090999960899353, 0.8425999879837036, 0.35830000042915344, 0.5605000257492065, 0.5651999711990356, 0.6395999789237976, 0.697700023651123, 0.6586999893188477, 0.6901000142097473, 0.48170000314712524, 0.7479000091552734, 0.7797999978065491, 0.7233999967575073, 0.5425000190734863, 0.5476999878883362, 0.20250000059604645, 0.49889999628067017, 0.37389999628067017, 0.5372999906539917, 0.5149000287055969, 0.18140000104904175, 0.2092999964952469, 0.2808000147342682, 0.3301999866962433, 0.26750001311302185, 1.521399974822998, 1.4714000225067139, 1.4407999515533447, 1.440600037574768, 1.440500020980835, 1.4402999877929688, 1.4400999546051025, 1.392300009727478, 1.392300009727478, 1.392300009727478, 1.392300009727478, 1.392300009727478, 1.392300009727478, 1.392199993133545, 1.3919999599456787, 1.3919999599456787, 1.3918999433517456, 1.3918999433517456, 1.3916000127792358, 1.3913999795913696, 1.3910000324249268, 1.3904999494552612, 1.3904000520706177, 1.386299967765808, 1.3530000448226929, 1.3246999979019165, 1.3207000494003296, 1.311900019645691, 1.305799961090088, 1.305799961090088, 1.299399971961975, 1.2421000003814697, 1.1548000574111938, 1.107800006866455, 1.0979000329971313, 0.3149999976158142, 0.972599983215332, 1.0678999423980713, 1.0342999696731567, 1.1440999507904053, 1.0470999479293823, 0.6922000050544739, 1.0270999670028687, -0.016899999231100082, 0.592199981212616, 0.44850000739097595, 1.1833000183105469, 1.1827000379562378, 1.2623000144958496, 0.9369999766349792, 0.5127999782562256, 0.38999998569488525, 0.4729999899864197, 0.3328000009059906, 0.6886000037193298, 0.7232000231742859, 0.31290000677108765, 0.4742000102996826, 0.9351000189781189, 0.30889999866485596, -0.3968000113964081, -0.2110999971628189, 0.6039000153541565, 0.47850000858306885, -0.03009999915957451, -0.1793999969959259, 0.2515999972820282, 0.19380000233650208, -0.5358999967575073, 0.24130000174045563, -0.060600001364946365, 1.5973000526428223, 1.5973000526428223, 1.5973000526428223, 1.565600037574768, 1.5286999940872192, 1.5286999940872192, 1.5285999774932861, 1.528499960899353, 1.5132999420166016, 1.496999979019165, 1.496999979019165, 1.496999979019165, 1.4967000484466553, 1.496399998664856, 1.496399998664856, 1.496399998664856, 1.4960999488830566, 1.4941999912261963, 1.4723999500274658, 1.4474999904632568, 1.4474999904632568, 1.4474999904632568, 1.4474999904632568, 1.4474999904632568, 1.4473999738693237, 1.447100043296814, 1.4469000101089478, 1.4467999935150146, 1.4463000297546387, 1.4458999633789062, 1.4149999618530273, 1.4210000038146973, 1.3941999673843384, 1.3272000551223755, 1.3766000270843506, 1.3937000036239624, 1.3503999710083008, 1.142699956893921, 1.3818999528884888, 1.2447999715805054, 0.9416999816894531, 1.0921000242233276, 1.1347999572753906, 1.0616999864578247, 1.190000057220459, 1.0535999536514282, 1.0479999780654907, 0.9017000198364258, 0.9847999811172485, 0.7185999751091003, 0.48890000581741333, 0.5267000198364258, 0.7289000153541565, -0.3982999920845032, 0.7028999924659729, 0.7935000061988831, -0.6157000064849854, 0.7721999883651733, 0.2651999890804291, 0.5580999851226807, 0.590399980545044, 0.19939999282360077, -0.33309999108314514, -0.1500999927520752, -0.09669999778270721, 0.6620000004768372, -0.3384000062942505, 0.6448000073432922, -0.02889999933540821, 0.16300000250339508, 1.7094999551773071, 1.6217000484466553, 1.5911999940872192, 1.5674999952316284, 1.5667999982833862, 1.5667999982833862, 1.5667999982833862, 1.5667999982833862, 1.5666999816894531, 1.5477999448776245, 1.5181000232696533, 1.5181000232696533, 1.5181000232696533, 1.5181000232696533, 1.5181000232696533, 1.5181000232696533, 1.5181000232696533, 1.517899990081787, 1.5176000595092773, 1.5174000263214111, 1.5166000127792358, 1.5163999795913696, 1.4763000011444092, 1.4745999574661255, 1.4637000560760498, 1.450700044631958, 1.4294999837875366, 1.4294999837875366, 1.4294999837875366, 1.4294999837875366, 1.4294999837875366, 1.3854999542236328, 1.351699948310852, 1.243299961090088, 1.2135000228881836, 1.1722999811172485, 0.9991000294685364, 0.9409999847412109, 1.1416000127792358, 1.2756999731063843, 1.0450999736785889, 1.3099000453948975, 0.034699998795986176, 0.6398000121116638, 1.0292999744415283, 1.288699984550476, 0.9423999786376953, 1.0144000053405762, 0.54830002784729, 0.4724999964237213, 0.375, 0.5447999835014343, 0.8084999918937683, 0.5378999710083008, 0.48890000581741333, -0.5023000240325928, 0.3483000099658966, 0.8571000099182129, 0.8399999737739563, -0.3102000057697296, 0.14669999480247498, -0.002300000051036477, -0.028300000354647636, 0.30880001187324524, 0.19930000603199005, 0.4812999963760376, 0.5134000182151794, 0.39969998598098755, 0.20679999887943268, 1.7374000549316406, 1.7374000549316406, 1.7374000549316406, 1.7374000549316406, 1.7374000549316406, 1.7374000549316406, 1.7374000549316406, 1.7201000452041626, 1.7182999849319458, 1.6655000448226929, 1.6642999649047852, 1.6642999649047852, 1.6145000457763672, 1.6145000457763672, 1.614400029182434, 1.614400029182434, 1.614400029182434, 1.614400029182434, 1.614400029182434, 1.614400029182434, 1.614300012588501, 1.6139999628067017, 1.6134999990463257, 1.6134999990463257, 1.6131999492645264, 1.6131000518798828, 1.523800015449524, 1.523800015449524, 1.523800015449524, 1.523800015449524, 1.506700038909912, 1.4936000108718872, 1.523800015449524, 1.479200005531311, 1.3796000480651855, 1.375599980354309, 0.8586000204086304, 0.7630000114440918, 1.479200005531311, 1.2526999711990356, 1.1686999797821045, 1.465999960899353, 1.0880999565124512, -0.2759999930858612, 0.9832000136375427, 1.3244999647140503, 0.5985000133514404, 0.2750999927520752, 0.5687000155448914, 0.19009999930858612, 0.5302000045776367, 0.2948000133037567, 0.3946000039577484, -0.7843000292778015, 0.4560999870300293, -0.3521000146865845, 0.17260000109672546, 0.13760000467300415, 0.4415000081062317, 0.3125999867916107, -0.2671999931335449, 0.3402000069618225, 0.5307000279426575, 0.4108000099658966, 0.4223000109195709, 0.3546999990940094, 0.3637000024318695, 0.012400000356137753], \"logprob\": [30.0, 29.0, 28.0, 27.0, 26.0, 25.0, 24.0, 23.0, 22.0, 21.0, 20.0, 19.0, 18.0, 17.0, 16.0, 15.0, 14.0, 13.0, 12.0, 11.0, 10.0, 9.0, 8.0, 7.0, 6.0, 5.0, 4.0, 3.0, 2.0, 1.0, -5.5370001792907715, -6.578999996185303, -6.693900108337402, -5.311800003051758, -6.824100017547607, -6.824399948120117, -6.144499778747559, -6.973400115966797, -7.149600028991699, -7.149700164794922, -7.149899959564209, -7.152400016784668, -7.3628997802734375, -7.3628997802734375, -7.3628997802734375, -7.36299991607666, -7.36299991607666, -7.363100051879883, -7.36329984664917, -7.36359977722168, -7.3649001121521, -6.217700004577637, -5.588200092315674, -6.157299995422363, -7.216599941253662, -7.634799957275391, -7.634799957275391, -7.634799957275391, -7.634799957275391, -7.634799957275391, -6.825699806213379, -5.523099899291992, -6.410399913787842, -6.501500129699707, -6.578199863433838, -6.144899845123291, -6.023600101470947, -6.275700092315674, -4.851200103759766, -6.4918999671936035, -6.492599964141846, -6.25, -3.79010009765625, -5.997300148010254, -3.645400047302246, -4.650400161743164, -5.02400016784668, -5.319300174713135, -5.525700092315674, -5.6859002113342285, -5.911499977111816, -5.484899997711182, -6.055799961090088, -6.144700050354004, -6.0447998046875, -5.901299953460693, -5.92519998550415, -5.523200035095215, -5.904399871826172, -5.867000102996826, -6.072400093078613, -6.072299957275391, -5.932400226593018, -5.981800079345703, -6.022900104522705, -6.052499771118164, -6.047100067138672, -6.408199787139893, -6.863999843597412, -7.077099800109863, -7.077300071716309, -7.077400207519531, -7.077600002288818, -7.0777997970581055, -7.349100112915039, -7.349100112915039, -7.349100112915039, -7.349100112915039, -7.349100112915039, -7.349100112915039, -7.3491997718811035, -7.349299907684326, -7.349400043487549, -7.3495001792907715, -7.3495001792907715, -7.349800109863281, -7.349999904632568, -7.350399971008301, -7.350900173187256, -7.351099967956543, -7.355199813842773, -6.686699867248535, -6.863399982452393, -6.86329984664917, -6.726200103759766, -7.723800182342529, -7.723800182342529, -6.872399806976318, -6.593800067901611, -6.089099884033203, -6.189199924468994, -6.205399990081787, -3.884200096130371, -6.115099906921387, -6.405300140380859, -6.321599960327148, -6.6875, -6.451000213623047, -5.611499786376953, -6.450699806213379, -4.020699977874756, -5.4475998878479, -5.223299980163574, -6.862500190734863, -6.863100051879883, -7.077199935913086, -6.427700042724609, -5.710599899291992, -5.7434000968933105, -5.939300060272217, -5.785600185394287, -6.1996002197265625, -6.325399875640869, -5.922599792480469, -6.091000080108643, -6.551000118255615, -6.069399833679199, -5.607600212097168, -5.769400119781494, -6.318399906158447, -6.246099948883057, -5.988999843597412, -5.993599891662598, -6.1732001304626465, -6.2108001708984375, -6.125, -6.319200038909912, -6.301499843597412, -6.150100231170654, -6.150100231170654, -6.150100231170654, -6.49970006942749, -6.823699951171875, -6.823699951171875, -6.823800086975098, -6.82390022277832, -6.149600028991699, -7.037300109863281, -7.037300109863281, -7.037300109863281, -7.037600040435791, -7.037899971008301, -7.037899971008301, -7.037899971008301, -7.038099765777588, -7.04010009765625, -6.368100166320801, -7.309199810028076, -7.309199810028076, -7.309199810028076, -7.309199810028076, -7.309199810028076, -7.309299945831299, -7.309599876403809, -7.309800148010254, -7.309899806976318, -7.310400009155273, -7.310699939727783, -6.166299819946289, -6.6479997634887695, -6.252399921417236, -5.598100185394287, -6.28000020980835, -6.660399913787842, -6.398399829864502, -4.9629998207092285, -6.820899963378906, -6.070799827575684, -4.783999919891357, -5.582399845123291, -5.794300079345703, -5.803899765014648, -6.250699996948242, -6.097099781036377, -6.099800109863281, -5.839900016784668, -6.008500099182129, -5.685999870300293, -5.325399875640869, -5.591700077056885, -5.85860013961792, -4.597499847412109, -5.90500020980835, -6.0289998054504395, -4.6194000244140625, -6.0395002365112305, -5.733799934387207, -5.924300193786621, -5.948500156402588, -5.776000022888184, -5.543900012969971, -5.739299774169922, -5.844399929046631, -6.033999919891357, -5.896699905395508, -6.042799949645996, -5.995500087738037, -6.066999912261963, -5.3053998947143555, -6.580999851226807, -6.359600067138672, -6.9704999923706055, -6.971199989318848, -6.971199989318848, -6.971199989318848, -6.971199989318848, -6.97130012512207, -6.301499843597412, -7.242099761962891, -7.242099761962891, -7.242099761962891, -7.242099761962891, -7.242099761962891, -7.242099761962891, -7.242099761962891, -7.242300033569336, -7.242599964141846, -7.242700099945068, -7.243500232696533, -7.24370002746582, -6.463500022888184, -6.184800148010254, -6.485199928283691, -7.308199882507324, -7.616799831390381, -7.616799831390381, -7.616799831390381, -7.616799831390381, -7.616799831390381, -6.96999979019165, -6.58050012588501, -5.803800106048584, -5.979899883270264, -5.776400089263916, -5.576000213623047, -5.389500141143799, -6.110799789428711, -6.57859992980957, -6.118599891662598, -6.755799770355225, -3.9690001010894775, -5.3592000007629395, -6.20550012588501, -6.765999794006348, -6.099699974060059, -6.266900062561035, -5.465700149536133, -5.341700077056885, -5.296899795532227, -5.568999767303467, -6.021900177001953, -5.6921000480651855, -5.702199935913086, -4.701499938964844, -5.627099990844727, -6.192599773406982, -6.2484002113342285, -5.521100044250488, -5.819900035858154, -5.75, -5.754000186920166, -5.93209981918335, -5.906400203704834, -6.07919979095459, -6.092100143432617, -6.082699775695801, -6.149400234222412, -6.354000091552734, -6.354000091552734, -6.354000091552734, -6.354000091552734, -6.354000091552734, -6.354000091552734, -6.354000091552734, -6.5040998458862305, -6.50570011138916, -6.892600059509277, -6.893700122833252, -6.893700122833252, -7.164599895477295, -7.164599895477295, -7.164599895477295, -7.164599895477295, -7.164599895477295, -7.164599895477295, -7.164599895477295, -7.164599895477295, -7.164700031280518, -7.16510009765625, -7.165500164031982, -7.165500164031982, -7.165800094604492, -7.165900230407715, -7.539299964904785, -7.539299964904785, -7.539299964904785, -7.539299964904785, -6.35260009765625, -6.352799892425537, -7.539299964904785, -6.288400173187256, -4.873799800872803, -6.223299980163574, -4.888999938964844, -5.250999927520752, -6.89300012588501, -6.501200199127197, -6.353300094604492, -6.892099857330322, -6.276800155639648, -4.279699802398682, -6.180600166320801, -6.75570011138916, -5.757699966430664, -5.396699905395508, -5.83459997177124, -5.39900016784668, -5.894599914550781, -5.680500030517578, -5.835400104522705, -4.983500003814697, -6.032100200653076, -5.562900066375732, -5.867199897766113, -5.861400127410889, -6.040900230407715, -6.001999855041504, -5.825399875640869, -6.042500019073486, -6.17110013961792, -6.176499843597412, -6.183300018310547, -6.2104997634887695, -6.222899913787842, -6.223100185394287]}, \"token.table\": {\"Topic\": [4, 1, 2, 5, 3, 1, 2, 3, 4, 5, 1, 1, 5, 1, 2, 3, 5, 1, 2, 3, 4, 5, 5, 2, 1, 2, 3, 4, 5, 1, 2, 3, 5, 1, 2, 3, 4, 5, 2, 1, 2, 3, 4, 1, 1, 5, 1, 2, 5, 3, 1, 4, 1, 2, 1, 3, 5, 5, 1, 2, 5, 5, 1, 2, 4, 3, 2, 1, 2, 3, 4, 5, 4, 1, 2, 3, 4, 5, 4, 4, 2, 1, 2, 4, 5, 1, 2, 4, 5, 5, 4, 1, 2, 4, 3, 1, 2, 3, 4, 5, 3, 4, 1, 2, 3, 4, 5, 5, 3, 1, 2, 1, 2, 3, 5, 1, 5, 1, 2, 3, 4, 5, 1, 2, 1, 2, 3, 1, 2, 3, 5, 3, 4, 1, 2, 3, 5, 1, 2, 4, 5, 2, 5, 2, 3, 2, 2, 1, 2, 4, 5, 4, 1, 2, 3, 4, 5, 2, 1, 2, 3, 4, 5, 1, 4, 5, 5, 1, 5, 1, 3, 4, 5, 1, 2, 4, 5, 4, 1, 2, 3, 4, 5, 1, 2, 3, 4, 5, 3, 4, 1, 2, 3, 4, 5, 1, 2, 3, 4, 5, 1, 2, 4, 5, 4, 1, 5, 4, 1, 2, 3, 4, 5, 1, 2, 3, 4, 5, 1, 2, 3, 4, 1, 2, 3, 4, 5, 4, 3, 2, 3, 4, 5, 5, 1, 2, 5, 2, 3, 4, 5, 1, 2, 3, 4, 5, 1, 1, 2, 2, 4, 2, 1, 3, 4, 5, 3, 1, 2, 3, 4, 5, 1, 2, 3, 4, 5, 5, 2, 3, 4, 5, 2, 5, 2, 3, 4, 5, 3, 4, 5, 3, 3, 1, 2, 1, 2, 3, 4, 5, 5, 3, 1, 3, 4, 5, 4, 1, 3, 1, 1, 2, 3, 4, 5, 3, 2, 5, 1, 2, 3, 4, 5, 1, 2, 3, 4, 5, 5, 4, 1, 2, 3, 4, 5, 1, 1, 2, 3, 4, 5, 4, 5, 3, 1, 2, 3, 4, 5, 3, 5, 1, 2, 3, 4, 5, 1, 2, 5, 2, 2, 3, 2, 4, 1, 2, 3, 1, 1, 2, 3, 4, 5, 1, 2, 3, 4, 5, 1, 2, 3, 2, 4, 5, 2, 1, 2, 1, 4, 1, 2, 3, 4, 5, 3, 5, 1, 2, 2, 4, 1, 3, 4, 3, 3, 1, 2, 3, 4, 5, 1, 1, 4, 5, 1, 2, 3, 5, 3, 5, 5, 2, 3, 4, 5, 2, 5, 1, 2, 3, 4, 5, 2, 3, 4, 5, 1, 2, 4, 4, 1, 2, 3, 4, 5, 2, 1, 2, 3, 1, 4, 4, 5, 4, 5, 1, 2, 3, 4, 5, 1, 4, 5, 4, 5, 3, 5, 4, 5, 1, 4, 1, 5, 4, 1, 2, 5, 1, 2, 3, 4, 5, 1, 5, 1, 2, 3, 5, 5, 2, 4, 1, 3, 4, 5, 5, 2, 2, 2, 3, 5, 4, 3, 3, 1, 3, 1, 4, 4, 3, 5, 1, 2, 3, 1, 2, 3, 4, 5, 2, 5, 1, 2, 4, 5, 1, 5, 3, 3, 5, 2, 1, 1, 1, 2, 3, 5, 5, 1, 2, 4, 1, 2, 3, 4, 5, 1, 2, 3, 4, 5, 3, 5, 1, 1, 2, 3, 4, 5, 2, 1, 2, 3, 5, 1, 2, 3, 4, 5, 4, 1, 2, 3, 4, 5, 1, 2, 3, 4, 3, 1, 2, 3, 4, 5, 1, 2, 2, 2, 4, 5, 1, 2, 3, 4, 5, 1, 2, 4, 2, 3, 4, 1, 4, 1, 2, 3, 4, 5, 5, 1, 2, 3, 4, 5, 1, 2, 3, 4, 5, 1, 3, 1, 3, 5, 2, 1, 5, 2, 4, 3, 1, 2, 3, 4, 5, 4, 1, 2, 3, 4, 5, 1, 3, 4, 5, 1, 3, 4, 2, 2, 3, 4, 5, 1, 2, 3, 4, 3, 3, 1, 2, 3, 4, 5, 1, 2, 3, 4, 5, 1, 2, 3, 4, 5, 2, 3, 1, 2, 3, 4, 5, 1, 2, 3, 4, 5, 1, 3, 4, 1, 2, 3, 5, 1, 2, 3, 4, 5], \"Freq\": [0.8044562339782715, 0.7345503568649292, 0.10493576526641846, 0.10493576526641846, 0.9729837775230408, 0.5722038149833679, 0.1634867936372757, 0.13623900711536407, 0.013623899780213833, 0.12261509895324707, 0.9417031407356262, 0.9417031407356262, 0.7836695909500122, 0.18731340765953064, 0.4682835340499878, 0.09365670382976532, 0.18731340765953064, 0.47575679421424866, 0.09515136480331421, 0.12686848640441895, 0.031717121601104736, 0.2854540944099426, 0.8578863739967346, 0.6572487950325012, 0.11429375410079956, 0.22858750820159912, 0.22858750820159912, 0.19048959016799927, 0.22858750820159912, 0.4760238826274872, 0.13600681722164154, 0.17000852525234222, 0.17000852525234222, 0.40300413966178894, 0.19574487209320068, 0.10075103491544724, 0.18135187029838562, 0.11802264302968979, 0.7884690165519714, 0.25179746747016907, 0.10071898996829987, 0.5539544224739075, 0.10071898996829987, 0.7509000897407532, 0.941703200340271, 0.6824985146522522, 0.5875089764595032, 0.10681981593370438, 0.21363963186740875, 0.9729837775230408, 0.7751031517982483, 0.19377578794956207, 0.8085452914237976, 0.1470082402229309, 0.9340305924415588, 0.8941423296928406, 0.11176779121160507, 0.6824408769607544, 0.16391338407993317, 0.6556535363197327, 0.16391338407993317, 0.8578863143920898, 0.0698917806148529, 0.3494589030742645, 0.5591342449188232, 0.8014829158782959, 0.6572580933570862, 0.21867798268795013, 0.3061491847038269, 0.04373559728264809, 0.3061491847038269, 0.08747119456529617, 0.8916112780570984, 0.40389326214790344, 0.1242748498916626, 0.15534356236457825, 0.09320613741874695, 0.21748098731040955, 0.6696859002113342, 0.6696940064430237, 0.6572580337524414, 0.2786531448364258, 0.5573062896728516, 0.09288438409566879, 0.09288438409566879, 0.060381148010492325, 0.3019057512283325, 0.603811502456665, 0.6824760437011719, 0.682494580745697, 0.8943768739700317, 0.3815608024597168, 0.07631216198205948, 0.4578729569911957, 0.8909413814544678, 0.49090391397476196, 0.13475793600082397, 0.13475793600082397, 0.12513236701488495, 0.11550680547952652, 0.6674054861068726, 0.668891429901123, 0.0669749528169632, 0.0669749528169632, 0.5357996225357056, 0.1339499056339264, 0.2009248584508896, 0.7835806012153625, 0.6674232482910156, 0.16291992366313934, 0.8145996332168579, 0.33763834834098816, 0.14470215141773224, 0.4341064393520355, 0.09646809846162796, 0.22400414943695068, 0.672012448310852, 0.40445148944854736, 0.18874403834342957, 0.13481716811656952, 0.24267089366912842, 0.026963433250784874, 0.8325145244598389, 0.6572580933570862, 0.1859278678894043, 0.7437114715576172, 0.6674349904060364, 0.7509316205978394, 0.12180148810148239, 0.7308089733123779, 0.12180148810148239, 0.8014797568321228, 0.6697553396224976, 0.33562564849853516, 0.33562564849853516, 0.11187522113323212, 0.22375044226646423, 0.06046745181083679, 0.42327216267585754, 0.36280471086502075, 0.12093490362167358, 0.7559549808502197, 0.18898874521255493, 0.2221354842185974, 0.7774741649627686, 0.7884579300880432, 0.8768110275268555, 0.7549346089363098, 0.14379706978797913, 0.03594926744699478, 0.07189853489398956, 0.8044562339782715, 0.22886015474796295, 0.05721503868699074, 0.514935314655304, 0.11443007737398148, 0.05721503868699074, 0.6573850512504578, 0.15435919165611267, 0.3528209924697876, 0.1764104962348938, 0.13230787217617035, 0.1764104962348938, 0.8368076086044312, 0.08368076384067535, 0.08368076384067535, 0.9066309332847595, 0.7264955639839172, 0.1816238909959793, 0.14826858043670654, 0.14826858043670654, 0.5189400315284729, 0.14826858043670654, 0.18877309560775757, 0.25169748067855835, 0.37754619121551514, 0.12584874033927917, 0.6697587370872498, 0.13335546851158142, 0.1066843792796135, 0.213368758559227, 0.29338204860687256, 0.2400398552417755, 0.1029810756444931, 0.06865405291318893, 0.34327027201652527, 0.27461621165275574, 0.24028918147087097, 0.22343026101589203, 0.6702907681465149, 0.7508919835090637, 0.16720736026763916, 0.16720736026763916, 0.6688294410705566, 0.6824778318405151, 0.2385314404964447, 0.2862377166748047, 0.3100908696651459, 0.07155942916870117, 0.09541257470846176, 0.6380527019500732, 0.049080975353717804, 0.147242933511734, 0.09816195070743561, 0.9587243795394897, 0.8640947341918945, 0.1571081429719925, 0.8916112780570984, 0.35914427042007446, 0.07695949077606201, 0.17957213521003723, 0.28218477964401245, 0.12826581299304962, 0.3371747136116028, 0.1685873568058014, 0.3371747136116028, 0.0842936784029007, 0.0842936784029007, 0.593905508518219, 0.04568503797054291, 0.13705511391162872, 0.22842518985271454, 0.12210139632225037, 0.3052534759044647, 0.10683871805667877, 0.25946545600891113, 0.21367743611335754, 0.804456353187561, 0.8909471035003662, 0.09421484917402267, 0.5888428092002869, 0.21198339760303497, 0.1177685558795929, 0.8578864336013794, 0.27738478779792786, 0.5547695755958557, 0.09246160089969635, 0.10731733590364456, 0.5902453660964966, 0.21463467180728912, 0.10731733590364456, 0.25501441955566406, 0.12750720977783203, 0.3825216293334961, 0.08500480651855469, 0.17000961303710938, 0.9417031407356262, 0.8326876759529114, 0.6572681665420532, 0.6596354842185974, 0.21987849473953247, 0.8755688071250916, 0.3318580389022827, 0.08296450972557068, 0.16592901945114136, 0.4977870583534241, 0.6674168109893799, 0.19358351826667786, 0.15838651359081268, 0.2991745173931122, 0.281576007604599, 0.07039400190114975, 0.31074991822242737, 0.241694375872612, 0.13811106979846954, 0.06905553489923477, 0.241694375872612, 0.6824986934661865, 0.4977228045463562, 0.0829537957906723, 0.4147689938545227, 0.6824955940246582, 0.6572774648666382, 0.8207412362098694, 0.08950383216142654, 0.6265268325805664, 0.1790076643228531, 0.1790076643228531, 0.29125314950942993, 0.19416876137256622, 0.48542192578315735, 0.8014392852783203, 0.8909521102905273, 0.7508904933929443, 0.657228946685791, 0.15128621459007263, 0.15128621459007263, 0.18154345452785492, 0.2118006944656372, 0.2723151743412018, 0.6824955940246582, 0.8014743328094482, 0.7437437176704407, 0.07437437027692795, 0.07437437027692795, 0.07437437027692795, 0.6697587966918945, 0.16527919471263885, 0.8263959884643555, 0.8325271010398865, 0.1811181753873825, 0.09879173338413239, 0.16465288400650024, 0.1811181753873825, 0.37870165705680847, 0.8014742732048035, 0.6644367575645447, 0.2657746970653534, 0.24572253227233887, 0.08190751075744629, 0.02730250358581543, 0.02730250358581543, 0.6279575824737549, 0.2274254411458969, 0.08270016312599182, 0.2274254411458969, 0.24810047447681427, 0.20675039291381836, 0.8208274841308594, 0.669730544090271, 0.04448608681559563, 0.22243042290210724, 0.4448608458042145, 0.08897217363119125, 0.13345825672149658, 0.8325493931770325, 0.27179473638534546, 0.11648345738649368, 0.07765563577413559, 0.31062254309654236, 0.23296691477298737, 0.8079991340637207, 0.13466651737689972, 0.8014394044876099, 0.12479034811258316, 0.041596781462430954, 0.5407581329345703, 0.041596781462430954, 0.20798391103744507, 0.3145112693309784, 0.6290225386619568, 0.4918004870414734, 0.11241154372692108, 0.15456587076187134, 0.042154327034950256, 0.1967201977968216, 0.7439664006233215, 0.17168454825878143, 0.05722818523645401, 0.6572580337524414, 0.7528195977210999, 0.18820489943027496, 0.7884732484817505, 0.6697587966918945, 0.5801016092300415, 0.19336719810962677, 0.2320406287908554, 0.750991940498352, 0.1474423110485077, 0.176930770277977, 0.1474423110485077, 0.44232693314552307, 0.0884653851389885, 0.46785974502563477, 0.19494156539440155, 0.15595324337482452, 0.07797662168741226, 0.07797662168741226, 0.556382417678833, 0.3444271981716156, 0.1059776023030281, 0.06785149872303009, 0.4749605059623718, 0.40710899233818054, 0.7884607315063477, 0.8056879639625549, 0.1790417581796646, 0.941703200340271, 0.935470700263977, 0.2560405433177948, 0.3200506865978241, 0.1920304149389267, 0.0640101358294487, 0.16002534329891205, 0.9729836583137512, 0.6824955940246582, 0.8558498620986938, 0.07780453562736511, 0.14877693355083466, 0.7438846230506897, 0.7509076595306396, 0.721084475517273, 0.2060241401195526, 0.8356738090515137, 0.890947163105011, 0.19340971112251282, 0.10744983702898026, 0.06446990370750427, 0.3008595407009125, 0.34383949637413025, 0.9633530974388123, 0.725317120552063, 0.09066464006900787, 0.18132928013801575, 0.12575392425060272, 0.5030156970024109, 0.12575392425060272, 0.1886308789253235, 0.24823060631752014, 0.7446918487548828, 0.90663081407547, 0.5687301158905029, 0.18957671523094177, 0.18957671523094177, 0.09478835761547089, 0.27204278111457825, 0.6801069378852844, 0.24032291769981384, 0.06008072942495346, 0.06008072942495346, 0.42056509852409363, 0.18024219572544098, 0.624125063419342, 0.07801563292741776, 0.23404690623283386, 0.07801563292741776, 0.7284705638885498, 0.1324491947889328, 0.1324491947889328, 0.8916110992431641, 0.37321335077285767, 0.4019220769405365, 0.17225231230258942, 0.028708720579743385, 0.05741744115948677, 0.6572679877281189, 0.47717106342315674, 0.09543421864509583, 0.42945396900177, 0.14743416011333466, 0.7371708154678345, 0.6697587966918945, 0.8207411766052246, 0.8044490218162537, 0.6824902892112732, 0.037115827202796936, 0.25981077551841736, 0.25981077551841736, 0.2969266176223755, 0.14846330881118774, 0.11138907819986343, 0.7797235250473022, 0.11138907819986343, 0.6766975522041321, 0.2706790268421173, 0.801474392414093, 0.857886552810669, 0.8916112184524536, 0.8578863143920898, 0.2926461696624756, 0.7316154837608337, 0.967736542224884, 0.6824955940246582, 0.6697587966918945, 0.16392065584659576, 0.6556826233863831, 0.16392065584659576, 0.3402668535709381, 0.27840015292167664, 0.18560010194778442, 0.12373340129852295, 0.09280005097389221, 0.7508900165557861, 0.6824955940246582, 0.12243138998746872, 0.12243138998746872, 0.24486277997493744, 0.6121569275856018, 0.9066309332847595, 0.6615614891052246, 0.26462459564208984, 0.18161262571811676, 0.18161262571811676, 0.42376279830932617, 0.18161262571811676, 0.6824955940246582, 0.6572682857513428, 0.6572580337524414, 0.6572608947753906, 0.667424738407135, 0.6824716925621033, 0.6697646975517273, 0.8014730215072632, 0.6674232482910156, 0.21991990506649017, 0.769719660282135, 0.8353095650672913, 0.6697587370872498, 0.6697587966918945, 0.22718645632266998, 0.6815593838691711, 0.3432050347328186, 0.2669372260570526, 0.3813389241695404, 0.4508773684501648, 0.12296655774116516, 0.18444983661174774, 0.20494426786899567, 0.040988851338624954, 0.657258152961731, 0.90663081407547, 0.1644391566514969, 0.5755370259284973, 0.08221957832574844, 0.1644391566514969, 0.9340543150901794, 0.90663081407547, 0.6674233078956604, 0.7671110033988953, 0.19177775084972382, 0.8768109083175659, 0.8905772566795349, 0.8703462481498718, 0.10691508650779724, 0.05345754325389862, 0.6949480772018433, 0.16037262976169586, 0.8578863143920898, 0.16537152230739594, 0.16537152230739594, 0.6614860892295837, 0.41208991408348083, 0.41208991408348083, 0.051511239260435104, 0.10302247852087021, 0.051511239260435104, 0.4954000413417816, 0.13210667669773102, 0.23118668794631958, 0.06605333834886551, 0.06605333834886551, 0.8388420939445496, 0.1677684187889099, 0.7508997321128845, 0.4235170781612396, 0.2730110287666321, 0.12600508332252502, 0.10500423610210419, 0.07350296527147293, 0.7884489297866821, 0.5383331179618835, 0.08972218632698059, 0.20935176312923431, 0.14953698217868805, 0.16202807426452637, 0.2592449188232422, 0.19443370401859283, 0.1296224594116211, 0.2592449188232422, 0.804456353187561, 0.2137516736984253, 0.12825100123882294, 0.17100133001804352, 0.2137516736984253, 0.2565020024776459, 0.31758689880371094, 0.2540695369243622, 0.3811042904853821, 0.06351738423109055, 0.6673556566238403, 0.29057615995407104, 0.29057615995407104, 0.14528807997703552, 0.14528807997703552, 0.1210733950138092, 0.16265754401683807, 0.8132877349853516, 0.657260000705719, 0.16965602338314056, 0.16965602338314056, 0.5089680552482605, 0.3773235082626343, 0.1451244205236435, 0.1741493195295334, 0.058049771934747696, 0.20317420363426208, 0.0775153860449791, 0.6201230883598328, 0.3100615441799164, 0.6616466641426086, 0.07351629436016083, 0.2940651774406433, 0.8372852802276611, 0.13954755663871765, 0.05329820513725281, 0.37308743596076965, 0.26649102568626404, 0.15989461541175842, 0.15989461541175842, 0.8578864336013794, 0.29169225692749023, 0.14584612846374512, 0.09723075479269028, 0.3889230191707611, 0.09723075479269028, 0.4574819803237915, 0.15249399840831757, 0.07624699920415878, 0.07624699920415878, 0.22874099016189575, 0.7509010434150696, 0.6674232482910156, 0.6677548289299011, 0.2671019434928894, 0.06677548587322235, 0.6572672724723816, 0.2685774862766266, 0.6714437007904053, 0.6573082804679871, 0.8916112184524536, 0.6674233078956604, 0.32688748836517334, 0.07264166325330734, 0.32688748836517334, 0.2542458176612854, 0.03632083162665367, 0.8044652938842773, 0.6153783202171326, 0.09467358887195587, 0.047336794435977936, 0.23668397963047028, 0.047336794435977936, 0.26365190744400024, 0.22598734498023987, 0.4896392524242401, 0.03766455873847008, 0.8989081978797913, 0.03457339107990265, 0.0691467821598053, 0.8758859038352966, 0.07897309958934784, 0.6317847967147827, 0.15794619917869568, 0.15794619917869568, 0.2736234664916992, 0.054724693298339844, 0.10944938659667969, 0.5472469329833984, 0.8014420866966248, 0.6674262285232544, 0.33242955803871155, 0.14246980845928192, 0.11872484534978867, 0.3086845874786377, 0.09497987478971481, 0.291389524936676, 0.072847381234169, 0.072847381234169, 0.5099316835403442, 0.072847381234169, 0.10585051029920578, 0.12702061235904694, 0.25404122471809387, 0.3387216329574585, 0.190530925989151, 0.1334916651248932, 0.8009499907493591, 0.15566489100456238, 0.19458112120628357, 0.38916224241256714, 0.19458112120628357, 0.07783244550228119, 0.5287637114524841, 0.20337067544460297, 0.12202240526676178, 0.10168533772230148, 0.04067413508892059, 0.3382583558559418, 0.4832262396812439, 0.17718295753002167, 0.13355208933353424, 0.06677604466676712, 0.534208357334137, 0.2671041786670685, 0.2413765788078308, 0.2681961953639984, 0.2145569622516632, 0.1072784811258316, 0.1609177142381668], \"Term\": [\"100kideas\", \"20\", \"20\", \"20\", \"2sunsky\", \"3\", \"3\", \"3\", \"3\", \"3\", \"6f\", \"73\", \"aclu\", \"action\", \"action\", \"action\", \"action\", \"actually\", \"actually\", \"actually\", \"actually\", \"actually\", \"aedmondsauthor\", \"agreed\", \"air\", \"air\", \"air\", \"air\", \"air\", \"also\", \"also\", \"also\", \"also\", \"amp\", \"amp\", \"amp\", \"amp\", \"amp\", \"amywestervelt\", \"annerajb\", \"annerajb\", \"annerajb\", \"annerajb\", \"aperezposada\", \"applied\", \"arrow\", \"article\", \"article\", \"article\", \"ashleyfeinberg\", \"atari\", \"atari\", \"autopilot\", \"autopilot\", \"awd\", \"awesome\", \"awesome\", \"backrowgracie\", \"bad\", \"bad\", \"bad\", \"barbiesway\", \"battery\", \"battery\", \"battery\", \"beautiful\", \"belt\", \"best\", \"best\", \"best\", \"best\", \"best\", \"betrayed\", \"better\", \"better\", \"better\", \"better\", \"better\", \"bevvscott\", \"blackrock\", \"board\", \"body\", \"body\", \"body\", \"body\", \"boring\", \"boring\", \"boring\", \"bourgeoisalien\", \"brave\", \"brick\", \"building\", \"building\", \"building\", \"capital\", \"car\", \"car\", \"car\", \"car\", \"car\", \"catch\", \"cent\", \"change\", \"change\", \"change\", \"change\", \"change\", \"child\", \"click\", \"comfort\", \"comfort\", \"coming\", \"coming\", \"coming\", \"coming\", \"comment\", \"comment\", \"company\", \"company\", \"company\", \"company\", \"company\", \"consider\", \"consumer\", \"consumerreports\", \"consumerreports\", \"contempt\", \"core\", \"credibility\", \"credibility\", \"credibility\", \"danaloni\", \"dawgfan93\", \"day\", \"day\", \"day\", \"day\", \"definitely\", \"definitely\", \"definitely\", \"definitely\", \"demand\", \"demand\", \"detail\", \"detail\", \"diameter\", \"distribution\", \"dmcryan\", \"dmcryan\", \"dmcryan\", \"dmcryan\", \"donandrewbailey\", \"done\", \"done\", \"done\", \"done\", \"done\", \"donor\", \"don\\u0092t\", \"don\\u0092t\", \"don\\u0092t\", \"don\\u0092t\", \"don\\u0092t\", \"drive\", \"drive\", \"drive\", \"drove\", \"dual\", \"dual\", \"electric\", \"electric\", \"electric\", \"electric\", \"enough\", \"enough\", \"enough\", \"enough\", \"entrance\", \"even\", \"even\", \"even\", \"even\", \"even\", \"exactly\", \"exactly\", \"exactly\", \"exactly\", \"exactly\", \"extreme\", \"extreme\", \"factsdatatruth\", \"fire\", \"fire\", \"fire\", \"follower\", \"fredericlambert\", \"fredericlambert\", \"fredericlambert\", \"fredericlambert\", \"fredericlambert\", \"free\", \"free\", \"free\", \"free\", \"freedom\", \"game\", \"game\", \"generate\", \"get\", \"get\", \"get\", \"get\", \"get\", \"go\", \"go\", \"go\", \"go\", \"go\", \"going\", \"going\", \"going\", \"going\", \"good\", \"good\", \"good\", \"good\", \"good\", \"gotchuw\", \"gradybooch\", \"great\", \"great\", \"great\", \"great\", \"guiscaesar\", \"haha\", \"haha\", \"haha\", \"help\", \"help\", \"help\", \"help\", \"high\", \"high\", \"high\", \"high\", \"high\", \"hourly\", \"hundred\", \"indiemusicfan9\", \"inflatable\", \"inflatable\", \"insideevs\", \"issue\", \"issue\", \"issue\", \"issue\", \"item\", \"it\\u0092s\", \"it\\u0092s\", \"it\\u0092s\", \"it\\u0092s\", \"it\\u0092s\", \"i\\u0092m\", \"i\\u0092m\", \"i\\u0092m\", \"i\\u0092m\", \"i\\u0092m\", \"jackp\", \"jamesworldspace\", \"jamesworldspace\", \"jamesworldspace\", \"jeffbezos\", \"jeffnesbit\", \"jgalerstein\", \"joerogan\", \"joerogan\", \"joerogan\", \"joerogan\", \"johnnasabri\", \"johnnasabri\", \"johnnasabri\", \"jorendewachter\", \"joshuatopolsky\", \"july\", \"kevlar\", \"know\", \"know\", \"know\", \"know\", \"know\", \"kobebryant\", \"kosulli\", \"last\", \"last\", \"last\", \"last\", \"let\\u0092s\", \"lexiheft\", \"lexiheft\", \"lifetime\", \"like\", \"like\", \"like\", \"like\", \"like\", \"liketeslakim\", \"lmk\", \"lmk\", \"love\", \"love\", \"love\", \"love\", \"love\", \"make\", \"make\", \"make\", \"make\", \"make\", \"malala\", \"manager\", \"many\", \"many\", \"many\", \"many\", \"many\", \"march\", \"maybe\", \"maybe\", \"maybe\", \"maybe\", \"maybe\", \"maysacha\", \"maysacha\", \"mazzucatom\", \"medium\", \"medium\", \"medium\", \"medium\", \"medium\", \"mkbhd\", \"mkbhd\", \"model\", \"model\", \"model\", \"model\", \"model\", \"model3owners\", \"model3owners\", \"model3owners\", \"module\", \"moment\", \"moment\", \"monitron\", \"monopoly\", \"month\", \"month\", \"month\", \"mph\", \"need\", \"need\", \"need\", \"need\", \"need\", \"new\", \"new\", \"new\", \"new\", \"new\", \"next\", \"next\", \"next\", \"no\", \"no\", \"no\", \"noise\", \"now\", \"now\", \"offered\", \"ok\", \"one\", \"one\", \"one\", \"one\", \"one\", \"oneunderscore\", \"oprah\", \"owner\", \"owner\", \"pack\", \"pack\", \"parked\", \"parkermolloy\", \"parkermolloy\", \"past\", \"patent\", \"people\", \"people\", \"people\", \"people\", \"people\", \"performance\", \"phone\", \"phone\", \"phone\", \"please\", \"please\", \"please\", \"please\", \"politifact\", \"politifact\", \"positive\", \"possible\", \"possible\", \"possible\", \"possible\", \"post\", \"post\", \"power\", \"power\", \"power\", \"power\", \"power\", \"pressure\", \"pressure\", \"pressure\", \"pressure\", \"probably\", \"probably\", \"probably\", \"produce\", \"production\", \"production\", \"production\", \"production\", \"production\", \"psi\", \"public\", \"public\", \"public\", \"pump\", \"pump\", \"radar\", \"raicestexas\", \"rail\", \"reader\", \"really\", \"really\", \"really\", \"really\", \"really\", \"red\", \"red\", \"red\", \"reddit\", \"reddit\", \"region\", \"rehearsallot\", \"removed\", \"repmaxinewaters\", \"result\", \"result\", \"reuters\", \"richardbranson\", \"rid\", \"ride\", \"ride\", \"ride\", \"right\", \"right\", \"right\", \"right\", \"right\", \"sal19\", \"sarahknuckey\", \"science\", \"science\", \"science\", \"science\", \"seal\", \"section\", \"section\", \"see\", \"see\", \"see\", \"see\", \"shanesmith30\", \"shorter\", \"shortsellers\", \"shot\", \"signing\", \"simpler\", \"singapore\", \"site\", \"sivarajkumar237\", \"slashdot\", \"slashdot\", \"slightly\", \"slowly\", \"somegrayareas\", \"somospostpc\", \"somospostpc\", \"soon\", \"soon\", \"soon\", \"spacex\", \"spacex\", \"spacex\", \"spacex\", \"spacex\", \"speceye\", \"speea\", \"speed\", \"speed\", \"speed\", \"speed\", \"standard\", \"stanton\", \"star\", \"story\", \"story\", \"stupid\", \"summon\", \"supercharging\", \"sure\", \"sure\", \"sure\", \"sure\", \"surfersnout\", \"swiftonsecurity\", \"swiftonsecurity\", \"swiftonsecurity\", \"take\", \"take\", \"take\", \"take\", \"take\", \"team\", \"team\", \"team\", \"team\", \"team\", \"techmeme\", \"techmeme\", \"tent\", \"tesla\", \"tesla\", \"tesla\", \"tesla\", \"tesla\", \"tested\", \"thanks\", \"thanks\", \"thanks\", \"thanks\", \"that\\u0092s\", \"that\\u0092s\", \"that\\u0092s\", \"that\\u0092s\", \"that\\u0092s\", \"theferriswheel\", \"thing\", \"thing\", \"thing\", \"thing\", \"thing\", \"think\", \"think\", \"think\", \"think\", \"tight\", \"time\", \"time\", \"time\", \"time\", \"time\", \"tonight\", \"tonight\", \"transport\", \"tried\", \"tried\", \"tried\", \"true\", \"true\", \"true\", \"true\", \"true\", \"tube\", \"tube\", \"tube\", \"tunnel\", \"tunnel\", \"tunnel\", \"turn\", \"turn\", \"twitter\", \"twitter\", \"twitter\", \"twitter\", \"twitter\", \"twittermoments\", \"uaw\", \"uaw\", \"uaw\", \"uaw\", \"uaw\", \"use\", \"use\", \"use\", \"use\", \"use\", \"v90\", \"velocity\", \"version\", \"version\", \"version\", \"vgfischer\", \"vicentes\", \"vicentes\", \"vishaljotshi\", \"voltage\", \"vpliketrump\", \"want\", \"want\", \"want\", \"want\", \"want\", \"watchtower\", \"water\", \"water\", \"water\", \"water\", \"water\", \"way\", \"way\", \"way\", \"way\", \"week\", \"week\", \"week\", \"weinbergersa\", \"welcome\", \"welcome\", \"welcome\", \"welcome\", \"we\\u0092re\", \"we\\u0092re\", \"we\\u0092re\", \"we\\u0092re\", \"whenever\", \"wise\", \"work\", \"work\", \"work\", \"work\", \"work\", \"worldandscience\", \"worldandscience\", \"worldandscience\", \"worldandscience\", \"worldandscience\", \"would\", \"would\", \"would\", \"would\", \"would\", \"xjawz\", \"xjawz\", \"yeah\", \"yeah\", \"yeah\", \"yeah\", \"yeah\", \"year\", \"year\", \"year\", \"year\", \"year\", \"yes\", \"yes\", \"yes\", \"you\", \"you\", \"you\", \"you\", \"you\\u0092re\", \"you\\u0092re\", \"you\\u0092re\", \"you\\u0092re\", \"you\\u0092re\"]}, \"R\": 30, \"lambda.step\": 0.01, \"plot.opts\": {\"xlab\": \"PC1\", \"ylab\": \"PC2\"}, \"topic.order\": [2, 3, 5, 4, 1]};\n",
       "\n",
       "function LDAvis_load_lib(url, callback){\n",
       "  var s = document.createElement('script');\n",
       "  s.src = url;\n",
       "  s.async = true;\n",
       "  s.onreadystatechange = s.onload = callback;\n",
       "  s.onerror = function(){console.warn(\"failed to load library \" + url);};\n",
       "  document.getElementsByTagName(\"head\")[0].appendChild(s);\n",
       "}\n",
       "\n",
       "if(typeof(LDAvis) !== \"undefined\"){\n",
       "   // already loaded: just create the visualization\n",
       "   !function(LDAvis){\n",
       "       new LDAvis(\"#\" + \"ldavis_el154322516572690016794160268\", ldavis_el154322516572690016794160268_data);\n",
       "   }(LDAvis);\n",
       "}else if(typeof define === \"function\" && define.amd){\n",
       "   // require.js is available: use it to load d3/LDAvis\n",
       "   require.config({paths: {d3: \"https://cdnjs.cloudflare.com/ajax/libs/d3/3.5.5/d3.min\"}});\n",
       "   require([\"d3\"], function(d3){\n",
       "      window.d3 = d3;\n",
       "      LDAvis_load_lib(\"https://cdn.rawgit.com/bmabey/pyLDAvis/files/ldavis.v1.0.0.js\", function(){\n",
       "        new LDAvis(\"#\" + \"ldavis_el154322516572690016794160268\", ldavis_el154322516572690016794160268_data);\n",
       "      });\n",
       "    });\n",
       "}else{\n",
       "    // require.js not available: dynamically load d3 & LDAvis\n",
       "    LDAvis_load_lib(\"https://cdnjs.cloudflare.com/ajax/libs/d3/3.5.5/d3.min.js\", function(){\n",
       "         LDAvis_load_lib(\"https://cdn.rawgit.com/bmabey/pyLDAvis/files/ldavis.v1.0.0.js\", function(){\n",
       "                 new LDAvis(\"#\" + \"ldavis_el154322516572690016794160268\", ldavis_el154322516572690016794160268_data);\n",
       "            })\n",
       "         });\n",
       "}\n",
       "</script>"
      ],
      "text/plain": [
       "PreparedData(topic_coordinates=              x         y  topics  cluster       Freq\n",
       "topic                                                \n",
       "1      0.116502  0.034686       1        1  28.152206\n",
       "2      0.017481  0.023068       2        1  19.912073\n",
       "4     -0.020520 -0.104950       3        1  18.745726\n",
       "3     -0.024351 -0.036938       4        1  17.447891\n",
       "0     -0.089112  0.084134       5        1  15.742101, topic_info=     Category        Freq            Term       Total  loglift  logprob\n",
       "term                                                                   \n",
       "136   Default   62.000000             yes   62.000000  30.0000  30.0000\n",
       "66    Default   36.000000            love   36.000000  29.0000  29.0000\n",
       "333   Default   17.000000              ok   17.000000  28.0000  28.0000\n",
       "335   Default   42.000000           great   42.000000  27.0000  27.0000\n",
       "88    Default   28.000000            week   28.000000  26.0000  26.0000\n",
       "1099  Default   21.000000     performance   21.000000  25.0000  25.0000\n",
       "210   Default   37.000000            next   37.000000  24.0000  24.0000\n",
       "65    Default   60.000000            like   60.000000  23.0000  23.0000\n",
       "495   Default   18.000000            sure   18.000000  22.0000  22.0000\n",
       "539   Default   46.000000          people   46.000000  21.0000  21.0000\n",
       "38    Default   23.000000           drive   23.000000  20.0000  20.0000\n",
       "27    Default  285.000000           tesla  285.000000  19.0000  19.0000\n",
       "463   Default   16.000000          boring   16.000000  18.0000  18.0000\n",
       "87    Default   26.000000             way   26.000000  17.0000  17.0000\n",
       "224   Default   14.000000              no   14.000000  16.0000  16.0000\n",
       "32    Default   73.000000               3   73.000000  15.0000  15.0000\n",
       "985   Default   27.000000         dmcryan   27.000000  14.0000  14.0000\n",
       "167   Default   65.000000            good   65.000000  13.0000  13.0000\n",
       "1350  Default   24.000000          medium   24.000000  12.0000  12.0000\n",
       "269   Default   14.000000         battery   14.000000  11.0000  11.0000\n",
       "17    Default   18.000000           were   18.000000  10.0000  10.0000\n",
       "4980  Default    8.000000   oneunderscore    8.000000   9.0000   9.0000\n",
       "4976  Default    8.000000         2sunsky    8.000000   8.0000   8.0000\n",
       "4977  Default    8.000000  ashleyfeinberg    8.000000   7.0000   7.0000\n",
       "209   Default   26.000000            soon   26.000000   6.0000   6.0000\n",
       "127   Default   18.000000            help   18.000000   5.0000   5.0000\n",
       "287   Default   47.000000           would   47.000000   4.0000   4.0000\n",
       "609   Default    8.000000         awesome    8.000000   3.0000   3.0000\n",
       "11    Default   33.000000            need   33.000000   2.0000   2.0000\n",
       "401   Default   12.000000           owner   12.000000   1.0000   1.0000\n",
       "...       ...         ...             ...         ...      ...      ...\n",
       "4085   Topic5    3.041392     somospostpc    4.401671   1.4792  -6.8930\n",
       "721    Topic5    4.500164         science    8.167840   1.2527  -6.5012\n",
       "2531   Topic5    5.217763     johnnasabri   10.300318   1.1687  -6.3533\n",
       "801    Topic5    3.044210         comment    4.464203   1.4660  -6.8921\n",
       "400    Topic5    5.632753           issue   12.053347   1.0881  -6.2768\n",
       "54     Topic5   41.497559             amp  347.390961  -0.2760  -4.2797\n",
       "224    Topic5    6.201331              no   14.738068   0.9832  -6.1806\n",
       "2185   Topic5    3.489132           tried    5.894279   1.3245  -6.7557\n",
       "128    Topic5    9.465837            know   33.049938   0.5985  -5.7577\n",
       "167    Topic5   13.580587            good   65.519318   0.2751  -5.3967\n",
       "33     Topic5    8.764951        actually   31.528713   0.5687  -5.8346\n",
       "319    Topic5   13.549331           model   71.167068   0.1901  -5.3990\n",
       "340    Topic5    8.254390          thats   30.858849   0.5302  -5.8946\n",
       "680    Topic5   10.224895            make   48.367500   0.2948  -5.6805\n",
       "158    Topic5    8.757728            even   37.493774   0.3946  -5.8354\n",
       "27     Topic5   20.528744           tesla  285.702759  -0.7843  -4.9835\n",
       "1076   Topic5    7.193992             im   28.962196   0.4561  -6.0321\n",
       "185    Topic5   11.500820             car  103.889984  -0.3521  -5.5629\n",
       "187    Topic5    8.483402           dont   45.348774   0.1726  -5.8672\n",
       "287    Topic5    8.533128           would   47.236427   0.1376  -5.8614\n",
       "1104   Topic5    7.131135         exactly   29.131565   0.4415  -6.0409\n",
       "496    Topic5    7.414109            true   34.453194   0.3126  -6.0020\n",
       "32     Topic5    8.845533               3   73.400421  -0.2672  -5.8254\n",
       "474    Topic5    7.119939          better   32.186722   0.3402  -6.0425\n",
       "103    Topic5    6.260692           thing   23.391630   0.5307  -6.1711\n",
       "596    Topic5    6.227094             use   26.230541   0.4108  -6.1765\n",
       "338    Topic5    6.184593           maybe   25.754730   0.4223  -6.1833\n",
       "37     Topic5    6.018869             day   26.815590   0.3547  -6.2105\n",
       "440    Topic5    5.944519             air   26.248154   0.3637  -6.2229\n",
       "1165   Topic5    5.942983          youre   37.286137   0.0124  -6.2231\n",
       "\n",
       "[375 rows x 6 columns], token_table=      Topic      Freq             Term\n",
       "term                                  \n",
       "3132      4  0.804456        100kideas\n",
       "2448      1  0.734550               20\n",
       "2448      2  0.104936               20\n",
       "2448      5  0.104936               20\n",
       "4976      3  0.972984          2sunsky\n",
       "32        1  0.572204                3\n",
       "32        2  0.163487                3\n",
       "32        3  0.136239                3\n",
       "32        4  0.013624                3\n",
       "32        5  0.122615                3\n",
       "2458      1  0.941703               6f\n",
       "2460      1  0.941703               73\n",
       "4080      5  0.783670             aclu\n",
       "1094      1  0.187313           action\n",
       "1094      2  0.468284           action\n",
       "1094      3  0.093657           action\n",
       "1094      5  0.187313           action\n",
       "33        1  0.475757         actually\n",
       "33        2  0.095151         actually\n",
       "33        3  0.126868         actually\n",
       "33        4  0.031717         actually\n",
       "33        5  0.285454         actually\n",
       "3779      5  0.857886   aedmondsauthor\n",
       "657       2  0.657249           agreed\n",
       "440       1  0.114294              air\n",
       "440       2  0.228588              air\n",
       "440       3  0.228588              air\n",
       "440       4  0.190490              air\n",
       "440       5  0.228588              air\n",
       "250       1  0.476024             also\n",
       "...     ...       ...              ...\n",
       "153       5  0.072847  worldandscience\n",
       "287       1  0.105851            would\n",
       "287       2  0.127021            would\n",
       "287       3  0.254041            would\n",
       "287       4  0.338722            would\n",
       "287       5  0.190531            would\n",
       "2221      2  0.133492            xjawz\n",
       "2221      3  0.800950            xjawz\n",
       "172       1  0.155665             yeah\n",
       "172       2  0.194581             yeah\n",
       "172       3  0.389162             yeah\n",
       "172       4  0.194581             yeah\n",
       "172       5  0.077832             yeah\n",
       "30        1  0.528764             year\n",
       "30        2  0.203371             year\n",
       "30        3  0.122022             year\n",
       "30        4  0.101685             year\n",
       "30        5  0.040674             year\n",
       "136       1  0.338258              yes\n",
       "136       3  0.483226              yes\n",
       "136       4  0.177183              yes\n",
       "104       1  0.133552              you\n",
       "104       2  0.066776              you\n",
       "104       3  0.534208              you\n",
       "104       5  0.267104              you\n",
       "1165      1  0.241377           youre\n",
       "1165      2  0.268196           youre\n",
       "1165      3  0.214557           youre\n",
       "1165      4  0.107278           youre\n",
       "1165      5  0.160918           youre\n",
       "\n",
       "[689 rows x 3 columns], R=30, lambda_step=0.01, plot_opts={'xlab': 'PC1', 'ylab': 'PC2'}, topic_order=[2, 3, 5, 4, 1])"
      ]
     },
     "execution_count": 213,
     "metadata": {},
     "output_type": "execute_result"
    }
   ],
   "source": [
    "# Plotting tools\n",
    "\n",
    "import pyLDAvis\n",
    "import pyLDAvis.gensim  # don't skip this\n",
    "import matplotlib.pyplot as plt\n",
    "%matplotlib inline\n",
    "\n",
    "pyLDAvis.enable_notebook()\n",
    "vis = pyLDAvis.gensim.prepare(ldamodel, corpus, dictionary)\n",
    "vis"
   ]
  },
  {
   "cell_type": "code",
   "execution_count": null,
   "metadata": {},
   "outputs": [],
   "source": []
  }
 ],
 "metadata": {
  "kernelspec": {
   "display_name": "Python 3",
   "language": "python",
   "name": "python3"
  },
  "language_info": {
   "codemirror_mode": {
    "name": "ipython",
    "version": 3
   },
   "file_extension": ".py",
   "mimetype": "text/x-python",
   "name": "python",
   "nbconvert_exporter": "python",
   "pygments_lexer": "ipython3",
   "version": "3.6.5"
  }
 },
 "nbformat": 4,
 "nbformat_minor": 2
}