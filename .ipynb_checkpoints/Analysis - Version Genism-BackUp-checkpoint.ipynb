{
 "cells": [
  {
   "cell_type": "code",
   "execution_count": 1,
   "metadata": {},
   "outputs": [],
   "source": [
    "import pandas as pd "
   ]
  },
  {
   "cell_type": "code",
   "execution_count": 2,
   "metadata": {},
   "outputs": [],
   "source": [
    "df = pd.DataFrame()"
   ]
  },
  {
   "cell_type": "markdown",
   "metadata": {},
   "source": [
    "# Combining the 13 CSVs of CEO Tweets"
   ]
  },
  {
   "cell_type": "code",
   "execution_count": 3,
   "metadata": {},
   "outputs": [],
   "source": [
    "import glob, os   \n",
    "path =r'C:/Users/Bloody Dachi/Documents/CS_401/Final_Project/CEO-Topic-Classifier-Extractor/Finished_Tweet_CSV' # use your path\n",
    "allFiles = glob.glob(path + \"/*.csv\")\n",
    "\n",
    "list_ = []\n",
    "\n",
    "for file_ in allFiles: \n",
    "    df = pd.read_csv(file_,index_col=None, encoding = \"latin1\",lineterminator='\\n')\n",
    "    list_.append(df)\n",
    "frame = pd.concat(list_, axis = 0, ignore_index = True)"
   ]
  },
  {
   "cell_type": "code",
   "execution_count": 4,
   "metadata": {},
   "outputs": [
    {
     "data": {
      "text/html": [
       "<div>\n",
       "<style scoped>\n",
       "    .dataframe tbody tr th:only-of-type {\n",
       "        vertical-align: middle;\n",
       "    }\n",
       "\n",
       "    .dataframe tbody tr th {\n",
       "        vertical-align: top;\n",
       "    }\n",
       "\n",
       "    .dataframe thead th {\n",
       "        text-align: right;\n",
       "    }\n",
       "</style>\n",
       "<table border=\"1\" class=\"dataframe\">\n",
       "  <thead>\n",
       "    <tr style=\"text-align: right;\">\n",
       "      <th></th>\n",
       "      <th>Unnamed: 0</th>\n",
       "      <th>Tweet</th>\n",
       "      <th>CEO_Full_Name</th>\n",
       "      <th>CEO_User_Name</th>\n",
       "    </tr>\n",
       "  </thead>\n",
       "  <tbody>\n",
       "    <tr>\n",
       "      <th>0</th>\n",
       "      <td>0</td>\n",
       "      <td>Your gift to @CDCFound supports our collaborat...</td>\n",
       "      <td>Judy Monroe, MD</td>\n",
       "      <td>DrJudyMonroe\\r</td>\n",
       "    </tr>\n",
       "    <tr>\n",
       "      <th>1</th>\n",
       "      <td>1</td>\n",
       "      <td>By giving to the causes you care about on #Giv...</td>\n",
       "      <td>Judy Monroe, MD</td>\n",
       "      <td>DrJudyMonroe\\r</td>\n",
       "    </tr>\n",
       "    <tr>\n",
       "      <th>2</th>\n",
       "      <td>2</td>\n",
       "      <td>As you give thanks this holiday season, please...</td>\n",
       "      <td>Judy Monroe, MD</td>\n",
       "      <td>DrJudyMonroe\\r</td>\n",
       "    </tr>\n",
       "    <tr>\n",
       "      <th>3</th>\n",
       "      <td>3</td>\n",
       "      <td>This #Thanksgiving, were #thankful to you for...</td>\n",
       "      <td>Judy Monroe, MD</td>\n",
       "      <td>DrJudyMonroe\\r</td>\n",
       "    </tr>\n",
       "    <tr>\n",
       "      <th>4</th>\n",
       "      <td>4</td>\n",
       "      <td>Enjoyed attending the #KoplanLecture on Friday...</td>\n",
       "      <td>Judy Monroe, MD</td>\n",
       "      <td>DrJudyMonroe\\r</td>\n",
       "    </tr>\n",
       "  </tbody>\n",
       "</table>\n",
       "</div>"
      ],
      "text/plain": [
       "   Unnamed: 0                                              Tweet  \\\n",
       "0           0  Your gift to @CDCFound supports our collaborat...   \n",
       "1           1  By giving to the causes you care about on #Giv...   \n",
       "2           2  As you give thanks this holiday season, please...   \n",
       "3           3  This #Thanksgiving, were #thankful to you for...   \n",
       "4           4  Enjoyed attending the #KoplanLecture on Friday...   \n",
       "\n",
       "     CEO_Full_Name CEO_User_Name\\r  \n",
       "0  Judy Monroe, MD  DrJudyMonroe\\r  \n",
       "1  Judy Monroe, MD  DrJudyMonroe\\r  \n",
       "2  Judy Monroe, MD  DrJudyMonroe\\r  \n",
       "3  Judy Monroe, MD  DrJudyMonroe\\r  \n",
       "4  Judy Monroe, MD  DrJudyMonroe\\r  "
      ]
     },
     "execution_count": 4,
     "metadata": {},
     "output_type": "execute_result"
    }
   ],
   "source": [
    "frame.head()"
   ]
  },
  {
   "cell_type": "code",
   "execution_count": 5,
   "metadata": {},
   "outputs": [
    {
     "data": {
      "text/plain": [
       "243527"
      ]
     },
     "execution_count": 5,
     "metadata": {},
     "output_type": "execute_result"
    }
   ],
   "source": [
    "len(frame)"
   ]
  },
  {
   "cell_type": "markdown",
   "metadata": {},
   "source": [
    "## Creating Multi-Index to reference Tweets of specific CEOs"
   ]
  },
  {
   "cell_type": "code",
   "execution_count": 6,
   "metadata": {},
   "outputs": [],
   "source": [
    "arrays = [frame[\"CEO_Full_Name\"]]\n",
    "index = pd.MultiIndex.from_arrays(arrays, names=['CEO_Names'])"
   ]
  },
  {
   "cell_type": "code",
   "execution_count": 7,
   "metadata": {},
   "outputs": [
    {
     "data": {
      "text/html": [
       "<div>\n",
       "<style scoped>\n",
       "    .dataframe tbody tr th:only-of-type {\n",
       "        vertical-align: middle;\n",
       "    }\n",
       "\n",
       "    .dataframe tbody tr th {\n",
       "        vertical-align: top;\n",
       "    }\n",
       "\n",
       "    .dataframe thead th {\n",
       "        text-align: right;\n",
       "    }\n",
       "</style>\n",
       "<table border=\"1\" class=\"dataframe\">\n",
       "  <thead>\n",
       "    <tr style=\"text-align: right;\">\n",
       "      <th></th>\n",
       "      <th>Tweets</th>\n",
       "    </tr>\n",
       "    <tr>\n",
       "      <th>CEO_Names</th>\n",
       "      <th></th>\n",
       "    </tr>\n",
       "  </thead>\n",
       "  <tbody>\n",
       "    <tr>\n",
       "      <th>Judy Monroe, MD</th>\n",
       "      <td>Your gift to @CDCFound supports our collaborat...</td>\n",
       "    </tr>\n",
       "    <tr>\n",
       "      <th>Judy Monroe, MD</th>\n",
       "      <td>By giving to the causes you care about on #Giv...</td>\n",
       "    </tr>\n",
       "    <tr>\n",
       "      <th>Judy Monroe, MD</th>\n",
       "      <td>As you give thanks this holiday season, please...</td>\n",
       "    </tr>\n",
       "    <tr>\n",
       "      <th>Judy Monroe, MD</th>\n",
       "      <td>This #Thanksgiving, were #thankful to you for...</td>\n",
       "    </tr>\n",
       "    <tr>\n",
       "      <th>Judy Monroe, MD</th>\n",
       "      <td>Enjoyed attending the #KoplanLecture on Friday...</td>\n",
       "    </tr>\n",
       "  </tbody>\n",
       "</table>\n",
       "</div>"
      ],
      "text/plain": [
       "                                                            Tweets\n",
       "CEO_Names                                                         \n",
       "Judy Monroe, MD  Your gift to @CDCFound supports our collaborat...\n",
       "Judy Monroe, MD  By giving to the causes you care about on #Giv...\n",
       "Judy Monroe, MD  As you give thanks this holiday season, please...\n",
       "Judy Monroe, MD  This #Thanksgiving, were #thankful to you for...\n",
       "Judy Monroe, MD  Enjoyed attending the #KoplanLecture on Friday..."
      ]
     },
     "execution_count": 7,
     "metadata": {},
     "output_type": "execute_result"
    }
   ],
   "source": [
    "df_new = pd.DataFrame(list(frame[\"Tweet\"]), index=index, columns = [\"Tweets\"])\n",
    "(df_new).head()"
   ]
  },
  {
   "cell_type": "code",
   "execution_count": 8,
   "metadata": {},
   "outputs": [
    {
     "data": {
      "text/plain": [
       "array(['Excellent piece why predictions about disruptive innovation are often lacking. We need to incorporate societal trends as much as technological. RT Why Futurism Has a Cultural Blindspot https://t.co/3v8NQjXmae',\n",
       "       'It was a pleasure and honor to work with the superb innovation team at the Merck Group, who are blazing the way for pharmaceutical, chemical and life sciences companies everywhere. https://t.co/UrXnX9JPFa',\n",
       "       'Can CPAs be innovative? Most definitely! A pleasure to run a workshop with the amazing people at @CohnReznick. https://t.co/CGpYIpuEXT',\n",
       "       ...,\n",
       "       'Inaugural meeting of Knesset caucus for US-Israel relations at @knessetil @israel convened by MK Shai with http://t.co/GXNS98jnHc',\n",
       "       \"#JFNAGA #GAsocial How do we measure a positive social media campaign's impact on people's view Israel and the conflict?\",\n",
       "       'Taking @Daroff advice at #gasocial - first tweet! No mistakes so far, right William?'],\n",
       "      dtype=object)"
      ]
     },
     "execution_count": 8,
     "metadata": {},
     "output_type": "execute_result"
    }
   ],
   "source": [
    "df_new.loc['David Dabscheck']['Tweets'].values#.head()\n",
    "#Add[\"Tweets\"] in order to access the tweets of "
   ]
  },
  {
   "cell_type": "markdown",
   "metadata": {},
   "source": [
    "# Cleaning Tweets"
   ]
  },
  {
   "cell_type": "code",
   "execution_count": 9,
   "metadata": {},
   "outputs": [
    {
     "name": "stdout",
     "output_type": "stream",
     "text": [
      "[['excellent', 'piece', 'why', 'predictions', 'about', 'disruptive', 'innovation', 'are', 'often', 'lacking', 'we', 'need', 'to', 'incorporate', 'societal', 'trends', 'as', 'much', 'as', 'technological', 'rt', 'why', 'futurism', 'has', 'a', 'cultural', 'blindspot', 'https', 't', 'co', '3v8nqjxmae'], ['it', 'was', 'a', 'pleasure', 'and', 'honor', 'to', 'work', 'with', 'the', 'superb', 'innovation', 'team', 'at', 'the', 'merck', 'group', 'who', 'are', 'blazing', 'the', 'way', 'for', 'pharmaceutical', 'chemical', 'and', 'life', 'sciences', 'companies', 'everywhere', 'https', 't', 'co', 'urxnx9jpfa']]\n"
     ]
    }
   ],
   "source": [
    "from nltk.tokenize import RegexpTokenizer\n",
    "tokenizer = RegexpTokenizer(r'\\w+')\n",
    "token_words = []\n",
    "for i in df_new.loc['David Dabscheck']['Tweets'].values:\n",
    "    raw = i.lower()\n",
    "    tokens = tokenizer.tokenize(raw)\n",
    "    token_words.append(tokens)\n",
    "print(token_words[0:2])"
   ]
  },
  {
   "cell_type": "markdown",
   "metadata": {},
   "source": [
    "## Lemmzatizing and Stemming of Words"
   ]
  },
  {
   "cell_type": "code",
   "execution_count": 18,
   "metadata": {},
   "outputs": [],
   "source": [
    "from nltk.corpus import stopwords \n",
    "from nltk.stem.wordnet import WordNetLemmatizer\n",
    "import string\n",
    "stop = set(stopwords.words('english'))\n",
    "exclude_punc = set(string.punctuation) \n",
    "lemma = WordNetLemmatizer()\n",
    "from nltk.stem.porter import PorterStemmer\n",
    "\n",
    "# Create p_stemmer of class PorterStemmer\n",
    "p_stemmer = PorterStemmer()\n",
    "def simplify_word(doc):\n",
    "    stop_words = \" \".join([i for i in doc.lower().split() if i not in stop])\n",
    "    texts = [p_stemmer.stem(i) for i in stop_words]\n",
    "    punc_remove = ''.join(ch for ch in texts if ch not in exclude_punc)\n",
    "    normalized_words = \" \".join(lemma.lemmatize(word) for word in punc_remove.split())\n",
    "    return normalized_words\n",
    "\n",
    "doc_clean = [simplify_word(doc).split() for doc in df_new.loc['David Dabscheck']['Tweets'].values]"
   ]
  },
  {
   "cell_type": "code",
   "execution_count": 19,
   "metadata": {
    "scrolled": true
   },
   "outputs": [
    {
     "name": "stdout",
     "output_type": "stream",
     "text": [
      "[['excellent', 'piece', 'prediction', 'disruptive', 'innovation', 'often', 'lacking', 'need', 'incorporate', 'societal', 'trend', 'much', 'technological', 'rt', 'futurism', 'cultural', 'blindspot', 'httpstco3v8nqjxmae'], ['pleasure', 'honor', 'work', 'superb', 'innovation', 'team', 'merck', 'group', 'blazing', 'way', 'pharmaceutical', 'chemical', 'life', 'science', 'company', 'everywhere', 'httpstcourxnx9jpfa'], ['cpa', 'innovative', 'definitely', 'pleasure', 'run', 'workshop', 'amazing', 'people', 'cohnreznick', 'httpstcocgpyipuext']]\n"
     ]
    }
   ],
   "source": [
    "print(doc_clean[0:3])"
   ]
  },
  {
   "cell_type": "code",
   "execution_count": 20,
   "metadata": {},
   "outputs": [
    {
     "data": {
      "text/plain": [
       "1306"
      ]
     },
     "execution_count": 20,
     "metadata": {},
     "output_type": "execute_result"
    }
   ],
   "source": [
    "len(doc_clean)"
   ]
  },
  {
   "cell_type": "markdown",
   "metadata": {},
   "source": [
    "## Creating document-term matrix"
   ]
  },
  {
   "cell_type": "code",
   "execution_count": 21,
   "metadata": {
    "scrolled": true
   },
   "outputs": [
    {
     "name": "stdout",
     "output_type": "stream",
     "text": [
      "Dictionary(5765 unique tokens: ['blindspot', 'cultural', 'disruptive', 'excellent', 'futurism']...)\n",
      "[(0, 1), (1, 1), (2, 1), (3, 1), (4, 1), (5, 1), (6, 1), (7, 1), (8, 1), (9, 1), (10, 1), (11, 1), (12, 1), (13, 1), (14, 1), (15, 1), (16, 1), (17, 1)]\n"
     ]
    }
   ],
   "source": [
    "from gensim import corpora, models\n",
    "\n",
    "dictionary = corpora.Dictionary(doc_clean)\n",
    "\n",
    "print(dictionary)\n",
    "corpus = [dictionary.doc2bow(text) for text in doc_clean] \n",
    "#creating bag of words making tuple of word identifier and word frequency in data\n",
    "print(corpus[0])"
   ]
  },
  {
   "cell_type": "code",
   "execution_count": 22,
   "metadata": {},
   "outputs": [],
   "source": [
    "import gensim\n",
    "from gensim import corpora, models\n",
    "Lda = gensim.models.ldamodel.LdaModel\n",
    "ldamodel = Lda(corpus, num_topics=5, id2word = dictionary, passes=50)"
   ]
  },
  {
   "cell_type": "code",
   "execution_count": 23,
   "metadata": {
    "scrolled": true
   },
   "outputs": [
    {
     "name": "stdout",
     "output_type": "stream",
     "text": [
      "[(0, '0.012*\"innovation\" + 0.006*\"via\"'), (1, '0.009*\"innovation\" + 0.008*\"rt\"'), (2, '0.029*\"innovation\" + 0.011*\"great\"'), (3, '0.010*\"innovation\" + 0.010*\"rt\"'), (4, '0.016*\"innovation\" + 0.006*\"good\"')]\n"
     ]
    }
   ],
   "source": [
    "print(ldamodel.print_topics(num_topics=5, num_words=2))"
   ]
  },
  {
   "cell_type": "code",
   "execution_count": 24,
   "metadata": {},
   "outputs": [
    {
     "name": "stdout",
     "output_type": "stream",
     "text": [
      "Topic: 0 Word: 0.012*\"innovation\" + 0.006*\"via\" + 0.006*\"mt\" + 0.005*\"rt\" + 0.005*\"amp\" + 0.005*\"design\" + 0.005*\"israel\" + 0.004*\"piece\" + 0.004*\"creativity\" + 0.004*\"important\"\n",
      "Topic: 1 Word: 0.009*\"innovation\" + 0.008*\"rt\" + 0.007*\"good\" + 0.006*\"startup\" + 0.006*\"new\" + 0.004*\"mt\" + 0.004*\"great\" + 0.004*\"via\" + 0.004*\"thanks\" + 0.003*\"one\"\n",
      "Topic: 2 Word: 0.029*\"innovation\" + 0.011*\"great\" + 0.010*\"rt\" + 0.006*\"design\" + 0.006*\"creativity\" + 0.006*\"thinking\" + 0.005*\"startup\" + 0.005*\"book\" + 0.005*\"skill\" + 0.004*\"learn\"\n",
      "Topic: 3 Word: 0.010*\"innovation\" + 0.010*\"rt\" + 0.008*\"mt\" + 0.007*\"great\" + 0.007*\"interesting\" + 0.007*\"new\" + 0.006*\"piece\" + 0.006*\"startup\" + 0.004*\"future\" + 0.004*\"important\"\n",
      "Topic: 4 Word: 0.016*\"innovation\" + 0.006*\"good\" + 0.006*\"via\" + 0.006*\"startup\" + 0.005*\"rt\" + 0.005*\"israeli\" + 0.005*\"great\" + 0.004*\"creativity\" + 0.004*\"amp\" + 0.004*\"corporate\"\n"
     ]
    }
   ],
   "source": [
    "for idx, topic in ldamodel.print_topics(-1):\n",
    "    print('Topic: {} Word: {}'.format(idx, topic))"
   ]
  },
  {
   "cell_type": "code",
   "execution_count": 25,
   "metadata": {
    "scrolled": false
   },
   "outputs": [
    {
     "name": "stderr",
     "output_type": "stream",
     "text": [
      "C:\\Users\\Bloody Dachi\\Anaconda3\\lib\\site-packages\\pyLDAvis\\_prepare.py:257: FutureWarning: Sorting because non-concatenation axis is not aligned. A future version\n",
      "of pandas will change to not sort by default.\n",
      "\n",
      "To accept the future behavior, pass 'sort=True'.\n",
      "\n",
      "To retain the current behavior and silence the warning, pass sort=False\n",
      "\n",
      "  return pd.concat([default_term_info] + list(topic_dfs))\n"
     ]
    },
    {
     "data": {
      "text/html": [
       "\n",
       "<link rel=\"stylesheet\" type=\"text/css\" href=\"https://cdn.rawgit.com/bmabey/pyLDAvis/files/ldavis.v1.0.0.css\">\n",
       "\n",
       "\n",
       "<div id=\"ldavis_el96422636394314721302297423\"></div>\n",
       "<script type=\"text/javascript\">\n",
       "\n",
       "var ldavis_el96422636394314721302297423_data = {\"mdsDat\": {\"x\": [0.12677937556872457, -0.05212348652976043, -0.025450355822885254, -0.00928959311960041, -0.0399159400964784], \"y\": [0.011986189913217904, 0.05638001117309164, 0.0734637387890826, -0.07746519730871969, -0.0643647425666725], \"topics\": [1, 2, 3, 4, 5], \"cluster\": [1, 1, 1, 1, 1], \"Freq\": [24.60033416748047, 20.02338218688965, 19.40081024169922, 18.52269172668457, 17.45277976989746]}, \"tinfo\": {\"Category\": [\"Default\", \"Default\", \"Default\", \"Default\", \"Default\", \"Default\", \"Default\", \"Default\", \"Default\", \"Default\", \"Default\", \"Default\", \"Default\", \"Default\", \"Default\", \"Default\", \"Default\", \"Default\", \"Default\", \"Default\", \"Default\", \"Default\", \"Default\", \"Default\", \"Default\", \"Default\", \"Default\", \"Default\", \"Default\", \"Default\", \"Topic1\", \"Topic1\", \"Topic1\", \"Topic1\", \"Topic1\", \"Topic1\", \"Topic1\", \"Topic1\", \"Topic1\", \"Topic1\", \"Topic1\", \"Topic1\", \"Topic1\", \"Topic1\", \"Topic1\", \"Topic1\", \"Topic1\", \"Topic1\", \"Topic1\", \"Topic1\", \"Topic1\", \"Topic1\", \"Topic1\", \"Topic1\", \"Topic1\", \"Topic1\", \"Topic1\", \"Topic1\", \"Topic1\", \"Topic1\", \"Topic1\", \"Topic1\", \"Topic1\", \"Topic1\", \"Topic1\", \"Topic1\", \"Topic1\", \"Topic1\", \"Topic1\", \"Topic1\", \"Topic1\", \"Topic1\", \"Topic1\", \"Topic1\", \"Topic1\", \"Topic1\", \"Topic1\", \"Topic1\", \"Topic1\", \"Topic1\", \"Topic1\", \"Topic1\", \"Topic1\", \"Topic1\", \"Topic1\", \"Topic1\", \"Topic1\", \"Topic1\", \"Topic1\", \"Topic1\", \"Topic1\", \"Topic1\", \"Topic1\", \"Topic1\", \"Topic1\", \"Topic1\", \"Topic2\", \"Topic2\", \"Topic2\", \"Topic2\", \"Topic2\", \"Topic2\", \"Topic2\", \"Topic2\", \"Topic2\", \"Topic2\", \"Topic2\", \"Topic2\", \"Topic2\", \"Topic2\", \"Topic2\", \"Topic2\", \"Topic2\", \"Topic2\", \"Topic2\", \"Topic2\", \"Topic2\", \"Topic2\", \"Topic2\", \"Topic2\", \"Topic2\", \"Topic2\", \"Topic2\", \"Topic2\", \"Topic2\", \"Topic2\", \"Topic2\", \"Topic2\", \"Topic2\", \"Topic2\", \"Topic2\", \"Topic2\", \"Topic2\", \"Topic2\", \"Topic2\", \"Topic2\", \"Topic2\", \"Topic2\", \"Topic2\", \"Topic2\", \"Topic2\", \"Topic2\", \"Topic2\", \"Topic2\", \"Topic2\", \"Topic2\", \"Topic2\", \"Topic2\", \"Topic2\", \"Topic2\", \"Topic2\", \"Topic2\", \"Topic2\", \"Topic2\", \"Topic2\", \"Topic2\", \"Topic2\", \"Topic2\", \"Topic2\", \"Topic2\", \"Topic2\", \"Topic2\", \"Topic2\", \"Topic2\", \"Topic2\", \"Topic3\", \"Topic3\", \"Topic3\", \"Topic3\", \"Topic3\", \"Topic3\", \"Topic3\", \"Topic3\", \"Topic3\", \"Topic3\", \"Topic3\", \"Topic3\", \"Topic3\", \"Topic3\", \"Topic3\", \"Topic3\", \"Topic3\", \"Topic3\", \"Topic3\", \"Topic3\", \"Topic3\", \"Topic3\", \"Topic3\", \"Topic3\", \"Topic3\", \"Topic3\", \"Topic3\", \"Topic3\", \"Topic3\", \"Topic3\", \"Topic3\", \"Topic3\", \"Topic3\", \"Topic3\", \"Topic3\", \"Topic3\", \"Topic3\", \"Topic3\", \"Topic3\", \"Topic3\", \"Topic3\", \"Topic3\", \"Topic3\", \"Topic3\", \"Topic3\", \"Topic3\", \"Topic3\", \"Topic3\", \"Topic3\", \"Topic3\", \"Topic3\", \"Topic3\", \"Topic3\", \"Topic3\", \"Topic3\", \"Topic3\", \"Topic3\", \"Topic3\", \"Topic3\", \"Topic3\", \"Topic3\", \"Topic3\", \"Topic3\", \"Topic3\", \"Topic3\", \"Topic3\", \"Topic3\", \"Topic3\", \"Topic3\", \"Topic3\", \"Topic3\", \"Topic3\", \"Topic3\", \"Topic3\", \"Topic3\", \"Topic3\", \"Topic3\", \"Topic3\", \"Topic3\", \"Topic4\", \"Topic4\", \"Topic4\", \"Topic4\", \"Topic4\", \"Topic4\", \"Topic4\", \"Topic4\", \"Topic4\", \"Topic4\", \"Topic4\", \"Topic4\", \"Topic4\", \"Topic4\", \"Topic4\", \"Topic4\", \"Topic4\", \"Topic4\", \"Topic4\", \"Topic4\", \"Topic4\", \"Topic4\", \"Topic4\", \"Topic4\", \"Topic4\", \"Topic4\", \"Topic4\", \"Topic4\", \"Topic4\", \"Topic4\", \"Topic4\", \"Topic4\", \"Topic4\", \"Topic4\", \"Topic4\", \"Topic4\", \"Topic4\", \"Topic4\", \"Topic4\", \"Topic4\", \"Topic4\", \"Topic4\", \"Topic4\", \"Topic4\", \"Topic4\", \"Topic4\", \"Topic4\", \"Topic4\", \"Topic4\", \"Topic4\", \"Topic4\", \"Topic4\", \"Topic4\", \"Topic4\", \"Topic4\", \"Topic4\", \"Topic4\", \"Topic4\", \"Topic4\", \"Topic4\", \"Topic4\", \"Topic4\", \"Topic4\", \"Topic4\", \"Topic4\", \"Topic4\", \"Topic4\", \"Topic4\", \"Topic4\", \"Topic4\", \"Topic4\", \"Topic4\", \"Topic4\", \"Topic4\", \"Topic4\", \"Topic4\", \"Topic4\", \"Topic4\", \"Topic4\", \"Topic4\", \"Topic4\", \"Topic4\", \"Topic5\", \"Topic5\", \"Topic5\", \"Topic5\", \"Topic5\", \"Topic5\", \"Topic5\", \"Topic5\", \"Topic5\", \"Topic5\", \"Topic5\", \"Topic5\", \"Topic5\", \"Topic5\", \"Topic5\", \"Topic5\", \"Topic5\", \"Topic5\", \"Topic5\", \"Topic5\", \"Topic5\", \"Topic5\", \"Topic5\", \"Topic5\", \"Topic5\", \"Topic5\", \"Topic5\", \"Topic5\", \"Topic5\", \"Topic5\", \"Topic5\", \"Topic5\", \"Topic5\", \"Topic5\", \"Topic5\", \"Topic5\", \"Topic5\", \"Topic5\", \"Topic5\", \"Topic5\", \"Topic5\", \"Topic5\", \"Topic5\", \"Topic5\", \"Topic5\", \"Topic5\", \"Topic5\", \"Topic5\", \"Topic5\", \"Topic5\", \"Topic5\", \"Topic5\", \"Topic5\", \"Topic5\", \"Topic5\", \"Topic5\", \"Topic5\", \"Topic5\", \"Topic5\", \"Topic5\", \"Topic5\", \"Topic5\", \"Topic5\", \"Topic5\", \"Topic5\", \"Topic5\", \"Topic5\", \"Topic5\", \"Topic5\", \"Topic5\", \"Topic5\", \"Topic5\", \"Topic5\", \"Topic5\", \"Topic5\", \"Topic5\"], \"Freq\": [39.0, 23.0, 17.0, 231.0, 20.0, 20.0, 14.0, 25.0, 15.0, 20.0, 13.0, 12.0, 31.0, 57.0, 17.0, 22.0, 54.0, 38.0, 21.0, 12.0, 16.0, 31.0, 66.0, 11.0, 33.0, 50.0, 9.0, 28.0, 13.0, 33.0, 5.367013454437256, 4.621155261993408, 4.620978832244873, 3.876389741897583, 3.8753304481506348, 15.449637413024902, 3.130932569503784, 3.1309304237365723, 3.1305720806121826, 3.1298201084136963, 3.129727840423584, 6.011233806610107, 2.3854687213897705, 2.3854682445526123, 2.3854684829711914, 2.3854684829711914, 2.385467529296875, 2.385467529296875, 2.385467052459717, 2.3854658603668213, 2.385465383529663, 2.3854265213012695, 2.3852994441986084, 2.384709358215332, 2.3845577239990234, 2.383267402648926, 2.3827502727508545, 2.378675937652588, 15.700737953186035, 3.8839550018310547, 12.590999603271484, 20.919036865234375, 16.019180297851562, 6.728597164154053, 13.314355850219727, 3.8780884742736816, 3.8774232864379883, 22.512590408325195, 102.9791488647461, 6.1207380294799805, 8.566448211669922, 6.046626091003418, 8.015299797058105, 8.142024040222168, 13.013077735900879, 37.03873062133789, 16.2364559173584, 21.259605407714844, 15.250049591064453, 9.031147003173828, 13.2391357421875, 33.753265380859375, 5.698662757873535, 8.351740837097168, 8.691154479980469, 19.249317169189453, 15.680360794067383, 14.466804504394531, 14.113602638244629, 9.851553916931152, 10.234297752380371, 14.026390075683594, 9.072421073913574, 9.85031795501709, 9.482649803161621, 9.127099990844727, 2.9884750843048096, 2.9884750843048096, 2.9884750843048096, 2.988473892211914, 2.276933193206787, 2.276932716369629, 2.2769320011138916, 2.276932716369629, 2.2769322395324707, 2.2769312858581543, 2.2769296169281006, 2.2766082286834717, 2.276461362838745, 2.2638156414031982, 4.411291599273682, 1.5653903484344482, 1.5653901100158691, 1.5653901100158691, 1.565389633178711, 1.5653892755508423, 1.5653892755508423, 1.5653892755508423, 1.5653892755508423, 1.5653886795043945, 1.5653883218765259, 1.5653880834579468, 1.5653880834579468, 1.5653883218765259, 1.5653880834579468, 1.5653879642486572, 2.9870693683624268, 3.702543020248413, 9.300557136535645, 10.514087677001953, 7.267218112945557, 20.388023376464844, 5.514684677124023, 19.375442504882812, 22.430500030517578, 3.7003014087677, 3.6481363773345947, 2.988710880279541, 12.266083717346191, 2.9906487464904785, 18.480167388916016, 28.9239444732666, 6.095701694488525, 11.32518196105957, 12.032975196838379, 20.698444366455078, 17.17974281311035, 10.198953628540039, 6.5581583976745605, 7.68538761138916, 8.736753463745117, 6.2488813400268555, 28.964351654052734, 7.264692783355713, 7.894613265991211, 7.278038024902344, 7.688989639282227, 11.52011775970459, 5.325281620025635, 7.2628278732299805, 5.840678691864014, 8.796087265014648, 8.308894157409668, 6.716522216796875, 6.367355823516846, 4.379003047943115, 2.966413974761963, 2.9633402824401855, 2.2601263523101807, 1.5538368225097656, 1.5538357496261597, 1.5538355112075806, 1.5538355112075806, 1.5538352727890015, 1.5538350343704224, 1.5538350343704224, 1.5538347959518433, 1.5538347959518433, 1.5538347959518433, 1.5538347959518433, 1.553834319114685, 1.553834319114685, 1.553834319114685, 1.553834319114685, 1.5538338422775269, 1.5538338422775269, 1.553834080696106, 1.5538338422775269, 1.5538333654403687, 1.5538336038589478, 1.5538333654403687, 1.5538333654403687, 1.5538333654403687, 1.5538337230682373, 1.5538333654403687, 5.090670108795166, 9.225303649902344, 9.326319694519043, 2.9680678844451904, 2.9443395137786865, 5.79624605178833, 3.67702317237854, 7.205136299133301, 6.510630130767822, 5.09237003326416, 6.279567718505859, 4.382930755615234, 10.039759635925293, 4.365689754486084, 2.684356689453125, 7.203059196472168, 9.000303268432617, 2.9684548377990723, 2.969980001449585, 2.969662666320801, 2.9694974422454834, 18.08477020263672, 2.2612857818603516, 2.2609236240386963, 2.2601583003997803, 5.097644329071045, 16.08904457092285, 4.9948835372924805, 7.145343780517578, 9.543476104736328, 6.502316951751709, 22.395671844482422, 17.094160079956055, 7.1617045402526855, 5.089013576507568, 25.377344131469727, 6.368650913238525, 12.394789695739746, 8.547975540161133, 7.296294212341309, 7.215156078338623, 11.072572708129883, 7.918969631195068, 6.497982501983643, 11.429353713989258, 7.044659614562988, 6.932802677154541, 6.471206188201904, 6.370635509490967, 2.944622278213501, 2.2435221672058105, 2.243518352508545, 2.2389841079711914, 3.648237466812134, 3.647087335586548, 1.5424214601516724, 1.5424200296401978, 1.5424199104309082, 1.5424197912216187, 1.54241943359375, 1.5424195528030396, 1.54241943359375, 1.5424193143844604, 1.5424193143844604, 1.542419195175171, 1.5424193143844604, 1.5424189567565918, 1.542419195175171, 1.5424187183380127, 1.5424187183380127, 1.5424187183380127, 1.542418360710144, 1.5424178838729858, 1.542418122291565, 1.5424177646636963, 1.5424177646636963, 1.5424177646636963, 1.5424178838729858, 1.5424177646636963, 1.5424177646636963, 2.047560930252075, 1.5424177646636963, 13.43102741241455, 1.5424177646636963, 4.347973346710205, 2.9485490322113037, 2.941972255706787, 3.6516215801239014, 3.6483571529388428, 3.4258673191070557, 4.348958492279053, 10.345678329467773, 5.704943656921387, 3.3344483375549316, 2.945751428604126, 5.756917476654053, 3.180105447769165, 2.2449660301208496, 9.219539642333984, 2.2423319816589355, 16.987852096557617, 6.902429580688477, 2.245692729949951, 2.240448236465454, 42.79356384277344, 3.6489145755767822, 16.638980865478516, 5.756686210632324, 16.42015838623047, 3.539391040802002, 6.079186916351318, 11.711196899414062, 10.996842384338379, 8.024351119995117, 6.080209732055664, 8.562088012695312, 4.961490154266357, 5.881897926330566, 6.109935283660889, 5.757565975189209, 7.416999340057373, 14.147790908813477, 12.45870304107666, 10.0542573928833, 7.583643436431885, 7.848324298858643, 8.914237976074219, 6.396718978881836, 5.751242637634277, 5.756145477294922, 6.498122692108154, 2.895778179168701, 2.206725597381592, 2.2067246437072754, 2.20672345161438, 2.2067201137542725, 2.2063803672790527, 2.2063071727752686, 2.205970525741577, 3.587733030319214, 1.5171221494674683, 1.5171221494674683, 1.5171219110488892, 1.5171219110488892, 1.5171219110488892, 1.5171219110488892, 1.5171219110488892, 1.51712167263031, 1.5171213150024414, 1.5171210765838623, 1.5171210765838623, 1.5171208381652832, 1.5171207189559937, 1.5171207189559937, 1.5171208381652832, 1.517120599746704, 1.517120599746704, 1.517120122909546, 1.517120122909546, 1.517120122909546, 1.517120122909546, 1.517120122909546, 4.276224136352539, 2.8908350467681885, 5.6582465171813965, 7.001645565032959, 7.6151123046875, 8.415003776550293, 4.282232284545898, 2.896223306655884, 11.795844078063965, 2.8501226902008057, 4.219968318939209, 2.2081048488616943, 2.2081010341644287, 2.2074973583221436, 2.205181360244751, 2.2082743644714355, 3.589240550994873, 3.589909315109253, 3.7994353771209717, 11.865729331970215, 6.824402809143066, 12.094287872314453, 14.884634017944336, 4.854859828948975, 31.15924835205078, 14.08046817779541, 9.275919914245605, 10.035723686218262, 10.085282325744629, 7.729921817779541, 5.299986839294434, 6.353857517242432, 13.229307174682617, 6.345083236694336, 8.612030029296875, 4.284359931945801, 5.206158638000488, 5.060226917266846, 6.491807460784912, 4.968554496765137, 7.0839762687683105, 4.9686455726623535, 5.799916744232178, 4.9646992683410645, 4.704133987426758], \"Term\": [\"design\", \"corporate\", \"lean\", \"innovation\", \"israeli\", \"learn\", \"story\", \"skill\", \"social\", \"article\", \"first\", \"job\", \"thinking\", \"good\", \"failure\", \"thanks\", \"new\", \"important\", \"workshop\", \"get\", \"well\", \"book\", \"mt\", \"approach\", \"israel\", \"interesting\", \"building\", \"one\", \"innovative\", \"nice\", \"age\", \"generation\", \"stand\", \"2016\", \"shoulder\", \"lean\", \"28\", \"warns\", \"incremental\", \"june\", \"connect\", \"leadership\", \"hold\", \"printing\", \"clothes\", \"qz\", \"hr\", \"crucial\", \"release\", \"designer\", \"hacking\", \"ashmaurya\", \"ticket\", \"golden\", \"subscribing\", \"probably\", \"paper\", \"edcatmull\", \"learn\", \"find\", \"well\", \"thinking\", \"skill\", \"forward\", \"workshop\", \"bird\", \"humanity\", \"design\", \"innovation\", \"principle\", \"reading\", \"list\", \"large\", \"looking\", \"corporate\", \"great\", \"book\", \"creativity\", \"nyc\", \"ai\", \"like\", \"rt\", \"tool\", \"you\", \"it\", \"startup\", \"piece\", \"amp\", \"interesting\", \"creative\", \"would\", \"via\", \"thanks\", \"idea\", \"need\", \"important\", \"peak\", \"society\", \"almonitor\", \"concept\", \"kafka\", \"funding\", \"iraq\", \"shame\", \"ready\", \"how\", \"else\", \"stronger\", \"le\", \"topic\", \"provocative\", \"golda\", \"eg\", \"albert\", \"aq\", \"golfer\", \"cat\", \"chutzpah\", \"export\", \"japanese\", \"army\", \"olympic\", \"involves\", \"write\", \"personal\", \"eastern\", \"internet\", \"jorgebarba\", \"failure\", \"article\", \"post\", \"interesting\", \"science\", \"new\", \"mt\", \"complexity\", \"part\", \"watch\", \"future\", \"bad\", \"piece\", \"rt\", \"way\", \"nice\", \"important\", \"great\", \"startup\", \"israel\", \"fascinating\", \"say\", \"idea\", \"research\", \"innovation\", \"make\", \"syria\", \"company\", \"tech\", \"via\", \"tnr\", \"crowdfunding\", \"world\", \"good\", \"amp\", \"book\", \"u\", \"false\", \"virtual\", \"among\", \"automation\", \"routine\", \"literacy\", \"misconception\", \"device\", \"context\", \"academia\", \"45\", \"journalist\", \"saved\", \"covering\", \"britain\", \"surprised\", \"130\", \"magazine\", \"policy\", \"httptcok10ahstkty\", \"stretch\", \"accelerating\", \"reporting\", \"mansion\", \"brazil\", \"cyberspace\", \"consciousness\", \"millennials\", \"expertise\", \"australian\", \"reality\", \"first\", \"story\", \"computer\", \"miss\", \"sound\", \"ha\", \"job\", \"get\", \"help\", \"american\", \"power\", \"thanks\", \"campaign\", \"disruptive\", \"day\", \"much\", \"wish\", \"exactly\", \"hospital\", \"college\", \"good\", \"movement\", \"street\", \"enterprise\", \"true\", \"new\", \"everyone\", \"read\", \"one\", \"come\", \"rt\", \"startup\", \"also\", \"advice\", \"innovation\", \"year\", \"mt\", \"need\", \"syria\", \"creative\", \"via\", \"nice\", \"want\", \"great\", \"crowdfunding\", \"would\", \"say\", \"like\", \"lot\", \"amareisreal\", \"talented\", \"dilbert\", \"15\", \"soon\", \"min\", \"updated\", \"milibrand\", \"on\", \"person\", \"whose\", \"truly\", \"healthier\", \"sobering\", \"blair\", \"host\", \"guest\", \"wework\", \"included\", \"gizmodo\", \"lecture\", \"nypd\", \"stranger\", \"personalized\", \"unfeasible\", \"connecting\", \"zoom\", \"decided\", \"balanced\", \"fish\", \"driving\", \"mobile\", \"israeli\", \"worldbank\", \"food\", \"mindfulness\", \"david\", \"event\", \"use\", \"too\", \"harvardbiz\", \"corporate\", \"around\", \"teach\", \"equity\", \"many\", \"fantastic\", \"friend\", \"people\", \"name\", \"good\", \"change\", \"app\", \"participant\", \"innovation\", \"inside\", \"via\", \"time\", \"startup\", \"class\", \"thing\", \"creativity\", \"amp\", \"crowdfunding\", \"amazing\", \"nice\", \"job\", \"failure\", \"pleasure\", \"real\", \"one\", \"rt\", \"great\", \"mt\", \"nyc\", \"important\", \"new\", \"u\", \"want\", \"yes\", \"piece\", \"continuing\", \"cuseas\", \"spot\", \"send\", \"negative\", \"checklistlegal\", \"chief\", \"zappos\", \"water\", \"sponsored\", \"bonus\", \"west\", \"harry\", \"guru\", \"sap\", \"frogdesign\", \"giltroy\", \"camp\", \"2015\", \"leadersinsight\", \"sinai\", \"uschina\", \"coup\", \"ruined\", \"kibbutz\", \"move\", \"chazzr\", \"essay\", \"headline\", \"hipster\", \"middleeast\", \"organizational\", \"radiofreeasha\", \"building\", \"approach\", \"innovative\", \"social\", \"run\", \"do\", \"israel\", \"wrong\", \"cant\", \"link\", \"comic\", \"summit\", \"bootcamp\", \"fastcompany\", \"medium\", \"impact\", \"92y\", \"design\", \"pleasure\", \"amp\", \"via\", \"honor\", \"innovation\", \"mt\", \"important\", \"creativity\", \"piece\", \"need\", \"always\", \"insight\", \"rt\", \"would\", \"good\", \"mindset\", \"work\", \"much\", \"interesting\", \"also\", \"great\", \"people\", \"startup\", \"like\", \"better\"], \"Total\": [39.0, 23.0, 17.0, 231.0, 20.0, 20.0, 14.0, 25.0, 15.0, 20.0, 13.0, 12.0, 31.0, 57.0, 17.0, 22.0, 54.0, 38.0, 21.0, 12.0, 16.0, 31.0, 66.0, 11.0, 33.0, 50.0, 9.0, 28.0, 13.0, 33.0, 5.929017543792725, 5.183518409729004, 5.183528423309326, 4.438108921051025, 4.438056945800781, 17.759475708007812, 3.692647933959961, 3.6926474571228027, 3.692628860473633, 3.6925816535949707, 3.6925578117370605, 7.371067523956299, 2.947185754776001, 2.947185516357422, 2.947185754776001, 2.94718599319458, 2.947185516357422, 2.947185516357422, 2.947185754776001, 2.947185516357422, 2.947185754776001, 2.9471840858459473, 2.9471731185913086, 2.947145938873291, 2.9471445083618164, 2.9470739364624023, 2.9469823837280273, 2.946678400039673, 20.613540649414062, 5.144744396209717, 16.881427764892578, 31.390478134155273, 25.526119232177734, 9.526349067687988, 21.085342407226562, 5.139313697814941, 5.139273643493652, 39.066959381103516, 231.27365112304688, 8.755273818969727, 13.114761352539062, 8.795662879943848, 12.431777954101562, 13.126567840576172, 23.912734985351562, 88.7092056274414, 31.936927795410156, 53.0848503112793, 33.902896881103516, 16.6776065826416, 28.8566951751709, 112.4499740600586, 8.745601654052734, 15.293880462646484, 18.107229232788086, 75.74330139160156, 55.7589225769043, 49.181541442871094, 50.84709930419922, 25.173303604125977, 27.960344314575195, 68.14269256591797, 22.36701202392578, 28.046249389648438, 32.830177307128906, 38.42558670043945, 3.556974172592163, 3.5569748878479004, 3.5569746494293213, 3.556974172592163, 2.8454315662384033, 2.845431327819824, 2.845430850982666, 2.8454315662384033, 2.845431089401245, 2.845431089401245, 2.845431327819824, 2.845426559448242, 2.8454530239105225, 2.845665693283081, 5.669702529907227, 2.133887767791748, 2.133887767791748, 2.133887767791748, 2.133887767791748, 2.133887529373169, 2.133887767791748, 2.133887767791748, 2.133887767791748, 2.133887767791748, 2.133887767791748, 2.133887767791748, 2.133887767791748, 2.133888006210327, 2.133887767791748, 2.133887767791748, 4.301069736480713, 5.681120872497559, 17.653656005859375, 20.80145835876465, 14.128891944885254, 50.84709930419922, 10.70521354675293, 54.78765869140625, 66.54011535644531, 6.4489970207214355, 6.348076820373535, 4.9361958503723145, 31.328781127929688, 4.992031574249268, 55.7589225769043, 112.4499740600586, 13.45611572265625, 33.226192474365234, 38.42558670043945, 88.7092056274414, 75.74330139160156, 33.90726089477539, 16.385936737060547, 21.55156135559082, 28.046249389648438, 15.815523147583008, 231.27365112304688, 21.336074829101562, 25.046480178833008, 23.591360092163086, 26.297290802001953, 68.14269256591797, 13.418829917907715, 28.339860916137695, 17.07174301147461, 57.18773651123047, 49.181541442871094, 31.936927795410156, 27.067729949951172, 4.948551177978516, 3.5359668731689453, 3.536137819290161, 2.8296756744384766, 2.1233842372894287, 2.1233839988708496, 2.1233839988708496, 2.1233842372894287, 2.1233839988708496, 2.1233839988708496, 2.1233839988708496, 2.1233839988708496, 2.1233839988708496, 2.1233839988708496, 2.1233839988708496, 2.1233839988708496, 2.1233839988708496, 2.1233842372894287, 2.1233842372894287, 2.1233839988708496, 2.1233839988708496, 2.1233839988708496, 2.1233839988708496, 2.1233839988708496, 2.1233842372894287, 2.1233839988708496, 2.1233839988708496, 2.1233839988708496, 2.1233842372894287, 2.1233842372894287, 7.0456461906433105, 13.439159393310547, 14.140172004699707, 4.237082004547119, 4.225059986114502, 9.13109016418457, 5.65491247177124, 12.682767868041992, 12.02662467956543, 9.180280685424805, 12.052967071533203, 7.718503475189209, 22.36701202392578, 7.795871734619141, 4.263193130493164, 15.598803520202637, 21.17662239074707, 4.926701545715332, 4.982380390167236, 4.982452392578125, 4.992846965789795, 57.18773651123047, 3.5193071365356445, 3.5192983150482178, 3.5193545818328857, 10.570911407470703, 54.78765869140625, 10.701180458068848, 17.866634368896484, 28.562297821044922, 16.473804473876953, 112.4499740600586, 75.74330139160156, 20.701738357543945, 12.018701553344727, 231.27365112304688, 18.35454559326172, 66.54011535644531, 32.830177307128906, 25.046480178833008, 25.173303604125977, 68.14269256591797, 33.226192474365234, 20.76479721069336, 88.7092056274414, 28.339860916137695, 27.960344314575195, 21.55156135559082, 28.8566951751709, 3.5152108669281006, 2.8141088485717773, 2.8141088485717773, 2.814176082611084, 4.927820205688477, 4.961617946624756, 2.113006114959717, 2.1130058765411377, 2.113006114959717, 2.1130058765411377, 2.1130058765411377, 2.113006114959717, 2.113006114959717, 2.1130058765411377, 2.1130058765411377, 2.1130058765411377, 2.113006114959717, 2.1130058765411377, 2.113006114959717, 2.1130058765411377, 2.1130058765411377, 2.113006114959717, 2.1130058765411377, 2.1130056381225586, 2.1130058765411377, 2.1130058765411377, 2.1130058765411377, 2.1130058765411377, 2.113006114959717, 2.1130058765411377, 2.1130058765411377, 2.817049026489258, 2.1130058765411377, 20.566232681274414, 2.113006114959717, 6.34050989151001, 4.205329418182373, 4.204857349395752, 5.651187419891357, 5.651258945465088, 5.6358537673950195, 7.719712734222412, 23.912734985351562, 11.390643119812012, 5.677860260009766, 4.938281536102295, 12.102418899536133, 5.587903022766113, 3.5037360191345215, 24.07808494567871, 3.525649070739746, 57.18773651123047, 16.873693466186523, 3.5594325065612793, 3.5595202445983887, 231.27365112304688, 7.158927917480469, 68.14269256591797, 14.859965324401855, 75.74330139160156, 7.1598076820373535, 17.04684066772461, 53.0848503112793, 49.181541442871094, 28.339860916137695, 17.757797241210938, 33.226192474365234, 12.682767868041992, 17.653656005859375, 19.055238723754883, 16.991334915161133, 28.562297821044922, 112.4499740600586, 88.7092056274414, 66.54011535644531, 33.902896881103516, 38.42558670043945, 54.78765869140625, 27.067729949951172, 20.76479721069336, 23.46674156188965, 55.7589225769043, 3.4692587852478027, 2.779611110687256, 2.779611110687256, 2.779611110687256, 2.779611349105835, 2.7796390056610107, 2.7796177864074707, 2.779672145843506, 4.859890460968018, 2.0900075435638428, 2.0900075435638428, 2.090007781982422, 2.090007781982422, 2.090007781982422, 2.090007781982422, 2.090007781982422, 2.090007781982422, 2.0900075435638428, 2.0900075435638428, 2.0900075435638428, 2.0900075435638428, 2.0900075435638428, 2.0900075435638428, 2.090007781982422, 2.0900075435638428, 2.090007781982422, 2.0900073051452637, 2.0900075435638428, 2.0900073051452637, 2.0900075435638428, 2.0900075435638428, 6.250644683837891, 4.1755876541137695, 9.170090675354004, 11.955242156982422, 13.323535919189453, 15.312379837036133, 7.678762435913086, 4.960055351257324, 33.90726089477539, 4.930048942565918, 8.447212219238281, 3.4806911945343018, 3.4806909561157227, 3.480700969696045, 3.4807839393615723, 3.491105079650879, 6.97353982925415, 6.994481086730957, 7.672112464904785, 39.066959381103516, 19.055238723754883, 49.181541442871094, 68.14269256591797, 11.888008117675781, 231.27365112304688, 66.54011535644531, 38.42558670043945, 53.0848503112793, 55.7589225769043, 32.830177307128906, 16.183963775634766, 23.54323959350586, 112.4499740600586, 27.960344314575195, 57.18773651123047, 12.737086296081543, 22.926677703857422, 21.17662239074707, 50.84709930419922, 20.701738357543945, 88.7092056274414, 24.07808494567871, 75.74330139160156, 28.8566951751709, 18.419143676757812], \"loglift\": [30.0, 29.0, 28.0, 27.0, 26.0, 25.0, 24.0, 23.0, 22.0, 21.0, 20.0, 19.0, 18.0, 17.0, 16.0, 15.0, 14.0, 13.0, 12.0, 11.0, 10.0, 9.0, 8.0, 7.0, 6.0, 5.0, 4.0, 3.0, 2.0, 1.0, 1.3028000593185425, 1.287600040435791, 1.287500023841858, 1.2670999765396118, 1.266800045967102, 1.263100028038025, 1.2374000549316406, 1.2374000549316406, 1.2373000383377075, 1.2371000051498413, 1.2369999885559082, 1.1985000371932983, 1.190999984741211, 1.190999984741211, 1.190999984741211, 1.190999984741211, 1.190999984741211, 1.190999984741211, 1.190999984741211, 1.190999984741211, 1.190999984741211, 1.1908999681472778, 1.1908999681472778, 1.1907000541687012, 1.190600037574768, 1.1900999546051025, 1.1899000406265259, 1.1883000135421753, 1.1302000284194946, 1.1212999820709229, 1.1092000007629395, 0.9965999722480774, 0.9365000128746033, 1.0547000169754028, 0.9427000284194946, 1.1208000183105469, 1.1207000017166138, 0.8511999845504761, 0.5932999849319458, 1.0443999767303467, 0.9764999747276306, 1.0276999473571777, 0.9635000228881836, 0.9247999787330627, 0.7940000295639038, 0.5289999842643738, 0.7258999943733215, 0.48730000853538513, 0.6035000085830688, 0.7889999747276306, 0.623199999332428, 0.19900000095367432, 0.9740999937057495, 0.7973999977111816, 0.66839998960495, 0.032499998807907104, 0.13379999995231628, 0.17870000004768372, 0.12070000171661377, 0.4643000066280365, 0.39739999175071716, -0.17829999327659607, 0.5001000165939331, 0.3560999929904938, 0.16050000488758087, -0.035100001841783524, 1.4341000318527222, 1.4341000318527222, 1.4341000318527222, 1.4341000318527222, 1.3854000568389893, 1.3854000568389893, 1.3854000568389893, 1.3854000568389893, 1.3854000568389893, 1.3854000568389893, 1.3854000568389893, 1.385200023651123, 1.385200023651123, 1.3795000314712524, 1.357300043106079, 1.2984999418258667, 1.2984999418258667, 1.2984999418258667, 1.2984999418258667, 1.2984999418258667, 1.2984999418258667, 1.2984999418258667, 1.2984999418258667, 1.2984999418258667, 1.2984999418258667, 1.2984999418258667, 1.2984999418258667, 1.2984999418258667, 1.2984999418258667, 1.2984999418258667, 1.2437000274658203, 1.1800999641418457, 0.9674000144004822, 0.9259999990463257, 0.9434000253677368, 0.6944000124931335, 0.9449999928474426, 0.5687999725341797, 0.5209000110626221, 1.0528000593185425, 1.0542999505996704, 1.1065000295639038, 0.6705999970436096, 1.095900058746338, 0.5038999915122986, 0.25040000677108765, 0.8163999915122986, 0.5320000052452087, 0.4472000002861023, 0.15299999713897705, 0.12470000237226486, 0.40689998865127563, 0.6926000118255615, 0.5770999789237976, 0.44200000166893005, 0.6797000169754028, -0.4693000018596649, 0.5309000015258789, 0.4537000060081482, 0.43230000138282776, 0.37860000133514404, -0.16920000314712524, 0.6840999722480774, 0.2468000054359436, 0.5357000231742859, -0.2637999951839447, -0.16990000009536743, 0.04910000041127205, 0.16110000014305115, 1.5176000595092773, 1.4642000198364258, 1.4630999565124512, 1.4150999784469604, 1.3276000022888184, 1.3276000022888184, 1.3276000022888184, 1.3276000022888184, 1.3276000022888184, 1.3276000022888184, 1.3276000022888184, 1.3276000022888184, 1.3276000022888184, 1.3276000022888184, 1.3276000022888184, 1.3276000022888184, 1.3276000022888184, 1.3276000022888184, 1.3276000022888184, 1.3276000022888184, 1.3276000022888184, 1.3276000022888184, 1.3276000022888184, 1.3276000022888184, 1.3276000022888184, 1.3276000022888184, 1.3276000022888184, 1.3276000022888184, 1.3276000022888184, 1.3276000022888184, 1.3149000406265259, 1.2635999917984009, 1.2237000465393066, 1.2839000225067139, 1.2786999940872192, 1.1854000091552734, 1.2094000577926636, 1.0743999481201172, 1.0262000560760498, 1.0505000352859497, 0.9878000020980835, 1.0740000009536743, 0.8388000130653381, 1.059999942779541, 1.177299976348877, 0.8672000169754028, 0.7842000126838684, 1.1332000494003296, 1.122499942779541, 1.1224000453948975, 1.1202000379562378, 0.4885999858379364, 1.1974999904632568, 1.1973999738693237, 1.1970000267028809, 0.9104999899864197, 0.41449999809265137, 0.8779000043869019, 0.7233999967575073, 0.5436000227928162, 0.7102000117301941, 0.026200000196695328, 0.15119999647140503, 0.5784000158309937, 0.7804999947547913, -0.5698999762535095, 0.5813999772071838, -0.040699999779462814, 0.29420000314712524, 0.4065000116825104, 0.3903000056743622, -0.17730000615119934, 0.20579999685287476, 0.4781000018119812, -0.4092999994754791, 0.24789999425411224, 0.24529999494552612, 0.4368000030517578, 0.12919999659061432, 1.5090999603271484, 1.4595999717712402, 1.4595999717712402, 1.4574999809265137, 1.3854999542236328, 1.3783999681472778, 1.371399998664856, 1.371399998664856, 1.371399998664856, 1.371399998664856, 1.371399998664856, 1.371399998664856, 1.371399998664856, 1.371399998664856, 1.371399998664856, 1.371399998664856, 1.371399998664856, 1.371399998664856, 1.371399998664856, 1.371399998664856, 1.371399998664856, 1.371399998664856, 1.371399998664856, 1.371399998664856, 1.371399998664856, 1.371399998664856, 1.371399998664856, 1.371399998664856, 1.371399998664856, 1.371399998664856, 1.371399998664856, 1.3671000003814697, 1.371399998664856, 1.26010000705719, 1.371399998664856, 1.308899998664856, 1.3310999870300293, 1.3289999961853027, 1.249500036239624, 1.2486000061035156, 1.1884000301361084, 1.1123000383377075, 0.8482999801635742, 0.994700014591217, 1.1539000272750854, 1.1694999933242798, 0.9431999921798706, 1.122499942779541, 1.2410000562667847, 0.7261999845504761, 1.2336000204086304, 0.4722999930381775, 0.7922999858856201, 1.225600004196167, 1.2231999635696411, -0.0010000000474974513, 1.0121999979019165, 0.27630001306533813, 0.7379000186920166, 0.15729999542236328, 0.9815999865531921, 0.6550999879837036, 0.17479999363422394, 0.1882999986410141, 0.4244000017642975, 0.6144000291824341, 0.3301999866962433, 0.7476000189781189, 0.5871000289916992, 0.5486999750137329, 0.6039999723434448, 0.3379000127315521, -0.38679999113082886, -0.2768000066280365, -0.20360000431537628, 0.18870000541210175, 0.09780000150203705, -0.12960000336170197, 0.243599995970726, 0.40230000019073486, 0.2809000015258789, -0.4634000062942505, 1.565000057220459, 1.5148999691009521, 1.5148999691009521, 1.5148999691009521, 1.5148999691009521, 1.5147000551223755, 1.5147000551223755, 1.5145000219345093, 1.442199945449829, 1.4253000020980835, 1.4253000020980835, 1.4253000020980835, 1.4253000020980835, 1.4253000020980835, 1.4253000020980835, 1.4253000020980835, 1.4253000020980835, 1.4253000020980835, 1.4253000020980835, 1.4253000020980835, 1.4253000020980835, 1.4253000020980835, 1.4253000020980835, 1.4253000020980835, 1.4253000020980835, 1.4253000020980835, 1.4253000020980835, 1.4253000020980835, 1.4253000020980835, 1.4253000020980835, 1.4253000020980835, 1.3660999536514282, 1.378000020980835, 1.2627999782562256, 1.2106000185012817, 1.1863000392913818, 1.1469999551773071, 1.1617000102996826, 1.2077000141143799, 0.6898000240325928, 1.197700023651123, 1.0516999959945679, 1.2905999422073364, 1.2905999422073364, 1.2903000116348267, 1.289199948310852, 1.2877000570297241, 1.0815000534057617, 1.0786999464035034, 1.0428999662399292, 0.5540000200271606, 0.7188000082969666, 0.34290000796318054, 0.22439999878406525, 0.8500999808311462, -0.2587999999523163, 0.19269999861717224, 0.32440000772476196, 0.07989999651908875, 0.0357000008225441, 0.2994000017642975, 0.6294000148773193, 0.4359000027179718, -0.3944000005722046, 0.26260000467300415, -0.14749999344348907, 0.6560999751091003, 0.2632000148296356, 0.3142000138759613, -0.3125999867916107, 0.31859999895095825, -0.7818999886512756, 0.16750000417232513, -0.8238000273704529, -0.014299999922513962, 0.3806999921798706], \"logprob\": [30.0, 29.0, 28.0, 27.0, 26.0, 25.0, 24.0, 23.0, 22.0, 21.0, 20.0, 19.0, 18.0, 17.0, 16.0, 15.0, 14.0, 13.0, 12.0, 11.0, 10.0, 9.0, 8.0, 7.0, 6.0, 5.0, 4.0, 3.0, 2.0, 1.0, -6.484799861907959, -6.634399890899658, -6.634399890899658, -6.810100078582764, -6.810400009155273, -5.427499771118164, -7.02370023727417, -7.02370023727417, -7.023799896240234, -7.024099826812744, -7.024099826812744, -6.371399879455566, -7.295599937438965, -7.295599937438965, -7.295599937438965, -7.295599937438965, -7.295599937438965, -7.295599937438965, -7.295599937438965, -7.2957000732421875, -7.2957000732421875, -7.2957000732421875, -7.2957000732421875, -7.296000003814697, -7.296000003814697, -7.296599864959717, -7.296800136566162, -7.298500061035156, -5.411300182342529, -6.808199882507324, -5.6321001052856445, -5.1244001388549805, -5.391300201416016, -6.258699893951416, -5.576200008392334, -6.809700012207031, -6.809899806976318, -5.051000118255615, -3.5304999351501465, -6.353400230407715, -6.017199993133545, -6.365499973297119, -6.083700180053711, -6.067999839782715, -5.599100112915039, -4.553100109100342, -5.377799987792969, -5.1082000732421875, -5.440499782562256, -5.964399814605713, -5.581900119781494, -4.645999908447266, -6.424799919128418, -6.042600154876709, -6.002699851989746, -5.207600116729736, -5.412600040435791, -5.493199825286865, -5.517899990081787, -5.877399921417236, -5.839300155639648, -5.524099826812744, -5.959799766540527, -5.877500057220459, -5.915599822998047, -5.953800201416016, -6.8643999099731445, -6.8643999099731445, -6.8643999099731445, -6.8643999099731445, -7.13640022277832, -7.13640022277832, -7.13640022277832, -7.13640022277832, -7.13640022277832, -7.13640022277832, -7.13640022277832, -7.136499881744385, -7.136600017547607, -7.142099857330322, -6.474999904632568, -7.511099815368652, -7.511099815368652, -7.511099815368652, -7.511099815368652, -7.511099815368652, -7.511099815368652, -7.511099815368652, -7.511099815368652, -7.511099815368652, -7.511099815368652, -7.511099815368652, -7.511099815368652, -7.511099815368652, -7.511099815368652, -7.511099815368652, -6.8649001121521, -6.650199890136719, -5.729100227355957, -5.606500148773193, -5.975800037384033, -4.944200038909912, -6.251800060272217, -4.995200157165527, -4.848800182342529, -6.6508002281188965, -6.664999961853027, -6.864299774169922, -5.452300071716309, -6.863699913024902, -5.042500019073486, -4.5945000648498535, -6.151599884033203, -5.532199859619141, -5.471499919891357, -4.929100036621094, -5.115499973297119, -5.636899948120117, -6.078499794006348, -5.919899940490723, -5.791600227355957, -6.126800060272217, -4.593100070953369, -5.976200103759766, -5.89300012588501, -5.974299907684326, -5.919400215148926, -5.515100002288818, -6.2866997718811035, -5.976399898529053, -6.194300174713135, -5.784900188446045, -5.841899871826172, -6.054599761962891, -6.107999801635742, -6.450799942016602, -6.840199947357178, -6.841300010681152, -7.112199783325195, -7.4868998527526855, -7.4868998527526855, -7.4868998527526855, -7.4868998527526855, -7.4868998527526855, -7.4868998527526855, -7.4868998527526855, -7.4868998527526855, -7.4868998527526855, -7.4868998527526855, -7.4868998527526855, -7.4868998527526855, -7.4868998527526855, -7.4868998527526855, -7.4868998527526855, -7.4868998527526855, -7.4868998527526855, -7.4868998527526855, -7.4868998527526855, -7.4868998527526855, -7.4868998527526855, -7.4868998527526855, -7.4868998527526855, -7.4868998527526855, -7.4868998527526855, -7.4868998527526855, -6.30019998550415, -5.705599784851074, -5.694799900054932, -6.839700222015381, -6.847700119018555, -6.170400142669678, -6.625500202178955, -5.9527997970581055, -6.054200172424316, -6.299900054931641, -6.0903000831604, -6.449900150299072, -5.620999813079834, -6.453800201416016, -6.940199851989746, -5.953100204467773, -5.730299949645996, -6.839600086212158, -6.839000225067139, -6.839200019836426, -6.839200019836426, -5.03249979019165, -7.111700057983398, -7.111800193786621, -7.112199783325195, -6.298799991607666, -5.149499893188477, -6.319200038909912, -5.961100101470947, -5.6717000007629395, -6.0553998947143555, -4.818699836730957, -5.088900089263916, -5.958899974822998, -6.30049991607666, -4.693699836730957, -6.076200008392334, -5.410299777984619, -5.781899929046631, -5.940199851989746, -5.951399803161621, -5.523099899291992, -5.85830020904541, -6.056099891662598, -5.491399765014648, -5.975299835205078, -5.991300106048584, -6.060200214385986, -6.075900077819824, -6.801300048828125, -7.073200225830078, -7.073200225830078, -7.075300216674805, -6.586999893188477, -6.587399959564209, -7.44789981842041, -7.44789981842041, -7.44789981842041, -7.44789981842041, -7.44789981842041, -7.44789981842041, -7.44789981842041, -7.44789981842041, -7.44789981842041, -7.44789981842041, -7.44789981842041, -7.44789981842041, -7.44789981842041, -7.44789981842041, -7.44789981842041, -7.44789981842041, -7.44789981842041, -7.44789981842041, -7.44789981842041, -7.44789981842041, -7.44789981842041, -7.44789981842041, -7.44789981842041, -7.44789981842041, -7.44789981842041, -7.164599895477295, -7.44789981842041, -5.283699989318848, -7.44789981842041, -6.411600112915039, -6.800000190734863, -6.802199840545654, -6.586100101470947, -6.586999893188477, -6.649899959564209, -6.411300182342529, -5.5447001457214355, -6.139900207519531, -6.677000045776367, -6.800899982452393, -6.130899906158447, -6.724400043487549, -7.0725998878479, -5.659999847412109, -7.073800086975098, -5.048799991607666, -5.949399948120117, -7.072299957275391, -7.0746002197265625, -4.124899864196777, -6.586900234222412, -5.069499969482422, -6.130899906158447, -5.082799911499023, -6.617300033569336, -6.076399803161621, -5.4207000732421875, -5.483699798583984, -5.798799991607666, -6.076200008392334, -5.73390007019043, -6.279600143432617, -6.109399795532227, -6.071400165557861, -6.130799770355225, -5.877500057220459, -5.2316999435424805, -5.35890007019043, -5.573299884796143, -5.855299949645996, -5.821000099182129, -5.693600177764893, -6.0254998207092285, -6.131899833679199, -6.13100004196167, -6.009799957275391, -6.758500099182129, -7.030300140380859, -7.030300140380859, -7.030300140380859, -7.030300140380859, -7.030399799346924, -7.0304999351501465, -7.030600070953369, -6.544300079345703, -7.40500020980835, -7.40500020980835, -7.40500020980835, -7.40500020980835, -7.40500020980835, -7.40500020980835, -7.40500020980835, -7.40500020980835, -7.40500020980835, -7.40500020980835, -7.40500020980835, -7.40500020980835, -7.40500020980835, -7.40500020980835, -7.40500020980835, -7.40500020980835, -7.40500020980835, -7.40500020980835, -7.40500020980835, -7.40500020980835, -7.40500020980835, -7.40500020980835, -6.36870002746582, -6.760200023651123, -6.088699817657471, -5.8755998611450195, -5.791600227355957, -5.691800117492676, -6.367300033569336, -6.758399963378906, -5.354000091552734, -6.774400234222412, -6.381999969482422, -7.029600143432617, -7.029699802398682, -7.029900074005127, -7.031000137329102, -7.029600143432617, -6.543799877166748, -6.543700218200684, -6.4868998527526855, -5.348100185394287, -5.901299953460693, -5.329100131988525, -5.121500015258789, -6.241799831390381, -4.382699966430664, -5.177000045776367, -5.594399929046631, -5.515600204467773, -5.510700225830078, -5.776700019836426, -6.154099941253662, -5.972700119018555, -5.239299774169922, -5.974100112915039, -5.668600082397461, -6.366799831390381, -6.171899795532227, -6.200399875640869, -5.951200008392334, -6.218699932098389, -5.863900184631348, -6.218599796295166, -6.063899993896484, -6.219399929046631, -6.2733001708984375]}, \"token.table\": {\"Topic\": [3, 2, 4, 5, 1, 1, 3, 3, 4, 5, 3, 3, 1, 3, 4, 5, 1, 1, 2, 3, 4, 5, 2, 2, 1, 2, 3, 5, 1, 2, 3, 4, 5, 4, 1, 2, 3, 4, 5, 1, 3, 4, 5, 3, 1, 2, 3, 4, 5, 1, 4, 1, 3, 4, 5, 2, 2, 1, 2, 3, 4, 1, 2, 5, 1, 3, 3, 1, 2, 5, 4, 1, 2, 3, 4, 5, 1, 4, 4, 5, 1, 2, 3, 4, 4, 5, 3, 3, 1, 3, 5, 5, 1, 2, 3, 4, 5, 1, 4, 5, 2, 2, 3, 4, 5, 5, 5, 5, 2, 1, 3, 4, 1, 1, 2, 3, 1, 2, 3, 4, 4, 5, 1, 2, 3, 4, 5, 1, 2, 5, 3, 4, 2, 1, 4, 3, 3, 5, 1, 4, 5, 3, 1, 2, 3, 4, 5, 1, 2, 3, 4, 5, 1, 2, 3, 4, 5, 1, 5, 3, 4, 5, 1, 2, 3, 4, 5, 4, 1, 2, 5, 1, 3, 4, 2, 3, 1, 5, 4, 2, 1, 2, 2, 3, 5, 2, 4, 5, 1, 4, 5, 1, 2, 3, 4, 1, 3, 4, 3, 2, 2, 3, 4, 5, 3, 4, 5, 1, 2, 3, 4, 5, 2, 5, 1, 3, 2, 3, 4, 4, 2, 4, 1, 3, 4, 4, 5, 5, 2, 1, 2, 3, 4, 5, 1, 2, 3, 5, 5, 4, 2, 1, 2, 1, 2, 3, 4, 5, 1, 2, 3, 4, 5, 4, 5, 2, 3, 4, 1, 5, 2, 4, 5, 5, 4, 2, 3, 4, 5, 5, 1, 2, 3, 4, 5, 1, 3, 4, 4, 2, 1, 3, 1, 4, 1, 2, 3, 4, 5, 2, 4, 5, 1, 2, 4, 5, 4, 1, 1, 2, 3, 4, 5, 1, 2, 3, 4, 5, 1, 3, 4, 1, 2, 3, 4, 5, 1, 2, 3, 4, 5, 1, 2, 2, 2, 1, 2, 3, 4, 5, 1, 3, 4, 5, 1, 2, 3, 5, 2, 3, 4, 2, 3, 3, 1, 2, 5, 1, 2, 3, 2, 1, 4, 5, 1, 3, 1, 2, 3, 4, 1, 2, 3, 5, 4, 5, 1, 2, 4, 3, 1, 3, 4, 4, 3, 1, 2, 3, 4, 5, 3, 1, 2, 3, 4, 3, 4, 5, 5, 4, 3, 4, 4, 5, 1, 2, 3, 4, 5, 3, 3, 5, 4, 5, 3, 5, 1, 2, 3, 4, 5, 1, 2, 3, 4, 5, 2, 4, 1, 2, 3, 4, 5, 5, 1, 2, 3, 4, 5, 1, 2, 3, 4, 5, 1, 2, 3, 4, 5, 4, 2, 4, 1, 2, 3, 4, 4, 5, 1, 2, 4, 5, 1, 4, 2, 1, 2, 3, 4, 5, 4, 2, 4, 1, 2, 3, 4, 5, 1, 2, 3, 4, 5, 3, 2, 3, 4, 5, 3, 4, 5, 1, 4, 5, 1, 1, 2, 5, 1, 3, 5, 1, 2, 3, 4, 5, 1, 3, 5, 2, 1, 2, 3, 4, 5, 3, 4, 5, 1, 3, 1, 2, 4, 5, 3, 1, 2, 3, 4, 5, 5, 2, 3, 4, 5, 5, 3, 1, 2, 3, 4, 1, 2, 3, 4, 5, 5, 2, 1, 5, 1, 2, 3, 4, 4, 3, 4, 5, 2, 1, 4, 3, 4, 5, 5, 5, 1, 1, 2, 3, 4, 5, 2, 3, 5, 4, 3, 5, 3, 2, 1, 4, 5, 3, 1, 2, 3, 4, 5, 4, 1, 2, 4, 1, 2, 3, 4, 5, 1, 2, 3, 5, 1, 2, 3, 4, 5, 1, 2, 3, 4, 5, 1, 1, 2, 3, 4, 5, 2, 3, 4, 5, 2, 3, 4, 1, 3, 5, 2, 1, 2, 3, 4, 5, 4, 1, 2, 3, 4, 5, 4, 4, 5, 1, 4, 5, 1, 2, 3, 4, 5, 3, 1, 3, 4, 5, 1, 2, 5, 4, 5, 1, 2, 3, 4, 5, 1, 2, 3, 4, 5, 5, 4, 4, 3, 4, 5, 1, 2, 3, 4, 5, 1, 3, 4, 5, 1, 2, 3, 4, 5, 4, 1, 2, 3, 5, 2, 1, 2, 5, 1, 2, 3, 4, 5, 1, 2, 3, 4, 5, 1, 2, 3, 5, 4], \"Freq\": [0.9418927431106567, 0.20292948186397552, 0.8117179274559021, 0.9569343328475952, 0.9012847542762756, 0.8124251365661621, 0.9418927431106567, 0.26068440079689026, 0.26068440079689026, 0.5213688015937805, 0.9418927431106567, 0.9418927431106567, 0.16640733182430267, 0.4160183072090149, 0.2496109902858734, 0.16640733182430267, 0.8433100581169128, 0.539645791053772, 0.11992128193378448, 0.11992128193378448, 0.11992128193378448, 0.11992128193378448, 0.937256395816803, 0.8434133529663086, 0.28983074426651, 0.09661024063825607, 0.33813586831092834, 0.24152560532093048, 0.12357912212610245, 0.12357912212610245, 0.2471582442522049, 0.2471582442522049, 0.3089478015899658, 0.7107045650482178, 0.225253164768219, 0.1126265823841095, 0.1126265823841095, 0.3378797471523285, 0.225253164768219, 0.1659342497587204, 0.497802734375, 0.1659342497587204, 0.1659342497587204, 0.8483832478523254, 0.28465965390205383, 0.16266265511512756, 0.060998495668172836, 0.2236611545085907, 0.24399398267269135, 0.2809436619281769, 0.5618873238563538, 0.16729062795639038, 0.08364531397819519, 0.16729062795639038, 0.5855172276496887, 0.937256395816803, 0.937256395816803, 0.17558270692825317, 0.17558270692825317, 0.17558270692825317, 0.5267481207847595, 0.2884413003921509, 0.5288090705871582, 0.19229421019554138, 0.6786138415336609, 0.9418926239013672, 0.706794798374176, 0.20031924545764923, 0.6009577512741089, 0.20031924545764923, 0.9465188980102539, 0.1628740280866623, 0.21716536581516266, 0.10858268290758133, 0.27145668864250183, 0.27145668864250183, 0.7783140540122986, 0.19457851350307465, 0.9465188980102539, 0.9569343328475952, 0.5009874701499939, 0.21918201446533203, 0.12524686753749847, 0.1565585732460022, 0.28729161620140076, 0.5745832324028015, 0.9418926239013672, 0.9418927431106567, 0.21810035407543182, 0.10905017703771591, 0.6543010473251343, 0.9569343328475952, 0.12827302515506744, 0.12827302515506744, 0.5130921006202698, 0.12827302515506744, 0.12827302515506744, 0.23676450550556183, 0.23676450550556183, 0.47352901101112366, 0.937256395816803, 0.1777915358543396, 0.29631924629211426, 0.41484692692756653, 0.11852769553661346, 0.9569344520568848, 0.7195178866386414, 0.7195233702659607, 0.937256395816803, 0.2793371081352234, 0.1396685540676117, 0.5586742162704468, 0.6786134839057922, 0.20028653740882874, 0.20028653740882874, 0.6008595824241638, 0.3035121560096741, 0.12140486389398575, 0.4249170124530792, 0.18210729956626892, 0.2872992753982544, 0.5745985507965088, 0.2543303966522217, 0.2967188060283661, 0.16955359280109406, 0.21194200217723846, 0.08477679640054703, 0.3101257383823395, 0.620251476764679, 0.15506286919116974, 0.7080344557762146, 0.23601147532463074, 0.8434134721755981, 0.8124449849128723, 0.9465188980102539, 0.9418927431106567, 0.9418927431106567, 0.8647380471229553, 0.5436433553695679, 0.4181872010231018, 0.9569343328475952, 0.9418927431106567, 0.39724624156951904, 0.11917386949062347, 0.2780723571777344, 0.07944924384355545, 0.11917386949062347, 0.3955930769443512, 0.07535106688737869, 0.11302659660577774, 0.22605319321155548, 0.18837766349315643, 0.1058579683303833, 0.24700191617012024, 0.24700191617012024, 0.2822878956794739, 0.1058579683303833, 0.678613543510437, 0.7195250988006592, 0.9418927431106567, 0.7134605646133423, 0.23782019317150116, 0.12821495532989502, 0.19232244789600372, 0.44875237345695496, 0.12821495532989502, 0.12821495532989502, 0.9465187788009644, 0.5887327790260315, 0.10238831490278244, 0.3071649372577667, 0.678613543510437, 0.9418926239013672, 0.7106875777244568, 0.23456595838069916, 0.7036978602409363, 0.4032213091850281, 0.6048319339752197, 0.709962785243988, 0.937256395816803, 0.678730309009552, 0.937256395816803, 0.7028811573982239, 0.5682860016822815, 0.28414300084114075, 0.4049991965293884, 0.6074987649917603, 0.9569343328475952, 0.17695395648479462, 0.7078158259391785, 0.17695395648479462, 0.18689526617527008, 0.2803429067134857, 0.4672381579875946, 0.09344763308763504, 0.20070727169513702, 0.6021218299865723, 0.20070727169513702, 0.9418926239013672, 0.937256395816803, 0.5098094344139099, 0.05664549022912979, 0.33987295627593994, 0.11329098045825958, 0.8083174228668213, 0.5368740558624268, 0.3579160273075104, 0.18308383226394653, 0.42719560861587524, 0.12205588072538376, 0.18308383226394653, 0.12205588072538376, 0.28644225001335144, 0.5728845000267029, 0.7774924635887146, 0.19437311589717865, 0.22322824597358704, 0.6696847677230835, 0.07440941780805588, 0.9465188980102539, 0.31543204188346863, 0.6308640837669373, 0.7348040342330933, 0.20994402468204498, 0.10497201234102249, 0.5708192586898804, 0.2854096293449402, 0.9569342136383057, 0.7028811573982239, 0.1915171891450882, 0.3830343782901764, 0.12767812609672546, 0.15959765017032623, 0.12767812609672546, 0.9645957946777344, 0.3325954079627991, 0.5820419192314148, 0.08314885199069977, 0.9569342136383057, 0.9465188980102539, 0.937256395816803, 0.6786226630210876, 0.9372565150260925, 0.08743133395910263, 0.15737639367580414, 0.3147527873516083, 0.29726654291152954, 0.15737639367580414, 0.4170931279659271, 0.23672853410243988, 0.1240006610751152, 0.13527344167232513, 0.0789095088839531, 0.9465188980102539, 0.9569342136383057, 0.17683739960193634, 0.7073495984077454, 0.17683739960193634, 0.6786134839057922, 0.9569342136383057, 0.2590770125389099, 0.5181540250778198, 0.2590770125389099, 0.9569344520568848, 0.9465188980102539, 0.21785826981067657, 0.5446456670761108, 0.10892913490533829, 0.10892913490533829, 0.9569343328475952, 0.6786134839057922, 0.16823676228523254, 0.08411838114261627, 0.3364735245704651, 0.42059192061424255, 0.20070438086986542, 0.6021131277084351, 0.20070438086986542, 0.9465187788009644, 0.7028812170028687, 0.678613543510437, 0.9418927431106567, 0.7783201336860657, 0.19458003342151642, 0.35655391216278076, 0.32089853286743164, 0.14262156188488007, 0.10696617513895035, 0.07131078094244003, 0.2859397232532501, 0.14296986162662506, 0.5718794465065002, 0.23421894013881683, 0.3122919201850891, 0.20819461345672607, 0.23421894013881683, 0.9465188980102539, 0.8124293088912964, 0.44535985589027405, 0.1253925859928131, 0.10809705406427383, 0.18592692911624908, 0.13404034078121185, 0.15011030435562134, 0.15011030435562134, 0.07505515217781067, 0.15011030435562134, 0.6004412174224854, 0.279371440410614, 0.139685720205307, 0.558742880821228, 0.33980029821395874, 0.08495007455348969, 0.2123751938343048, 0.12742511928081512, 0.25485023856163025, 0.27533528208732605, 0.39333611726760864, 0.09833402931690216, 0.09833402931690216, 0.11800083518028259, 0.23250029981136322, 0.6975008845329285, 0.937256395816803, 0.7028812766075134, 0.14746104180812836, 0.2949220836162567, 0.1179688349366188, 0.1179688349366188, 0.353906512260437, 0.19449356198310852, 0.09724678099155426, 0.6321040987968445, 0.04862339049577713, 0.4970390498638153, 0.11045312136411667, 0.3313593566417694, 0.055226560682058334, 0.937256395816803, 0.5519300103187561, 0.3942357003688812, 0.704086422920227, 0.3520432114601135, 0.9418927431106567, 0.8124397397041321, 0.7028810977935791, 0.9569343328475952, 0.6435121297836304, 0.0804390162229538, 0.2413170486688614, 0.7028757929801941, 0.8139933347702026, 0.13566556572914124, 0.9569343328475952, 0.8446195125579834, 0.11261593550443649, 0.776188850402832, 0.097023606300354, 0.097023606300354, 0.9465187788009644, 0.45050203800201416, 0.13861601054668427, 0.207924023270607, 0.17327001690864563, 0.287299245595932, 0.574598491191864, 0.6821543574333191, 0.2273847907781601, 0.11369239538908005, 0.9418927431106567, 0.6094509959220886, 0.22854413092136383, 0.15236274898052216, 0.8534338474273682, 0.9418926239013672, 0.18747590482234955, 0.3280828297138214, 0.18747590482234955, 0.09373795241117477, 0.18747590482234955, 0.9418927431106567, 0.16525621712207794, 0.16525621712207794, 0.16525621712207794, 0.495768666267395, 0.2867983877658844, 0.2867983877658844, 0.5735967755317688, 0.9569343328475952, 0.9465187788009644, 0.9418927431106567, 0.9465187788009644, 0.7133805155754089, 0.23779350519180298, 0.15702177584171295, 0.23553267121315002, 0.15702177584171295, 0.15702177584171295, 0.3140435516834259, 0.9418927431106567, 0.7100490927696228, 0.23668302595615387, 0.9465188980102539, 0.9569342136383057, 0.5682936906814575, 0.28414684534072876, 0.12022822350263596, 0.3306276202201843, 0.18034233152866364, 0.1502852886915207, 0.21039938926696777, 0.09444376826286316, 0.14166565239429474, 0.424996942281723, 0.09444376826286316, 0.2361094206571579, 0.2836357057094574, 0.5672714114189148, 0.27413803339004517, 0.18275868892669678, 0.27413803339004517, 0.06091956049203873, 0.2436782419681549, 0.7195250391960144, 0.14601828157901764, 0.34679344296455383, 0.2920365631580353, 0.1642705649137497, 0.054756857454776764, 0.06019347533583641, 0.3310641050338745, 0.24077390134334564, 0.2708706259727478, 0.12038695067167282, 0.44244006276130676, 0.11798401921987534, 0.11798401921987534, 0.23596803843975067, 0.08848801255226135, 0.9465188980102539, 0.937256395816803, 0.9465188980102539, 0.21006713807582855, 0.17505595088005066, 0.3501119017601013, 0.24507832527160645, 0.31996700167655945, 0.6399340033531189, 0.6786603331565857, 0.6301121115684509, 0.15752802789211273, 0.31505605578422546, 0.28093674778938293, 0.5618734955787659, 0.8434134721755981, 0.20765770971775055, 0.04153154045343399, 0.16612616181373596, 0.3737838864326477, 0.20765770971775055, 0.9465188980102539, 0.937256395816803, 0.9465188980102539, 0.28694960474967957, 0.3228182792663574, 0.08967174589633942, 0.10760609805583954, 0.17934349179267883, 0.20991602540016174, 0.052479006350040436, 0.10495801270008087, 0.3148740530014038, 0.36735305190086365, 0.9418926239013672, 0.49543872475624084, 0.14155392348766327, 0.2123308777809143, 0.14155392348766327, 0.5182351469993591, 0.12955878674983978, 0.25911757349967957, 0.6853012442588806, 0.1142168715596199, 0.2284337431192398, 0.678613543510437, 0.6786392331123352, 0.7055043578147888, 0.1763760894536972, 0.6786134243011475, 0.23948724567890167, 0.7184617519378662, 0.2798512578010559, 0.11194050312042236, 0.39179176092147827, 0.11194050312042236, 0.11194050312042236, 0.6862496137619019, 0.15249991416931152, 0.15249991416931152, 0.7028812170028687, 0.17656058073043823, 0.11770705878734589, 0.17656058073043823, 0.35312116146087646, 0.23541411757469177, 0.7096580862998962, 0.14193162322044373, 0.14193162322044373, 0.6786134839057922, 0.9418927431106567, 0.37937411665916443, 0.37937411665916443, 0.1264580339193344, 0.1264580339193344, 0.9418926239013672, 0.30235666036605835, 0.2578924596309662, 0.19564254581928253, 0.12449980527162552, 0.11560696363449097, 0.9569342136383057, 0.26045864820480347, 0.13022932410240173, 0.13022932410240173, 0.5209172964096069, 0.9569342136383057, 0.9418927431106567, 0.27840209007263184, 0.3712027966976166, 0.27840209007263184, 0.04640034958720207, 0.18682485818862915, 0.5604745745658875, 0.18682485818862915, 0.09341242909431458, 0.09341242909431458, 0.7195250988006592, 0.7028810977935791, 0.9012953042984009, 0.9569343328475952, 0.6268089413642883, 0.03917555883526802, 0.11752668023109436, 0.1958777904510498, 0.9465188980102539, 0.1306132674217224, 0.2612265348434448, 0.5224530696868896, 0.8434132933616638, 0.20154716074466705, 0.8061886429786682, 0.6570956707000732, 0.1095159500837326, 0.2190319001674652, 0.9569343328475952, 0.7195250988006592, 0.9645939469337463, 0.2508472502231598, 0.2244422882795334, 0.2244422882795334, 0.2112397998571396, 0.0792149230837822, 0.2828820049762726, 0.6364845037460327, 0.07072050124406815, 0.9465190172195435, 0.5682951211929321, 0.28414756059646606, 0.9418927431106567, 0.7028822898864746, 0.6786229610443115, 0.28729844093322754, 0.5745968818664551, 0.9418927431106567, 0.23955461382865906, 0.3194061517715454, 0.2794803977012634, 0.07985153794288635, 0.07985153794288635, 0.7107045650482178, 0.17612268030643463, 0.17612268030643463, 0.5283680558204651, 0.19013366103172302, 0.30421385169029236, 0.22816038131713867, 0.15210692584514618, 0.15210692584514618, 0.40237829089164734, 0.08941739797592163, 0.44708698987960815, 0.044708698987960815, 0.1759856939315796, 0.11732379347085953, 0.1759856939315796, 0.3519713878631592, 0.11732379347085953, 0.6689926981925964, 0.06371358782052994, 0.12742717564105988, 0.06371358782052994, 0.0955703854560852, 0.6786164045333862, 0.13458982110023499, 0.26917964220046997, 0.13458982110023499, 0.40376943349838257, 0.13458982110023499, 0.3726107180118561, 0.3726107180118561, 0.14904429018497467, 0.14904429018497467, 0.17743541300296783, 0.17743541300296783, 0.5323061943054199, 0.6860591173171997, 0.2286863774061203, 0.11434318870306015, 0.7028232216835022, 0.09459922462701797, 0.09459922462701797, 0.4729961156845093, 0.09459922462701797, 0.2837976813316345, 0.9465187788009644, 0.22166617214679718, 0.22166617214679718, 0.14777745306491852, 0.22166617214679718, 0.14777745306491852, 0.9465188980102539, 0.9465188980102539, 0.9569343328475952, 0.17695172131061554, 0.7078068852424622, 0.17695172131061554, 0.20545123517513275, 0.17610105872154236, 0.16142596304416656, 0.24947649240493774, 0.22012631595134735, 0.8484242558479309, 0.3371089994907379, 0.2889505624771118, 0.2889505624771118, 0.096316859126091, 0.8124252557754517, 0.6077554821968079, 0.4051703214645386, 0.20576594769954681, 0.8230637907981873, 0.14863130450248718, 0.44589391350746155, 0.07431565225124359, 0.07431565225124359, 0.29726260900497437, 0.7700770497322083, 0.05923669412732124, 0.05923669412732124, 0.11847338825464249, 0.05923669412732124, 0.9569342136383057, 0.9465187788009644, 0.9465187788009644, 0.6089266538619995, 0.2029755562543869, 0.2029755562543869, 0.3489384651184082, 0.26170384883880615, 0.08723461627960205, 0.08723461627960205, 0.21808654069900513, 0.6165420413017273, 0.04742630943655968, 0.1897052377462387, 0.14227893948554993, 0.17572897672653198, 0.35145795345306396, 0.17572897672653198, 0.11715265363454819, 0.17572897672653198, 0.9465187788009644, 0.35764938592910767, 0.14305976033210754, 0.2503545582294464, 0.21458962559700012, 0.9372563362121582, 0.2028377503156662, 0.2028377503156662, 0.6085132360458374, 0.054482415318489075, 0.2179296612739563, 0.32689449191093445, 0.2179296612739563, 0.16344724595546722, 0.21306750178337097, 0.1704539954662323, 0.1704539954662323, 0.25568100810050964, 0.1704539954662323, 0.5230850577354431, 0.26154252886772156, 0.19615688920021057, 0.7195093035697937, 0.9465188980102539], \"Term\": [\"130\", \"15\", \"15\", \"2015\", \"2016\", \"28\", \"45\", \"92y\", \"92y\", \"92y\", \"academia\", \"accelerating\", \"advice\", \"advice\", \"advice\", \"advice\", \"age\", \"ai\", \"ai\", \"ai\", \"ai\", \"ai\", \"albert\", \"almonitor\", \"also\", \"also\", \"also\", \"also\", \"always\", \"always\", \"always\", \"always\", \"always\", \"amareisreal\", \"amazing\", \"amazing\", \"amazing\", \"amazing\", \"amazing\", \"american\", \"american\", \"american\", \"american\", \"among\", \"amp\", \"amp\", \"amp\", \"amp\", \"amp\", \"app\", \"app\", \"approach\", \"approach\", \"approach\", \"approach\", \"aq\", \"army\", \"around\", \"around\", \"around\", \"around\", \"article\", \"article\", \"article\", \"ashmaurya\", \"australian\", \"automation\", \"bad\", \"bad\", \"bad\", \"balanced\", \"better\", \"better\", \"better\", \"better\", \"better\", \"bird\", \"bird\", \"blair\", \"bonus\", \"book\", \"book\", \"book\", \"book\", \"bootcamp\", \"bootcamp\", \"brazil\", \"britain\", \"building\", \"building\", \"building\", \"camp\", \"campaign\", \"campaign\", \"campaign\", \"campaign\", \"campaign\", \"cant\", \"cant\", \"cant\", \"cat\", \"change\", \"change\", \"change\", \"change\", \"chazzr\", \"checklistlegal\", \"chief\", \"chutzpah\", \"class\", \"class\", \"class\", \"clothes\", \"college\", \"college\", \"college\", \"come\", \"come\", \"come\", \"come\", \"comic\", \"comic\", \"company\", \"company\", \"company\", \"company\", \"company\", \"complexity\", \"complexity\", \"complexity\", \"computer\", \"computer\", \"concept\", \"connect\", \"connecting\", \"consciousness\", \"context\", \"continuing\", \"corporate\", \"corporate\", \"coup\", \"covering\", \"creative\", \"creative\", \"creative\", \"creative\", \"creative\", \"creativity\", \"creativity\", \"creativity\", \"creativity\", \"creativity\", \"crowdfunding\", \"crowdfunding\", \"crowdfunding\", \"crowdfunding\", \"crowdfunding\", \"crucial\", \"cuseas\", \"cyberspace\", \"david\", \"david\", \"day\", \"day\", \"day\", \"day\", \"day\", \"decided\", \"design\", \"design\", \"design\", \"designer\", \"device\", \"dilbert\", \"disruptive\", \"disruptive\", \"do\", \"do\", \"driving\", \"eastern\", \"edcatmull\", \"eg\", \"else\", \"enterprise\", \"enterprise\", \"equity\", \"equity\", \"essay\", \"event\", \"event\", \"event\", \"everyone\", \"everyone\", \"everyone\", \"everyone\", \"exactly\", \"exactly\", \"exactly\", \"expertise\", \"export\", \"failure\", \"failure\", \"failure\", \"failure\", \"false\", \"fantastic\", \"fantastic\", \"fascinating\", \"fascinating\", \"fascinating\", \"fascinating\", \"fascinating\", \"fastcompany\", \"fastcompany\", \"find\", \"find\", \"first\", \"first\", \"first\", \"fish\", \"food\", \"food\", \"forward\", \"forward\", \"forward\", \"friend\", \"friend\", \"frogdesign\", \"funding\", \"future\", \"future\", \"future\", \"future\", \"future\", \"generation\", \"get\", \"get\", \"get\", \"giltroy\", \"gizmodo\", \"golda\", \"golden\", \"golfer\", \"good\", \"good\", \"good\", \"good\", \"good\", \"great\", \"great\", \"great\", \"great\", \"great\", \"guest\", \"guru\", \"ha\", \"ha\", \"ha\", \"hacking\", \"harry\", \"harvardbiz\", \"harvardbiz\", \"harvardbiz\", \"headline\", \"healthier\", \"help\", \"help\", \"help\", \"help\", \"hipster\", \"hold\", \"honor\", \"honor\", \"honor\", \"honor\", \"hospital\", \"hospital\", \"hospital\", \"host\", \"how\", \"hr\", \"httptcok10ahstkty\", \"humanity\", \"humanity\", \"idea\", \"idea\", \"idea\", \"idea\", \"idea\", \"impact\", \"impact\", \"impact\", \"important\", \"important\", \"important\", \"important\", \"included\", \"incremental\", \"innovation\", \"innovation\", \"innovation\", \"innovation\", \"innovation\", \"innovative\", \"innovative\", \"innovative\", \"innovative\", \"innovative\", \"inside\", \"inside\", \"inside\", \"insight\", \"insight\", \"insight\", \"insight\", \"insight\", \"interesting\", \"interesting\", \"interesting\", \"interesting\", \"interesting\", \"internet\", \"internet\", \"involves\", \"iraq\", \"israel\", \"israel\", \"israel\", \"israel\", \"israel\", \"israeli\", \"israeli\", \"israeli\", \"israeli\", \"it\", \"it\", \"it\", \"it\", \"japanese\", \"job\", \"job\", \"jorgebarba\", \"jorgebarba\", \"journalist\", \"june\", \"kafka\", \"kibbutz\", \"large\", \"large\", \"large\", \"le\", \"leadership\", \"leadership\", \"leadersinsight\", \"lean\", \"lean\", \"learn\", \"learn\", \"learn\", \"lecture\", \"like\", \"like\", \"like\", \"like\", \"link\", \"link\", \"list\", \"list\", \"list\", \"literacy\", \"looking\", \"looking\", \"looking\", \"lot\", \"magazine\", \"make\", \"make\", \"make\", \"make\", \"make\", \"mansion\", \"many\", \"many\", \"many\", \"many\", \"medium\", \"medium\", \"medium\", \"middleeast\", \"milibrand\", \"millennials\", \"min\", \"mindfulness\", \"mindfulness\", \"mindset\", \"mindset\", \"mindset\", \"mindset\", \"mindset\", \"misconception\", \"miss\", \"miss\", \"mobile\", \"move\", \"movement\", \"movement\", \"mt\", \"mt\", \"mt\", \"mt\", \"mt\", \"much\", \"much\", \"much\", \"much\", \"much\", \"name\", \"name\", \"need\", \"need\", \"need\", \"need\", \"need\", \"negative\", \"new\", \"new\", \"new\", \"new\", \"new\", \"nice\", \"nice\", \"nice\", \"nice\", \"nice\", \"nyc\", \"nyc\", \"nyc\", \"nyc\", \"nyc\", \"nypd\", \"olympic\", \"on\", \"one\", \"one\", \"one\", \"one\", \"organizational\", \"organizational\", \"paper\", \"part\", \"part\", \"part\", \"participant\", \"participant\", \"peak\", \"people\", \"people\", \"people\", \"people\", \"people\", \"person\", \"personal\", \"personalized\", \"piece\", \"piece\", \"piece\", \"piece\", \"piece\", \"pleasure\", \"pleasure\", \"pleasure\", \"pleasure\", \"pleasure\", \"policy\", \"post\", \"post\", \"post\", \"post\", \"power\", \"power\", \"power\", \"principle\", \"principle\", \"principle\", \"printing\", \"probably\", \"provocative\", \"provocative\", \"qz\", \"radiofreeasha\", \"radiofreeasha\", \"read\", \"read\", \"read\", \"read\", \"read\", \"reading\", \"reading\", \"reading\", \"ready\", \"real\", \"real\", \"real\", \"real\", \"real\", \"reality\", \"reality\", \"reality\", \"release\", \"reporting\", \"research\", \"research\", \"research\", \"research\", \"routine\", \"rt\", \"rt\", \"rt\", \"rt\", \"rt\", \"ruined\", \"run\", \"run\", \"run\", \"run\", \"sap\", \"saved\", \"say\", \"say\", \"say\", \"say\", \"science\", \"science\", \"science\", \"science\", \"science\", \"send\", \"shame\", \"shoulder\", \"sinai\", \"skill\", \"skill\", \"skill\", \"skill\", \"sobering\", \"social\", \"social\", \"social\", \"society\", \"soon\", \"soon\", \"sound\", \"sound\", \"sound\", \"sponsored\", \"spot\", \"stand\", \"startup\", \"startup\", \"startup\", \"startup\", \"startup\", \"story\", \"story\", \"story\", \"stranger\", \"street\", \"street\", \"stretch\", \"stronger\", \"subscribing\", \"summit\", \"summit\", \"surprised\", \"syria\", \"syria\", \"syria\", \"syria\", \"syria\", \"talented\", \"teach\", \"teach\", \"teach\", \"tech\", \"tech\", \"tech\", \"tech\", \"tech\", \"thanks\", \"thanks\", \"thanks\", \"thanks\", \"thing\", \"thing\", \"thing\", \"thing\", \"thing\", \"thinking\", \"thinking\", \"thinking\", \"thinking\", \"thinking\", \"ticket\", \"time\", \"time\", \"time\", \"time\", \"time\", \"tnr\", \"tnr\", \"tnr\", \"tnr\", \"too\", \"too\", \"too\", \"tool\", \"tool\", \"tool\", \"topic\", \"true\", \"true\", \"true\", \"true\", \"true\", \"truly\", \"u\", \"u\", \"u\", \"u\", \"u\", \"unfeasible\", \"updated\", \"uschina\", \"use\", \"use\", \"use\", \"via\", \"via\", \"via\", \"via\", \"via\", \"virtual\", \"want\", \"want\", \"want\", \"want\", \"warns\", \"watch\", \"watch\", \"water\", \"water\", \"way\", \"way\", \"way\", \"way\", \"way\", \"well\", \"well\", \"well\", \"well\", \"well\", \"west\", \"wework\", \"whose\", \"wish\", \"wish\", \"wish\", \"work\", \"work\", \"work\", \"work\", \"work\", \"workshop\", \"workshop\", \"workshop\", \"workshop\", \"world\", \"world\", \"world\", \"world\", \"world\", \"worldbank\", \"would\", \"would\", \"would\", \"would\", \"write\", \"wrong\", \"wrong\", \"wrong\", \"year\", \"year\", \"year\", \"year\", \"year\", \"yes\", \"yes\", \"yes\", \"yes\", \"yes\", \"you\", \"you\", \"you\", \"zappos\", \"zoom\"]}, \"R\": 30, \"lambda.step\": 0.01, \"plot.opts\": {\"xlab\": \"PC1\", \"ylab\": \"PC2\"}, \"topic.order\": [3, 4, 2, 5, 1]};\n",
       "\n",
       "function LDAvis_load_lib(url, callback){\n",
       "  var s = document.createElement('script');\n",
       "  s.src = url;\n",
       "  s.async = true;\n",
       "  s.onreadystatechange = s.onload = callback;\n",
       "  s.onerror = function(){console.warn(\"failed to load library \" + url);};\n",
       "  document.getElementsByTagName(\"head\")[0].appendChild(s);\n",
       "}\n",
       "\n",
       "if(typeof(LDAvis) !== \"undefined\"){\n",
       "   // already loaded: just create the visualization\n",
       "   !function(LDAvis){\n",
       "       new LDAvis(\"#\" + \"ldavis_el96422636394314721302297423\", ldavis_el96422636394314721302297423_data);\n",
       "   }(LDAvis);\n",
       "}else if(typeof define === \"function\" && define.amd){\n",
       "   // require.js is available: use it to load d3/LDAvis\n",
       "   require.config({paths: {d3: \"https://cdnjs.cloudflare.com/ajax/libs/d3/3.5.5/d3.min\"}});\n",
       "   require([\"d3\"], function(d3){\n",
       "      window.d3 = d3;\n",
       "      LDAvis_load_lib(\"https://cdn.rawgit.com/bmabey/pyLDAvis/files/ldavis.v1.0.0.js\", function(){\n",
       "        new LDAvis(\"#\" + \"ldavis_el96422636394314721302297423\", ldavis_el96422636394314721302297423_data);\n",
       "      });\n",
       "    });\n",
       "}else{\n",
       "    // require.js not available: dynamically load d3 & LDAvis\n",
       "    LDAvis_load_lib(\"https://cdnjs.cloudflare.com/ajax/libs/d3/3.5.5/d3.min.js\", function(){\n",
       "         LDAvis_load_lib(\"https://cdn.rawgit.com/bmabey/pyLDAvis/files/ldavis.v1.0.0.js\", function(){\n",
       "                 new LDAvis(\"#\" + \"ldavis_el96422636394314721302297423\", ldavis_el96422636394314721302297423_data);\n",
       "            })\n",
       "         });\n",
       "}\n",
       "</script>"
      ],
      "text/plain": [
       "PreparedData(topic_coordinates=              x         y  topics  cluster       Freq\n",
       "topic                                                \n",
       "2      0.126779  0.011986       1        1  24.600334\n",
       "3     -0.052123  0.056380       2        1  20.023382\n",
       "1     -0.025450  0.073464       3        1  19.400810\n",
       "4     -0.009290 -0.077465       4        1  18.522692\n",
       "0     -0.039916 -0.064365       5        1  17.452780, topic_info=     Category        Freq         Term       Total  loglift  logprob\n",
       "term                                                                \n",
       "136   Default   39.000000       design   39.000000  30.0000  30.0000\n",
       "43    Default   23.000000    corporate   23.000000  29.0000  29.0000\n",
       "352   Default   17.000000         lean   17.000000  28.0000  28.0000\n",
       "7     Default  231.000000   innovation  231.000000  27.0000  27.0000\n",
       "954   Default   20.000000      israeli   20.000000  26.0000  26.0000\n",
       "306   Default   20.000000        learn   20.000000  25.0000  25.0000\n",
       "807   Default   14.000000        story   14.000000  24.0000  24.0000\n",
       "84    Default   25.000000        skill   25.000000  23.0000  23.0000\n",
       "805   Default   15.000000       social   15.000000  22.0000  22.0000\n",
       "356   Default   20.000000      article   20.000000  21.0000  21.0000\n",
       "331   Default   13.000000        first   13.000000  20.0000  20.0000\n",
       "320   Default   12.000000          job   12.000000  19.0000  19.0000\n",
       "145   Default   31.000000     thinking   31.000000  18.0000  18.0000\n",
       "58    Default   57.000000         good   57.000000  17.0000  17.0000\n",
       "1046  Default   17.000000      failure   17.000000  16.0000  16.0000\n",
       "468   Default   22.000000       thanks   22.000000  15.0000  15.0000\n",
       "179   Default   54.000000          new   54.000000  14.0000  14.0000\n",
       "244   Default   38.000000    important   38.000000  13.0000  13.0000\n",
       "42    Default   21.000000     workshop   21.000000  12.0000  12.0000\n",
       "45    Default   12.000000          get   12.000000  11.0000  11.0000\n",
       "128   Default   16.000000         well   16.000000  10.0000  10.0000\n",
       "249   Default   31.000000         book   31.000000   9.0000   9.0000\n",
       "1594  Default   66.000000           mt   66.000000   8.0000   8.0000\n",
       "387   Default   11.000000     approach   11.000000   7.0000   7.0000\n",
       "1565  Default   33.000000       israel   33.000000   6.0000   6.0000\n",
       "48    Default   50.000000  interesting   50.000000   5.0000   5.0000\n",
       "645   Default    9.000000     building    9.000000   4.0000   4.0000\n",
       "575   Default   28.000000          one   28.000000   3.0000   3.0000\n",
       "39    Default   13.000000   innovative   13.000000   2.0000   2.0000\n",
       "563   Default   33.000000         nice   33.000000   1.0000   1.0000\n",
       "...       ...         ...          ...         ...      ...      ...\n",
       "751    Topic5    2.208274  fastcompany    3.491105   1.2877  -7.0296\n",
       "3698   Topic5    3.589241       medium    6.973540   1.0815  -6.5438\n",
       "910    Topic5    3.589909       impact    6.994481   1.0787  -6.5437\n",
       "222    Topic5    3.799435          92y    7.672112   1.0429  -6.4869\n",
       "136    Topic5   11.865729       design   39.066959   0.5540  -5.3481\n",
       "28     Topic5    6.824403     pleasure   19.055239   0.7188  -5.9013\n",
       "262    Topic5   12.094288          amp   49.181541   0.3429  -5.3291\n",
       "1979   Topic5   14.884634          via   68.142693   0.2244  -5.1215\n",
       "23     Topic5    4.854860        honor   11.888008   0.8501  -6.2418\n",
       "7      Topic5   31.159248   innovation  231.273651  -0.2588  -4.3827\n",
       "1594   Topic5   14.080468           mt   66.540115   0.1927  -5.1770\n",
       "244    Topic5    9.275920    important   38.425587   0.3244  -5.5944\n",
       "241    Topic5   10.035724   creativity   53.084850   0.0799  -5.5156\n",
       "12     Topic5   10.085282        piece   55.758923   0.0357  -5.5107\n",
       "10     Topic5    7.729922         need   32.830177   0.2994  -5.7767\n",
       "386    Topic5    5.299987       always   16.183964   0.6294  -6.1541\n",
       "1189   Topic5    6.353858      insight   23.543240   0.4359  -5.9727\n",
       "14     Topic5   13.229307           rt  112.449974  -0.3944  -5.2393\n",
       "129    Topic5    6.345083        would   27.960344   0.2626  -5.9741\n",
       "58     Topic5    8.612030         good   57.187737  -0.1475  -5.6686\n",
       "193    Topic5    4.284360      mindset   12.737086   0.6561  -6.3668\n",
       "33     Topic5    5.206159         work   22.926678   0.2632  -6.1719\n",
       "9      Topic5    5.060227         much   21.176622   0.3142  -6.2004\n",
       "48     Topic5    6.491807  interesting   50.847099  -0.3126  -5.9512\n",
       "471    Topic5    4.968554         also   20.701738   0.3186  -6.2187\n",
       "118    Topic5    7.083976        great   88.709206  -0.7819  -5.8639\n",
       "40     Topic5    4.968646       people   24.078085   0.1675  -6.2186\n",
       "353    Topic5    5.799917      startup   75.743301  -0.8238  -6.0639\n",
       "120    Topic5    4.964699         like   28.856695  -0.0143  -6.2194\n",
       "496    Topic5    4.704134       better   18.419144   0.3807  -6.2733\n",
       "\n",
       "[402 rows x 6 columns], token_table=      Topic      Freq          Term\n",
       "term                               \n",
       "4423      3  0.941893           130\n",
       "1971      2  0.202929            15\n",
       "1971      4  0.811718            15\n",
       "1864      5  0.956934          2015\n",
       "2625      1  0.901285          2016\n",
       "816       1  0.812425            28\n",
       "2481      3  0.941893            45\n",
       "222       3  0.260684           92y\n",
       "222       4  0.260684           92y\n",
       "222       5  0.521369           92y\n",
       "327       3  0.941893      academia\n",
       "1723      3  0.941893  accelerating\n",
       "452       1  0.166407        advice\n",
       "452       3  0.416018        advice\n",
       "452       4  0.249611        advice\n",
       "452       5  0.166407        advice\n",
       "589       1  0.843310           age\n",
       "1016      1  0.539646            ai\n",
       "1016      2  0.119921            ai\n",
       "1016      3  0.119921            ai\n",
       "1016      4  0.119921            ai\n",
       "1016      5  0.119921            ai\n",
       "3908      2  0.937256        albert\n",
       "4944      2  0.843413     almonitor\n",
       "471       1  0.289831          also\n",
       "471       2  0.096610          also\n",
       "471       3  0.338136          also\n",
       "471       5  0.241526          also\n",
       "386       1  0.123579        always\n",
       "386       2  0.123579        always\n",
       "...     ...       ...           ...\n",
       "42        5  0.142279      workshop\n",
       "1314      1  0.175729         world\n",
       "1314      2  0.351458         world\n",
       "1314      3  0.175729         world\n",
       "1314      4  0.117153         world\n",
       "1314      5  0.175729         world\n",
       "2062      4  0.946519     worldbank\n",
       "129       1  0.357649         would\n",
       "129       2  0.143060         would\n",
       "129       3  0.250355         would\n",
       "129       5  0.214590         would\n",
       "2875      2  0.937256         write\n",
       "1989      1  0.202838         wrong\n",
       "1989      2  0.202838         wrong\n",
       "1989      5  0.608513         wrong\n",
       "170       1  0.054482          year\n",
       "170       2  0.217930          year\n",
       "170       3  0.326894          year\n",
       "170       4  0.217930          year\n",
       "170       5  0.163447          year\n",
       "104       1  0.213068           yes\n",
       "104       2  0.170454           yes\n",
       "104       3  0.170454           yes\n",
       "104       4  0.255681           yes\n",
       "104       5  0.170454           yes\n",
       "147       1  0.523085           you\n",
       "147       2  0.261543           you\n",
       "147       3  0.196157           you\n",
       "3081      5  0.719509        zappos\n",
       "1029      4  0.946519          zoom\n",
       "\n",
       "[705 rows x 3 columns], R=30, lambda_step=0.01, plot_opts={'xlab': 'PC1', 'ylab': 'PC2'}, topic_order=[3, 4, 2, 5, 1])"
      ]
     },
     "execution_count": 25,
     "metadata": {},
     "output_type": "execute_result"
    }
   ],
   "source": [
    "# Plotting tools\n",
    "\n",
    "import pyLDAvis\n",
    "import pyLDAvis.gensim  # don't skip this\n",
    "import matplotlib.pyplot as plt\n",
    "%matplotlib inline\n",
    "\n",
    "pyLDAvis.enable_notebook()\n",
    "vis = pyLDAvis.gensim.prepare(ldamodel, corpus, dictionary)\n",
    "vis"
   ]
  },
  {
   "cell_type": "code",
   "execution_count": null,
   "metadata": {},
   "outputs": [],
   "source": []
  }
 ],
 "metadata": {
  "kernelspec": {
   "display_name": "Python 3",
   "language": "python",
   "name": "python3"
  },
  "language_info": {
   "codemirror_mode": {
    "name": "ipython",
    "version": 3
   },
   "file_extension": ".py",
   "mimetype": "text/x-python",
   "name": "python",
   "nbconvert_exporter": "python",
   "pygments_lexer": "ipython3",
   "version": "3.6.5"
  }
 },
 "nbformat": 4,
 "nbformat_minor": 1
}
