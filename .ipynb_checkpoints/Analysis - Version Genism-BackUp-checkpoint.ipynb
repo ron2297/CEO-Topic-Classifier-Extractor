{
 "cells": [
  {
   "cell_type": "code",
   "execution_count": 26,
   "metadata": {},
   "outputs": [],
   "source": [
    "import pandas as pd "
   ]
  },
  {
   "cell_type": "code",
   "execution_count": 27,
   "metadata": {},
   "outputs": [],
   "source": [
    "df = pd.DataFrame()"
   ]
  },
  {
   "cell_type": "markdown",
   "metadata": {},
   "source": [
    "# Combining the 13 CSVs of CEO Tweets"
   ]
  },
  {
   "cell_type": "code",
   "execution_count": 28,
   "metadata": {},
   "outputs": [],
   "source": [
    "import glob, os   \n",
    "path =r'C:/Users/Bloody Dachi/Documents/CS_401/Final_Project/CEO-Topic-Classifier-Extractor/Finished_Tweet_CSV' # use your path\n",
    "allFiles = glob.glob(path + \"/*.csv\")\n",
    "\n",
    "list_ = []\n",
    "\n",
    "for file_ in allFiles: \n",
    "    df = pd.read_csv(file_,index_col=None, encoding = \"latin1\",lineterminator='\\n')\n",
    "    list_.append(df)\n",
    "frame = pd.concat(list_, axis = 0, ignore_index = True)"
   ]
  },
  {
   "cell_type": "code",
   "execution_count": 29,
   "metadata": {},
   "outputs": [
    {
     "data": {
      "text/html": [
       "<div>\n",
       "<style scoped>\n",
       "    .dataframe tbody tr th:only-of-type {\n",
       "        vertical-align: middle;\n",
       "    }\n",
       "\n",
       "    .dataframe tbody tr th {\n",
       "        vertical-align: top;\n",
       "    }\n",
       "\n",
       "    .dataframe thead th {\n",
       "        text-align: right;\n",
       "    }\n",
       "</style>\n",
       "<table border=\"1\" class=\"dataframe\">\n",
       "  <thead>\n",
       "    <tr style=\"text-align: right;\">\n",
       "      <th></th>\n",
       "      <th>Unnamed: 0</th>\n",
       "      <th>Tweet</th>\n",
       "      <th>CEO_Full_Name</th>\n",
       "      <th>CEO_User_Name</th>\n",
       "    </tr>\n",
       "  </thead>\n",
       "  <tbody>\n",
       "    <tr>\n",
       "      <th>0</th>\n",
       "      <td>0</td>\n",
       "      <td>@pjournel The bag itself is from dsptch in San...</td>\n",
       "      <td>Phil Libin</td>\n",
       "      <td>plibin\\r</td>\n",
       "    </tr>\n",
       "    <tr>\n",
       "      <th>1</th>\n",
       "      <td>1</td>\n",
       "      <td>I MacGyvered extra storage pouches to my backp...</td>\n",
       "      <td>Phil Libin</td>\n",
       "      <td>plibin\\r</td>\n",
       "    </tr>\n",
       "    <tr>\n",
       "      <th>2</th>\n",
       "      <td>2</td>\n",
       "      <td>Snack times Nuts equals Snuts, people. Itâs ...</td>\n",
       "      <td>Phil Libin</td>\n",
       "      <td>plibin\\r</td>\n",
       "    </tr>\n",
       "    <tr>\n",
       "      <th>3</th>\n",
       "      <td>3</td>\n",
       "      <td>Looking forward to being back in Beijing this ...</td>\n",
       "      <td>Phil Libin</td>\n",
       "      <td>plibin\\r</td>\n",
       "    </tr>\n",
       "    <tr>\n",
       "      <th>4</th>\n",
       "      <td>4</td>\n",
       "      <td>For better and for worse, but mostly for the b...</td>\n",
       "      <td>Phil Libin</td>\n",
       "      <td>plibin\\r</td>\n",
       "    </tr>\n",
       "  </tbody>\n",
       "</table>\n",
       "</div>"
      ],
      "text/plain": [
       "   Unnamed: 0                                              Tweet  \\\n",
       "0           0  @pjournel The bag itself is from dsptch in San...   \n",
       "1           1  I MacGyvered extra storage pouches to my backp...   \n",
       "2           2  Snack times Nuts equals Snuts, people. Itâs ...   \n",
       "3           3  Looking forward to being back in Beijing this ...   \n",
       "4           4  For better and for worse, but mostly for the b...   \n",
       "\n",
       "  CEO_Full_Name CEO_User_Name\\r  \n",
       "0    Phil Libin        plibin\\r  \n",
       "1    Phil Libin        plibin\\r  \n",
       "2    Phil Libin        plibin\\r  \n",
       "3    Phil Libin        plibin\\r  \n",
       "4    Phil Libin        plibin\\r  "
      ]
     },
     "execution_count": 29,
     "metadata": {},
     "output_type": "execute_result"
    }
   ],
   "source": [
    "frame.head()"
   ]
  },
  {
   "cell_type": "code",
   "execution_count": 30,
   "metadata": {},
   "outputs": [
    {
     "data": {
      "text/plain": [
       "903277"
      ]
     },
     "execution_count": 30,
     "metadata": {},
     "output_type": "execute_result"
    }
   ],
   "source": [
    "len(frame)"
   ]
  },
  {
   "cell_type": "markdown",
   "metadata": {},
   "source": [
    "## Creating Multi-Index to reference Tweets of specific CEOs"
   ]
  },
  {
   "cell_type": "code",
   "execution_count": 91,
   "metadata": {},
   "outputs": [],
   "source": [
    "arrays = [frame[\"CEO_Full_Name\"]]\n",
    "index = pd.MultiIndex.from_arrays(arrays, names=['CEO_Names'])"
   ]
  },
  {
   "cell_type": "code",
   "execution_count": 92,
   "metadata": {},
   "outputs": [
    {
     "data": {
      "text/html": [
       "<div>\n",
       "<style scoped>\n",
       "    .dataframe tbody tr th:only-of-type {\n",
       "        vertical-align: middle;\n",
       "    }\n",
       "\n",
       "    .dataframe tbody tr th {\n",
       "        vertical-align: top;\n",
       "    }\n",
       "\n",
       "    .dataframe thead th {\n",
       "        text-align: right;\n",
       "    }\n",
       "</style>\n",
       "<table border=\"1\" class=\"dataframe\">\n",
       "  <thead>\n",
       "    <tr style=\"text-align: right;\">\n",
       "      <th></th>\n",
       "      <th>Tweets</th>\n",
       "    </tr>\n",
       "    <tr>\n",
       "      <th>CEO_Names</th>\n",
       "      <th></th>\n",
       "    </tr>\n",
       "  </thead>\n",
       "  <tbody>\n",
       "    <tr>\n",
       "      <th>Phil Libin</th>\n",
       "      <td>@pjournel The bag itself is from dsptch in San...</td>\n",
       "    </tr>\n",
       "    <tr>\n",
       "      <th>Phil Libin</th>\n",
       "      <td>I MacGyvered extra storage pouches to my backp...</td>\n",
       "    </tr>\n",
       "    <tr>\n",
       "      <th>Phil Libin</th>\n",
       "      <td>Snack times Nuts equals Snuts, people. Itâs ...</td>\n",
       "    </tr>\n",
       "    <tr>\n",
       "      <th>Phil Libin</th>\n",
       "      <td>Looking forward to being back in Beijing this ...</td>\n",
       "    </tr>\n",
       "    <tr>\n",
       "      <th>Phil Libin</th>\n",
       "      <td>For better and for worse, but mostly for the b...</td>\n",
       "    </tr>\n",
       "  </tbody>\n",
       "</table>\n",
       "</div>"
      ],
      "text/plain": [
       "                                                       Tweets\n",
       "CEO_Names                                                    \n",
       "Phil Libin  @pjournel The bag itself is from dsptch in San...\n",
       "Phil Libin  I MacGyvered extra storage pouches to my backp...\n",
       "Phil Libin  Snack times Nuts equals Snuts, people. Itâs ...\n",
       "Phil Libin  Looking forward to being back in Beijing this ...\n",
       "Phil Libin  For better and for worse, but mostly for the b..."
      ]
     },
     "execution_count": 92,
     "metadata": {},
     "output_type": "execute_result"
    }
   ],
   "source": [
    "df_new = pd.DataFrame(list(frame[\"Tweet\"]), index=index, columns = [\"Tweets\"])\n",
    "(df_new).head()"
   ]
  },
  {
   "cell_type": "code",
   "execution_count": 98,
   "metadata": {},
   "outputs": [
    {
     "data": {
      "text/html": [
       "<div>\n",
       "<style scoped>\n",
       "    .dataframe tbody tr th:only-of-type {\n",
       "        vertical-align: middle;\n",
       "    }\n",
       "\n",
       "    .dataframe tbody tr th {\n",
       "        vertical-align: top;\n",
       "    }\n",
       "\n",
       "    .dataframe thead th {\n",
       "        text-align: right;\n",
       "    }\n",
       "</style>\n",
       "<table border=\"1\" class=\"dataframe\">\n",
       "  <thead>\n",
       "    <tr style=\"text-align: right;\">\n",
       "      <th></th>\n",
       "      <th>CEO_Names</th>\n",
       "      <th>Tweets</th>\n",
       "    </tr>\n",
       "  </thead>\n",
       "  <tbody>\n",
       "    <tr>\n",
       "      <th>0</th>\n",
       "      <td>Phil Libin</td>\n",
       "      <td>@pjournel The bag itself is from dsptch in San...</td>\n",
       "    </tr>\n",
       "    <tr>\n",
       "      <th>1</th>\n",
       "      <td>Phil Libin</td>\n",
       "      <td>I MacGyvered extra storage pouches to my backp...</td>\n",
       "    </tr>\n",
       "    <tr>\n",
       "      <th>2</th>\n",
       "      <td>Phil Libin</td>\n",
       "      <td>Snack times Nuts equals Snuts, people. Itâs ...</td>\n",
       "    </tr>\n",
       "    <tr>\n",
       "      <th>3</th>\n",
       "      <td>Phil Libin</td>\n",
       "      <td>Looking forward to being back in Beijing this ...</td>\n",
       "    </tr>\n",
       "    <tr>\n",
       "      <th>4</th>\n",
       "      <td>Phil Libin</td>\n",
       "      <td>For better and for worse, but mostly for the b...</td>\n",
       "    </tr>\n",
       "  </tbody>\n",
       "</table>\n",
       "</div>"
      ],
      "text/plain": [
       "    CEO_Names                                             Tweets\n",
       "0  Phil Libin  @pjournel The bag itself is from dsptch in San...\n",
       "1  Phil Libin  I MacGyvered extra storage pouches to my backp...\n",
       "2  Phil Libin  Snack times Nuts equals Snuts, people. Itâs ...\n",
       "3  Phil Libin  Looking forward to being back in Beijing this ...\n",
       "4  Phil Libin  For better and for worse, but mostly for the b..."
      ]
     },
     "execution_count": 98,
     "metadata": {},
     "output_type": "execute_result"
    }
   ],
   "source": [
    "new_df = df_new.reset_index() \n",
    "new_df.head()"
   ]
  },
  {
   "cell_type": "code",
   "execution_count": 68,
   "metadata": {},
   "outputs": [
    {
     "data": {
      "text/plain": [
       "array(['Further proof that businesses do well by doing good - @Allbirds (a @BCorporation) is now valued at over $1B with recent investment from @TRowePrice...Article from @bizcarson for @Forbes cc @JayCoenGilbert https://t.co/YFxEklnANd',\n",
       "       \"Grateful for many things, including the podcast of @AdamMGrant which made the drive from Philly to NY an enlightening one today!  Particularly loved the one on 'How to Love Criticism' @TEDx\\r\\nhttps://t.co/lIUJNnQ1m9\",\n",
       "       'Good morning @philly311 - these containers (20th + Walnut) were left after the Philly 1/2 Marathon and have become (over-flowing) defacto garbage cans. Can you arrange to have them taken away?  Thanks so much!!',\n",
       "       ...,\n",
       "       \"This is insane - JJ Watt is 6'5 and 295lbs.... http://t.co/NghCQQpJ\",\n",
       "       \"@Saxbys Haddonfield looking good and ready for Saturday's opening http://t.co/0h3OnFIn\",\n",
       "       'Entrepreneurship Courses: What Students Can Expect | Fox Business http://t.co/EGg6mQpE via @foxbusiness'],\n",
       "      dtype=object)"
      ]
     },
     "execution_count": 68,
     "metadata": {},
     "output_type": "execute_result"
    }
   ],
   "source": [
    "(df_new.loc['Nick Bayer']['Tweets'].values)#.head()\n",
    "#Add[\"Tweets\"] in order to access the tweets of "
   ]
  },
  {
   "cell_type": "markdown",
   "metadata": {},
   "source": [
    "# Cleaning Tweets"
   ]
  },
  {
   "cell_type": "code",
   "execution_count": 69,
   "metadata": {},
   "outputs": [
    {
     "name": "stdout",
     "output_type": "stream",
     "text": [
      "[['further', 'proof', 'that', 'businesses', 'do', 'well', 'by', 'doing', 'good', 'allbirds', 'a', 'bcorporation', 'is', 'now', 'valued', 'at', 'over', '1b', 'with', 'recent', 'investment', 'from', 'troweprice', 'article', 'from', 'bizcarson', 'for', 'forbes', 'cc', 'jaycoengilbert', 'https', 't', 'co', 'yfxeklnand'], ['grateful', 'for', 'many', 'things', 'including', 'the', 'podcast', 'of', 'adammgrant', 'which', 'made', 'the', 'drive', 'from', 'philly', 'to', 'ny', 'an', 'enlightening', 'one', 'today', 'particularly', 'loved', 'the', 'one', 'on', 'how', 'to', 'love', 'criticism', 'tedx', 'https', 't', 'co', 'liujnnq1m9']]\n"
     ]
    }
   ],
   "source": [
    "from nltk.tokenize import RegexpTokenizer\n",
    "tokenizer = RegexpTokenizer(r'\\w+')\n",
    "token_words = []\n",
    "for i in df_new.loc['Nick Bayer']['Tweets'].values:\n",
    "    raw = i.lower()\n",
    "    tokens = tokenizer.tokenize(raw)\n",
    "    token_words.append(tokens)\n",
    "print(token_words[0:2])"
   ]
  },
  {
   "cell_type": "markdown",
   "metadata": {},
   "source": [
    "## Lemmzatizing and Stemming of Words"
   ]
  },
  {
   "cell_type": "code",
   "execution_count": 70,
   "metadata": {},
   "outputs": [],
   "source": [
    "from nltk.corpus import stopwords \n",
    "from nltk.stem.wordnet import WordNetLemmatizer\n",
    "import string\n",
    "stop = set(stopwords.words('english'))\n",
    "exclude_punc = set(string.punctuation) \n",
    "lemma = WordNetLemmatizer()\n",
    "from nltk.stem.porter import PorterStemmer\n",
    "\n",
    "# Create p_stemmer of class PorterStemmer\n",
    "p_stemmer = PorterStemmer()\n",
    "def simplify_word(doc):\n",
    "    stop_words = \" \".join([i for i in doc.lower().split() if i not in stop])\n",
    "    texts = [p_stemmer.stem(i) for i in stop_words]\n",
    "    punc_remove = ''.join(ch for ch in texts if ch not in exclude_punc)\n",
    "    normalized_words = \" \".join(lemma.lemmatize(word) for word in punc_remove.split())\n",
    "    return normalized_words\n",
    "\n",
    "doc_clean = [simplify_word(doc).split() for doc in df_new.loc['Nick Bayer']['Tweets'].values]"
   ]
  },
  {
   "cell_type": "code",
   "execution_count": 71,
   "metadata": {
    "scrolled": true
   },
   "outputs": [
    {
     "name": "stdout",
     "output_type": "stream",
     "text": [
      "[['proof', 'business', 'well', 'good', 'allbirds', 'a', 'bcorporation', 'valued', '1b', 'recent', 'investment', 'trowepricearticle', 'bizcarson', 'forbes', 'cc', 'jaycoengilbert', 'httpstcoyfxeklnand'], ['grateful', 'many', 'thing', 'including', 'podcast', 'adammgrant', 'made', 'drive', 'philly', 'ny', 'enlightening', 'one', 'today', 'particularly', 'loved', 'one', 'how', 'love', 'criticism', 'tedx', 'httpstcoliujnnq1m9'], ['good', 'morning', 'philly311', 'container', '20th', 'walnut', 'left', 'philly', '12', 'marathon', 'become', 'overflowing', 'defacto', 'garbage', 'can', 'arrange', 'taken', 'away', 'thanks', 'much']]\n"
     ]
    }
   ],
   "source": [
    "print(doc_clean[0:3])"
   ]
  },
  {
   "cell_type": "code",
   "execution_count": 72,
   "metadata": {},
   "outputs": [
    {
     "data": {
      "text/plain": [
       "1230"
      ]
     },
     "execution_count": 72,
     "metadata": {},
     "output_type": "execute_result"
    }
   ],
   "source": [
    "len(doc_clean)"
   ]
  },
  {
   "cell_type": "markdown",
   "metadata": {},
   "source": [
    "## Creating document-term matrix"
   ]
  },
  {
   "cell_type": "code",
   "execution_count": 73,
   "metadata": {
    "scrolled": true
   },
   "outputs": [
    {
     "name": "stdout",
     "output_type": "stream",
     "text": [
      "Dictionary(4778 unique tokens: ['1b', 'a', 'allbirds', 'bcorporation', 'bizcarson']...)\n",
      "[(0, 1), (1, 1), (2, 1), (3, 1), (4, 1), (5, 1), (6, 1), (7, 1), (8, 1), (9, 1), (10, 1), (11, 1), (12, 1), (13, 1), (14, 1), (15, 1), (16, 1)]\n"
     ]
    }
   ],
   "source": [
    "from gensim import corpora, models\n",
    "\n",
    "dictionary = corpora.Dictionary(doc_clean)\n",
    "\n",
    "print(dictionary)\n",
    "corpus = [dictionary.doc2bow(text) for text in doc_clean] \n",
    "#creating bag of words making tuple of word identifier and word frequency in data\n",
    "print(corpus[0])"
   ]
  },
  {
   "cell_type": "code",
   "execution_count": 74,
   "metadata": {},
   "outputs": [],
   "source": [
    "import gensim\n",
    "from gensim import corpora, models\n",
    "Lda = gensim.models.ldamodel.LdaModel\n",
    "ldamodel = Lda(corpus, num_topics=5, id2word = dictionary, passes=50)"
   ]
  },
  {
   "cell_type": "code",
   "execution_count": 75,
   "metadata": {
    "scrolled": true
   },
   "outputs": [
    {
     "name": "stdout",
     "output_type": "stream",
     "text": [
      "[(0, '0.040*\"saxbys\" + 0.013*\"thanks\"'), (1, '0.020*\"great\" + 0.015*\"saxbys\"'), (2, '0.011*\"great\" + 0.008*\"saxbys\"'), (3, '0.027*\"saxbys\" + 0.009*\"team\"'), (4, '0.008*\"thanks\" + 0.007*\"lukebb\"')]\n"
     ]
    }
   ],
   "source": [
    "print(ldamodel.print_topics(num_topics=5, num_words=2))"
   ]
  },
  {
   "cell_type": "code",
   "execution_count": 76,
   "metadata": {},
   "outputs": [
    {
     "name": "stdout",
     "output_type": "stream",
     "text": [
      "Topic: 0 Word: 0.040*\"saxbys\" + 0.013*\"thanks\" + 0.010*\"amazing\" + 0.010*\"great\" + 0.007*\"much\" + 0.006*\"love\" + 0.006*\"team\" + 0.006*\"coffee\" + 0.006*\"thx\" + 0.005*\"article\"\n",
      "Topic: 1 Word: 0.020*\"great\" + 0.015*\"saxbys\" + 0.011*\"thanks\" + 0.007*\"coming\" + 0.006*\"philly\" + 0.005*\"excited\" + 0.004*\"piece\" + 0.004*\"pleasure\" + 0.004*\"amazing\" + 0.004*\"article\"\n",
      "Topic: 2 Word: 0.011*\"great\" + 0.008*\"saxbys\" + 0.008*\"lukebb\" + 0.007*\"love\" + 0.005*\"philly\" + 0.005*\"thx\" + 0.005*\"thanks\" + 0.005*\"proud\" + 0.004*\"much\" + 0.004*\"good\"\n",
      "Topic: 3 Word: 0.027*\"saxbys\" + 0.009*\"team\" + 0.009*\"thanks\" + 0.008*\"cafe\" + 0.006*\"love\" + 0.006*\"cant\" + 0.005*\"wait\" + 0.005*\"well\" + 0.005*\"know\" + 0.005*\"u\"\n",
      "Topic: 4 Word: 0.008*\"thanks\" + 0.007*\"lukebb\" + 0.006*\"templeuniv\" + 0.006*\"good\" + 0.005*\"love\" + 0.005*\"man\" + 0.004*\"saxbys\" + 0.004*\"great\" + 0.004*\"cornell\" + 0.004*\"scholarship\"\n"
     ]
    }
   ],
   "source": [
    "for idx, topic in ldamodel.print_topics(-1):\n",
    "    print('Topic: {} Word: {}'.format(idx, topic))"
   ]
  },
  {
   "cell_type": "code",
   "execution_count": 77,
   "metadata": {
    "scrolled": false
   },
   "outputs": [
    {
     "name": "stderr",
     "output_type": "stream",
     "text": [
      "C:\\Users\\Bloody Dachi\\Anaconda3\\lib\\site-packages\\pyLDAvis\\_prepare.py:257: FutureWarning: Sorting because non-concatenation axis is not aligned. A future version\n",
      "of pandas will change to not sort by default.\n",
      "\n",
      "To accept the future behavior, pass 'sort=True'.\n",
      "\n",
      "To retain the current behavior and silence the warning, pass sort=False\n",
      "\n",
      "  return pd.concat([default_term_info] + list(topic_dfs))\n"
     ]
    },
    {
     "data": {
      "text/html": [
       "\n",
       "<link rel=\"stylesheet\" type=\"text/css\" href=\"https://cdn.rawgit.com/bmabey/pyLDAvis/files/ldavis.v1.0.0.css\">\n",
       "\n",
       "\n",
       "<div id=\"ldavis_el9642263835347248322280523\"></div>\n",
       "<script type=\"text/javascript\">\n",
       "\n",
       "var ldavis_el9642263835347248322280523_data = {\"mdsDat\": {\"x\": [0.08079332377886835, -0.014225269062966204, -0.04458056363008506, -0.09724405954359866, 0.07525656845778152], \"y\": [0.016162922150474452, 0.08515249868265004, -0.09699796324679381, 0.023732353179848578, -0.028049810766179212], \"topics\": [1, 2, 3, 4, 5], \"cluster\": [1, 1, 1, 1, 1], \"Freq\": [30.346935272216797, 19.326828002929688, 17.152053833007812, 16.806062698364258, 16.368120193481445]}, \"tinfo\": {\"Category\": [\"Default\", \"Default\", \"Default\", \"Default\", \"Default\", \"Default\", \"Default\", \"Default\", \"Default\", \"Default\", \"Default\", \"Default\", \"Default\", \"Default\", \"Default\", \"Default\", \"Default\", \"Default\", \"Default\", \"Default\", \"Default\", \"Default\", \"Default\", \"Default\", \"Default\", \"Default\", \"Default\", \"Default\", \"Default\", \"Default\", \"Topic1\", \"Topic1\", \"Topic1\", \"Topic1\", \"Topic1\", \"Topic1\", \"Topic1\", \"Topic1\", \"Topic1\", \"Topic1\", \"Topic1\", \"Topic1\", \"Topic1\", \"Topic1\", \"Topic1\", \"Topic1\", \"Topic1\", \"Topic1\", \"Topic1\", \"Topic1\", \"Topic1\", \"Topic1\", \"Topic1\", \"Topic1\", \"Topic1\", \"Topic1\", \"Topic1\", \"Topic1\", \"Topic1\", \"Topic1\", \"Topic1\", \"Topic1\", \"Topic1\", \"Topic1\", \"Topic1\", \"Topic1\", \"Topic1\", \"Topic1\", \"Topic1\", \"Topic1\", \"Topic1\", \"Topic1\", \"Topic1\", \"Topic1\", \"Topic1\", \"Topic1\", \"Topic1\", \"Topic1\", \"Topic1\", \"Topic1\", \"Topic1\", \"Topic1\", \"Topic1\", \"Topic1\", \"Topic1\", \"Topic1\", \"Topic1\", \"Topic1\", \"Topic1\", \"Topic1\", \"Topic1\", \"Topic1\", \"Topic1\", \"Topic1\", \"Topic1\", \"Topic1\", \"Topic1\", \"Topic1\", \"Topic1\", \"Topic1\", \"Topic1\", \"Topic1\", \"Topic1\", \"Topic2\", \"Topic2\", \"Topic2\", \"Topic2\", \"Topic2\", \"Topic2\", \"Topic2\", \"Topic2\", \"Topic2\", \"Topic2\", \"Topic2\", \"Topic2\", \"Topic2\", \"Topic2\", \"Topic2\", \"Topic2\", \"Topic2\", \"Topic2\", \"Topic2\", \"Topic2\", \"Topic2\", \"Topic2\", \"Topic2\", \"Topic2\", \"Topic2\", \"Topic2\", \"Topic2\", \"Topic2\", \"Topic2\", \"Topic2\", \"Topic2\", \"Topic2\", \"Topic2\", \"Topic2\", \"Topic2\", \"Topic2\", \"Topic2\", \"Topic2\", \"Topic2\", \"Topic2\", \"Topic2\", \"Topic2\", \"Topic2\", \"Topic2\", \"Topic2\", \"Topic2\", \"Topic2\", \"Topic2\", \"Topic2\", \"Topic2\", \"Topic2\", \"Topic2\", \"Topic2\", \"Topic2\", \"Topic2\", \"Topic2\", \"Topic2\", \"Topic2\", \"Topic2\", \"Topic2\", \"Topic2\", \"Topic2\", \"Topic2\", \"Topic2\", \"Topic2\", \"Topic2\", \"Topic2\", \"Topic2\", \"Topic2\", \"Topic2\", \"Topic2\", \"Topic2\", \"Topic3\", \"Topic3\", \"Topic3\", \"Topic3\", \"Topic3\", \"Topic3\", \"Topic3\", \"Topic3\", \"Topic3\", \"Topic3\", \"Topic3\", \"Topic3\", \"Topic3\", \"Topic3\", \"Topic3\", \"Topic3\", \"Topic3\", \"Topic3\", \"Topic3\", \"Topic3\", \"Topic3\", \"Topic3\", \"Topic3\", \"Topic3\", \"Topic3\", \"Topic3\", \"Topic3\", \"Topic3\", \"Topic3\", \"Topic3\", \"Topic3\", \"Topic3\", \"Topic3\", \"Topic3\", \"Topic3\", \"Topic3\", \"Topic3\", \"Topic3\", \"Topic3\", \"Topic3\", \"Topic3\", \"Topic3\", \"Topic3\", \"Topic3\", \"Topic3\", \"Topic3\", \"Topic3\", \"Topic3\", \"Topic3\", \"Topic3\", \"Topic3\", \"Topic3\", \"Topic3\", \"Topic3\", \"Topic3\", \"Topic3\", \"Topic3\", \"Topic3\", \"Topic3\", \"Topic3\", \"Topic3\", \"Topic3\", \"Topic3\", \"Topic3\", \"Topic3\", \"Topic3\", \"Topic3\", \"Topic3\", \"Topic3\", \"Topic3\", \"Topic3\", \"Topic3\", \"Topic3\", \"Topic3\", \"Topic4\", \"Topic4\", \"Topic4\", \"Topic4\", \"Topic4\", \"Topic4\", \"Topic4\", \"Topic4\", \"Topic4\", \"Topic4\", \"Topic4\", \"Topic4\", \"Topic4\", \"Topic4\", \"Topic4\", \"Topic4\", \"Topic4\", \"Topic4\", \"Topic4\", \"Topic4\", \"Topic4\", \"Topic4\", \"Topic4\", \"Topic4\", \"Topic4\", \"Topic4\", \"Topic4\", \"Topic4\", \"Topic4\", \"Topic4\", \"Topic4\", \"Topic4\", \"Topic4\", \"Topic4\", \"Topic4\", \"Topic4\", \"Topic4\", \"Topic4\", \"Topic4\", \"Topic4\", \"Topic4\", \"Topic4\", \"Topic4\", \"Topic4\", \"Topic4\", \"Topic4\", \"Topic4\", \"Topic4\", \"Topic4\", \"Topic4\", \"Topic4\", \"Topic4\", \"Topic4\", \"Topic4\", \"Topic4\", \"Topic4\", \"Topic4\", \"Topic4\", \"Topic4\", \"Topic4\", \"Topic4\", \"Topic4\", \"Topic4\", \"Topic4\", \"Topic4\", \"Topic4\", \"Topic4\", \"Topic4\", \"Topic4\", \"Topic4\", \"Topic4\", \"Topic5\", \"Topic5\", \"Topic5\", \"Topic5\", \"Topic5\", \"Topic5\", \"Topic5\", \"Topic5\", \"Topic5\", \"Topic5\", \"Topic5\", \"Topic5\", \"Topic5\", \"Topic5\", \"Topic5\", \"Topic5\", \"Topic5\", \"Topic5\", \"Topic5\", \"Topic5\", \"Topic5\", \"Topic5\", \"Topic5\", \"Topic5\", \"Topic5\", \"Topic5\", \"Topic5\", \"Topic5\", \"Topic5\", \"Topic5\", \"Topic5\", \"Topic5\", \"Topic5\", \"Topic5\", \"Topic5\", \"Topic5\", \"Topic5\", \"Topic5\", \"Topic5\", \"Topic5\", \"Topic5\", \"Topic5\", \"Topic5\", \"Topic5\", \"Topic5\", \"Topic5\", \"Topic5\", \"Topic5\", \"Topic5\", \"Topic5\", \"Topic5\", \"Topic5\", \"Topic5\", \"Topic5\", \"Topic5\", \"Topic5\", \"Topic5\", \"Topic5\", \"Topic5\", \"Topic5\", \"Topic5\", \"Topic5\", \"Topic5\", \"Topic5\", \"Topic5\", \"Topic5\", \"Topic5\", \"Topic5\", \"Topic5\", \"Topic5\", \"Topic5\", \"Topic5\", \"Topic5\"], \"Freq\": [254.0, 116.0, 28.0, 23.0, 20.0, 21.0, 49.0, 42.0, 15.0, 9.0, 26.0, 19.0, 13.0, 17.0, 9.0, 21.0, 12.0, 18.0, 54.0, 21.0, 7.0, 6.0, 13.0, 31.0, 35.0, 36.0, 8.0, 10.0, 7.0, 11.0, 4.007059574127197, 9.939188957214355, 8.582433700561523, 3.23614501953125, 3.2358365058898926, 3.2352983951568604, 3.2343380451202393, 3.2335965633392334, 11.418606758117676, 6.30920934677124, 16.04375648498535, 5.54849910736084, 2.4658801555633545, 2.4658799171447754, 2.465878486633301, 2.4658758640289307, 2.465862512588501, 2.465266466140747, 2.4651052951812744, 2.4643490314483643, 2.4642133712768555, 2.463804244995117, 2.463559150695801, 4.013293266296387, 5.098908424377441, 1.695292353630066, 1.695292353630066, 1.6952911615371704, 1.695290446281433, 1.6952900886535645, 1.695290207862854, 3.9018421173095703, 8.635966300964355, 3.8233819007873535, 3.821864604949951, 4.778077602386475, 143.3740692138672, 7.704984664916992, 8.166686058044434, 35.919090270996094, 21.70793342590332, 10.667991638183594, 24.185779571533203, 4.781188011169434, 4.781797409057617, 4.780362606048584, 21.46231460571289, 5.161815643310547, 45.69534683227539, 13.78830337524414, 21.73372459411621, 17.61846160888672, 15.173760414123535, 6.987967491149902, 9.642535209655762, 7.876094818115234, 5.548721790313721, 34.496482849121094, 22.379465103149414, 8.538484573364258, 10.83816909790039, 14.273924827575684, 13.543746948242188, 10.947003364562988, 9.648395538330078, 9.632017135620117, 10.142845153808594, 14.370118141174316, 10.79968547821045, 11.407352447509766, 9.386388778686523, 9.388324737548828, 10.322298049926758, 4.369451522827148, 2.9567437171936035, 2.255200147628784, 2.255197525024414, 2.255195140838623, 2.255194902420044, 2.2551941871643066, 3.6651148796081543, 1.550449252128601, 1.5504481792449951, 1.5504473447799683, 1.5504473447799683, 1.5504473447799683, 1.5504467487335205, 1.550446629524231, 1.5504460334777832, 1.5504456758499146, 1.550445556640625, 1.5504454374313354, 1.5504449605941772, 1.5504449605941772, 1.5504447221755981, 1.5504447221755981, 1.550444483757019, 1.55044424533844, 1.55044424533844, 1.5504436492919922, 1.5504435300827026, 1.550443172454834, 1.550443410873413, 15.300890922546387, 6.3432512283325195, 7.058621883392334, 4.375850677490234, 45.74788284301758, 10.025717735290527, 6.256516456604004, 9.832931518554688, 2.965765953063965, 6.434892654418945, 4.369759559631348, 2.2528092861175537, 2.256821632385254, 2.2562432289123535, 24.198711395263672, 10.34875202178955, 13.026434898376465, 4.3757243156433105, 2.963322401046753, 4.371551513671875, 2.959632635116577, 5.078600883483887, 7.835610389709473, 33.30135726928711, 6.484460830688477, 9.510071754455566, 4.380786895751953, 7.791566371917725, 5.784725666046143, 5.076930999755859, 4.375082969665527, 9.554903030395508, 6.150224208831787, 6.4837422370910645, 5.785261154174805, 6.124701023101807, 6.284700870513916, 5.0758442878723145, 6.388653755187988, 6.012786865234375, 5.869807720184326, 5.1660075187683105, 4.254520416259766, 2.8825833797454834, 2.8679463863372803, 2.196253538131714, 2.1962502002716064, 1.5099221467971802, 1.5099225044250488, 1.5099221467971802, 1.5099221467971802, 1.5099220275878906, 1.5099220275878906, 1.5099220275878906, 1.5099220275878906, 1.5099208354949951, 1.5099208354949951, 1.5099208354949951, 1.509920358657837, 1.509920358657837, 1.509920358657837, 1.5099200010299683, 1.5099198818206787, 1.5099191665649414, 1.5099191665649414, 1.5099191665649414, 1.5099186897277832, 1.5099183320999146, 1.5099177360534668, 1.5099177360534668, 1.5099165439605713, 1.5099153518676758, 2.888906478881836, 2.8886377811431885, 6.326944828033447, 2.1977784633636475, 16.078479766845703, 4.16027307510376, 2.1981351375579834, 2.198124408721924, 9.555094718933105, 23.122432708740234, 3.5696985721588135, 5.631592273712158, 2.883847713470459, 14.36439323425293, 10.66845417022705, 3.572911500930786, 2.88608455657959, 10.781851768493652, 4.265028953552246, 4.257687568664551, 3.232900857925415, 2.8111212253570557, 3.5729522705078125, 8.704185485839844, 6.321834564208984, 5.535370349884033, 6.121737003326416, 9.143754959106445, 5.635618209838867, 5.455732822418213, 5.2145562171936035, 16.256431579589844, 4.948991298675537, 5.635391712188721, 4.8051838874816895, 9.929961204528809, 4.946436405181885, 5.629549503326416, 4.014867782592773, 4.558514595031738, 5.307460784912109, 4.60414457321167, 4.682824611663818, 4.638333797454834, 3.5715880393981934, 3.5667378902435303, 2.8851683139801025, 2.8833436965942383, 5.571987628936768, 2.1982223987579346, 2.198219060897827, 2.1977312564849854, 5.635992527008057, 1.5112788677215576, 1.511277675628662, 1.5112769603729248, 1.5112769603729248, 1.5112769603729248, 1.5112764835357666, 1.511276364326477, 1.511276125907898, 1.5112760066986084, 1.5112760066986084, 1.511275291442871, 1.511275291442871, 1.511275291442871, 1.5112755298614502, 1.511274814605713, 1.511275053024292, 1.5112744569778442, 1.511273980140686, 1.511273741722107, 1.5112733840942383, 1.51127290725708, 3.491086721420288, 4.948249340057373, 9.088858604431152, 5.631625652313232, 7.631021976470947, 12.499445915222168, 3.428136110305786, 4.031576633453369, 4.952712059020996, 3.5672945976257324, 2.889775514602661, 2.199202060699463, 2.1970725059509277, 2.199068784713745, 2.198457717895508, 11.749870300292969, 5.884471893310547, 4.7058844566345215, 2.193661689758301, 7.84099817276001, 13.151786804199219, 3.56996488571167, 16.241872787475586, 4.264927387237549, 6.679313659667969, 3.5760788917541504, 10.778800010681152, 5.661383628845215, 6.790633201599121, 6.489368915557861, 6.322711944580078, 6.6715850830078125, 6.5504021644592285, 5.8899006843566895, 6.7749152183532715, 7.93104362487793, 5.555304050445557, 8.447539329528809, 4.3357343673706055, 4.251945972442627, 4.390989303588867, 8.283592224121094, 2.1772944927215576, 2.1765849590301514, 2.175926446914673, 6.93151330947876, 3.4828426837921143, 1.4968879222869873, 1.4968878030776978, 1.4968878030776978, 1.4968870878219604, 1.4968870878219604, 1.4968867301940918, 1.4968867301940918, 1.4968862533569336, 1.4968866109848022, 1.4968862533569336, 1.4968852996826172, 1.4968852996826172, 1.4968851804733276, 1.4968807697296143, 1.4968777894973755, 1.496877670288086, 1.4968774318695068, 1.4968658685684204, 1.4966744184494019, 1.495753526687622, 1.4957518577575684, 1.4957518577575684, 1.4954469203948975, 1.4949771165847778, 10.182154655456543, 2.856809616088867, 16.307710647583008, 3.543592929840088, 10.352005958557129, 10.802657127380371, 4.906528472900391, 17.183862686157227, 3.5430233478546143, 3.540738105773926, 2.863844394683838, 2.8627309799194336, 52.8721923828125, 2.177790641784668, 2.1772518157958984, 7.417809009552002, 8.061239242553711, 2.7534210681915283, 5.5846028327941895, 7.6293511390686035, 2.179069757461548, 2.7370893955230713, 4.2268242835998535, 5.113704681396484, 9.688528060913086, 3.538982391357422, 10.283615112304688, 6.197351932525635, 12.432921409606934, 16.50165367126465, 8.855875968933105, 4.906967639923096, 3.541243076324463, 8.70879077911377, 5.114201068878174, 4.902698040008545, 6.039303302764893, 4.904588222503662, 4.900265693664551, 4.901166915893555, 4.602829933166504, 5.069650173187256, 4.890443801879883], \"Term\": [\"saxbys\", \"great\", \"cafe\", \"templeuniv\", \"wait\", \"cant\", \"team\", \"thx\", \"know\", \"open\", \"coming\", \"free\", \"man\", \"run\", \"letting\", \"learning\", \"scholarship\", \"experiential\", \"lukebb\", \"best\", \"barista\", \"pumpkin\", \"cold\", \"u\", \"good\", \"coffee\", \"grad\", \"dude\", \"celebrity\", \"brew\", \"finally\", \"brew\", \"visitphilly\", \"consider\", \"at\", \"drexelstartup14\", \"celebrate\", \"comcastnbcuci\", \"cold\", \"place\", \"free\", \"shoot\", \"grand\", \"newest\", \"ride\", \"mentoring\", \"myasmine\", \"youth\", \"something\", \"charge\", \"sunday\", \"assist\", \"frankneill\", \"second\", \"amp\", \"market\", \"1818\", \"malcolmjenkins\", \"45\", \"eagle\", \"left\", \"give\", \"event\", \"dalilasays\", \"seeing\", \"glad\", \"saxbys\", \"email\", \"opening\", \"amazing\", \"coffee\", \"run\", \"much\", \"prezhanycz\", \"need\", \"come\", \"thx\", \"dm\", \"thanks\", \"student\", \"team\", \"article\", \"u\", \"experience\", \"it\", \"thank\", \"app\", \"great\", \"love\", \"entrepreneur\", \"were\", \"well\", \"really\", \"one\", \"loved\", \"look\", \"templeuniv\", \"lukebb\", \"friend\", \"excited\", \"wait\", \"cant\", \"philly\", \"center\", \"infosaxbyscoffeecom\", \"issue\", \"bit\", \"connorbarwin98\", \"rachelbg\", \"scholly5\", \"maleckidenise\", \"traffic\", \"lack\", \"shoutout\", \"lotta\", \"empty\", \"dominant\", \"pair\", \"stan\", \"helpful\", \"trip\", \"office\", \"history\", \"qsrmagazine\", \"kept\", \"annual\", \"broadandwalnut\", \"jenniferlmaher\", \"sklasko\", \"failure\", \"small\", \"phillytechweek\", \"hotel\", \"coming\", \"lot\", \"phlbizjournal\", \"mikemaherphl\", \"great\", \"piece\", \"welcome\", \"pleasure\", \"luck\", \"cool\", \"meet\", \"locust\", \"hosting\", \"thursday\", \"thanks\", \"excited\", \"philly\", \"enjoyed\", \"state\", \"back\", \"taste\", \"you\", \"new\", \"saxbys\", \"phillymag\", \"article\", \"forward\", \"really\", \"incredible\", \"city\", \"next\", \"amazing\", \"cornell\", \"philadelphia\", \"one\", \"congrats\", \"well\", \"time\", \"love\", \"team\", \"lukebb\", \"good\", \"2nd\", \"medium\", \"bring\", \"phillymags\", \"blast\", \"i\", \"iizsam\", \"soda\", \"tax\", \"consecutive\", \"menu\", \"lemonade\", \"featured\", \"hq2\", \"amazon\", \"phillydelivers\", \"blog\", \"lose\", \"move\", \"book\", \"takingthehill\", \"donut\", \"innovating\", \"\\u0093saxbys\", \"atl\", \"exec\", \"backpack\", \"luke\", \"daniellecohn\", \"hi\", \"world\", \"bigrubeharley\", \"interview\", \"coffee\\u0094\", \"lukebb\", \"company\", \"boston\", \"inspiration\", \"proud\", \"great\", \"athlete\", \"city\", \"house\", \"love\", \"thx\", \"star\", \"appreciated\", \"philly\", \"read\", \"nickbayer\", \"billypenn\", \"focus\", \"keep\", \"good\", \"work\", \"im\", \"day\", \"much\", \"best\", \"like\", \"phillymag\", \"saxbys\", \"support\", \"one\", \"way\", \"thanks\", \"loved\", \"congrats\", \"big\", \"get\", \"coffee\", \"look\", \"philadelphia\", \"excited\", \"talk\", \"spice\", \"rodneymcleod4\", \"bretttopche\", \"pumpkin\", \"miami\", \"ricknucci\", \"minute\", \"barista\", \"league\", \"pulling\", \"supporter\", \"face\", \"chillmoody\", \"alumnus\", \"brings\", \"mindfuldragon\", \"rolling\", \"worse\", \"arouthwaite\", \"mater\", \"alma\", \"humility\", \"seen\", \"gqmagazine\", \"hat\", \"boring\", \"tall\", \"needle\", \"flyersoftball\", \"ccpedu\", \"celebrity\", \"man\", \"grad\", \"scholarship\", \"templeuniv\", \"6\", \"sxsw\", \"service\", \"nytimes\", \"watching\", \"pro\", \"smart\", \"main\", \"councilman\", \"good\", \"square\", \"dude\", \"serious\", \"cornell\", \"lukebb\", \"athlete\", \"thanks\", \"weekend\", \"new\", \"young\", \"love\", \"rittenhouse\", \"proud\", \"philadelphia\", \"really\", \"much\", \"philly\", \"article\", \"amazing\", \"great\", \"coffee\", \"saxbys\", \"ppyogathrive\", \"going\", \"friend\", \"open\", \"crush\", \"phone\", \"smealcollege\", \"letting\", \"bad\", \"virginiafoxx\", \"repsmucker\", \"councilmanderek\", \"growth\", \"fox29philly\", \"covenanthouse\", \"salad\", \"graduate\", \"gorgeous\", \"barge\", \"south\", \"beaming\", \"promotion\", \"daveshoo\", \"jenearobinson\", \"officialacmoore\", \"might\", \"jpegjoshua\", \"apology\", \"washing\", \"taneydragons\", \"llws\\u0094\", \"announce\", \"signed\", \"know\", \"taking\", \"cafe\", \"member\", \"wait\", \"cant\", \"would\", \"team\", \"vernickphilly\", \"last\", \"indeed\", \"party\", \"saxbys\", \"theqonfox\", \"machine\", \"experiential\", \"learning\", \"pennstate\", \"hq\", \"best\", \"station\", \"still\", \"deserved\", \"partnership\", \"u\", \"exclusively\", \"well\", \"run\", \"love\", \"thanks\", \"thx\", \"see\", \"30th\", \"amazing\", \"im\", \"like\", \"philly\", \"cornell\", \"friend\", \"congrats\", \"student\", \"lukebb\", \"much\"], \"Total\": [254.0, 116.0, 28.0, 23.0, 20.0, 21.0, 49.0, 42.0, 15.0, 9.0, 26.0, 19.0, 13.0, 17.0, 9.0, 21.0, 12.0, 18.0, 54.0, 21.0, 7.0, 6.0, 13.0, 31.0, 35.0, 36.0, 8.0, 10.0, 7.0, 11.0, 4.55875825881958, 11.380374908447266, 9.863358497619629, 3.7881321907043457, 3.7881131172180176, 3.7880303859710693, 3.7879347801208496, 3.7878448963165283, 13.594755172729492, 7.556433200836182, 19.575746536254883, 6.780383586883545, 3.0175769329071045, 3.0175766944885254, 3.0175766944885254, 3.0175764560699463, 3.017575263977051, 3.017504930496216, 3.017491579055786, 3.0174458026885986, 3.0173957347869873, 3.017340898513794, 3.0173778533935547, 5.239894390106201, 6.737149238586426, 2.246986150741577, 2.246986150741577, 2.246985912322998, 2.246986150741577, 2.246985912322998, 2.246985912322998, 5.233584403991699, 11.964958190917969, 5.2257585525512695, 5.247686386108398, 6.703278064727783, 254.2515869140625, 11.192359924316406, 11.961662292480469, 63.131996154785156, 36.09623336791992, 17.58827781677246, 47.986724853515625, 6.714752674102783, 6.721412181854248, 6.721271514892578, 42.768436431884766, 7.430351734161377, 112.56755065917969, 25.560848236083984, 49.74217224121094, 37.85588836669922, 31.132911682128906, 11.118194580078125, 17.5515193939209, 13.266349792480469, 8.214229583740234, 116.11849212646484, 66.34423828125, 16.078886032104492, 23.23184585571289, 37.328121185302734, 34.60841369628906, 24.671205520629883, 20.35076332092285, 20.99019432067871, 23.765533447265625, 54.53984069824219, 28.004714965820312, 33.060482025146484, 20.157337188720703, 21.55086898803711, 46.72029113769531, 4.934313774108887, 3.5251035690307617, 2.8200595378875732, 2.8200597763061523, 2.8200597763061523, 2.8200597763061523, 2.8200597763061523, 4.909983158111572, 2.1153080463409424, 2.1153082847595215, 2.1153082847595215, 2.1153080463409424, 2.1153080463409424, 2.1153082847595215, 2.1153082847595215, 2.1153082847595215, 2.1153080463409424, 2.1153082847595215, 2.1153082847595215, 2.1153082847595215, 2.1153080463409424, 2.1153080463409424, 2.1153082847595215, 2.1153080463409424, 2.1153082847595215, 2.1153082847595215, 2.1153082847595215, 2.1153082847595215, 2.1153080463409424, 2.1153085231781006, 26.398229598999023, 9.951617240905762, 12.120833396911621, 7.06498908996582, 116.11849212646484, 19.334300994873047, 11.930124282836914, 21.4610538482666, 4.891746520996094, 14.158926963806152, 8.606740951538086, 3.5071985721588135, 3.5904974937438965, 3.59055233001709, 112.56755065917969, 33.060482025146484, 46.72029113769531, 9.961803436279297, 5.578619003295898, 10.055731773376465, 5.667815208435059, 13.079768180847168, 25.75565528869629, 254.2515869140625, 19.935110092163086, 37.85588836669922, 10.679282188415527, 34.60841369628906, 19.832225799560547, 15.225319862365723, 11.52069091796875, 63.131996154785156, 24.43791389465332, 29.925092697143555, 24.671205520629883, 29.97161865234375, 37.328121185302734, 19.50779914855957, 66.34423828125, 49.74217224121094, 54.53984069824219, 35.080474853515625, 4.823783874511719, 3.4511289596557617, 3.4510035514831543, 2.764798164367676, 2.764798164367676, 2.0784668922424316, 2.07846736907959, 2.0784671306610107, 2.0784671306610107, 2.0784671306610107, 2.0784671306610107, 2.0784671306610107, 2.0784671306610107, 2.0784671306610107, 2.0784671306610107, 2.0784671306610107, 2.07846736907959, 2.07846736907959, 2.07846736907959, 2.0784671306610107, 2.0784671306610107, 2.0784671306610107, 2.0784671306610107, 2.07846736907959, 2.07846736907959, 2.0784671306610107, 2.07846736907959, 2.07846736907959, 2.07846736907959, 2.0784671306610107, 4.926142692565918, 4.926105976104736, 14.616744995117188, 3.4695932865142822, 54.53984069824219, 8.442546844482422, 3.535156011581421, 3.5351576805114746, 31.252269744873047, 116.11849212646484, 7.57235860824585, 15.225319862365723, 5.5297532081604, 66.34423828125, 42.768436431884766, 7.8656511306762695, 5.762468338012695, 46.72029113769531, 10.748821258544922, 10.797456741333008, 7.063462257385254, 5.640008926391602, 8.32387924194336, 35.080474853515625, 21.974491119384766, 18.424577713012695, 22.792707443237305, 47.986724853515625, 21.056026458740234, 21.098209381103516, 19.935110092163086, 254.2515869140625, 18.100194931030273, 24.671205520629883, 17.493684768676758, 112.56755065917969, 20.35076332092285, 29.97161865234375, 11.430095672607422, 19.48240089416504, 36.09623336791992, 20.99019432067871, 29.925092697143555, 33.060482025146484, 4.140602111816406, 4.140940189361572, 3.4535913467407227, 3.4538135528564453, 6.881472110748291, 2.7666451930999756, 2.7666454315185547, 2.766704559326172, 7.742190361022949, 2.0796985626220703, 2.0796988010406494, 2.0796985626220703, 2.0796985626220703, 2.0796985626220703, 2.0796985626220703, 2.0796985626220703, 2.079698324203491, 2.0796985626220703, 2.0796985626220703, 2.0796985626220703, 2.0796985626220703, 2.0796985626220703, 2.0796988010406494, 2.0796985626220703, 2.0796988010406494, 2.0796988010406494, 2.0796985626220703, 2.0796985626220703, 2.0796985626220703, 2.0796985626220703, 4.920945644378662, 7.055340766906738, 13.83049201965332, 8.428594589233398, 12.755365371704102, 23.765533447265625, 5.59682035446167, 6.8811469078063965, 9.169074058532715, 6.206712245941162, 4.9101243019104, 3.447061061859131, 3.447056293487549, 3.471492290496826, 3.471390724182129, 35.080474853515625, 14.151951789855957, 10.306779861450195, 3.537243127822876, 24.43791389465332, 54.53984069824219, 7.57235860824585, 112.56755065917969, 11.329166412353516, 25.75565528869629, 8.283490180969238, 66.34423828125, 20.208885192871094, 31.252269744873047, 29.925092697143555, 34.60841369628906, 47.986724853515625, 46.72029113769531, 37.85588836669922, 63.131996154785156, 116.11849212646484, 36.09623336791992, 254.2515869140625, 17.233957290649414, 15.446925163269043, 28.004714965820312, 9.576095581054688, 2.7470242977142334, 2.7470312118530273, 2.747049331665039, 9.05215835571289, 4.795314788818359, 2.066617965698242, 2.066617965698242, 2.066617965698242, 2.066617965698242, 2.066617965698242, 2.066617965698242, 2.066617965698242, 2.066617727279663, 2.066617965698242, 2.066617965698242, 2.066617965698242, 2.066617965698242, 2.066617965698242, 2.0666184425354004, 2.0666182041168213, 2.0666182041168213, 2.0666184425354004, 2.0666189193725586, 2.066646099090576, 2.066628932952881, 2.066768169403076, 2.066768169403076, 2.0666303634643555, 2.0666346549987793, 15.296542167663574, 4.1145339012146, 28.175960540771484, 5.564189910888672, 20.157337188720703, 21.55086898803711, 9.086919784545898, 49.74217224121094, 6.335623741149902, 6.335136413574219, 4.883733749389648, 4.902374267578125, 254.2515869140625, 3.4339663982391357, 3.433356285095215, 18.731727600097656, 21.593807220458984, 4.840646743774414, 13.440963745117188, 21.056026458740234, 3.517378568649292, 4.901093482971191, 9.261613845825195, 12.244266510009766, 31.132911682128906, 7.19000244140625, 37.328121185302734, 17.58827781677246, 66.34423828125, 112.56755065917969, 42.768436431884766, 15.646488189697266, 7.76283073425293, 63.131996154785156, 18.424577713012695, 21.098209381103516, 46.72029113769531, 24.43791389465332, 28.004714965820312, 29.97161865234375, 25.560848236083984, 54.53984069824219, 47.986724853515625], \"loglift\": [30.0, 29.0, 28.0, 27.0, 26.0, 25.0, 24.0, 23.0, 22.0, 21.0, 20.0, 19.0, 18.0, 17.0, 16.0, 15.0, 14.0, 13.0, 12.0, 11.0, 10.0, 9.0, 8.0, 7.0, 6.0, 5.0, 4.0, 3.0, 2.0, 1.0, 1.0635000467300415, 1.0571000576019287, 1.0534000396728516, 1.034999966621399, 1.0348999500274658, 1.0347000360488892, 1.034500002861023, 1.0342999696731567, 1.0180000066757202, 1.0120999813079834, 0.9934999942779541, 0.9919999837875366, 0.9905999898910522, 0.9905999898910522, 0.9905999898910522, 0.9905999898910522, 0.9905999898910522, 0.9902999997138977, 0.9902999997138977, 0.9900000095367432, 0.9900000095367432, 0.989799976348877, 0.9897000193595886, 0.9258000254631042, 0.9139000177383423, 0.9107000231742859, 0.9107000231742859, 0.9107000231742859, 0.9107000231742859, 0.9107000231742859, 0.9107000231742859, 0.8988000154495239, 0.8664000034332275, 0.8799999952316284, 0.8754000067710876, 0.8539000153541565, 0.6195999979972839, 0.819100022315979, 0.8108000159263611, 0.6284999847412109, 0.6840000152587891, 0.6924999952316284, 0.5073000192642212, 0.8529000282287598, 0.8519999980926514, 0.8517000079154968, 0.503000020980835, 0.8281999826431274, 0.29089999198913574, 0.5752000212669373, 0.3644999861717224, 0.4275999963283539, 0.47380000352859497, 0.7281000018119812, 0.593500018119812, 0.6711000204086304, 0.8001999855041504, -0.021299999207258224, 0.10580000281333923, 0.5595999956130981, 0.4300000071525574, 0.23119999468326569, 0.25429999828338623, 0.3799000084400177, 0.44609999656677246, 0.41350001096725464, 0.3409999907016754, -0.1412999927997589, 0.23960000276565552, 0.12839999794960022, 0.42820000648498535, 0.36149999499320984, -0.3174000084400177, 1.5220999717712402, 1.467900037765503, 1.420199990272522, 1.420199990272522, 1.420199990272522, 1.420199990272522, 1.420199990272522, 1.3513000011444092, 1.3329999446868896, 1.3329999446868896, 1.3329999446868896, 1.3329999446868896, 1.3329999446868896, 1.3329999446868896, 1.3329999446868896, 1.3329999446868896, 1.3329999446868896, 1.3329999446868896, 1.3329999446868896, 1.3329999446868896, 1.3329999446868896, 1.3329999446868896, 1.3329999446868896, 1.3329999446868896, 1.3329999446868896, 1.3329999446868896, 1.3329999446868896, 1.3329999446868896, 1.3329999446868896, 1.3329999446868896, 1.0982999801635742, 1.1933000087738037, 1.1030000448226929, 1.1646000146865845, 0.7121999859809875, 0.9868999719619751, 0.998199999332428, 0.8632000088691711, 1.1433000564575195, 0.8550999760627747, 0.9657999873161316, 1.2009999752044678, 1.1792999505996704, 1.1791000366210938, 0.10639999806880951, 0.4821999967098236, 0.36649999022483826, 0.8209999799728394, 1.0110000371932983, 0.810699999332428, 0.9939000010490417, 0.6976000070571899, 0.4537000060081482, -0.38909998536109924, 0.5206000208854675, 0.2621999979019165, 0.7526000142097473, 0.1526000052690506, 0.4115999937057495, 0.5454000234603882, 0.6754999756813049, -0.24449999630451202, 0.2639999985694885, 0.11429999768733978, 0.19339999556541443, 0.055799998342990875, -0.1379999965429306, 0.29739999771118164, -0.6966999769210815, -0.4693000018596649, -0.5853999853134155, -0.2718999981880188, 1.6375000476837158, 1.5829999446868896, 1.5779999494552612, 1.5327999591827393, 1.5327999591827393, 1.44350004196167, 1.44350004196167, 1.44350004196167, 1.44350004196167, 1.44350004196167, 1.44350004196167, 1.44350004196167, 1.44350004196167, 1.44350004196167, 1.44350004196167, 1.44350004196167, 1.44350004196167, 1.44350004196167, 1.44350004196167, 1.44350004196167, 1.44350004196167, 1.44350004196167, 1.44350004196167, 1.44350004196167, 1.44350004196167, 1.44350004196167, 1.44350004196167, 1.44350004196167, 1.44350004196167, 1.44350004196167, 1.2294000387191772, 1.2293000221252441, 0.9257000088691711, 1.30649995803833, 0.5415999889373779, 1.055299997329712, 1.2878999710083008, 1.2878999710083008, 0.578000009059906, 0.14920000731945038, 1.0110000371932983, 0.7684999704360962, 1.1119999885559082, 0.2328999936580658, 0.37450000643730164, 0.9739000201225281, 1.0715999603271484, 0.29670000076293945, 0.838699996471405, 0.8324999809265137, 0.9815000295639038, 1.0667999982833862, 0.9172999858856201, 0.3691999912261963, 0.5171999931335449, 0.5605000257492065, 0.44850000739097595, 0.10520000010728836, 0.4449999928474426, 0.4104999899864197, 0.421999990940094, -0.9868000149726868, 0.46630001068115234, 0.2865000069141388, 0.4708999991416931, -0.664900004863739, 0.34860000014305115, 0.09080000221729279, 0.7167999744415283, 0.31049999594688416, -0.15399999916553497, 0.2460000067949295, -0.0917000025510788, -0.20090000331401825, 1.635599970817566, 1.6341999769210815, 1.603600025177002, 1.6029000282287598, 1.5722999572753906, 1.5534000396728516, 1.5534000396728516, 1.5532000064849854, 1.46589994430542, 1.4642000198364258, 1.4642000198364258, 1.4642000198364258, 1.4642000198364258, 1.4642000198364258, 1.4642000198364258, 1.4642000198364258, 1.4642000198364258, 1.4642000198364258, 1.4642000198364258, 1.4642000198364258, 1.4642000198364258, 1.4642000198364258, 1.4642000198364258, 1.4642000198364258, 1.4642000198364258, 1.4642000198364258, 1.4642000198364258, 1.4642000198364258, 1.4642000198364258, 1.4642000198364258, 1.4400999546051025, 1.4286999702453613, 1.3636000156402588, 1.3802000284194946, 1.269700050354004, 1.1409000158309937, 1.2932000160217285, 1.2488000392913818, 1.1675000190734863, 1.229599952697754, 1.2532999515533447, 1.3339999914169312, 1.3329999446868896, 1.3269000053405762, 1.3265999555587769, 0.6895999908447266, 0.9059000015258789, 0.9994000196456909, 1.3056999444961548, 0.6467000246047974, 0.3610999882221222, 1.031499981880188, -0.1525000035762787, 0.8065000176429749, 0.43380001187324524, 0.9434000253677368, -0.033799998462200165, 0.5109999775886536, 0.25690001249313354, 0.2549000084400177, 0.08349999785423279, -0.18960000574588776, -0.18119999766349792, -0.0771000012755394, -0.44859999418258667, -0.9003999829292297, -0.08799999952316284, -1.621000051498413, 0.4034000039100647, 0.4934000074863434, -0.06939999759197235, 1.6648000478744507, 1.5773999691009521, 1.5771000385284424, 1.576799988746643, 1.5428999662399292, 1.4900000095367432, 1.4873000383377075, 1.4873000383377075, 1.4873000383377075, 1.4873000383377075, 1.4873000383377075, 1.4873000383377075, 1.4873000383377075, 1.4873000383377075, 1.4873000383377075, 1.4873000383377075, 1.4873000383377075, 1.4873000383377075, 1.4873000383377075, 1.4873000383377075, 1.4873000383377075, 1.4873000383377075, 1.4873000383377075, 1.4873000383377075, 1.4872000217437744, 1.4865000247955322, 1.4865000247955322, 1.4865000247955322, 1.486299991607666, 1.4859999418258667, 1.4027999639511108, 1.4450000524520874, 1.2630000114440918, 1.3586000204086304, 1.143399953842163, 1.1191999912261963, 1.193600058555603, 0.746999979019165, 1.228600025177002, 1.2280999422073364, 1.2761000394821167, 1.2719000577926636, 0.2393999993801117, 1.3544000387191772, 1.3544000387191772, 0.8834999799728394, 0.8245000243186951, 1.2455999851226807, 0.9315000176429749, 0.794700026512146, 1.3309999704360962, 1.2273000478744507, 1.0254000425338745, 0.9366999864578247, 0.6424999833106995, 1.1009999513626099, 0.5206000208854675, 0.766700029373169, 0.13529999554157257, -0.11029999703168869, 0.23510000109672546, 0.6502000093460083, 1.024999976158142, -0.17110000550746918, 0.5281999707221985, 0.35040000081062317, -0.2361000031232834, 0.20389999449253082, 0.06679999828338623, -0.0008999999845400453, 0.09539999812841415, -0.5658000111579895, -0.47380000352859497], \"logprob\": [30.0, 29.0, 28.0, 27.0, 26.0, 25.0, 24.0, 23.0, 22.0, 21.0, 20.0, 19.0, 18.0, 17.0, 16.0, 15.0, 14.0, 13.0, 12.0, 11.0, 10.0, 9.0, 8.0, 7.0, 6.0, 5.0, 4.0, 3.0, 2.0, 1.0, -6.799600124359131, -5.891200065612793, -6.038000106811523, -7.013299942016602, -7.013400077819824, -7.013599872589111, -7.013899803161621, -7.014100074768066, -5.752399921417236, -6.345699787139893, -5.412399768829346, -6.4741997718811035, -7.285099983215332, -7.285099983215332, -7.285099983215332, -7.285099983215332, -7.285200119018555, -7.285399913787842, -7.2855000495910645, -7.285799980163574, -7.285799980163574, -7.285999774932861, -7.286099910736084, -6.798099994659424, -6.558700084686279, -7.659800052642822, -7.659800052642822, -7.659800052642822, -7.659800052642822, -7.659800052642822, -7.659800052642822, -6.826200008392334, -6.031799793243408, -6.84660005569458, -6.8470001220703125, -6.623700141906738, -3.2221999168395996, -6.1458001136779785, -6.087600231170654, -4.606400012969971, -5.110000133514404, -5.820400238037109, -5.0019001960754395, -6.623000144958496, -6.622900009155273, -6.623199939727783, -5.121399879455566, -6.54640007019043, -4.365699768066406, -5.563899993896484, -5.108799934387207, -5.318699836730957, -5.468100070953369, -6.243500232696533, -5.921500205993652, -6.123899936676025, -6.474100112915039, -4.6468000411987305, -5.079500198364258, -6.043099880218506, -5.804599761962891, -5.529300212860107, -5.5817999839782715, -5.794600009918213, -5.920899868011475, -5.922599792480469, -5.8709001541137695, -5.522500038146973, -5.808199882507324, -5.753399848937988, -5.948400020599365, -5.948200225830078, -5.853400230407715, -6.261899948120117, -6.652400016784668, -6.923299789428711, -6.923299789428711, -6.923299789428711, -6.923299789428711, -6.923299789428711, -6.437600135803223, -7.297900199890137, -7.297900199890137, -7.297900199890137, -7.297900199890137, -7.297900199890137, -7.297900199890137, -7.297900199890137, -7.297900199890137, -7.297999858856201, -7.297999858856201, -7.297999858856201, -7.297999858856201, -7.297999858856201, -7.297999858856201, -7.297999858856201, -7.297999858856201, -7.297999858856201, -7.297999858856201, -7.297999858856201, -7.297999858856201, -7.297999858856201, -7.297999858856201, -5.008600234985352, -5.889100074768066, -5.782199859619141, -6.26039981842041, -3.913300037384033, -5.431300163269043, -5.902900218963623, -5.450799942016602, -6.649400234222412, -5.874800205230713, -6.2617998123168945, -6.924300193786621, -6.922500133514404, -6.922800064086914, -4.55019998550415, -5.399600028991699, -5.16949987411499, -6.26039981842041, -6.650199890136719, -6.26140022277832, -6.651400089263916, -6.111499786376953, -5.677800178527832, -4.230899810791016, -5.867099761962891, -5.484099864959717, -6.259300231933594, -5.683499813079834, -5.981299877166748, -6.111800193786621, -6.2606000900268555, -5.479400157928467, -5.920000076293945, -5.867199897766113, -5.981200218200684, -5.924200057983398, -5.898399829864502, -6.111999988555908, -5.881999969482422, -5.942599773406982, -5.966700077056885, -6.094399929046631, -6.169099807739258, -6.5584001541137695, -6.563499927520752, -6.830399990081787, -6.830399990081787, -7.205100059509277, -7.205100059509277, -7.205100059509277, -7.205100059509277, -7.205100059509277, -7.205100059509277, -7.205100059509277, -7.205100059509277, -7.205100059509277, -7.205100059509277, -7.205100059509277, -7.205100059509277, -7.205100059509277, -7.205100059509277, -7.205100059509277, -7.205100059509277, -7.205100059509277, -7.205100059509277, -7.205100059509277, -7.205100059509277, -7.205100059509277, -7.205100059509277, -7.205100059509277, -7.205100059509277, -7.205100059509277, -6.55620002746582, -6.556300163269043, -5.772299766540527, -6.829699993133545, -4.839600086212158, -6.191500186920166, -6.829500198364258, -6.829500198364258, -5.360000133514404, -4.47629976272583, -6.344600200653076, -5.888700008392334, -6.558000087738037, -4.952400207519531, -5.249800205230713, -6.343699932098389, -6.557199954986572, -5.239299774169922, -6.1666998863220215, -6.168399810791016, -6.443699836730957, -6.583499908447266, -6.343699932098389, -5.4532999992370605, -5.773099899291992, -5.906000137329102, -5.805300235748291, -5.4039998054504395, -5.888000011444092, -5.920400142669678, -5.965700149536133, -4.82859992980957, -6.017899990081787, -5.888000011444092, -6.047399997711182, -5.321599960327148, -6.018400192260742, -5.889100074768066, -6.227099895477295, -6.100100040435791, -5.947999954223633, -6.090199947357178, -6.073200225830078, -6.082799911499023, -6.323699951171875, -6.325099945068359, -6.537199974060059, -6.537799835205078, -5.879000186920166, -6.809100151062012, -6.809100151062012, -6.809299945831299, -5.867599964141846, -7.183800220489502, -7.183800220489502, -7.183800220489502, -7.183800220489502, -7.183800220489502, -7.183800220489502, -7.183800220489502, -7.183800220489502, -7.183800220489502, -7.183800220489502, -7.183800220489502, -7.183800220489502, -7.183800220489502, -7.183800220489502, -7.183800220489502, -7.183800220489502, -7.183800220489502, -7.183800220489502, -7.183800220489502, -7.183800220489502, -7.183800220489502, -6.346499919891357, -5.997700214385986, -5.389699935913086, -5.868299961090088, -5.564499855041504, -5.071100234985352, -6.364699840545654, -6.202600002288818, -5.996799945831299, -6.324900150299072, -6.535600185394287, -6.808599948883057, -6.809599876403809, -6.808700084686279, -6.809000015258789, -5.132900238037109, -5.824399948120117, -6.047900199890137, -6.811200141906738, -5.537399768829346, -5.020199775695801, -6.32420015335083, -4.809100151062012, -6.146299839019775, -5.697700023651123, -6.322500228881836, -5.219200134277344, -5.863100051879883, -5.68120002746582, -5.726600170135498, -5.752600193023682, -5.69890022277832, -5.717199802398682, -5.823500156402588, -5.683499813079834, -5.526000022888184, -5.881999969482422, -5.462900161743164, -6.129799842834473, -6.149400234222412, -6.117199897766113, -5.456099987030029, -6.792300224304199, -6.792600154876709, -6.792900085449219, -5.634300231933594, -6.322500228881836, -7.166900157928467, -7.166900157928467, -7.166900157928467, -7.166900157928467, -7.166900157928467, -7.166900157928467, -7.166900157928467, -7.166900157928467, -7.166900157928467, -7.166900157928467, -7.166900157928467, -7.166900157928467, -7.166900157928467, -7.166999816894531, -7.166999816894531, -7.166999816894531, -7.166999816894531, -7.166999816894531, -7.167099952697754, -7.167699813842773, -7.167699813842773, -7.167699813842773, -7.167900085449219, -7.1682000160217285, -5.24970006942749, -6.520599842071533, -4.77869987487793, -6.305200099945068, -5.2332000732421875, -5.190499782562256, -5.979800224304199, -4.726399898529053, -6.3053998947143555, -6.306000232696533, -6.518199920654297, -6.518599987030029, -3.6024999618530273, -6.791999816894531, -6.792300224304199, -5.566400051116943, -5.48330020904541, -6.557499885559082, -5.850299835205078, -5.538300037384033, -6.791399955749512, -6.563399791717529, -6.128900051116943, -5.938399791717529, -5.2993998527526855, -6.30649995803833, -5.239799976348877, -5.746200084686279, -5.050000190734863, -4.766900062561035, -5.3892998695373535, -5.979700088500977, -6.3059000968933105, -5.406000137329102, -5.938300132751465, -5.980500221252441, -5.771999835968018, -5.980199813842773, -5.980999946594238, -5.980899810791016, -6.043700218200684, -5.9471001625061035, -5.983099937438965]}, \"token.table\": {\"Topic\": [1, 3, 1, 2, 5, 1, 1, 3, 4, 4, 4, 1, 2, 3, 4, 5, 3, 1, 3, 5, 2, 5, 1, 2, 1, 3, 4, 1, 2, 3, 4, 5, 1, 1, 3, 4, 3, 1, 2, 4, 3, 4, 5, 5, 1, 4, 5, 1, 2, 3, 5, 1, 2, 3, 4, 5, 1, 2, 3, 1, 2, 3, 2, 3, 3, 3, 4, 1, 3, 4, 1, 5, 3, 4, 2, 1, 3, 5, 1, 2, 5, 1, 4, 1, 1, 4, 2, 1, 4, 2, 3, 4, 5, 1, 2, 3, 4, 2, 3, 1, 5, 1, 1, 2, 4, 1, 2, 3, 4, 5, 1, 2, 3, 5, 1, 2, 3, 4, 5, 2, 3, 1, 1, 2, 3, 4, 5, 1, 2, 3, 4, 5, 2, 4, 5, 5, 5, 1, 4, 3, 5, 1, 2, 3, 4, 5, 1, 2, 4, 5, 1, 3, 2, 3, 1, 3, 4, 5, 1, 1, 2, 5, 2, 1, 2, 3, 5, 1, 2, 3, 5, 1, 2, 3, 1, 2, 3, 4, 5, 1, 5, 3, 1, 2, 4, 1, 2, 5, 4, 2, 3, 1, 4, 1, 2, 3, 1, 2, 3, 4, 5, 1, 1, 5, 1, 2, 3, 4, 5, 1, 2, 3, 4, 5, 1, 3, 1, 4, 1, 2, 3, 4, 5, 1, 2, 3, 4, 5, 5, 4, 1, 3, 4, 5, 1, 1, 2, 3, 4, 5, 5, 4, 2, 3, 2, 1, 2, 2, 2, 3, 4, 1, 2, 3, 5, 3, 4, 3, 3, 1, 2, 3, 4, 5, 1, 2, 3, 4, 5, 1, 3, 5, 2, 3, 1, 3, 1, 2, 3, 4, 5, 2, 1, 2, 3, 5, 5, 2, 5, 2, 3, 4, 5, 2, 1, 3, 4, 5, 2, 1, 3, 5, 4, 1, 2, 5, 1, 3, 1, 5, 1, 2, 3, 4, 5, 5, 2, 4, 1, 2, 3, 4, 5, 3, 1, 2, 3, 5, 2, 1, 2, 3, 4, 5, 1, 2, 3, 4, 2, 3, 5, 3, 1, 2, 3, 4, 5, 3, 5, 2, 4, 1, 2, 5, 1, 3, 4, 5, 1, 4, 3, 1, 2, 5, 1, 3, 5, 1, 3, 4, 5, 1, 2, 5, 4, 4, 3, 1, 2, 3, 4, 5, 1, 1, 2, 4, 4, 1, 2, 3, 4, 5, 1, 1, 2, 3, 5, 1, 3, 5, 2, 4, 5, 2, 5, 1, 2, 3, 4, 5, 2, 5, 1, 2, 2, 1, 2, 5, 1, 2, 5, 2, 5, 1, 2, 3, 4, 5, 1, 2, 3, 4, 5, 3, 1, 2, 3, 5, 3, 2, 1, 2, 3, 4, 5, 1, 2, 3, 4, 5, 1, 4, 1, 2, 3, 4, 5, 1, 2, 3, 4, 5, 1, 2, 5, 4, 5, 5, 1, 2, 3, 4, 5, 4, 4, 5, 2, 2, 1, 2, 3, 4, 5, 1, 2, 3, 4, 5, 5, 4, 1, 1, 2, 3, 4, 4, 4, 1, 5, 5, 1, 2, 3, 4, 5, 1, 2, 4, 2, 1, 5, 1, 2, 4, 5, 1, 2, 4, 1, 4, 1, 2, 4, 1, 5, 2, 5, 2, 2, 4, 5, 5, 3, 1, 5, 4, 1, 2, 3, 4, 2, 1, 3, 4, 2, 3, 4, 5, 1, 5, 1, 4, 5, 1, 2, 3, 4, 5, 1, 1, 2, 3, 5, 4, 3, 4, 5, 4, 5, 3, 4, 4, 5, 1, 2, 3, 3, 1, 2, 3, 4, 5, 1, 4, 5, 1, 2, 3, 5, 1, 2, 3, 4, 5, 4, 5, 1, 2, 1, 3, 4, 5, 1, 2, 4, 5, 2, 2, 1, 2, 3, 4, 5, 1, 4, 5, 5, 1, 3, 1, 5, 5, 1, 3, 4, 1, 2, 3, 4, 1, 3, 4, 5, 1, 2, 3, 4, 5, 1, 2, 3, 4, 5, 1, 2, 3, 4, 5, 1, 2, 3, 4, 5, 1, 2, 3, 4, 1, 2, 3, 4, 5, 1, 2, 3, 5, 2, 3, 4, 5, 1, 3], \"Freq\": [0.8900811672210693, 0.8292245268821716, 0.25763797760009766, 0.25763797760009766, 0.5152759552001953, 0.8900811672210693, 0.1786728799343109, 0.1786728799343109, 0.5360186100006104, 0.9616778492927551, 0.9616778492927551, 0.5702338218688965, 0.15839828550815582, 0.031679656356573105, 0.11087880283594131, 0.14255845546722412, 0.9622476100921631, 0.7421536445617676, 0.148430734872818, 0.4838794767856598, 0.945488691329956, 0.4838757812976837, 0.7304397821426392, 0.243479922413826, 0.347073495388031, 0.5206102132797241, 0.9616778492927551, 0.47548744082450867, 0.2641597092151642, 0.07924790680408478, 0.15849581360816956, 0.05283194035291672, 0.6628352999687195, 0.7919510006904602, 0.528236985206604, 0.528236985206604, 0.9622474908828735, 0.29833731055259705, 0.3977830708026886, 0.1988915354013443, 0.9622474908828735, 0.20853687822818756, 0.6256106495857239, 0.4838823676109314, 0.25832483172416687, 0.7749744653701782, 0.4838823676109314, 0.18996936082839966, 0.18996936082839966, 0.2849540412425995, 0.3799387216567993, 0.3499533236026764, 0.0874883309006691, 0.3499533236026764, 0.1749766618013382, 0.0874883309006691, 0.20300009846687317, 0.20300009846687317, 0.6090003252029419, 0.14157363772392273, 0.28314727544784546, 0.4247208833694458, 0.7092048525810242, 0.7233800888061523, 0.9622474908828735, 0.9622476100921631, 0.9616778492927551, 0.2828729450702667, 0.5657458901405334, 0.8686050772666931, 0.8787056803703308, 0.08787056803703308, 0.8693123459815979, 0.9616778492927551, 0.9454887509346008, 0.2839299738407135, 0.14196498692035675, 0.567859947681427, 0.4176165759563446, 0.04640183970332146, 0.5104202628135681, 0.20321297645568848, 0.6096389293670654, 0.7919883131980896, 0.2834731936454773, 0.7086830139160156, 0.8106496930122375, 0.6628122329711914, 0.9616778492927551, 0.32840031385421753, 0.39408040046691895, 0.13136012852191925, 0.19704020023345947, 0.6094818711280823, 0.08311116695404053, 0.13851860165596008, 0.16622233390808105, 0.288218230009079, 0.576436460018158, 0.8091355562210083, 0.147115558385849, 0.7920070886611938, 0.7439068555831909, 0.14878137409687042, 0.14878137409687042, 0.22728796303272247, 0.5682199001312256, 0.03788132965564728, 0.03788132965564728, 0.11364398151636124, 0.2368953377008438, 0.1184476688504219, 0.4737906754016876, 0.1184476688504219, 0.30028408765792847, 0.20018938183784485, 0.20018938183784485, 0.13345959782600403, 0.16682448983192444, 0.7092048525810242, 0.9622476100921631, 0.7919470071792603, 0.14125363528728485, 0.42376092076301575, 0.14125363528728485, 0.21188046038150787, 0.07062681764364243, 0.12276007235050201, 0.24552014470100403, 0.12276007235050201, 0.3273601830005646, 0.20460011065006256, 0.2880689799785614, 0.5761379599571228, 0.4838823676109314, 0.4838823676109314, 0.7280605435371399, 0.7654390931129456, 0.1913597732782364, 0.9622474908828735, 0.48388224840164185, 0.307115763425827, 0.1754947304725647, 0.26324209570884705, 0.1754947304725647, 0.08774736523628235, 0.3239176273345947, 0.10797253996133804, 0.10797253996133804, 0.4318901598453522, 0.6729156374931335, 0.2691662609577179, 0.945488691329956, 0.9622476100921631, 0.7919682860374451, 0.38809406757354736, 0.4851175844669342, 0.09702351689338684, 0.8900812268257141, 0.7147732973098755, 0.17869332432746887, 0.08934666216373444, 0.9454887509346008, 0.20076686143875122, 0.40153372287750244, 0.20076686143875122, 0.10038343071937561, 0.5597402453422546, 0.124386727809906, 0.248773455619812, 0.062193363904953, 0.7521965503692627, 0.16715478897094727, 0.16715478897094727, 0.3327235281467438, 0.3024759292602539, 0.15123796463012695, 0.09074278175830841, 0.12099037319421768, 0.4172460436820984, 0.5563280582427979, 0.9622476100921631, 0.6295986175537109, 0.17988532781600952, 0.17988532781600952, 0.4270828664302826, 0.16015607118606567, 0.37369751930236816, 0.9616778492927551, 0.945488691329956, 0.9622476100921631, 0.8774319291114807, 0.9616778492927551, 0.1773046851158142, 0.3546093702316284, 0.5319140553474426, 0.18727850914001465, 0.3745570182800293, 0.18727850914001465, 0.18727850914001465, 0.4838823676109314, 0.6628271341323853, 0.8173379302024841, 0.15325085818767548, 0.3927910029888153, 0.14283308386802673, 0.14283308386802673, 0.14283308386802673, 0.178541362285614, 0.41062700748443604, 0.20531350374221802, 0.2566418945789337, 0.10265675187110901, 0.051328375935554504, 0.7642945647239685, 0.19107364118099213, 0.745903730392456, 0.29836148023605347, 0.12947560846805573, 0.25895121693611145, 0.25895121693611145, 0.25895121693611145, 0.06473780423402786, 0.17103531956672668, 0.1425294280052185, 0.25655296444892883, 0.34207063913345337, 0.11402354389429092, 0.4838823676109314, 0.9616777300834656, 0.2372874766588211, 0.11864373832941055, 0.7118624448776245, 0.48388242721557617, 0.6627834439277649, 0.2928043603897095, 0.39614707231521606, 0.19807353615760803, 0.0688951388001442, 0.043059464544057846, 0.4838823676109314, 0.9616777300834656, 0.9454887509346008, 0.9622476100921631, 0.945488691329956, 0.2785129249095917, 0.5570258498191833, 0.9454885721206665, 0.1808398962020874, 0.5425196886062622, 0.3616797924041748, 0.2231982797384262, 0.2975977063179016, 0.0743994265794754, 0.4463965594768524, 0.9622476100921631, 0.9616777300834656, 0.9622477293014526, 0.9622474908828735, 0.2713766396045685, 0.10855065286159515, 0.32565197348594666, 0.05427532643079758, 0.2713766396045685, 0.20169194042682648, 0.3025378882884979, 0.15126894414424896, 0.20169194042682648, 0.10084597021341324, 0.20476137101650238, 0.20476137101650238, 0.614284098148346, 0.8510388135910034, 0.9622476100921631, 0.2828728258609772, 0.5657456517219543, 0.06841468811035156, 0.13682937622070312, 0.410488098859787, 0.2052440494298935, 0.13682937622070312, 0.709204912185669, 0.5697512626647949, 0.11395024508237839, 0.22790049016475677, 0.11395024508237839, 0.4838823080062866, 0.945488691329956, 0.4838821589946747, 0.36040887236595154, 0.48054516315460205, 0.12013629078865051, 0.12013629078865051, 0.9454887509346008, 0.19612275063991547, 0.06537425518035889, 0.06537425518035889, 0.6537424921989441, 0.945488691329956, 0.31569960713386536, 0.15784980356693268, 0.6313992142677307, 0.9616778492927551, 0.41678616404533386, 0.23154786229133606, 0.3704765737056732, 0.8900812268257141, 0.9622476100921631, 0.22094178199768066, 0.7732962369918823, 0.18958954513072968, 0.14219215512275696, 0.2369869351387024, 0.14219215512275696, 0.2369869351387024, 0.4838472008705139, 0.570255696773529, 0.2851278483867645, 0.47641292214393616, 0.09528258442878723, 0.23820646107196808, 0.047641292214393616, 0.14292387664318085, 0.9622474908828735, 0.20097236335277557, 0.6029170751571655, 0.10048618167638779, 0.10048618167638779, 0.9454887509346008, 0.3316037654876709, 0.0904373973608017, 0.2110205888748169, 0.16580188274383545, 0.1808747947216034, 0.49138206243515015, 0.14741462469100952, 0.24569103121757507, 0.14741462469100952, 0.6132779121398926, 0.20442596077919006, 0.20442596077919006, 0.9622474908828735, 0.2566930949687958, 0.11001132428646088, 0.2933635413646698, 0.23835787177085876, 0.09167610108852386, 0.2912601828575134, 0.5825203657150269, 0.2880605459213257, 0.5761210918426514, 0.8900812268257141, 0.814666748046875, 0.20366668701171875, 0.07230401039123535, 0.21691201627254486, 0.6507360935211182, 0.07230401039123535, 0.8900811672210693, 0.9616778492927551, 0.8692807555198669, 0.23237599432468414, 0.4647519886493683, 0.11618799716234207, 0.1797206848859787, 0.1797206848859787, 0.7188827395439148, 0.6627835631370544, 0.9622476100921631, 0.7228971719741821, 0.48388224840164185, 0.14154303073883057, 0.5661721229553223, 0.14154303073883057, 0.9616779685020447, 0.7228816747665405, 0.9622474908828735, 0.5001383423805237, 0.06251729279756546, 0.18755187094211578, 0.14587368071079254, 0.1041954830288887, 0.6627838015556335, 0.7438912987709045, 0.1487782597541809, 0.1487782597541809, 0.9616778492927551, 0.31061139702796936, 0.31061139702796936, 0.03882642462849617, 0.2717849612236023, 0.11647927016019821, 0.6627835035324097, 0.347201406955719, 0.347201406955719, 0.1736007034778595, 0.08680035173892975, 0.4630720019340515, 0.37045761942863464, 0.18522880971431732, 0.16111589968204498, 0.6444635987281799, 0.16111589968204498, 0.945488691329956, 0.4838823080062866, 0.44586390256881714, 0.24319849908351898, 0.24319849908351898, 0.04053308069705963, 0.04053308069705963, 0.10442669689655304, 0.8354135751724243, 0.6688033938407898, 0.2508012652397156, 0.945488691329956, 0.40835440158843994, 0.16334176063537598, 0.40835440158843994, 0.20398280024528503, 0.20398280024528503, 0.6119483709335327, 0.41316792368888855, 0.6197518706321716, 0.3007509410381317, 0.20050063729286194, 0.16708385944366455, 0.20050063729286194, 0.13366708159446716, 0.21403975784778595, 0.27825167775154114, 0.23544374108314514, 0.14982783794403076, 0.12842385470867157, 0.9622476100921631, 0.250813752412796, 0.3009765148162842, 0.250813752412796, 0.1504882574081421, 0.7233800888061523, 0.9454887509346008, 0.165005162358284, 0.5775180459022522, 0.082502581179142, 0.165005162358284, 0.7280586957931519, 0.25860774517059326, 0.5172154903411865, 0.10344310104846954, 0.10344310104846954, 0.05172155052423477, 0.7940254211425781, 0.1323375701904297, 0.27957621216773987, 0.4659603536128998, 0.04659603536128998, 0.09319207072257996, 0.09319207072257996, 0.3481498658657074, 0.23209992051124573, 0.11604996025562286, 0.23209992051124573, 0.05802498012781143, 0.7446290850639343, 0.1489258110523224, 0.1489258110523224, 0.580204427242279, 0.2901022136211395, 0.4838823676109314, 0.2879790961742401, 0.0959930270910263, 0.3199767470359802, 0.2239837348461151, 0.0959930270910263, 0.9616777300834656, 0.8719064593315125, 0.14531774818897247, 0.9454887509346008, 0.7092048525810242, 0.3721338212490082, 0.09303345531225204, 0.3721338212490082, 0.09303345531225204, 0.09303345531225204, 0.40452590584754944, 0.23115766048431396, 0.11557883024215698, 0.17336824536323547, 0.08668412268161774, 0.4838823676109314, 0.7228971123695374, 0.6627835035324097, 0.39586547017097473, 0.19793273508548737, 0.09896636754274368, 0.29689911007881165, 0.8686609864234924, 0.9616778492927551, 0.6254165768623352, 0.34113630652427673, 0.4838823676109314, 0.5624350309371948, 0.1297927051782608, 0.06292979419231415, 0.031464897096157074, 0.2084549367427826, 0.23519514501094818, 0.15679676830768585, 0.6271870732307434, 0.7092048525810242, 0.7633741497993469, 0.19084353744983673, 0.31956052780151367, 0.2556484341621399, 0.12782421708106995, 0.31956052780151367, 0.7622406482696533, 0.19056016206741333, 0.9616778492927551, 0.28270605206489563, 0.5654121041297913, 0.21812453866004944, 0.21812453866004944, 0.5453113317489624, 0.8849056959152222, 0.14748428761959076, 0.945488691329956, 0.4838784635066986, 0.945488691329956, 0.945488691329956, 0.5802052021026611, 0.29010260105133057, 0.7280539274215698, 0.9622476100921631, 0.6628021597862244, 0.4838823676109314, 0.9659641981124878, 0.21198488771915436, 0.1413232684135437, 0.21198488771915436, 0.4239697754383087, 0.945488691329956, 0.38140517473220825, 0.5085402131080627, 0.12713505327701569, 0.5377675294876099, 0.17925582826137543, 0.17925582826137543, 0.17925582826137543, 0.28430262207984924, 0.5686052441596985, 0.20403610169887543, 0.20403610169887543, 0.6121082901954651, 0.5477126240730286, 0.11736699938774109, 0.0391223318874836, 0.11736699938774109, 0.19561165571212769, 0.6628232598304749, 0.4419841766357422, 0.2209920883178711, 0.27624011039733887, 0.05524802207946777, 0.9616778492927551, 0.2906492352485657, 0.5812984704971313, 0.14532461762428284, 0.24304088950157166, 0.7291226983070374, 0.9622476100921631, 0.9660430550575256, 0.9616778492927551, 0.4838472008705139, 0.17643482983112335, 0.5293045043945312, 0.3528696596622467, 0.9622476100921631, 0.442280650138855, 0.12062199413776398, 0.06031099706888199, 0.020103665068745613, 0.3417623043060303, 0.42077744007110596, 0.5049329400062561, 0.042077742516994476, 0.6030294895172119, 0.22613605856895447, 0.07537868618965149, 0.15075737237930298, 0.408643513917923, 0.21320530772209167, 0.08883554488420486, 0.14213687181472778, 0.15102043747901917, 0.2912084460258484, 0.5824168920516968, 0.2785086929798126, 0.5570173859596252, 0.49101632833480835, 0.2571990191936493, 0.04676345735788345, 0.21043556928634644, 0.41009238362312317, 0.2563077509403229, 0.20504619181156158, 0.10252309590578079, 0.9454887509346008, 0.945488691329956, 0.4818052351474762, 0.0642407014966011, 0.03212035074830055, 0.09636104851961136, 0.3212035000324249, 0.3156753182411194, 0.1578376591205597, 0.6313506364822388, 0.4838823676109314, 0.9124680757522583, 0.10138534754514694, 0.44648754596710205, 0.49609726667404175, 0.48387980461120605, 0.20366083085536957, 0.20366083085536957, 0.6109824776649475, 0.5144713521003723, 0.17149046063423157, 0.285817414522171, 0.057163484394550323, 0.2648032307624817, 0.176535502076149, 0.353071004152298, 0.0882677510380745, 0.08382142335176468, 0.5029285550117493, 0.16764284670352936, 0.16764284670352936, 0.08382142335176468, 0.3750523626804352, 0.16073672473430634, 0.08036836236715317, 0.10715781897306442, 0.26789453625679016, 0.4734880030155182, 0.17217744886875153, 0.17217744886875153, 0.04304436221718788, 0.17217744886875153, 0.2730438709259033, 0.18202924728393555, 0.2730438709259033, 0.13652193546295166, 0.13652193546295166, 0.2029985785484314, 0.2029985785484314, 0.6089957356452942, 0.9616778492927551, 0.22009658813476562, 0.11004829406738281, 0.11004829406738281, 0.11004829406738281, 0.5502414703369141, 0.4587237238883972, 0.3822697699069977, 0.07645395398139954, 0.07645395398139954, 0.24144412577152252, 0.24144412577152252, 0.48288825154304504, 0.12072206288576126, 0.6627992391586304, 0.9622474908828735], \"Term\": [\"1818\", \"2nd\", \"30th\", \"30th\", \"30th\", \"45\", \"6\", \"6\", \"6\", \"alma\", \"alumnus\", \"amazing\", \"amazing\", \"amazing\", \"amazing\", \"amazing\", \"amazon\", \"amp\", \"amp\", \"announce\", \"annual\", \"apology\", \"app\", \"app\", \"appreciated\", \"appreciated\", \"arouthwaite\", \"article\", \"article\", \"article\", \"article\", \"article\", \"assist\", \"at\", \"athlete\", \"athlete\", \"atl\", \"back\", \"back\", \"back\", \"backpack\", \"bad\", \"bad\", \"barge\", \"barista\", \"barista\", \"beaming\", \"best\", \"best\", \"best\", \"best\", \"big\", \"big\", \"big\", \"big\", \"big\", \"bigrubeharley\", \"bigrubeharley\", \"bigrubeharley\", \"billypenn\", \"billypenn\", \"billypenn\", \"bit\", \"blast\", \"blog\", \"book\", \"boring\", \"boston\", \"boston\", \"bretttopche\", \"brew\", \"brew\", \"bring\", \"brings\", \"broadandwalnut\", \"cafe\", \"cafe\", \"cafe\", \"cant\", \"cant\", \"cant\", \"ccpedu\", \"ccpedu\", \"celebrate\", \"celebrity\", \"celebrity\", \"center\", \"charge\", \"chillmoody\", \"city\", \"city\", \"city\", \"city\", \"coffee\", \"coffee\", \"coffee\", \"coffee\", \"coffee\\u0094\", \"coffee\\u0094\", \"cold\", \"cold\", \"comcastnbcuci\", \"come\", \"come\", \"come\", \"coming\", \"coming\", \"coming\", \"coming\", \"coming\", \"company\", \"company\", \"company\", \"company\", \"congrats\", \"congrats\", \"congrats\", \"congrats\", \"congrats\", \"connorbarwin98\", \"consecutive\", \"consider\", \"cool\", \"cool\", \"cool\", \"cool\", \"cool\", \"cornell\", \"cornell\", \"cornell\", \"cornell\", \"cornell\", \"councilman\", \"councilman\", \"councilmanderek\", \"covenanthouse\", \"crush\", \"dalilasays\", \"dalilasays\", \"daniellecohn\", \"daveshoo\", \"day\", \"day\", \"day\", \"day\", \"day\", \"deserved\", \"deserved\", \"deserved\", \"deserved\", \"dm\", \"dm\", \"dominant\", \"donut\", \"drexelstartup14\", \"dude\", \"dude\", \"dude\", \"eagle\", \"email\", \"email\", \"email\", \"empty\", \"enjoyed\", \"enjoyed\", \"enjoyed\", \"enjoyed\", \"entrepreneur\", \"entrepreneur\", \"entrepreneur\", \"entrepreneur\", \"event\", \"event\", \"event\", \"excited\", \"excited\", \"excited\", \"excited\", \"excited\", \"exclusively\", \"exclusively\", \"exec\", \"experience\", \"experience\", \"experience\", \"experiential\", \"experiential\", \"experiential\", \"face\", \"failure\", \"featured\", \"finally\", \"flyersoftball\", \"focus\", \"focus\", \"focus\", \"forward\", \"forward\", \"forward\", \"forward\", \"fox29philly\", \"frankneill\", \"free\", \"free\", \"friend\", \"friend\", \"friend\", \"friend\", \"friend\", \"get\", \"get\", \"get\", \"get\", \"get\", \"give\", \"give\", \"glad\", \"glad\", \"going\", \"going\", \"going\", \"going\", \"going\", \"good\", \"good\", \"good\", \"good\", \"good\", \"gorgeous\", \"gqmagazine\", \"grad\", \"grad\", \"grad\", \"graduate\", \"grand\", \"great\", \"great\", \"great\", \"great\", \"great\", \"growth\", \"hat\", \"helpful\", \"hi\", \"history\", \"hosting\", \"hosting\", \"hotel\", \"house\", \"house\", \"house\", \"hq\", \"hq\", \"hq\", \"hq\", \"hq2\", \"humility\", \"i\", \"iizsam\", \"im\", \"im\", \"im\", \"im\", \"im\", \"incredible\", \"incredible\", \"incredible\", \"incredible\", \"incredible\", \"indeed\", \"indeed\", \"indeed\", \"infosaxbyscoffeecom\", \"innovating\", \"inspiration\", \"inspiration\", \"interview\", \"interview\", \"interview\", \"interview\", \"interview\", \"issue\", \"it\", \"it\", \"it\", \"it\", \"jenearobinson\", \"jenniferlmaher\", \"jpegjoshua\", \"keep\", \"keep\", \"keep\", \"keep\", \"kept\", \"know\", \"know\", \"know\", \"know\", \"lack\", \"last\", \"last\", \"last\", \"league\", \"learning\", \"learning\", \"learning\", \"left\", \"lemonade\", \"letting\", \"letting\", \"like\", \"like\", \"like\", \"like\", \"like\", \"llws\\u0094\", \"locust\", \"locust\", \"look\", \"look\", \"look\", \"look\", \"look\", \"lose\", \"lot\", \"lot\", \"lot\", \"lot\", \"lotta\", \"love\", \"love\", \"love\", \"love\", \"love\", \"loved\", \"loved\", \"loved\", \"loved\", \"luck\", \"luck\", \"luck\", \"luke\", \"lukebb\", \"lukebb\", \"lukebb\", \"lukebb\", \"lukebb\", \"machine\", \"machine\", \"main\", \"main\", \"malcolmjenkins\", \"maleckidenise\", \"maleckidenise\", \"man\", \"man\", \"man\", \"man\", \"market\", \"mater\", \"medium\", \"meet\", \"meet\", \"meet\", \"member\", \"member\", \"member\", \"mentoring\", \"menu\", \"miami\", \"might\", \"mikemaherphl\", \"mikemaherphl\", \"mikemaherphl\", \"mindfuldragon\", \"minute\", \"move\", \"much\", \"much\", \"much\", \"much\", \"much\", \"myasmine\", \"need\", \"need\", \"need\", \"needle\", \"new\", \"new\", \"new\", \"new\", \"new\", \"newest\", \"next\", \"next\", \"next\", \"next\", \"nickbayer\", \"nickbayer\", \"nickbayer\", \"nytimes\", \"nytimes\", \"nytimes\", \"office\", \"officialacmoore\", \"one\", \"one\", \"one\", \"one\", \"one\", \"open\", \"open\", \"opening\", \"opening\", \"pair\", \"partnership\", \"partnership\", \"partnership\", \"party\", \"party\", \"party\", \"pennstate\", \"pennstate\", \"philadelphia\", \"philadelphia\", \"philadelphia\", \"philadelphia\", \"philadelphia\", \"philly\", \"philly\", \"philly\", \"philly\", \"philly\", \"phillydelivers\", \"phillymag\", \"phillymag\", \"phillymag\", \"phillymag\", \"phillymags\", \"phillytechweek\", \"phlbizjournal\", \"phlbizjournal\", \"phlbizjournal\", \"phlbizjournal\", \"phone\", \"piece\", \"piece\", \"piece\", \"piece\", \"piece\", \"place\", \"place\", \"pleasure\", \"pleasure\", \"pleasure\", \"pleasure\", \"pleasure\", \"ppyogathrive\", \"ppyogathrive\", \"ppyogathrive\", \"ppyogathrive\", \"ppyogathrive\", \"prezhanycz\", \"prezhanycz\", \"prezhanycz\", \"pro\", \"pro\", \"promotion\", \"proud\", \"proud\", \"proud\", \"proud\", \"proud\", \"pulling\", \"pumpkin\", \"pumpkin\", \"qsrmagazine\", \"rachelbg\", \"read\", \"read\", \"read\", \"read\", \"read\", \"really\", \"really\", \"really\", \"really\", \"really\", \"repsmucker\", \"ricknucci\", \"ride\", \"rittenhouse\", \"rittenhouse\", \"rittenhouse\", \"rittenhouse\", \"rodneymcleod4\", \"rolling\", \"run\", \"run\", \"salad\", \"saxbys\", \"saxbys\", \"saxbys\", \"saxbys\", \"saxbys\", \"scholarship\", \"scholarship\", \"scholarship\", \"scholly5\", \"second\", \"second\", \"see\", \"see\", \"see\", \"see\", \"seeing\", \"seeing\", \"seen\", \"serious\", \"serious\", \"service\", \"service\", \"service\", \"shoot\", \"shoot\", \"shoutout\", \"signed\", \"sklasko\", \"small\", \"smart\", \"smart\", \"smealcollege\", \"soda\", \"something\", \"south\", \"spice\", \"square\", \"square\", \"square\", \"square\", \"stan\", \"star\", \"star\", \"star\", \"state\", \"state\", \"state\", \"state\", \"station\", \"station\", \"still\", \"still\", \"still\", \"student\", \"student\", \"student\", \"student\", \"student\", \"sunday\", \"support\", \"support\", \"support\", \"support\", \"supporter\", \"sxsw\", \"sxsw\", \"sxsw\", \"taking\", \"taking\", \"takingthehill\", \"talk\", \"tall\", \"taneydragons\", \"taste\", \"taste\", \"taste\", \"tax\", \"team\", \"team\", \"team\", \"team\", \"team\", \"templeuniv\", \"templeuniv\", \"templeuniv\", \"thank\", \"thank\", \"thank\", \"thank\", \"thanks\", \"thanks\", \"thanks\", \"thanks\", \"thanks\", \"theqonfox\", \"theqonfox\", \"thursday\", \"thursday\", \"thx\", \"thx\", \"thx\", \"thx\", \"time\", \"time\", \"time\", \"time\", \"traffic\", \"trip\", \"u\", \"u\", \"u\", \"u\", \"u\", \"vernickphilly\", \"vernickphilly\", \"vernickphilly\", \"virginiafoxx\", \"visitphilly\", \"visitphilly\", \"wait\", \"wait\", \"washing\", \"watching\", \"watching\", \"watching\", \"way\", \"way\", \"way\", \"way\", \"weekend\", \"weekend\", \"weekend\", \"weekend\", \"welcome\", \"welcome\", \"welcome\", \"welcome\", \"welcome\", \"well\", \"well\", \"well\", \"well\", \"well\", \"were\", \"were\", \"were\", \"were\", \"were\", \"work\", \"work\", \"work\", \"work\", \"work\", \"world\", \"world\", \"world\", \"worse\", \"would\", \"would\", \"would\", \"would\", \"would\", \"you\", \"you\", \"you\", \"you\", \"young\", \"young\", \"young\", \"young\", \"youth\", \"\\u0093saxbys\"]}, \"R\": 30, \"lambda.step\": 0.01, \"plot.opts\": {\"xlab\": \"PC1\", \"ylab\": \"PC2\"}, \"topic.order\": [1, 2, 3, 5, 4]};\n",
       "\n",
       "function LDAvis_load_lib(url, callback){\n",
       "  var s = document.createElement('script');\n",
       "  s.src = url;\n",
       "  s.async = true;\n",
       "  s.onreadystatechange = s.onload = callback;\n",
       "  s.onerror = function(){console.warn(\"failed to load library \" + url);};\n",
       "  document.getElementsByTagName(\"head\")[0].appendChild(s);\n",
       "}\n",
       "\n",
       "if(typeof(LDAvis) !== \"undefined\"){\n",
       "   // already loaded: just create the visualization\n",
       "   !function(LDAvis){\n",
       "       new LDAvis(\"#\" + \"ldavis_el9642263835347248322280523\", ldavis_el9642263835347248322280523_data);\n",
       "   }(LDAvis);\n",
       "}else if(typeof define === \"function\" && define.amd){\n",
       "   // require.js is available: use it to load d3/LDAvis\n",
       "   require.config({paths: {d3: \"https://cdnjs.cloudflare.com/ajax/libs/d3/3.5.5/d3.min\"}});\n",
       "   require([\"d3\"], function(d3){\n",
       "      window.d3 = d3;\n",
       "      LDAvis_load_lib(\"https://cdn.rawgit.com/bmabey/pyLDAvis/files/ldavis.v1.0.0.js\", function(){\n",
       "        new LDAvis(\"#\" + \"ldavis_el9642263835347248322280523\", ldavis_el9642263835347248322280523_data);\n",
       "      });\n",
       "    });\n",
       "}else{\n",
       "    // require.js not available: dynamically load d3 & LDAvis\n",
       "    LDAvis_load_lib(\"https://cdnjs.cloudflare.com/ajax/libs/d3/3.5.5/d3.min.js\", function(){\n",
       "         LDAvis_load_lib(\"https://cdn.rawgit.com/bmabey/pyLDAvis/files/ldavis.v1.0.0.js\", function(){\n",
       "                 new LDAvis(\"#\" + \"ldavis_el9642263835347248322280523\", ldavis_el9642263835347248322280523_data);\n",
       "            })\n",
       "         });\n",
       "}\n",
       "</script>"
      ],
      "text/plain": [
       "PreparedData(topic_coordinates=              x         y  topics  cluster       Freq\n",
       "topic                                                \n",
       "0      0.080793  0.016163       1        1  30.346935\n",
       "1     -0.014225  0.085152       2        1  19.326828\n",
       "2     -0.044581 -0.096998       3        1  17.152054\n",
       "4     -0.097244  0.023732       4        1  16.806063\n",
       "3      0.075257 -0.028050       5        1  16.368120, topic_info=     Category        Freq          Term       Total  loglift  logprob\n",
       "term                                                                 \n",
       "62    Default  254.000000        saxbys  254.000000  30.0000  30.0000\n",
       "64    Default  116.000000         great  116.000000  29.0000  29.0000\n",
       "79    Default   28.000000          cafe   28.000000  28.0000  28.0000\n",
       "230   Default   23.000000    templeuniv   23.000000  27.0000  27.0000\n",
       "210   Default   20.000000          wait   20.000000  26.0000  26.0000\n",
       "198   Default   21.000000          cant   21.000000  25.0000  25.0000\n",
       "301   Default   49.000000          team   49.000000  24.0000  24.0000\n",
       "111   Default   42.000000           thx   42.000000  23.0000  23.0000\n",
       "508   Default   15.000000          know   15.000000  22.0000  22.0000\n",
       "340   Default    9.000000          open    9.000000  21.0000  21.0000\n",
       "63    Default   26.000000        coming   26.000000  20.0000  20.0000\n",
       "168   Default   19.000000          free   19.000000  19.0000  19.0000\n",
       "634   Default   13.000000           man   13.000000  18.0000  18.0000\n",
       "342   Default   17.000000           run   17.000000  17.0000  17.0000\n",
       "509   Default    9.000000       letting    9.000000  16.0000  16.0000\n",
       "295   Default   21.000000      learning   21.000000  15.0000  15.0000\n",
       "746   Default   12.000000   scholarship   12.000000  14.0000  14.0000\n",
       "291   Default   18.000000  experiential   18.000000  13.0000  13.0000\n",
       "451   Default   54.000000        lukebb   54.000000  12.0000  12.0000\n",
       "465   Default   21.000000          best   21.000000  11.0000  11.0000\n",
       "1317  Default    7.000000       barista    7.000000  10.0000  10.0000\n",
       "1656  Default    6.000000       pumpkin    6.000000   9.0000   9.0000\n",
       "187   Default   13.000000          cold   13.000000   8.0000   8.0000\n",
       "176   Default   31.000000             u   31.000000   7.0000   7.0000\n",
       "8     Default   35.000000          good   35.000000   6.0000   6.0000\n",
       "733   Default   36.000000        coffee   36.000000   5.0000   5.0000\n",
       "979   Default    8.000000          grad    8.000000   4.0000   4.0000\n",
       "448   Default   10.000000          dude   10.000000   3.0000   3.0000\n",
       "1036  Default    7.000000     celebrity    7.000000   2.0000   2.0000\n",
       "186   Default   11.000000          brew   11.000000   1.0000   1.0000\n",
       "...       ...         ...           ...         ...      ...      ...\n",
       "1334   Topic5    2.177791     theqonfox    3.433966   1.3544  -6.7920\n",
       "2366   Topic5    2.177252       machine    3.433356   1.3544  -6.7923\n",
       "291    Topic5    7.417809  experiential   18.731728   0.8835  -5.5664\n",
       "295    Topic5    8.061239      learning   21.593807   0.8245  -5.4833\n",
       "442    Topic5    2.753421     pennstate    4.840647   1.2456  -6.5575\n",
       "565    Topic5    5.584603            hq   13.440964   0.9315  -5.8503\n",
       "465    Topic5    7.629351          best   21.056026   0.7947  -5.5383\n",
       "2285   Topic5    2.179070       station    3.517379   1.3310  -6.7914\n",
       "1112   Topic5    2.737089         still    4.901093   1.2273  -6.5634\n",
       "498    Topic5    4.226824      deserved    9.261614   1.0254  -6.1289\n",
       "325    Topic5    5.113705   partnership   12.244267   0.9367  -5.9384\n",
       "176    Topic5    9.688528             u   31.132912   0.6425  -5.2994\n",
       "336    Topic5    3.538982   exclusively    7.190002   1.1010  -6.3065\n",
       "16     Topic5   10.283615          well   37.328121   0.5206  -5.2398\n",
       "342    Topic5    6.197352           run   17.588278   0.7667  -5.7462\n",
       "25     Topic5   12.432921          love   66.344238   0.1353  -5.0500\n",
       "53     Topic5   16.501654        thanks  112.567551  -0.1103  -4.7669\n",
       "111    Topic5    8.855876           thx   42.768436   0.2351  -5.3893\n",
       "76     Topic5    4.906968           see   15.646488   0.6502  -5.9797\n",
       "1102   Topic5    3.541243          30th    7.762831   1.0250  -6.3059\n",
       "161    Topic5    8.708791       amazing   63.131996  -0.1711  -5.4060\n",
       "149    Topic5    5.114201            im   18.424578   0.5282  -5.9383\n",
       "409    Topic5    4.902698          like   21.098209   0.3504  -5.9805\n",
       "32     Topic5    6.039303        philly   46.720291  -0.2361  -5.7720\n",
       "1997   Topic5    4.904588       cornell   24.437914   0.2039  -5.9802\n",
       "275    Topic5    4.900266        friend   28.004715   0.0668  -5.9810\n",
       "497    Topic5    4.901167      congrats   29.971619  -0.0009  -5.9809\n",
       "343    Topic5    4.602830       student   25.560848   0.0954  -6.0437\n",
       "451    Topic5    5.069650        lukebb   54.539841  -0.5658  -5.9471\n",
       "49     Topic5    4.890444          much   47.986725  -0.4738  -5.9831\n",
       "\n",
       "[393 rows x 6 columns], token_table=      Topic      Freq         Term\n",
       "term                              \n",
       "1439      1  0.890081         1818\n",
       "533       3  0.829225          2nd\n",
       "1102      1  0.257638         30th\n",
       "1102      2  0.257638         30th\n",
       "1102      5  0.515276         30th\n",
       "580       1  0.890081           45\n",
       "1159      1  0.178673            6\n",
       "1159      3  0.178673            6\n",
       "1159      4  0.536019            6\n",
       "3842      4  0.961678         alma\n",
       "2292      4  0.961678      alumnus\n",
       "161       1  0.570234      amazing\n",
       "161       2  0.158398      amazing\n",
       "161       3  0.031680      amazing\n",
       "161       4  0.110879      amazing\n",
       "161       5  0.142558      amazing\n",
       "1594      3  0.962248       amazon\n",
       "1483      1  0.742154          amp\n",
       "1483      3  0.148431          amp\n",
       "433       5  0.483879     announce\n",
       "3287      2  0.945489       annual\n",
       "4056      5  0.483876      apology\n",
       "162       1  0.730440          app\n",
       "162       2  0.243480          app\n",
       "1009      1  0.347073  appreciated\n",
       "1009      3  0.520610  appreciated\n",
       "712       4  0.961678  arouthwaite\n",
       "890       1  0.475487      article\n",
       "890       2  0.264160      article\n",
       "890       3  0.079248      article\n",
       "...     ...       ...          ...\n",
       "16        5  0.267895         well\n",
       "496       1  0.473488         were\n",
       "496       2  0.172177         were\n",
       "496       3  0.172177         were\n",
       "496       4  0.043044         were\n",
       "496       5  0.172177         were\n",
       "430       1  0.273044         work\n",
       "430       2  0.182029         work\n",
       "430       3  0.273044         work\n",
       "430       4  0.136522         work\n",
       "430       5  0.136522         work\n",
       "1220      1  0.202999        world\n",
       "1220      2  0.202999        world\n",
       "1220      3  0.608996        world\n",
       "2194      4  0.961678        worse\n",
       "1065      1  0.220097        would\n",
       "1065      2  0.110048        would\n",
       "1065      3  0.110048        would\n",
       "1065      4  0.110048        would\n",
       "1065      5  0.550241        would\n",
       "335       1  0.458724          you\n",
       "335       2  0.382270          you\n",
       "335       3  0.076454          you\n",
       "335       5  0.076454          you\n",
       "1005      2  0.241444        young\n",
       "1005      3  0.241444        young\n",
       "1005      4  0.482888        young\n",
       "1005      5  0.120722        young\n",
       "2675      1  0.662799        youth\n",
       "4343      3  0.962247      saxbys\n",
       "\n",
       "[672 rows x 3 columns], R=30, lambda_step=0.01, plot_opts={'xlab': 'PC1', 'ylab': 'PC2'}, topic_order=[1, 2, 3, 5, 4])"
      ]
     },
     "execution_count": 77,
     "metadata": {},
     "output_type": "execute_result"
    }
   ],
   "source": [
    "# Plotting tools\n",
    "\n",
    "import pyLDAvis\n",
    "import pyLDAvis.gensim  # don't skip this\n",
    "import matplotlib.pyplot as plt\n",
    "%matplotlib inline\n",
    "\n",
    "pyLDAvis.enable_notebook()\n",
    "vis = pyLDAvis.gensim.prepare(ldamodel, corpus, dictionary)\n",
    "vis"
   ]
  },
  {
   "cell_type": "code",
   "execution_count": null,
   "metadata": {},
   "outputs": [],
   "source": []
  }
 ],
 "metadata": {
  "kernelspec": {
   "display_name": "Python 3",
   "language": "python",
   "name": "python3"
  },
  "language_info": {
   "codemirror_mode": {
    "name": "ipython",
    "version": 3
   },
   "file_extension": ".py",
   "mimetype": "text/x-python",
   "name": "python",
   "nbconvert_exporter": "python",
   "pygments_lexer": "ipython3",
   "version": "3.6.5"
  }
 },
 "nbformat": 4,
 "nbformat_minor": 1
}
