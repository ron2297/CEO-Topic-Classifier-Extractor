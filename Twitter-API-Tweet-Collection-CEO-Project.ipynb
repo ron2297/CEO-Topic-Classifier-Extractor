{
 "cells": [
  {
   "cell_type": "markdown",
   "metadata": {},
   "source": [
    "# **Analytical Comparison Between CEO Concerns**\n",
    "\n",
    "\n",
    "> ## _Author: Ronald Washington III_ "
   ]
  },
  {
   "cell_type": "markdown",
   "metadata": {},
   "source": [
    "> > Our society is currently run by some of the worlds largest and smartest technology\n",
    "companies. Where each of these companies have a vision and impact on the world due to the\n",
    "views of their CEO. But how do the views between these CEOs differ? What are the topics that\n",
    "these CEOs are constantly concerned with and are expressing their opinions? Within this study\n",
    "we shall collect tweets from selected CEOs, determine if we are able to identify the tweet’s\n",
    "originator correctly, and extract the topic of each tweet to have a collection of concerns that each\n",
    "CEO has. From there the analysis can be furthered by calculating the distance between the issues\n",
    "that the CEOs talk about and have an understanding of how closely related their concerns are.\n",
    "\n",
    "> > Conducting our analysis through the assistance of an classification algorithm will aid in\n",
    "our research concerning the topics that CEOs primarily tweet about. The specific algorithm that\n",
    "will be performed in this research will be Support Vector Machines, which is known to be useful\n",
    "in the classification of images, bioinformatics, and text categorization. Support Vector Machines\n",
    "(SVMs) are going to be useful determining which CEOs a tweet belong to, and we will be\n",
    "utilizing Latent Dirichlet Allocation to extract prominent topics among the classified tweets.\n",
    "Through the usage of both these techniques, we strive to accomplish our goal of classifying\n",
    "tweets and finding the common topics discussed among CEOs. By the end of this research we\n",
    "shall attempt to distinguish the difference between topics of CEOs, the similarities/differences,\n",
    "and the number of times a specific topic is tweeted.\n"
   ]
  },
  {
   "cell_type": "markdown",
   "metadata": {},
   "source": [
    "### Imported Libraries "
   ]
  },
  {
   "cell_type": "code",
   "execution_count": 1,
   "metadata": {},
   "outputs": [
    {
     "data": {
      "text/plain": [
       "<module 'keys' from 'C:\\\\Users\\\\Ron\\\\Desktop\\\\CS401\\\\Final_Project\\\\CEO_Classifier_Extractor\\\\keys.py'>"
      ]
     },
     "execution_count": 1,
     "metadata": {},
     "output_type": "execute_result"
    }
   ],
   "source": [
    "import keys as k\n",
    "import pandas as pd\n",
    "import webbrowser\n",
    "import requests\n",
    "import bs4\n",
    "import importlib\n",
    "import tweepy\n",
    "import json \n",
    "from requests_oauthlib import OAuth1Session\n",
    "importlib.reload(k)"
   ]
  },
  {
   "cell_type": "markdown",
   "metadata": {},
   "source": [
    "### Preparing/Gathering Authorization for Twitter Access"
   ]
  },
  {
   "cell_type": "code",
   "execution_count": 2,
   "metadata": {
    "collapsed": true
   },
   "outputs": [],
   "source": [
    "twitter = k.twitter\n",
    "client_key = twitter[\"client_key\"]\n",
    "client_secret = twitter[\"client_secret\"]\n",
    "resource_owner_key = twitter['resource_owner_key']\n",
    "resource_owner_secret = twitter['resource_owner_secret']\n",
    "protected_url = 'https://api.twitter.com/1.1/statuses/user_timeline.json?screen_name=jlist'\n",
    "\n",
    "session = OAuth1Session(client_key,\n",
    "                        client_secret=client_secret,\n",
    "                        resource_owner_key=resource_owner_key,\n",
    "                        resource_owner_secret= resource_owner_secret)\n",
    "\n",
    "consumer_key = twitter[\"client_key\"]\n",
    "consumer_secret = twitter[\"client_secret\"]\n",
    "access_token = twitter['resource_owner_key']\n",
    "access_token_secret =  twitter['resource_owner_secret']\n",
    "auth = tweepy.OAuthHandler(consumer_key, consumer_secret)\n",
    "auth.set_access_token(access_token, access_token_secret)\n",
    "api = tweepy.API(auth,wait_on_rate_limit=True)"
   ]
  },
  {
   "cell_type": "markdown",
   "metadata": {},
   "source": [
    "# Developing a list of CEOs"
   ]
  },
  {
   "cell_type": "markdown",
   "metadata": {},
   "source": [
    "> Within this study we will be utlizing a list of CEOs provided by Valeria Maltoni (@ConversationAge), who created a member group/list of CEOs who use Twitter. \n",
    "- https://twitter.com/ConversationAge/lists/ceos/members?lang=en"
   ]
  },
  {
   "cell_type": "code",
   "execution_count": 3,
   "metadata": {
    "collapsed": true
   },
   "outputs": [],
   "source": [
    "\n",
    "group_name = 'ceos'\n",
    "owner = 'ConversationAge'\n",
    "\n",
    "\n",
    "def get_list_members(api, owner, group_name):\n",
    "    members = []\n",
    "    # without this you only get the first 20 list members\n",
    "    for person in tweepy.Cursor(api.list_members, owner, group_name).items():\n",
    "        number_tweets = person.statuses_count\n",
    "        if number_tweets>=1000:\n",
    "            members.append(person)\n",
    "    # create a list containing all usernames\n",
    "    return [ m.screen_name for m in members ]"
   ]
  },
  {
   "cell_type": "code",
   "execution_count": 4,
   "metadata": {},
   "outputs": [
    {
     "data": {
      "text/plain": [
       "655"
      ]
     },
     "execution_count": 4,
     "metadata": {},
     "output_type": "execute_result"
    }
   ],
   "source": [
    "len(get_list_members(api,owner,group_name))"
   ]
  },
  {
   "cell_type": "code",
   "execution_count": 5,
   "metadata": {},
   "outputs": [
    {
     "data": {
      "text/html": [
       "<div>\n",
       "<style>\n",
       "    .dataframe thead tr:only-child th {\n",
       "        text-align: right;\n",
       "    }\n",
       "\n",
       "    .dataframe thead th {\n",
       "        text-align: left;\n",
       "    }\n",
       "\n",
       "    .dataframe tbody tr th {\n",
       "        vertical-align: top;\n",
       "    }\n",
       "</style>\n",
       "<table border=\"1\" class=\"dataframe\">\n",
       "  <thead>\n",
       "    <tr style=\"text-align: right;\">\n",
       "      <th></th>\n",
       "      <th>CEO_Twitter_Accounts</th>\n",
       "    </tr>\n",
       "  </thead>\n",
       "  <tbody>\n",
       "    <tr>\n",
       "      <th>0</th>\n",
       "      <td>DrJudyMonroe</td>\n",
       "    </tr>\n",
       "    <tr>\n",
       "      <th>1</th>\n",
       "      <td>JillStorey2020</td>\n",
       "    </tr>\n",
       "    <tr>\n",
       "      <th>2</th>\n",
       "      <td>co_opcloud</td>\n",
       "    </tr>\n",
       "    <tr>\n",
       "      <th>3</th>\n",
       "      <td>PaulPolman</td>\n",
       "    </tr>\n",
       "    <tr>\n",
       "      <th>4</th>\n",
       "      <td>KenLingad</td>\n",
       "    </tr>\n",
       "  </tbody>\n",
       "</table>\n",
       "</div>"
      ],
      "text/plain": [
       "  CEO_Twitter_Accounts\n",
       "0         DrJudyMonroe\n",
       "1       JillStorey2020\n",
       "2           co_opcloud\n",
       "3           PaulPolman\n",
       "4            KenLingad"
      ]
     },
     "execution_count": 5,
     "metadata": {},
     "output_type": "execute_result"
    }
   ],
   "source": [
    "CEO_list = pd.DataFrame()\n",
    "CEO_list['CEO_Twitter_Accounts'] = get_list_members(api,owner,group_name)\n",
    "CEO_list.head(5)"
   ]
  },
  {
   "cell_type": "code",
   "execution_count": 6,
   "metadata": {},
   "outputs": [
    {
     "data": {
      "text/plain": [
       "655"
      ]
     },
     "execution_count": 6,
     "metadata": {},
     "output_type": "execute_result"
    }
   ],
   "source": [
    "len(CEO_list)"
   ]
  },
  {
   "cell_type": "code",
   "execution_count": 7,
   "metadata": {},
   "outputs": [
    {
     "name": "stdout",
     "output_type": "stream",
     "text": [
      "Time to Run:  16.74964051246643\n",
      "Count of Non-Private Versus Private Twitter Accounts:  Counter({False: 650, True: 5})\n"
     ]
    }
   ],
   "source": [
    "PrivateList = []\n",
    "TweetCountList = []\n",
    "import time\n",
    "t0 = time.time()\n",
    "\n",
    "for i in range(len(CEO_list)):\n",
    "    number_tweets = api.get_user(CEO_list['CEO_Twitter_Accounts'][i]).statuses_count\n",
    "    if number_tweets>=1000:\n",
    "        x = api.get_user(CEO_list['CEO_Twitter_Accounts'][i])\n",
    "        TweetCountList.append(number_tweets)\n",
    "        PrivateList.append(x.protected)\n",
    "    #print(x.screen_name,x.protected)\n",
    "t1 = time.time()\n",
    "total = ((t1-t0)/60)\n",
    "print(\"Time to Run: \", total)\n",
    "import collections\n",
    "counter=collections.Counter(PrivateList)\n",
    "print(\"Count of Non-Private Versus Private Twitter Accounts: \", counter)"
   ]
  },
  {
   "cell_type": "code",
   "execution_count": 8,
   "metadata": {
    "collapsed": true
   },
   "outputs": [],
   "source": [
    "se = pd.Series(PrivateList)\n",
    "te = pd.Series(TweetCountList)\n",
    "CEO_list['Private_Indicator'] = se.values\n",
    "CEO_list['Tweet_Count'] = te.values"
   ]
  },
  {
   "cell_type": "code",
   "execution_count": 9,
   "metadata": {},
   "outputs": [
    {
     "data": {
      "text/html": [
       "<div>\n",
       "<style>\n",
       "    .dataframe thead tr:only-child th {\n",
       "        text-align: right;\n",
       "    }\n",
       "\n",
       "    .dataframe thead th {\n",
       "        text-align: left;\n",
       "    }\n",
       "\n",
       "    .dataframe tbody tr th {\n",
       "        vertical-align: top;\n",
       "    }\n",
       "</style>\n",
       "<table border=\"1\" class=\"dataframe\">\n",
       "  <thead>\n",
       "    <tr style=\"text-align: right;\">\n",
       "      <th></th>\n",
       "      <th>CEO_Twitter_Accounts</th>\n",
       "      <th>Private_Indicator</th>\n",
       "      <th>Tweet_Count</th>\n",
       "    </tr>\n",
       "  </thead>\n",
       "  <tbody>\n",
       "    <tr>\n",
       "      <th>25</th>\n",
       "      <td>techUKCEO</td>\n",
       "      <td>False</td>\n",
       "      <td>3259</td>\n",
       "    </tr>\n",
       "    <tr>\n",
       "      <th>26</th>\n",
       "      <td>morganberman</td>\n",
       "      <td>False</td>\n",
       "      <td>1548</td>\n",
       "    </tr>\n",
       "    <tr>\n",
       "      <th>27</th>\n",
       "      <td>jane_knows</td>\n",
       "      <td>False</td>\n",
       "      <td>1372</td>\n",
       "    </tr>\n",
       "    <tr>\n",
       "      <th>28</th>\n",
       "      <td>limouris</td>\n",
       "      <td>False</td>\n",
       "      <td>2185</td>\n",
       "    </tr>\n",
       "    <tr>\n",
       "      <th>29</th>\n",
       "      <td>Monique_Villa</td>\n",
       "      <td>False</td>\n",
       "      <td>1532</td>\n",
       "    </tr>\n",
       "  </tbody>\n",
       "</table>\n",
       "</div>"
      ],
      "text/plain": [
       "   CEO_Twitter_Accounts  Private_Indicator  Tweet_Count\n",
       "25            techUKCEO              False         3259\n",
       "26         morganberman              False         1548\n",
       "27           jane_knows              False         1372\n",
       "28             limouris              False         2185\n",
       "29        Monique_Villa              False         1532"
      ]
     },
     "execution_count": 9,
     "metadata": {},
     "output_type": "execute_result"
    }
   ],
   "source": [
    "CEO_list[25:30]"
   ]
  },
  {
   "cell_type": "code",
   "execution_count": 10,
   "metadata": {
    "collapsed": true
   },
   "outputs": [],
   "source": [
    "CEO_list_cleaned = pd.DataFrame()\n",
    "CEO_list_cleaned = CEO_list\n",
    "CEO_list_cleaned = CEO_list_cleaned[CEO_list['Private_Indicator']!=True]"
   ]
  },
  {
   "cell_type": "code",
   "execution_count": 11,
   "metadata": {},
   "outputs": [
    {
     "data": {
      "text/plain": [
       "650"
      ]
     },
     "execution_count": 11,
     "metadata": {},
     "output_type": "execute_result"
    }
   ],
   "source": [
    "len(CEO_list_cleaned)"
   ]
  },
  {
   "cell_type": "markdown",
   "metadata": {},
   "source": [
    "# Gathering Tweets"
   ]
  },
  {
   "cell_type": "code",
   "execution_count": 129,
   "metadata": {},
   "outputs": [
    {
     "name": "stdout",
     "output_type": "stream",
     "text": [
      "\n",
      "CEO #:  1 CEO Name:  nickbayer\n",
      "CEO #:  2 CEO Name:  JakeTDunlap\n",
      "CEO #:  3 CEO Name:  NedBreslin\n",
      "CEO #:  4 CEO Name:  denisehterry\n",
      "CEO #:  5 CEO Name:  dbiemesderfer\n",
      "CEO #:  6 CEO Name:  jmlazard\n",
      "CEO #:  7 CEO Name:  DMiliband\n",
      "CEO #:  8 CEO Name:  AmFamJack\n",
      "CEO #:  9 CEO Name:  howiegoldfarb\n",
      "CEO #:  10 CEO Name:  rickperreault\n",
      "CEO #:  11 CEO Name:  mtbert\n",
      "CEO #:  12 CEO Name:  JLNY\n",
      "CEO #:  13 CEO Name:  UnmistakableCEO\n",
      "CEO #:  14 CEO Name:  thebask\n",
      "CEO #:  15 CEO Name:  betashop\n",
      "CEO #:  16 CEO Name:  andreagoulet\n",
      "CEO #:  17 CEO Name:  Bill_George\n",
      "CEO #:  18 CEO Name:  dessaigne\n",
      "CEO #:  19 CEO Name:  andykurtzig\n",
      "CEO #:  20 CEO Name:  MichaelDell\n",
      "CEO #:  21 CEO Name:  jeremyheimans\n",
      "CEO #:  22 CEO Name:  kristofdewulf\n",
      "CEO #:  23 CEO Name:  khadim5\n",
      "CEO #:  24 CEO Name:  RehmanSid\n",
      "CEO #:  25 CEO Name:  BreveMente\n",
      "CEO #:  26 CEO Name:  meparker7\n",
      "CEO #:  27 CEO Name:  RobertLReynolds\n",
      "CEO #:  28 CEO Name:  drorpockard\n",
      "CEO #:  29 CEO Name:  adamquinton\n",
      "CEO #:  30 CEO Name:  natedapore\n",
      "CEO #:  31 CEO Name:  NolandHoshino\n",
      "CEO #:  32 CEO Name:  apugupta\n",
      "CEO #:  33 CEO Name:  lkpetrolino\n",
      "CEO #:  34 CEO Name:  BrentBeshore\n",
      "CEO #:  35 CEO Name:  GregJaros\n",
      "CEO #:  36 CEO Name:  elonmusk\n",
      "CEO #:  37 CEO Name:  dasjoshua\n",
      "CEO #:  38 CEO Name:  tanyahall\n",
      "CEO #:  39 CEO Name:  LexieNorcross\n",
      "CEO #:  40 CEO Name:  ToddGraves\n",
      "CEO #:  41 CEO Name:  theresabeenken\n",
      "CEO #:  42 CEO Name:  dianavcarrico\n",
      "CEO #:  43 CEO Name:  dancathy\n",
      "CEO #:  44 CEO Name:  kristinhull\n",
      "CEO #:  45 CEO Name:  craigwortmann\n",
      "CEO #:  46 CEO Name:  M_CarolineH\n",
      "CEO #:  47 CEO Name:  WalterIsaacson\n",
      "CEO #:  48 CEO Name:  joshmccall_jack\n",
      "CEO #:  49 CEO Name:  milesnadal\n",
      "CEO #:  50 CEO Name:  HauteLiving\n",
      "Time to Complete:  102.80576618909836\n"
     ]
    },
    {
     "data": {
      "text/html": [
       "<div>\n",
       "<style>\n",
       "    .dataframe thead tr:only-child th {\n",
       "        text-align: right;\n",
       "    }\n",
       "\n",
       "    .dataframe thead th {\n",
       "        text-align: left;\n",
       "    }\n",
       "\n",
       "    .dataframe tbody tr th {\n",
       "        vertical-align: top;\n",
       "    }\n",
       "</style>\n",
       "<table border=\"1\" class=\"dataframe\">\n",
       "  <thead>\n",
       "    <tr style=\"text-align: right;\">\n",
       "      <th></th>\n",
       "      <th>Tweet</th>\n",
       "      <th>CEO_Full_Name</th>\n",
       "      <th>CEO_User_Name</th>\n",
       "    </tr>\n",
       "  </thead>\n",
       "  <tbody>\n",
       "    <tr>\n",
       "      <th>0</th>\n",
       "      <td>Further proof that businesses do well by doing...</td>\n",
       "      <td>Nick Bayer</td>\n",
       "      <td>nickbayer</td>\n",
       "    </tr>\n",
       "    <tr>\n",
       "      <th>1</th>\n",
       "      <td>Grateful for many things, including the podcas...</td>\n",
       "      <td>Nick Bayer</td>\n",
       "      <td>nickbayer</td>\n",
       "    </tr>\n",
       "    <tr>\n",
       "      <th>2</th>\n",
       "      <td>Good morning @philly311 - these containers (20...</td>\n",
       "      <td>Nick Bayer</td>\n",
       "      <td>nickbayer</td>\n",
       "    </tr>\n",
       "    <tr>\n",
       "      <th>3</th>\n",
       "      <td>My feelings exactly, @cindeezly https://t.co/I...</td>\n",
       "      <td>Nick Bayer</td>\n",
       "      <td>nickbayer</td>\n",
       "    </tr>\n",
       "    <tr>\n",
       "      <th>4</th>\n",
       "      <td>@PhillyGrub @BigRubeHarley @Saxbys Agreed!!</td>\n",
       "      <td>Nick Bayer</td>\n",
       "      <td>nickbayer</td>\n",
       "    </tr>\n",
       "  </tbody>\n",
       "</table>\n",
       "</div>"
      ],
      "text/plain": [
       "                                               Tweet CEO_Full_Name  \\\n",
       "0  Further proof that businesses do well by doing...    Nick Bayer   \n",
       "1  Grateful for many things, including the podcas...    Nick Bayer   \n",
       "2  Good morning @philly311 - these containers (20...    Nick Bayer   \n",
       "3  My feelings exactly, @cindeezly https://t.co/I...    Nick Bayer   \n",
       "4        @PhillyGrub @BigRubeHarley @Saxbys Agreed!!    Nick Bayer   \n",
       "\n",
       "  CEO_User_Name  \n",
       "0     nickbayer  \n",
       "1     nickbayer  \n",
       "2     nickbayer  \n",
       "3     nickbayer  \n",
       "4     nickbayer  "
      ]
     },
     "execution_count": 129,
     "metadata": {},
     "output_type": "execute_result"
    }
   ],
   "source": [
    "import tweepy\n",
    "import json\n",
    "import time\n",
    "def tweetCollector(dataframe):\n",
    "    \"\"\"\n",
    "    Creates a CSV for every CEO's tweets \n",
    "    \"\"\"\n",
    "    function_start = time.time()\n",
    "    list_tweets = []\n",
    "    name = []\n",
    "    user_name = []\n",
    "    count = 0\n",
    "    for i in dataframe:\n",
    "        \n",
    "        for page in tweepy.Cursor(api.user_timeline, screen_name='@'+i,include_rts = False, tweet_mode = 'extended').pages(100):\n",
    "            for status in page:\n",
    "\n",
    "                list_tweets.append(status._json['full_text'])\n",
    "                name.append(status._json['user']['name'])\n",
    "                user_name.append(status._json['user']['screen_name'])\n",
    "                DataSet = pd.DataFrame()\n",
    "\n",
    "                DataSet['Tweet'] = [tweet for tweet in list_tweets]\n",
    "                DataSet['CEO_Full_Name'] = [tweet for tweet in name]\n",
    "                DataSet['CEO_User_Name'] = [tweet for tweet in user_name]\n",
    "        count +=1\n",
    "        print(\"CEO #: \", count, \"CEO Name: \",i)\n",
    "    DataSet.to_csv(\"Collection_CEO_TWEETS.csv\")\n",
    "    \n",
    "    function_end = time.time()\n",
    "    total_function_time = ((function_end-function_start)/60)\n",
    "    print(\"Time to Complete: \", total_function_time)\n",
    "    \n",
    "    return DataSet\n",
    "\n",
    "\n",
    "#tweetCollector(CEO_list_cleaned['CEO_Twitter_Accounts'][:50])\n",
    "#tweetCollector(CEO_list_cleaned['CEO_Twitter_Accounts'][50:99])\n",
    "#tweetCollector(CEO_list_cleaned['CEO_Twitter_Accounts'][99:149])\n",
    "#tweetCollector(CEO_list_cleaned['CEO_Twitter_Accounts'][149:199])\n",
    "tweetCollector(CEO_list_cleaned['CEO_Twitter_Accounts'][199:249])"
   ]
  },
  {
   "cell_type": "markdown",
   "metadata": {
    "collapsed": true
   },
   "source": [
    "- Figure out how to get all the tweets for each CEO\n",
    "- Put all tweets together into a large corpus (Each CEO gets ~3200 tweets and here are 902 Tweets so 288k tweets roughly)\n",
    "- Perform Support Vector Machine Algorithm to classify which tweet belongs to which CEO"
   ]
  },
  {
   "cell_type": "code",
   "execution_count": 33,
   "metadata": {},
   "outputs": [
    {
     "data": {
      "text/html": [
       "<div>\n",
       "<style>\n",
       "    .dataframe thead tr:only-child th {\n",
       "        text-align: right;\n",
       "    }\n",
       "\n",
       "    .dataframe thead th {\n",
       "        text-align: left;\n",
       "    }\n",
       "\n",
       "    .dataframe tbody tr th {\n",
       "        vertical-align: top;\n",
       "    }\n",
       "</style>\n",
       "<table border=\"1\" class=\"dataframe\">\n",
       "  <thead>\n",
       "    <tr style=\"text-align: right;\">\n",
       "      <th></th>\n",
       "      <th>Unnamed: 0</th>\n",
       "      <th>Tweet</th>\n",
       "      <th>CEO_Full_Name</th>\n",
       "      <th>CEO_User_Name</th>\n",
       "    </tr>\n",
       "  </thead>\n",
       "  <tbody>\n",
       "    <tr>\n",
       "      <th>0</th>\n",
       "      <td>0</td>\n",
       "      <td>Your gift to @CDCFound supports our collaborat...</td>\n",
       "      <td>Judy Monroe, MD</td>\n",
       "      <td>DrJudyMonroe</td>\n",
       "    </tr>\n",
       "    <tr>\n",
       "      <th>1</th>\n",
       "      <td>1</td>\n",
       "      <td>By giving to the causes you care about on #Giv...</td>\n",
       "      <td>Judy Monroe, MD</td>\n",
       "      <td>DrJudyMonroe</td>\n",
       "    </tr>\n",
       "    <tr>\n",
       "      <th>2</th>\n",
       "      <td>2</td>\n",
       "      <td>As you give thanks this holiday season, please...</td>\n",
       "      <td>Judy Monroe, MD</td>\n",
       "      <td>DrJudyMonroe</td>\n",
       "    </tr>\n",
       "    <tr>\n",
       "      <th>3</th>\n",
       "      <td>3</td>\n",
       "      <td>This #Thanksgiving, were #thankful to you for...</td>\n",
       "      <td>Judy Monroe, MD</td>\n",
       "      <td>DrJudyMonroe</td>\n",
       "    </tr>\n",
       "    <tr>\n",
       "      <th>4</th>\n",
       "      <td>4</td>\n",
       "      <td>Enjoyed attending the #KoplanLecture on Friday...</td>\n",
       "      <td>Judy Monroe, MD</td>\n",
       "      <td>DrJudyMonroe</td>\n",
       "    </tr>\n",
       "  </tbody>\n",
       "</table>\n",
       "</div>"
      ],
      "text/plain": [
       "   Unnamed: 0                                              Tweet  \\\n",
       "0           0  Your gift to @CDCFound supports our collaborat...   \n",
       "1           1  By giving to the causes you care about on #Giv...   \n",
       "2           2  As you give thanks this holiday season, please...   \n",
       "3           3  This #Thanksgiving, were #thankful to you for...   \n",
       "4           4  Enjoyed attending the #KoplanLecture on Friday...   \n",
       "\n",
       "     CEO_Full_Name CEO_User_Name  \n",
       "0  Judy Monroe, MD  DrJudyMonroe  \n",
       "1  Judy Monroe, MD  DrJudyMonroe  \n",
       "2  Judy Monroe, MD  DrJudyMonroe  \n",
       "3  Judy Monroe, MD  DrJudyMonroe  \n",
       "4  Judy Monroe, MD  DrJudyMonroe  "
      ]
     },
     "execution_count": 33,
     "metadata": {},
     "output_type": "execute_result"
    }
   ],
   "source": [
    "df = pd.read_csv(\"Collection_1_CEO_TWEETS.csv\",encoding = \"latin1\")\n",
    "df.head()"
   ]
  },
  {
   "cell_type": "markdown",
   "metadata": {},
   "source": [
    "##### Here I have found that I am unable to grab the same number of tweets per person for some reason. So in the rest of this research I will be only caring about individuals that I was able to successfully grab more than 1000 tweets. "
   ]
  },
  {
   "cell_type": "code",
   "execution_count": 127,
   "metadata": {},
   "outputs": [
    {
     "data": {
      "text/plain": [
       "DelMonteLouis1    2000\n",
       "co_opcloud        1999\n",
       "JohnLegere        1935\n",
       "CarrieMantha      1868\n",
       "scottpetinga      1838\n",
       "Name: CEO_User_Name, dtype: int64"
      ]
     },
     "execution_count": 127,
     "metadata": {},
     "output_type": "execute_result"
    }
   ],
   "source": [
    "df.CEO_User_Name.value_counts().head()"
   ]
  },
  {
   "cell_type": "code",
   "execution_count": 104,
   "metadata": {
    "scrolled": true
   },
   "outputs": [
    {
     "data": {
      "text/html": [
       "<div>\n",
       "<style>\n",
       "    .dataframe thead tr:only-child th {\n",
       "        text-align: right;\n",
       "    }\n",
       "\n",
       "    .dataframe thead th {\n",
       "        text-align: left;\n",
       "    }\n",
       "\n",
       "    .dataframe tbody tr th {\n",
       "        vertical-align: top;\n",
       "    }\n",
       "</style>\n",
       "<table border=\"1\" class=\"dataframe\">\n",
       "  <thead>\n",
       "    <tr style=\"text-align: right;\">\n",
       "      <th>CEO_Full_Name</th>\n",
       "      <th>AQ</th>\n",
       "      <th>Adam Greenbaum</th>\n",
       "      <th>Andrew Limouris</th>\n",
       "      <th>Anthony Ferrier</th>\n",
       "      <th>Balaji S. Srinivasan</th>\n",
       "      <th>Ben Watts</th>\n",
       "      <th>Bill Nuti</th>\n",
       "      <th>Brandon Edwards</th>\n",
       "      <th>Brian A Russell</th>\n",
       "      <th>Brook Parker Bello PH.D</th>\n",
       "      <th>...</th>\n",
       "      <th>Rachel Gerrol</th>\n",
       "      <th>Scott Petinga</th>\n",
       "      <th>Sujay R Jadhav</th>\n",
       "      <th>Tamara McCleary</th>\n",
       "      <th>Terri Seese</th>\n",
       "      <th>Tony Duffin</th>\n",
       "      <th>Victoria Espinel</th>\n",
       "      <th>Yael Lehmann</th>\n",
       "      <th>Zack Kanter</th>\n",
       "      <th>Zen Yinger</th>\n",
       "    </tr>\n",
       "  </thead>\n",
       "  <tbody>\n",
       "    <tr>\n",
       "      <th>Tweet</th>\n",
       "      <td>[@JamaMusse - do you have an email address I c...</td>\n",
       "      <td>[This is the stupidest shit I have ever seen. ...</td>\n",
       "      <td>[Need professional gift ideas? https://t.co/RQ...</td>\n",
       "      <td>[Great practical session from @scottdanthony, ...</td>\n",
       "      <td>[Slack is much better if you turn off all soun...</td>\n",
       "      <td>[5 ways to make sure your company values are t...</td>\n",
       "      <td>[After January 14, 2020, no security updates, ...</td>\n",
       "      <td>[McKinsey Insights: New demand, new markets: W...</td>\n",
       "      <td>[@chuckwoolery @RobertM97254372 The stacked Ju...</td>\n",
       "      <td>[Victim of Hillsong Church founder's father sa...</td>\n",
       "      <td>...</td>\n",
       "      <td>[Join Juno and get 30% off all rides for two w...</td>\n",
       "      <td>[Fashion is a three trillion dollar industry w...</td>\n",
       "      <td>[https://t.co/4SBUY5qQZT, https://t.co/gZp3APF...</td>\n",
       "      <td>[I recently interviewed Dr. May Wang, #CTO @Zi...</td>\n",
       "      <td>[@kelly_clarkson and @PearlDrumCorp Love it! H...</td>\n",
       "      <td>[?@AnaLiffey? Drug Project Helped Over 400 Peo...</td>\n",
       "      <td>[@DataStax @BigData_Review Congrats!, Using @a...</td>\n",
       "      <td>[Follow along at noon today ET! Honored to be ...</td>\n",
       "      <td>[@sachinrekhi Which talk was this in?, I guess...</td>\n",
       "      <td>[Yes, all time consuming buying tasks are cond...</td>\n",
       "    </tr>\n",
       "  </tbody>\n",
       "</table>\n",
       "<p>1 rows × 50 columns</p>\n",
       "</div>"
      ],
      "text/plain": [
       "CEO_Full_Name                                                 AQ  \\\n",
       "Tweet          [@JamaMusse - do you have an email address I c...   \n",
       "\n",
       "CEO_Full_Name                                     Adam Greenbaum  \\\n",
       "Tweet          [This is the stupidest shit I have ever seen. ...   \n",
       "\n",
       "CEO_Full_Name                                    Andrew Limouris  \\\n",
       "Tweet          [Need professional gift ideas? https://t.co/RQ...   \n",
       "\n",
       "CEO_Full_Name                                    Anthony Ferrier  \\\n",
       "Tweet          [Great practical session from @scottdanthony, ...   \n",
       "\n",
       "CEO_Full_Name                               Balaji S. Srinivasan  \\\n",
       "Tweet          [Slack is much better if you turn off all soun...   \n",
       "\n",
       "CEO_Full_Name                                          Ben Watts  \\\n",
       "Tweet          [5 ways to make sure your company values are t...   \n",
       "\n",
       "CEO_Full_Name                                          Bill Nuti  \\\n",
       "Tweet          [After January 14, 2020, no security updates, ...   \n",
       "\n",
       "CEO_Full_Name                                    Brandon Edwards  \\\n",
       "Tweet          [McKinsey Insights: New demand, new markets: W...   \n",
       "\n",
       "CEO_Full_Name                                    Brian A Russell  \\\n",
       "Tweet          [@chuckwoolery @RobertM97254372 The stacked Ju...   \n",
       "\n",
       "CEO_Full_Name                            Brook Parker Bello PH.D  \\\n",
       "Tweet          [Victim of Hillsong Church founder's father sa...   \n",
       "\n",
       "CEO_Full_Name                        ...                          \\\n",
       "Tweet                                ...                           \n",
       "\n",
       "CEO_Full_Name                                      Rachel Gerrol  \\\n",
       "Tweet          [Join Juno and get 30% off all rides for two w...   \n",
       "\n",
       "CEO_Full_Name                                      Scott Petinga  \\\n",
       "Tweet          [Fashion is a three trillion dollar industry w...   \n",
       "\n",
       "CEO_Full_Name                                     Sujay R Jadhav  \\\n",
       "Tweet          [https://t.co/4SBUY5qQZT, https://t.co/gZp3APF...   \n",
       "\n",
       "CEO_Full_Name                                    Tamara McCleary  \\\n",
       "Tweet          [I recently interviewed Dr. May Wang, #CTO @Zi...   \n",
       "\n",
       "CEO_Full_Name                                        Terri Seese  \\\n",
       "Tweet          [@kelly_clarkson and @PearlDrumCorp Love it! H...   \n",
       "\n",
       "CEO_Full_Name                                        Tony Duffin  \\\n",
       "Tweet          [?@AnaLiffey? Drug Project Helped Over 400 Peo...   \n",
       "\n",
       "CEO_Full_Name                                   Victoria Espinel  \\\n",
       "Tweet          [@DataStax @BigData_Review Congrats!, Using @a...   \n",
       "\n",
       "CEO_Full_Name                                       Yael Lehmann  \\\n",
       "Tweet          [Follow along at noon today ET! Honored to be ...   \n",
       "\n",
       "CEO_Full_Name                                        Zack Kanter  \\\n",
       "Tweet          [@sachinrekhi Which talk was this in?, I guess...   \n",
       "\n",
       "CEO_Full_Name                                         Zen Yinger  \n",
       "Tweet          [Yes, all time consuming buying tasks are cond...  \n",
       "\n",
       "[1 rows x 50 columns]"
      ]
     },
     "execution_count": 104,
     "metadata": {},
     "output_type": "execute_result"
    }
   ],
   "source": [
    "# x = df.groupby('CEO_Full_Name')['Tweet'].apply(list)\n",
    "# j = pd.DataFrame(x)\n",
    "# j\n",
    "# j.reset_index()\n",
    "# j.T\n",
    "# xx = j.T\n",
    "# print(xx['AQ']['Tweet'])"
   ]
  },
  {
   "cell_type": "code",
   "execution_count": null,
   "metadata": {
    "collapsed": true
   },
   "outputs": [],
   "source": []
  }
 ],
 "metadata": {
  "kernelspec": {
   "display_name": "Python 3",
   "language": "python",
   "name": "python3"
  },
  "language_info": {
   "codemirror_mode": {
    "name": "ipython",
    "version": 3
   },
   "file_extension": ".py",
   "mimetype": "text/x-python",
   "name": "python",
   "nbconvert_exporter": "python",
   "pygments_lexer": "ipython3",
   "version": "3.6.5"
  }
 },
 "nbformat": 4,
 "nbformat_minor": 2
}
